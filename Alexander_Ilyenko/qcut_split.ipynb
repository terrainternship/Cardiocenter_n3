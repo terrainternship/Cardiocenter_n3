{
 "cells": [
  {
   "cell_type": "code",
   "execution_count": 2,
   "metadata": {
    "executionInfo": {
     "elapsed": 2194,
     "status": "ok",
     "timestamp": 1695931197808,
     "user": {
      "displayName": "Alxndr",
      "userId": "16892139853645517108"
     },
     "user_tz": -180
    },
    "id": "R8cC1OESVH85"
   },
   "outputs": [],
   "source": [
    "import pandas as pd\n",
    "from sklearn.model_selection import train_test_split\n",
    "\n",
    "def qcut_split(df, target_column='dose', *, n_bins=4, test_size=0.2, random_state=42):\n",
    "    \"\"\"\n",
    "    Функция разбивает датафрейм на обучающий и тестовый наборы с учетом стратификации по квантильным значениям целевой переменной.\n",
    "\n",
    "    Параметры:\n",
    "    - df (pd.DataFrame): исходный датафрейм\n",
    "    - target_column (str): имя целевого столбца, по которому будет осуществляться стратификация\n",
    "    - n_bins (int): количество интервалов для разделения квантильных значений целевой переменной\n",
    "    - test_size (float): доля данных, которая будет использоваться для тестового набора\n",
    "\n",
    "\n",
    "    Возвращает:\n",
    "    - train_df (pd.DataFrame): обучающий датафрейм\n",
    "    - test_df (pd.DataFrame): тестовый датафрейм\n",
    "    \"\"\"\n",
    "\n",
    "    # Классификация значений целевой переменной (target_column) по квантилям\n",
    "    binned_target, bins = pd.qcut(df[target_column], q=n_bins, labels=False, duplicates='drop', retbins=True)\n",
    "\n",
    "    # границы интервалов\n",
    "    print(\"Границы интервалов: \", bins)\n",
    "\n",
    "\n",
    "    # Разбивка индексов датафрейма на обучающую и тестовую выборки с учетом стратификации по квантильным интервалам целевой переменной\n",
    "    train_idx, test_idx = train_test_split(df.index, test_size=test_size, stratify=binned_target, random_state=random_state)\n",
    "\n",
    "    # Разбиение исходного датафрейма на обучающий и тестовый наборы на основе полученных индексов\n",
    "    train_df = df.loc[train_idx]\n",
    "    test_df = df.loc[test_idx]\n",
    "\n",
    "    return train_df, test_df"
   ]
  }
 ],
 "metadata": {
  "colab": {
   "authorship_tag": "ABX9TyMsz7qyJVXg4Ipdco2pLraY",
   "provenance": []
  },
  "kernelspec": {
   "display_name": "Python 3 (ipykernel)",
   "language": "python",
   "name": "python3"
  },
  "language_info": {
   "codemirror_mode": {
    "name": "ipython",
    "version": 3
   },
   "file_extension": ".py",
   "mimetype": "text/x-python",
   "name": "python",
   "nbconvert_exporter": "python",
   "pygments_lexer": "ipython3",
   "version": "3.10.9"
  },
  "toc": {
   "base_numbering": 1,
   "nav_menu": {},
   "number_sections": true,
   "sideBar": true,
   "skip_h1_title": false,
   "title_cell": "Table of Contents",
   "title_sidebar": "Contents",
   "toc_cell": false,
   "toc_position": {},
   "toc_section_display": true,
   "toc_window_display": false
  },
  "varInspector": {
   "cols": {
    "lenName": 16,
    "lenType": 16,
    "lenVar": 40
   },
   "kernels_config": {
    "python": {
     "delete_cmd_postfix": "",
     "delete_cmd_prefix": "del ",
     "library": "var_list.py",
     "varRefreshCmd": "print(var_dic_list())"
    },
    "r": {
     "delete_cmd_postfix": ") ",
     "delete_cmd_prefix": "rm(",
     "library": "var_list.r",
     "varRefreshCmd": "cat(var_dic_list()) "
    }
   },
   "types_to_exclude": [
    "module",
    "function",
    "builtin_function_or_method",
    "instance",
    "_Feature"
   ],
   "window_display": false
  }
 },
 "nbformat": 4,
 "nbformat_minor": 1
}
