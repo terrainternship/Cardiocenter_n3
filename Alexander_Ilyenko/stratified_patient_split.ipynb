{
 "cells": [
  {
   "cell_type": "code",
   "execution_count": null,
   "metadata": {
    "id": "lFeKs9HJE-Ny"
   },
   "outputs": [],
   "source": [
    "import numpy as np\n",
    "import pandas as pd\n",
    "from sklearn.model_selection import train_test_split\n",
    "\n",
    "def stratified_patient_split(df, stratify_column='id', target_column='dose', n_bins=4, test_size=0.2, random_state=None):\n",
    "    \"\"\"\n",
    "    Функция разбивает датафрейм на обучающий и тестовый наборы с учетом стратификации по медианным значениям целевой переменной каждого уникального элемента в столбце stratify_column.\n",
    "\n",
    "    Параметры:\n",
    "    - df (pd.DataFrame): исходный датафрейм\n",
    "    - stratify_column (str): имя столбца, по уникальным значениям которого будет вычисляться медиана целевой переменной для стратификации\n",
    "    - target_column (str): имя целевого столбца, по которому будет осуществляться стратификация\n",
    "    - n_bins (int): количество интервалов для разделения медианных значений целевой переменной\n",
    "    - test_size (float): доля данных, которая будет использоваться для тестового набора\n",
    "    - random_state (int): seed для случайности при разбиении\n",
    "\n",
    "    Возвращает:\n",
    "    - train_df (pd.DataFrame): обучающий датафрейм\n",
    "    - test_df (pd.DataFrame): тестовый датафрейм\n",
    "    \"\"\"\n",
    "    # 1. Вычисляем медианное значение целевой переменной (target_column) для каждого пациента (stratify_column)\n",
    "    # patient_medians - объект Series из pandas, где  индекс это ID пациента (значения из столбца stratify_column),\n",
    "    # а значение — медианные значения дозы для каждого пациента из столбца target_column.\n",
    "    patient_medians = df.groupby(stratify_column)[target_column].median()\n",
    "\n",
    "    # 2. Определяем границы интервалов с учетом минимального и максимального значений целевой переменной (target_column)\n",
    "    # отрезок между минимальной и максимальной дозой разбивается на равные интервалы в количестве n_bins. bins - массив с границами интервалов\n",
    "    bins = np.linspace(df[target_column].min(), df[target_column].max(), n_bins + 1)\n",
    "\n",
    "    # 3. Классифицируем медианные значения целевой переменной (target_column) по интервалам\n",
    "    # binned_medians — объект Series, где: Индекс это ID пациента (stratify_column), а значение — это номер интервала, в который попало медианное значение для данного ID.\n",
    "    binned_medians = pd.cut(patient_medians, bins, labels=False, include_lowest=True)\n",
    "\n",
    "    # Особенность pd.cut - если количество интервалов большое, то в часть из них может не попасть ни одно значение или попасть только одно.\n",
    "    # И то и другое не позволяет осуществлять стратификацию с помощью  train_test_split, поскольку в каждом интервале требуется не менее двух значений для обучающей и тестовоы выборок\n",
    "    # Нижеследующий код до #4. направлен на поиск таких интервалов и присоединение их к соседним, имеющим больше одного значения\n",
    "\n",
    "    # Рассчитываем количество пациентов в каждом интервале\n",
    "    bin_counts = binned_medians.value_counts() #.value_counts() - это метод для объектов Series в pandas. Он подсчитывает, сколько раз каждое уникальное значение встречается в Series\n",
    "    print(\"Пациентов в интервале:\", bin_counts)\n",
    "\n",
    "    # Если есть интервалы без пациентов. то присваиваем такому интервалу (с индексом i) значение 0\n",
    "    for i in range(n_bins):\n",
    "        if i not in bin_counts:\n",
    "            bin_counts = pd.concat([bin_counts, pd.Series([0], index=[i])])\n",
    "\n",
    "    # Находим проблемные интервалы, где меньше двух пациентов.\n",
    "    problematic_bins = bin_counts[bin_counts < 2].index.tolist()\n",
    "    print('Проблемные интервалы', problematic_bins)\n",
    "\n",
    "    # Для каждого проблемного интервала пытаемся найти ближайший интервал с более чем одним пациентом\n",
    "    for bin_num in problematic_bins:\n",
    "        # Переменная для определения расстояния до проверяемого соседнего интервала\n",
    "        dist = 1\n",
    "        while True:\n",
    "            lower_bin = bin_num - dist\n",
    "            upper_bin = bin_num + dist\n",
    "            # Если соседний интервал имеет более чем одного пациента, присваиваем проблемному интервалу номер соседнего интервала (объединяем интервалы)\n",
    "            if lower_bin in bin_counts and bin_counts[lower_bin] > 1:\n",
    "                binned_medians[binned_medians == bin_num] = lower_bin\n",
    "                break\n",
    "            elif upper_bin in bin_counts and bin_counts[upper_bin] > 1:\n",
    "                binned_medians[binned_medians == bin_num] = upper_bin\n",
    "                break\n",
    "            # Увеличиваем расстояние, чтобы проверить следующие интервалы, если соседние не подошли по условиям\n",
    "            dist += 1\n",
    "\n",
    "    # Перерасчитываем количество пациентов в каждом интервале после переназначения проблемных интервалов\n",
    "    bin_counts = binned_medians.value_counts()\n",
    "    print(\"Пациентов в интервале после переназначения проблемных интервалов: \", bin_counts)\n",
    "\n",
    "    # 4. Разделяем перечень уникальных ID пациентов на обучающую и тестовую выборки с учетом стратификации на основе интервалов по медианным значениям целевой переменной\n",
    "    # в обучающую и тестовую выборки попадут пропорциональные значению test_size количества ID из каждого интервала binned_medians\n",
    "    train_ids, test_ids = train_test_split(binned_medians.index, test_size=test_size, stratify=binned_medians, random_state=random_state)\n",
    "\n",
    "    # 5. Разделяем исходный датафрейм на основе полученных выборок ID пациентов\n",
    "    train_df = df[df[stratify_column].isin(train_ids)]\n",
    "    test_df = df[df[stratify_column].isin(test_ids)]\n",
    "\n",
    "    return train_df, test_df\n"
   ]
  }
 ],
 "metadata": {
  "colab": {
   "authorship_tag": "ABX9TyNhNtlFJC/9KYGp0vE0jaTm",
   "provenance": []
  },
  "kernelspec": {
   "display_name": "Python 3 (ipykernel)",
   "language": "python",
   "name": "python3"
  },
  "language_info": {
   "codemirror_mode": {
    "name": "ipython",
    "version": 3
   },
   "file_extension": ".py",
   "mimetype": "text/x-python",
   "name": "python",
   "nbconvert_exporter": "python",
   "pygments_lexer": "ipython3",
   "version": "3.10.9"
  },
  "toc": {
   "base_numbering": 1,
   "nav_menu": {},
   "number_sections": true,
   "sideBar": true,
   "skip_h1_title": false,
   "title_cell": "Table of Contents",
   "title_sidebar": "Contents",
   "toc_cell": false,
   "toc_position": {},
   "toc_section_display": true,
   "toc_window_display": false
  },
  "varInspector": {
   "cols": {
    "lenName": 16,
    "lenType": 16,
    "lenVar": 40
   },
   "kernels_config": {
    "python": {
     "delete_cmd_postfix": "",
     "delete_cmd_prefix": "del ",
     "library": "var_list.py",
     "varRefreshCmd": "print(var_dic_list())"
    },
    "r": {
     "delete_cmd_postfix": ") ",
     "delete_cmd_prefix": "rm(",
     "library": "var_list.r",
     "varRefreshCmd": "cat(var_dic_list()) "
    }
   },
   "types_to_exclude": [
    "module",
    "function",
    "builtin_function_or_method",
    "instance",
    "_Feature"
   ],
   "window_display": false
  }
 },
 "nbformat": 4,
 "nbformat_minor": 1
}
