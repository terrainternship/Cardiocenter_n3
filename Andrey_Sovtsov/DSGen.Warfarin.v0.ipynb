{
 "cells": [
  {
   "cell_type": "code",
   "execution_count": 1,
   "id": "71700ec0",
   "metadata": {
    "ExecuteTime": {
     "end_time": "2023-08-31T10:27:21.702861Z",
     "start_time": "2023-08-31T10:27:20.243659Z"
    }
   },
   "outputs": [],
   "source": [
    "import os\n",
    "import pandas as pd\n",
    "import numpy as np\n",
    "# import matplotlib.pyplot as plt\n",
    "# import seaborn as sns\n",
    "from datetime import datetime\n"
   ]
  },
  {
   "cell_type": "markdown",
   "id": "0bd3a560",
   "metadata": {},
   "source": [
    "## Функция для аугментации датасета"
   ]
  },
  {
   "cell_type": "code",
   "execution_count": 2,
   "id": "cda126e3",
   "metadata": {
    "ExecuteTime": {
     "end_time": "2023-08-31T10:27:21.733951Z",
     "start_time": "2023-08-31T10:27:21.722822Z"
    }
   },
   "outputs": [],
   "source": [
    "# Вспомогательные функции\n",
    "blist = ['0-9', '10-19', '20-29', '30-39', '40-49', '50-59', '60-69', '70-79', '80-89', '90+']\n",
    "\n",
    "# Функция назначения номера возрастной группы по значению возраста\n",
    "def binagex(a):\n",
    "    x = a // 10\n",
    "    x = 9 if x > 9 else x\n",
    "    return x\n",
    "\n",
    "# утилита\n",
    "def encode_and_bind(original_dataframe, feature_to_encode):\n",
    "    dummies = pd.get_dummies(original_dataframe[[feature_to_encode]])\n",
    "    res = pd.concat([original_dataframe, dummies], axis=1)\n",
    "    res = res.drop([feature_to_encode], axis=1)\n",
    "    return(res)\n"
   ]
  },
  {
   "cell_type": "code",
   "execution_count": 3,
   "id": "cd9f5419",
   "metadata": {
    "ExecuteTime": {
     "end_time": "2023-08-31T10:27:22.738810Z",
     "start_time": "2023-08-31T10:27:22.728806Z"
    }
   },
   "outputs": [],
   "source": [
    "'''\n",
    "Функция для аугментации датасета\n",
    "параметры:\n",
    "    ds: начальный pd.resFrame\n",
    "    delcols: список имен колонок, которые надо удалить из датасета\n",
    "    необязательные именованные аргументы\n",
    "        1. имя_колонки=True - Если в функции встроен генератор колонки с таким именем, то он будет выполняться\n",
    "        2. creators=[список внешних функций, которые будут выполнены]\n",
    "\n",
    "Возвращает: pd.resFrame\n",
    "\n",
    "Пример:\n",
    "        # Удаление трех колонок, добавление групп по возрвстам (OHE)\n",
    "        data = DS_Gen(data, delcols=['institution_id','diagnos', 'sss'], agebin=True)\n",
    "        # Без удаления, добавить колонки зодиака и смещения критического возраста\n",
    "        data = DS_Gen(data, critical_age=True, zodiak=True)\n",
    "'''\n",
    "def DS_Gen(ds, delcols=[], **kwargs):\n",
    "    res = ds.copy()      #чтение исходного датасета\n",
    "\n",
    "    # Удаление колонок по списку\n",
    "    #\n",
    "    _dc = []\n",
    "    for c in delcols:\n",
    "        if c in res.columns:\n",
    "            _dc.append(c)\n",
    "        else:\n",
    "          #  raise f'{c} не найдена в исходном датасете'\n",
    "          print( f'{c} не найдена в исходном датасете')\n",
    "    res.drop(columns=_dc, axis=1, inplace=True )\n",
    "    print(f'Удалены: {_dc}')\n",
    "\n",
    "    # Обработка встроенных колонок\n",
    "    # ---------------------------------\n",
    "    # Сейчас реализованы:\n",
    "    #             critical_age, agebin, #zodiac\n",
    "\n",
    "    # Константы\n",
    "    TR_AGE = 40  # принятый порог критического возраста\n",
    "    OHE = True   # Развертывать ли agebin в OHE колонки\n",
    "\n",
    "    def _critical_age_(tr_age=TR_AGE):\n",
    "        if 'age' in res.columns and 'int' in res.age.dtype.name:\n",
    "            res['critical_age_l']=res['age'].apply(lambda x: tr_age - x if x < tr_age else 0 ).astype('int8')\n",
    "            res['critical_age_h']=res['age'].apply(lambda x: x - tr_age if x > tr_age else 0  ).astype('int8')\n",
    "\n",
    "    def _agebin_(ds, ohe=OHE):\n",
    "        if 'age' in ds.columns and 'int' in ds.age.dtype.name:\n",
    "            ds['agebix']=ds['age'].apply(lambda x: binagex(x)).astype('int8')\n",
    "            ds['agebin'] = ds['agebix'].apply(lambda x: blist[x])\n",
    "            ds = encode_and_bind(ds, 'agebin') if ohe else ds\n",
    "        return ds\n",
    "\n",
    "\n",
    "    ##\n",
    "    # Добавление встроенных колонок, если признак=True в kwargs\n",
    "    #\n",
    "    if 'critical_age' in kwargs and kwargs['critical_age']:\n",
    "        _critical_age_()\n",
    "        print(f\"добавлены 'critical_age_l', 'critical_age_h'\")\n",
    "\n",
    "    if 'agebin' in kwargs and  kwargs['agebin']:\n",
    "        res = _agebin_(res,True)\n",
    "        print(f\"добавлены 'agebix' и agebin_OHE векторы\")\n",
    "\n",
    "    # завершение работы функции\n",
    "    return res"
   ]
  },
  {
   "cell_type": "code",
   "execution_count": 17,
   "id": "a1c4e28e",
   "metadata": {
    "ExecuteTime": {
     "end_time": "2023-08-31T10:54:41.194547Z",
     "start_time": "2023-08-31T10:54:41.177551Z"
    }
   },
   "outputs": [],
   "source": [
    "# !pip install zodiac-sign\n",
    "\n",
    "from zodiac_sign import get_zodiac_sign\n",
    "\n",
    "# знак зодиака на русском\n",
    "def zsign(d):\n",
    "    return get_zodiac_sign(d['birthday'], language='ru_RU')\n",
    "\n",
    "def zodiac_name(row):\n",
    "    return get_zodiac_sign(row['birthday'], language='ru_RU')\n"
   ]
  },
  {
   "cell_type": "code",
   "execution_count": 18,
   "id": "83a845d1",
   "metadata": {
    "ExecuteTime": {
     "end_time": "2023-08-31T10:54:46.046987Z",
     "start_time": "2023-08-31T10:54:46.040987Z"
    }
   },
   "outputs": [
    {
     "name": "stdout",
     "output_type": "stream",
     "text": [
      "zsign\n",
      "zodiac_name\n"
     ]
    }
   ],
   "source": [
    "creators = [zsign, zodiac_name]\n",
    "# names = creators.__names__\n",
    "for c in creators:\n",
    "    print(c.__name__)"
   ]
  },
  {
   "cell_type": "code",
   "execution_count": 20,
   "id": "42b071a2",
   "metadata": {
    "ExecuteTime": {
     "end_time": "2023-08-31T10:55:10.992669Z",
     "start_time": "2023-08-31T10:55:10.929670Z"
    }
   },
   "outputs": [
    {
     "name": "stdout",
     "output_type": "stream",
     "text": [
      "zsign\n",
      "zodiac_name\n"
     ]
    },
    {
     "data": {
      "text/html": [
       "<div>\n",
       "<style scoped>\n",
       "    .dataframe tbody tr th:only-of-type {\n",
       "        vertical-align: middle;\n",
       "    }\n",
       "\n",
       "    .dataframe tbody tr th {\n",
       "        vertical-align: top;\n",
       "    }\n",
       "\n",
       "    .dataframe thead th {\n",
       "        text-align: right;\n",
       "    }\n",
       "</style>\n",
       "<table border=\"1\" class=\"dataframe\">\n",
       "  <thead>\n",
       "    <tr style=\"text-align: right;\">\n",
       "      <th></th>\n",
       "      <th>institution</th>\n",
       "      <th>id</th>\n",
       "      <th>gender</th>\n",
       "      <th>age</th>\n",
       "      <th>dose</th>\n",
       "      <th>date_analyse</th>\n",
       "      <th>prev_INR(MHO)</th>\n",
       "      <th>atrial_fibrillation</th>\n",
       "      <th>mitral_valve</th>\n",
       "      <th>aortal_valve</th>\n",
       "      <th>...</th>\n",
       "      <th>d8</th>\n",
       "      <th>deviation_from_median</th>\n",
       "      <th>age_percentile</th>\n",
       "      <th>age_quantile</th>\n",
       "      <th>is_elderly</th>\n",
       "      <th>age_density</th>\n",
       "      <th>age_zscore</th>\n",
       "      <th>birthday</th>\n",
       "      <th>zsign</th>\n",
       "      <th>zodiac_name</th>\n",
       "    </tr>\n",
       "  </thead>\n",
       "  <tbody>\n",
       "    <tr>\n",
       "      <th>0</th>\n",
       "      <td>ГБУЗ РБ Толбазинская ЦРБ</td>\n",
       "      <td>140361892057136</td>\n",
       "      <td>0</td>\n",
       "      <td>57</td>\n",
       "      <td>7.50</td>\n",
       "      <td>2022-11-11</td>\n",
       "      <td>3.11</td>\n",
       "      <td>1</td>\n",
       "      <td>0</td>\n",
       "      <td>0</td>\n",
       "      <td>...</td>\n",
       "      <td>0</td>\n",
       "      <td>-10</td>\n",
       "      <td>13.602187</td>\n",
       "      <td>1</td>\n",
       "      <td>0</td>\n",
       "      <td>0.017956</td>\n",
       "      <td>-0.919637</td>\n",
       "      <td>1965-11-11</td>\n",
       "      <td>Скорпион</td>\n",
       "      <td>Скорпион</td>\n",
       "    </tr>\n",
       "    <tr>\n",
       "      <th>1</th>\n",
       "      <td>ГБУЗ РБ Толбазинская ЦРБ</td>\n",
       "      <td>140361892057136</td>\n",
       "      <td>0</td>\n",
       "      <td>57</td>\n",
       "      <td>7.50</td>\n",
       "      <td>2022-11-24</td>\n",
       "      <td>3.32</td>\n",
       "      <td>1</td>\n",
       "      <td>0</td>\n",
       "      <td>0</td>\n",
       "      <td>...</td>\n",
       "      <td>0</td>\n",
       "      <td>-10</td>\n",
       "      <td>13.602187</td>\n",
       "      <td>1</td>\n",
       "      <td>0</td>\n",
       "      <td>0.017956</td>\n",
       "      <td>-0.919637</td>\n",
       "      <td>1965-11-11</td>\n",
       "      <td>Скорпион</td>\n",
       "      <td>Скорпион</td>\n",
       "    </tr>\n",
       "    <tr>\n",
       "      <th>2</th>\n",
       "      <td>ГБУЗ РБ Толбазинская ЦРБ</td>\n",
       "      <td>140361892057264</td>\n",
       "      <td>1</td>\n",
       "      <td>50</td>\n",
       "      <td>5.00</td>\n",
       "      <td>2022-11-22</td>\n",
       "      <td>2.01</td>\n",
       "      <td>0</td>\n",
       "      <td>1</td>\n",
       "      <td>0</td>\n",
       "      <td>...</td>\n",
       "      <td>0</td>\n",
       "      <td>-17</td>\n",
       "      <td>5.502392</td>\n",
       "      <td>1</td>\n",
       "      <td>0</td>\n",
       "      <td>0.007255</td>\n",
       "      <td>-1.606331</td>\n",
       "      <td>1972-11-22</td>\n",
       "      <td>Стрелец</td>\n",
       "      <td>Стрелец</td>\n",
       "    </tr>\n",
       "    <tr>\n",
       "      <th>3</th>\n",
       "      <td>ГБУЗ РБ Толбазинская ЦРБ</td>\n",
       "      <td>140361892057392</td>\n",
       "      <td>0</td>\n",
       "      <td>53</td>\n",
       "      <td>6.25</td>\n",
       "      <td>2022-11-21</td>\n",
       "      <td>1.42</td>\n",
       "      <td>1</td>\n",
       "      <td>0</td>\n",
       "      <td>0</td>\n",
       "      <td>...</td>\n",
       "      <td>0</td>\n",
       "      <td>-14</td>\n",
       "      <td>8.168148</td>\n",
       "      <td>1</td>\n",
       "      <td>0</td>\n",
       "      <td>0.010555</td>\n",
       "      <td>-1.312034</td>\n",
       "      <td>1969-11-21</td>\n",
       "      <td>Скорпион</td>\n",
       "      <td>Скорпион</td>\n",
       "    </tr>\n",
       "    <tr>\n",
       "      <th>4</th>\n",
       "      <td>ГБУЗ РБ Толбазинская ЦРБ</td>\n",
       "      <td>140361892057392</td>\n",
       "      <td>0</td>\n",
       "      <td>53</td>\n",
       "      <td>6.25</td>\n",
       "      <td>2022-12-06</td>\n",
       "      <td>2.56</td>\n",
       "      <td>1</td>\n",
       "      <td>0</td>\n",
       "      <td>0</td>\n",
       "      <td>...</td>\n",
       "      <td>0</td>\n",
       "      <td>-14</td>\n",
       "      <td>8.168148</td>\n",
       "      <td>1</td>\n",
       "      <td>0</td>\n",
       "      <td>0.010555</td>\n",
       "      <td>-1.312034</td>\n",
       "      <td>1969-11-21</td>\n",
       "      <td>Скорпион</td>\n",
       "      <td>Скорпион</td>\n",
       "    </tr>\n",
       "  </tbody>\n",
       "</table>\n",
       "<p>5 rows × 46 columns</p>\n",
       "</div>"
      ],
      "text/plain": [
       "                 institution               id  gender  age  dose date_analyse  \\\n",
       "0  ГБУЗ РБ Толбазинская ЦРБ   140361892057136       0   57  7.50   2022-11-11   \n",
       "1  ГБУЗ РБ Толбазинская ЦРБ   140361892057136       0   57  7.50   2022-11-24   \n",
       "2  ГБУЗ РБ Толбазинская ЦРБ   140361892057264       1   50  5.00   2022-11-22   \n",
       "3  ГБУЗ РБ Толбазинская ЦРБ   140361892057392       0   53  6.25   2022-11-21   \n",
       "4  ГБУЗ РБ Толбазинская ЦРБ   140361892057392       0   53  6.25   2022-12-06   \n",
       "\n",
       "   prev_INR(MHO)  atrial_fibrillation  mitral_valve  aortal_valve  ...  d8  \\\n",
       "0           3.11                    1             0             0  ...   0   \n",
       "1           3.32                    1             0             0  ...   0   \n",
       "2           2.01                    0             1             0  ...   0   \n",
       "3           1.42                    1             0             0  ...   0   \n",
       "4           2.56                    1             0             0  ...   0   \n",
       "\n",
       "   deviation_from_median  age_percentile  age_quantile  is_elderly  \\\n",
       "0                    -10       13.602187             1           0   \n",
       "1                    -10       13.602187             1           0   \n",
       "2                    -17        5.502392             1           0   \n",
       "3                    -14        8.168148             1           0   \n",
       "4                    -14        8.168148             1           0   \n",
       "\n",
       "  age_density age_zscore   birthday     zsign  zodiac_name  \n",
       "0    0.017956  -0.919637 1965-11-11  Скорпион     Скорпион  \n",
       "1    0.017956  -0.919637 1965-11-11  Скорпион     Скорпион  \n",
       "2    0.007255  -1.606331 1972-11-22   Стрелец      Стрелец  \n",
       "3    0.010555  -1.312034 1969-11-21  Скорпион     Скорпион  \n",
       "4    0.010555  -1.312034 1969-11-21  Скорпион     Скорпион  \n",
       "\n",
       "[5 rows x 46 columns]"
      ]
     },
     "execution_count": 20,
     "metadata": {},
     "output_type": "execute_result"
    }
   ],
   "source": [
    "dz = data.copy()\n",
    "for c in creators:\n",
    "    print(c.__name__)\n",
    "    dz[c.__name__] = dz.apply(c, axis=1)\n",
    "dz.head()"
   ]
  },
  {
   "cell_type": "code",
   "execution_count": null,
   "id": "638f5826",
   "metadata": {},
   "outputs": [],
   "source": []
  },
  {
   "cell_type": "code",
   "execution_count": null,
   "id": "02f257fd",
   "metadata": {},
   "outputs": [],
   "source": []
  },
  {
   "cell_type": "code",
   "execution_count": null,
   "id": "fb46390d",
   "metadata": {},
   "outputs": [],
   "source": []
  },
  {
   "cell_type": "code",
   "execution_count": null,
   "id": "e94e6f55",
   "metadata": {},
   "outputs": [],
   "source": []
  },
  {
   "cell_type": "markdown",
   "id": "ad66edb7",
   "metadata": {},
   "source": [
    "## Тесты"
   ]
  },
  {
   "cell_type": "code",
   "execution_count": 4,
   "id": "9a81bebc",
   "metadata": {
    "ExecuteTime": {
     "end_time": "2023-08-31T10:27:28.290402Z",
     "start_time": "2023-08-31T10:27:27.175591Z"
    }
   },
   "outputs": [],
   "source": [
    "# Загрузка датасета со всеми столбцами из текущей папки\n",
    "data = pd.read_excel(\"C:\\\\Users\\\\Sovtsov\\\\Documents\\\\УИИ\\\\Стажировка\\\\dataset_wide_birthday.xlsx\")\n"
   ]
  },
  {
   "cell_type": "code",
   "execution_count": 5,
   "id": "38ae5fa6",
   "metadata": {
    "ExecuteTime": {
     "end_time": "2023-08-31T10:27:39.136576Z",
     "start_time": "2023-08-31T10:27:39.119555Z"
    }
   },
   "outputs": [
    {
     "data": {
      "text/plain": [
       "Index(['institution', 'id', 'gender', 'age', 'dose', 'date_analyse',\n",
       "       'prev_INR(MHO)', 'atrial_fibrillation', 'mitral_valve', 'aortal_valve',\n",
       "       'date_diff', 'INR(MHO)', 'sample', 'pass_dose', 'institution_id',\n",
       "       'diagnos', 'sss', 'date_from_1990', 'ageix', 'agebin_0-9',\n",
       "       'agebin_10-19', 'agebin_20-29', 'agebin_30-39', 'agebin_40-49',\n",
       "       'agebin_50-59', 'agebin_60-69', 'agebin_70-79', 'agebin_80-89',\n",
       "       'agebin_90+', 'd1', 'd2', 'd3', 'd4', 'd5', 'd6', 'd7', 'd8',\n",
       "       'deviation_from_median', 'age_percentile', 'age_quantile', 'is_elderly',\n",
       "       'age_density', 'age_zscore', 'birthday'],\n",
       "      dtype='object')"
      ]
     },
     "execution_count": 5,
     "metadata": {},
     "output_type": "execute_result"
    }
   ],
   "source": [
    "data.columns"
   ]
  },
  {
   "cell_type": "code",
   "execution_count": 6,
   "id": "2ea56250",
   "metadata": {
    "ExecuteTime": {
     "end_time": "2023-08-31T10:28:01.356120Z",
     "start_time": "2023-08-31T10:28:01.343122Z"
    }
   },
   "outputs": [],
   "source": [
    "# тестовый список колонок для удаления\n",
    "dellst = [ 'agebix', 'agebin_0-9',\n",
    "       'agebin_10-19', 'agebin_20-29', 'agebin_30-39', 'agebin_40-49',\n",
    "       'agebin_50-59', 'agebin_60-69', 'agebin_70-79', 'agebin_80-89',\n",
    "       'agebin_90+','critical_age_l','critical_age_h' ]\n",
    "\n"
   ]
  },
  {
   "cell_type": "code",
   "execution_count": 7,
   "id": "6a86295e",
   "metadata": {
    "ExecuteTime": {
     "end_time": "2023-08-31T10:28:02.340186Z",
     "start_time": "2023-08-31T10:28:02.303859Z"
    }
   },
   "outputs": [
    {
     "name": "stdout",
     "output_type": "stream",
     "text": [
      "Удалены: []\n"
     ]
    },
    {
     "data": {
      "text/html": [
       "<div>\n",
       "<style scoped>\n",
       "    .dataframe tbody tr th:only-of-type {\n",
       "        vertical-align: middle;\n",
       "    }\n",
       "\n",
       "    .dataframe tbody tr th {\n",
       "        vertical-align: top;\n",
       "    }\n",
       "\n",
       "    .dataframe thead th {\n",
       "        text-align: right;\n",
       "    }\n",
       "</style>\n",
       "<table border=\"1\" class=\"dataframe\">\n",
       "  <thead>\n",
       "    <tr style=\"text-align: right;\">\n",
       "      <th></th>\n",
       "      <th>institution</th>\n",
       "      <th>id</th>\n",
       "      <th>gender</th>\n",
       "      <th>age</th>\n",
       "      <th>dose</th>\n",
       "      <th>date_analyse</th>\n",
       "      <th>prev_INR(MHO)</th>\n",
       "      <th>atrial_fibrillation</th>\n",
       "      <th>mitral_valve</th>\n",
       "      <th>aortal_valve</th>\n",
       "      <th>...</th>\n",
       "      <th>d6</th>\n",
       "      <th>d7</th>\n",
       "      <th>d8</th>\n",
       "      <th>deviation_from_median</th>\n",
       "      <th>age_percentile</th>\n",
       "      <th>age_quantile</th>\n",
       "      <th>is_elderly</th>\n",
       "      <th>age_density</th>\n",
       "      <th>age_zscore</th>\n",
       "      <th>birthday</th>\n",
       "    </tr>\n",
       "  </thead>\n",
       "  <tbody>\n",
       "    <tr>\n",
       "      <th>0</th>\n",
       "      <td>ГБУЗ РБ Толбазинская ЦРБ</td>\n",
       "      <td>140361892057136</td>\n",
       "      <td>0</td>\n",
       "      <td>57</td>\n",
       "      <td>7.50</td>\n",
       "      <td>2022-11-11</td>\n",
       "      <td>3.11</td>\n",
       "      <td>1</td>\n",
       "      <td>0</td>\n",
       "      <td>0</td>\n",
       "      <td>...</td>\n",
       "      <td>0</td>\n",
       "      <td>0</td>\n",
       "      <td>0</td>\n",
       "      <td>-10</td>\n",
       "      <td>13.602187</td>\n",
       "      <td>1</td>\n",
       "      <td>0</td>\n",
       "      <td>0.017956</td>\n",
       "      <td>-0.919637</td>\n",
       "      <td>1965-11-11</td>\n",
       "    </tr>\n",
       "    <tr>\n",
       "      <th>1</th>\n",
       "      <td>ГБУЗ РБ Толбазинская ЦРБ</td>\n",
       "      <td>140361892057136</td>\n",
       "      <td>0</td>\n",
       "      <td>57</td>\n",
       "      <td>7.50</td>\n",
       "      <td>2022-11-24</td>\n",
       "      <td>3.32</td>\n",
       "      <td>1</td>\n",
       "      <td>0</td>\n",
       "      <td>0</td>\n",
       "      <td>...</td>\n",
       "      <td>0</td>\n",
       "      <td>0</td>\n",
       "      <td>0</td>\n",
       "      <td>-10</td>\n",
       "      <td>13.602187</td>\n",
       "      <td>1</td>\n",
       "      <td>0</td>\n",
       "      <td>0.017956</td>\n",
       "      <td>-0.919637</td>\n",
       "      <td>1965-11-11</td>\n",
       "    </tr>\n",
       "    <tr>\n",
       "      <th>2</th>\n",
       "      <td>ГБУЗ РБ Толбазинская ЦРБ</td>\n",
       "      <td>140361892057264</td>\n",
       "      <td>1</td>\n",
       "      <td>50</td>\n",
       "      <td>5.00</td>\n",
       "      <td>2022-11-22</td>\n",
       "      <td>2.01</td>\n",
       "      <td>0</td>\n",
       "      <td>1</td>\n",
       "      <td>0</td>\n",
       "      <td>...</td>\n",
       "      <td>0</td>\n",
       "      <td>1</td>\n",
       "      <td>0</td>\n",
       "      <td>-17</td>\n",
       "      <td>5.502392</td>\n",
       "      <td>1</td>\n",
       "      <td>0</td>\n",
       "      <td>0.007255</td>\n",
       "      <td>-1.606331</td>\n",
       "      <td>1972-11-22</td>\n",
       "    </tr>\n",
       "    <tr>\n",
       "      <th>3</th>\n",
       "      <td>ГБУЗ РБ Толбазинская ЦРБ</td>\n",
       "      <td>140361892057392</td>\n",
       "      <td>0</td>\n",
       "      <td>53</td>\n",
       "      <td>6.25</td>\n",
       "      <td>2022-11-21</td>\n",
       "      <td>1.42</td>\n",
       "      <td>1</td>\n",
       "      <td>0</td>\n",
       "      <td>0</td>\n",
       "      <td>...</td>\n",
       "      <td>0</td>\n",
       "      <td>0</td>\n",
       "      <td>0</td>\n",
       "      <td>-14</td>\n",
       "      <td>8.168148</td>\n",
       "      <td>1</td>\n",
       "      <td>0</td>\n",
       "      <td>0.010555</td>\n",
       "      <td>-1.312034</td>\n",
       "      <td>1969-11-21</td>\n",
       "    </tr>\n",
       "    <tr>\n",
       "      <th>4</th>\n",
       "      <td>ГБУЗ РБ Толбазинская ЦРБ</td>\n",
       "      <td>140361892057392</td>\n",
       "      <td>0</td>\n",
       "      <td>53</td>\n",
       "      <td>6.25</td>\n",
       "      <td>2022-12-06</td>\n",
       "      <td>2.56</td>\n",
       "      <td>1</td>\n",
       "      <td>0</td>\n",
       "      <td>0</td>\n",
       "      <td>...</td>\n",
       "      <td>0</td>\n",
       "      <td>0</td>\n",
       "      <td>0</td>\n",
       "      <td>-14</td>\n",
       "      <td>8.168148</td>\n",
       "      <td>1</td>\n",
       "      <td>0</td>\n",
       "      <td>0.010555</td>\n",
       "      <td>-1.312034</td>\n",
       "      <td>1969-11-21</td>\n",
       "    </tr>\n",
       "  </tbody>\n",
       "</table>\n",
       "<p>5 rows × 44 columns</p>\n",
       "</div>"
      ],
      "text/plain": [
       "                 institution               id  gender  age  dose date_analyse  \\\n",
       "0  ГБУЗ РБ Толбазинская ЦРБ   140361892057136       0   57  7.50   2022-11-11   \n",
       "1  ГБУЗ РБ Толбазинская ЦРБ   140361892057136       0   57  7.50   2022-11-24   \n",
       "2  ГБУЗ РБ Толбазинская ЦРБ   140361892057264       1   50  5.00   2022-11-22   \n",
       "3  ГБУЗ РБ Толбазинская ЦРБ   140361892057392       0   53  6.25   2022-11-21   \n",
       "4  ГБУЗ РБ Толбазинская ЦРБ   140361892057392       0   53  6.25   2022-12-06   \n",
       "\n",
       "   prev_INR(MHO)  atrial_fibrillation  mitral_valve  aortal_valve  ...  d6  \\\n",
       "0           3.11                    1             0             0  ...   0   \n",
       "1           3.32                    1             0             0  ...   0   \n",
       "2           2.01                    0             1             0  ...   0   \n",
       "3           1.42                    1             0             0  ...   0   \n",
       "4           2.56                    1             0             0  ...   0   \n",
       "\n",
       "   d7  d8  deviation_from_median  age_percentile age_quantile is_elderly  \\\n",
       "0   0   0                    -10       13.602187            1          0   \n",
       "1   0   0                    -10       13.602187            1          0   \n",
       "2   1   0                    -17        5.502392            1          0   \n",
       "3   0   0                    -14        8.168148            1          0   \n",
       "4   0   0                    -14        8.168148            1          0   \n",
       "\n",
       "   age_density  age_zscore   birthday  \n",
       "0     0.017956   -0.919637 1965-11-11  \n",
       "1     0.017956   -0.919637 1965-11-11  \n",
       "2     0.007255   -1.606331 1972-11-22  \n",
       "3     0.010555   -1.312034 1969-11-21  \n",
       "4     0.010555   -1.312034 1969-11-21  \n",
       "\n",
       "[5 rows x 44 columns]"
      ]
     },
     "metadata": {},
     "output_type": "display_data"
    }
   ],
   "source": [
    "# data = DS_Gen(data)\n",
    "# display(data.head())"
   ]
  },
  {
   "cell_type": "code",
   "execution_count": null,
   "id": "09274258",
   "metadata": {},
   "outputs": [],
   "source": []
  }
 ],
 "metadata": {
  "kernelspec": {
   "display_name": "Python 3 (ipykernel)",
   "language": "python",
   "name": "python3"
  },
  "language_info": {
   "codemirror_mode": {
    "name": "ipython",
    "version": 3
   },
   "file_extension": ".py",
   "mimetype": "text/x-python",
   "name": "python",
   "nbconvert_exporter": "python",
   "pygments_lexer": "ipython3",
   "version": "3.10.9"
  },
  "toc": {
   "base_numbering": 1,
   "nav_menu": {},
   "number_sections": true,
   "sideBar": true,
   "skip_h1_title": false,
   "title_cell": "Table of Contents",
   "title_sidebar": "Contents",
   "toc_cell": false,
   "toc_position": {},
   "toc_section_display": true,
   "toc_window_display": false
  },
  "varInspector": {
   "cols": {
    "lenName": 16,
    "lenType": 16,
    "lenVar": 40
   },
   "kernels_config": {
    "python": {
     "delete_cmd_postfix": "",
     "delete_cmd_prefix": "del ",
     "library": "var_list.py",
     "varRefreshCmd": "print(var_dic_list())"
    },
    "r": {
     "delete_cmd_postfix": ") ",
     "delete_cmd_prefix": "rm(",
     "library": "var_list.r",
     "varRefreshCmd": "cat(var_dic_list()) "
    }
   },
   "types_to_exclude": [
    "module",
    "function",
    "builtin_function_or_method",
    "instance",
    "_Feature"
   ],
   "window_display": false
  }
 },
 "nbformat": 4,
 "nbformat_minor": 5
}
