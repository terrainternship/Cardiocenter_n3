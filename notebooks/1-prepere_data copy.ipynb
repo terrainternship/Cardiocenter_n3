{
 "cells": [
  {
   "cell_type": "markdown",
   "metadata": {},
   "source": [
    "# Предобработка данных"
   ]
  },
  {
   "cell_type": "markdown",
   "metadata": {
    "id": "9oKhzatE1o8W"
   },
   "source": [
    "## Настройка среды"
   ]
  },
  {
   "cell_type": "code",
   "execution_count": 1,
   "metadata": {},
   "outputs": [],
   "source": [
    "%reload_ext autoreload\n",
    "%autoreload 2\n",
    "\n",
    "from pathlib import Path\n",
    "\n",
    "NOTEBOOK_ID = '1'  # в выходных данных будет указан этот id\n",
    "RANDOM_SEED = 0  # для воспроизводимости результатов\n",
    "ROOT_PATH = Path('..')  # путь к корню проекта"
   ]
  },
  {
   "cell_type": "code",
   "execution_count": 2,
   "metadata": {
    "id": "yFRs_BhfJCc9"
   },
   "outputs": [],
   "source": [
    "import datetime as dt\n",
    "\n",
    "import dill\n",
    "import matplotlib.pyplot as plt\n",
    "import numpy as np\n",
    "import pandas as pd\n",
    "import seaborn as sns\n",
    "\n",
    "from feature_engine.imputation import DropMissingData\n",
    "\n",
    "from sklearn.model_selection import train_test_split\n",
    "from sklearn.pipeline import make_pipeline\n",
    "from sklearn.preprocessing import FunctionTransformer\n",
    "\n",
    "import uai.data"
   ]
  },
  {
   "cell_type": "markdown",
   "metadata": {
    "id": "ZQ3VRbVdOWva"
   },
   "source": [
    "## Загрузка данных\n",
    "Разбираемся во всем наборе данных (формат, описания сердечно-сосудистых событий, ошибки заполнения, ...). Анализ для создания новых признаков будем проводить позже и только на данных для обучения."
   ]
  },
  {
   "cell_type": "code",
   "execution_count": 3,
   "metadata": {
    "colab": {
     "base_uri": "https://localhost:8080/",
     "height": 285
    },
    "id": "gwtdldc0_VPW",
    "outputId": "c58b8eb0-c6c2-4b6f-d553-cfc081708baf"
   },
   "outputs": [
    {
     "name": "stdout",
     "output_type": "stream",
     "text": [
      "Загружено случаев: 1468\n"
     ]
    },
    {
     "data": {
      "text/html": [
       "<div>\n",
       "<style scoped>\n",
       "    .dataframe tbody tr th:only-of-type {\n",
       "        vertical-align: middle;\n",
       "    }\n",
       "\n",
       "    .dataframe tbody tr th {\n",
       "        vertical-align: top;\n",
       "    }\n",
       "\n",
       "    .dataframe thead th {\n",
       "        text-align: right;\n",
       "    }\n",
       "</style>\n",
       "<table border=\"1\" class=\"dataframe\">\n",
       "  <thead>\n",
       "    <tr style=\"text-align: right;\">\n",
       "      <th></th>\n",
       "      <th>institution</th>\n",
       "      <th>id</th>\n",
       "      <th>gender</th>\n",
       "      <th>age</th>\n",
       "      <th>dose</th>\n",
       "      <th>date_analyse</th>\n",
       "      <th>prev_INR(MHO)</th>\n",
       "      <th>atrial_fibrillation</th>\n",
       "      <th>mitral_valve</th>\n",
       "      <th>aortal_valve</th>\n",
       "      <th>date_diff</th>\n",
       "      <th>INR(MHO)</th>\n",
       "      <th>sample</th>\n",
       "      <th>pass_dose</th>\n",
       "      <th>institution_id</th>\n",
       "      <th>diagnos</th>\n",
       "      <th>sss</th>\n",
       "      <th>birthdate</th>\n",
       "    </tr>\n",
       "  </thead>\n",
       "  <tbody>\n",
       "    <tr>\n",
       "      <th>0</th>\n",
       "      <td>ГБУЗ РБ Толбазинская ЦРБ</td>\n",
       "      <td>140361892057136</td>\n",
       "      <td>0</td>\n",
       "      <td>57</td>\n",
       "      <td>7.5</td>\n",
       "      <td>2022-11-11</td>\n",
       "      <td>3.11</td>\n",
       "      <td>1</td>\n",
       "      <td>0</td>\n",
       "      <td>0</td>\n",
       "      <td>13.0</td>\n",
       "      <td>3.32</td>\n",
       "      <td>1</td>\n",
       "      <td>0</td>\n",
       "      <td>20</td>\n",
       "      <td>Фибрилляция предсердий</td>\n",
       "      <td>NaN</td>\n",
       "      <td>1965-11-11</td>\n",
       "    </tr>\n",
       "    <tr>\n",
       "      <th>1</th>\n",
       "      <td>ГБУЗ РБ Толбазинская ЦРБ</td>\n",
       "      <td>140361892057136</td>\n",
       "      <td>0</td>\n",
       "      <td>57</td>\n",
       "      <td>7.5</td>\n",
       "      <td>2022-11-24</td>\n",
       "      <td>3.32</td>\n",
       "      <td>1</td>\n",
       "      <td>0</td>\n",
       "      <td>0</td>\n",
       "      <td>15.0</td>\n",
       "      <td>2.01</td>\n",
       "      <td>2</td>\n",
       "      <td>0</td>\n",
       "      <td>20</td>\n",
       "      <td>Фибрилляция предсердий</td>\n",
       "      <td>NaN</td>\n",
       "      <td>1965-11-11</td>\n",
       "    </tr>\n",
       "    <tr>\n",
       "      <th>2</th>\n",
       "      <td>ГБУЗ РБ Толбазинская ЦРБ</td>\n",
       "      <td>140361892057264</td>\n",
       "      <td>1</td>\n",
       "      <td>50</td>\n",
       "      <td>5.0</td>\n",
       "      <td>2022-11-22</td>\n",
       "      <td>2.01</td>\n",
       "      <td>0</td>\n",
       "      <td>1</td>\n",
       "      <td>0</td>\n",
       "      <td>26.0</td>\n",
       "      <td>2.75</td>\n",
       "      <td>1</td>\n",
       "      <td>0</td>\n",
       "      <td>20</td>\n",
       "      <td>ПротезированиеМитрального клапана</td>\n",
       "      <td>NaN</td>\n",
       "      <td>1972-11-22</td>\n",
       "    </tr>\n",
       "  </tbody>\n",
       "</table>\n",
       "</div>"
      ],
      "text/plain": [
       "                 institution               id  gender  age  dose date_analyse  \\\n",
       "0  ГБУЗ РБ Толбазинская ЦРБ   140361892057136       0   57   7.5   2022-11-11   \n",
       "1  ГБУЗ РБ Толбазинская ЦРБ   140361892057136       0   57   7.5   2022-11-24   \n",
       "2  ГБУЗ РБ Толбазинская ЦРБ   140361892057264       1   50   5.0   2022-11-22   \n",
       "\n",
       "   prev_INR(MHO)  atrial_fibrillation  mitral_valve  aortal_valve  date_diff  \\\n",
       "0           3.11                    1             0             0       13.0   \n",
       "1           3.32                    1             0             0       15.0   \n",
       "2           2.01                    0             1             0       26.0   \n",
       "\n",
       "   INR(MHO)  sample  pass_dose  institution_id  \\\n",
       "0      3.32       1          0              20   \n",
       "1      2.01       2          0              20   \n",
       "2      2.75       1          0              20   \n",
       "\n",
       "                             diagnos  sss  birthdate  \n",
       "0             Фибрилляция предсердий  NaN 1965-11-11  \n",
       "1             Фибрилляция предсердий  NaN 1965-11-11  \n",
       "2  ПротезированиеМитрального клапана  NaN 1972-11-22  "
      ]
     },
     "execution_count": 3,
     "metadata": {},
     "output_type": "execute_result"
    }
   ],
   "source": [
    "df = uai.data.load_dataset(ROOT_PATH)\n",
    "print(f'Загружено случаев: {df.shape[0]}')\n",
    "df.head(3)"
   ]
  },
  {
   "cell_type": "code",
   "execution_count": 4,
   "metadata": {},
   "outputs": [
    {
     "name": "stdout",
     "output_type": "stream",
     "text": [
      "<class 'pandas.core.frame.DataFrame'>\n",
      "RangeIndex: 1468 entries, 0 to 1467\n",
      "Data columns (total 18 columns):\n",
      " #   Column               Non-Null Count  Dtype         \n",
      "---  ------               --------------  -----         \n",
      " 0   institution          1468 non-null   object        \n",
      " 1   id                   1468 non-null   int64         \n",
      " 2   gender               1468 non-null   int64         \n",
      " 3   age                  1468 non-null   int64         \n",
      " 4   dose                 1468 non-null   float64       \n",
      " 5   date_analyse         1468 non-null   datetime64[ns]\n",
      " 6   prev_INR(MHO)        1468 non-null   float64       \n",
      " 7   atrial_fibrillation  1468 non-null   int64         \n",
      " 8   mitral_valve         1468 non-null   int64         \n",
      " 9   aortal_valve         1468 non-null   int64         \n",
      " 10  date_diff            1467 non-null   float64       \n",
      " 11  INR(MHO)             1468 non-null   float64       \n",
      " 12  sample               1468 non-null   int64         \n",
      " 13  pass_dose            1468 non-null   int64         \n",
      " 14  institution_id       1468 non-null   int64         \n",
      " 15  diagnos              1468 non-null   object        \n",
      " 16  sss                  422 non-null    object        \n",
      " 17  birthdate            1463 non-null   datetime64[ns]\n",
      "dtypes: datetime64[ns](2), float64(4), int64(9), object(3)\n",
      "memory usage: 206.6+ KB\n"
     ]
    }
   ],
   "source": [
    "df.info()"
   ]
  },
  {
   "cell_type": "code",
   "execution_count": 5,
   "metadata": {},
   "outputs": [],
   "source": [
    "# Типы данных не всегда определяются корректно, поэтому приведем их к нужному типу\n",
    "\n",
    "def set_dtypes(df):\n",
    "    res_df = df.copy()\n",
    "    \n",
    "    res_df['date_analyse'] = res_df['date_analyse'].astype('datetime64[ns]')\n",
    "    res_df['birthdate'] = res_df['birthdate'].astype('datetime64[ns]')\n",
    "    \n",
    "    return res_df"
   ]
  },
  {
   "cell_type": "code",
   "execution_count": 6,
   "metadata": {},
   "outputs": [
    {
     "name": "stdout",
     "output_type": "stream",
     "text": [
      "Размер обучающей выборки: 1174\n",
      "Размер тестовой выборки:  294\n"
     ]
    }
   ],
   "source": [
    "# Делим данные на тестовую и обучающую выборки и сохраняем в файлы\n",
    "\n",
    "train_df, test_df = train_test_split(df, test_size=0.2, random_state=RANDOM_SEED)\n",
    "\n",
    "print(f'Размер обучающей выборки: {train_df.shape[0]}')\n",
    "print(f'Размер тестовой выборки:  {test_df.shape[0]}')\n",
    "\n",
    "train_df.to_csv(ROOT_PATH / f'data/interim/train_{NOTEBOOK_ID}.csv', index=False)\n",
    "test_df.to_csv(ROOT_PATH / f'data/interim/test_{NOTEBOOK_ID}.csv', index=False)"
   ]
  },
  {
   "cell_type": "markdown",
   "metadata": {
    "id": "000xtHgovtIH"
   },
   "source": [
    "## Парсинг данных - выделение по группам (оставлен код исходного парсера)\n",
    "* возрастов\n",
    "* диагнозов\n",
    "* вычисление относительной даты анализа"
   ]
  },
  {
   "cell_type": "code",
   "execution_count": 7,
   "metadata": {
    "id": "3CfxvQMWxNB6"
   },
   "outputs": [],
   "source": [
    "# В файл ЦАТ_общий_parsed_extDS_v6.xlsx относительно ЦАТ_общий_parsed.xlsx\n",
    "# добавлены:\n",
    "# institution_id - id лечебного учреждения (на основании первого столбца с названием)\n",
    "# diagnos и sss - записи о диагнозе и сердечно-сосудистых событиях из первичных файлов\n",
    "\n",
    "# Группы диагнозов: обрабатываются поля диагнозов и сердечно-сосудистых событий\n",
    "# d1 - Протезирование клапанов\n",
    "# d2 - (I48)Фибрилляция и трепетание предсердий, мерцательная аритмия\n",
    "# d3 - (I20-25)Ишемическая болезнь сердца(ИБС), инфаркт миокарда(ИМ,ОИМ), Хроническая ишемическая болезнь сердца, Постинфарктный крдиосклероз(ПИКС),Врождённый порок сердца(ВПС), эндокардит,острый коронарный синдром(ОКС),транзиторная ишемическая атака(ТИА), порок\n",
    "# d4 - (I05-09)Ревматическая болезнь сердца\n",
    "# d5 - (I35)Неревматические поражения аортального клапана\n",
    "# d6 - (I__)Другие не сердечные заболевания, гипертония(ГБ), тромбофлебит, острое нарушение мозгового кровообращения,ОНМК,тромбоэмболия лёгочной артерии(ТЭЛА)\n",
    "# d7 - аортальный, митральный порок сердца, поражение клапанов, недостаточность, межсердные перегородки\n",
    "# d8 - Стентирование сосудов, биопластика(БАП), радиочастотеая катетерная абляция(РЧА),аблация,электростимуляторы(ЭКС),Шунтирование(АКШ,МКШ)\n",
    "\n",
    "# Группы возрастов: на основе поля возраст\n",
    "# age_level\t0-10-30-50-60-70-80-90+\n",
    "# age_level1\t0-50-65-75-80+\n",
    "# age_level2\t0-35-50-65-80+\n",
    "# age_level3\t0-50-65-75-90+\n",
    "# age_level4\t0-50-65-80\n",
    "# age_level5\t0-50-65+\n",
    "# age_level6\t0-65+\n",
    "\n",
    "# Относительная давность анализа:\n",
    "# date_from_1990 = количество дней от 01.01.1990 до date_analyse"
   ]
  },
  {
   "cell_type": "markdown",
   "metadata": {
    "id": "C5F_2Pgcw17O"
   },
   "source": [
    "### Функции для формирования доп.колонок (код сохранен без изменений исходного парсера).\n",
    "Создаются новые столбцы по группам возрастов, по группам заболеваний и столбец с относительной давностью анализа:  date_from_1990"
   ]
  },
  {
   "cell_type": "code",
   "execution_count": 8,
   "metadata": {
    "id": "yINyOeFYQU2p"
   },
   "outputs": [],
   "source": [
    "# Сформируем колонки по группам возрастов: на основе поля возраст\n",
    "# age_level\t0-10-30-50-60-70-80-90+\n",
    "# age_level1\t0-50-65-75-80+\n",
    "# age_level2\t0-35-50-65-80+\n",
    "# age_level3\t0-50-65-75-90+\n",
    "# age_level4\t0-50-65-80\n",
    "# age_level5\t0-50-65+\n",
    "# age_level6\t0-65+\n",
    "\n",
    "def get_level(x):\n",
    "# age_level\t0-10-30-50-60-70-80-90+\n",
    "    if x < 10 : return 0\n",
    "    if x >= 10 and x < 30 : return 10\n",
    "    if x >= 30 and x < 50 : return 30\n",
    "    if x >= 50 and x < 60 : return 50\n",
    "    if x >= 60 and x < 70 : return 60\n",
    "    if x >= 70 and x < 80 : return 70\n",
    "    if x >= 80 and x < 90 : return 80\n",
    "    return 90\n",
    "\n",
    "def get_level1(x):\n",
    "# age_level1\t0-50-65-75-80+\n",
    "    if x < 50 : return 0\n",
    "    if x >= 50 and x < 65 : return 50\n",
    "    if x >= 65 and x < 75 : return 65\n",
    "    if x >= 75 and x < 80 : return 75\n",
    "    return 80\n",
    "\n",
    "def get_level2(x):\n",
    "# age_level2\t0-35-50-65-80+\n",
    "    if x < 35 : return 0\n",
    "    if x >= 35 and x < 50 : return 35\n",
    "    if x >= 50 and x < 65 : return 50\n",
    "    if x >= 65 and x < 80 : return 65\n",
    "    return 80\n",
    "\n",
    "def get_level3(x):\n",
    "# age_level3\t0-50-65-75-90+\n",
    "    if x < 50 : return 0\n",
    "    if x >= 50 and x < 65 : return 50\n",
    "    if x >= 65 and x < 75 : return 65\n",
    "    if x >= 75 and x < 90 : return 75\n",
    "    return 90\n",
    "\n",
    "def get_level4(x):\n",
    "# age_level4\t0-50-65-80\n",
    "    if x < 50 : return 0\n",
    "    if x >= 50 and x < 65 : return 50\n",
    "    if x >= 65 and x < 80 : return 65\n",
    "    return 80\n",
    "\n",
    "def get_level5(x):\n",
    "# age_level5\t0-50-65+\n",
    "    if x < 50 : return 0\n",
    "    if x >= 50 and x < 65 : return 50\n",
    "    return 65"
   ]
  },
  {
   "cell_type": "code",
   "execution_count": 9,
   "metadata": {
    "id": "OdOK8NPgvzIh"
   },
   "outputs": [],
   "source": [
    "# поисковые конструкции для diagnos и sss\n",
    "# for d1 -диагноз или ссс содержат слово \"проте\"\n",
    "# for d2- фибр, фебр,ФП,трепет,i48,I48,I 48\n",
    "# for d3- порок,ИБС,склероз,ОИМ,инфаркт,миокард,стенокар,I20,I25,ПИКС,пикс,ишемич,кард,ВПС,ОКС,стенокардия,ТИА,эндокардит,порок\n",
    "# for d4-  I 08,I05,i05,i08,I06,I09,ревмат,\n",
    "# for d5-  I35,i35\n",
    "# for d6 - ДКМП, I42, ОНМК,i34,Q231,ГБ,легочн,ТЭЛА\n",
    "# for d7 - аорт, митр,клап,перегор\n",
    "# for d8 - АКШ,МКШ,шунт,стент,ЭКС,РЧА,аблац\n",
    "\n",
    "def get_d1(x):\n",
    "  # for d1 -диагноз или ссс содержат слово \"проте\"\n",
    "  wlist = ['проте']\n",
    "  for w in wlist:\n",
    "    w = w.upper()\n",
    "    if x['diagnos'].upper().find(w) > -1: return 1\n",
    "    if x['sss'].upper().find(w) > -1: return 1\n",
    "  return 0\n",
    "\n",
    "def get_d2(x):\n",
    "# for d2- фибр, фебр,ФП,трепет,i48,I48,I 48\n",
    "  wlist = ['фибр', 'фебр','ФП','трепет','i48','I48','I 48']\n",
    "  for w in wlist:\n",
    "    w = w.upper()\n",
    "    if x['diagnos'].upper().find(w) > -1: return 1\n",
    "    if x['sss'].upper().find(w) > -1: return 1\n",
    "  return 0\n",
    "\n",
    "def get_d3(x):\n",
    "# for d3- порок,ИБС,склероз,ОИМ,инфаркт,миокард,стенокар,I20,I25,ПИКС,пикс,ишемич,кард,ВПС,ОКС,стенокардия,ТИА,эндокардит,порок\n",
    "  wlist = ['порок','ИБС','склероз','ОИМ','инфаркт','миокард','стенокар','I20',\n",
    "           'I25','ПИКС','пикс','ишемич','кард','ВПС','ОКС','стенокард',\n",
    "           'ТИА','эндокардит','порок']\n",
    "  for w in wlist:\n",
    "    w = w.upper()\n",
    "    if x['diagnos'].upper().find(w) > -1: return 1\n",
    "    if x['sss'].upper().find(w) > -1: return 1\n",
    "  return 0\n",
    "\n",
    "def get_d4(x):\n",
    "# for d4-  I 08,I05,i05,i08,I06,I09,ревмат,\n",
    "  wlist = ['I 08','I05','i05','i08','I06','I09','ревмат']\n",
    "  for w in wlist:\n",
    "    w = w.upper()\n",
    "    if x['diagnos'].upper().find(w) > -1: return 1\n",
    "    if x['sss'].upper().find(w) > -1: return 1\n",
    "  return 0\n",
    "\n",
    "def get_d5(x):\n",
    "# for d5-  I35,i35\n",
    "  wlist = ['I35','i35']\n",
    "  for w in wlist:\n",
    "    w = w.upper()\n",
    "    if x['diagnos'].upper().find(w) > -1: return 1\n",
    "    if x['sss'].upper().find(w) > -1: return 1\n",
    "  return 0\n",
    "\n",
    "def get_d6(x):\n",
    "# for d6 - ДКМП, I42, ОНМК,i34,Q231,ГБ,легочн,ТЭЛА\n",
    "  wlist = ['ДКМП', 'I42', 'ОНМК','i34','Q231','ГБ','легочн','ТЭЛА']\n",
    "  for w in wlist:\n",
    "    w = w.upper()\n",
    "    if x['diagnos'].upper().find(w) > -1: return 1\n",
    "    if x['sss'].upper().find(w) > -1: return 1\n",
    "  return 0\n",
    "\n",
    "def get_d7(x):\n",
    "# for d7 - аорт, митр,клап,перегор\n",
    "  wlist = ['аорт', 'митр','клап','перегор']\n",
    "  for w in wlist:\n",
    "    w = w.upper()\n",
    "    if x['diagnos'].upper().find(w) > -1: return 1\n",
    "    if x['sss'].upper().find(w) > -1: return 1\n",
    "  return 0\n",
    "\n",
    "def get_d8(x):\n",
    "# for d8 - АКШ,МКШ,шунт,стент,ЭКС,РЧА,аблац\n",
    "  wlist = ['АКШ','МКШ','шунт','стент','ЭКС','РЧА','аблац']\n",
    "  for w in wlist:\n",
    "    w = w.upper()\n",
    "    if x['diagnos'].upper().find(w) > -1: return 1\n",
    "    if x['sss'].upper().find(w) > -1: return 1\n",
    "  return 0"
   ]
  },
  {
   "cell_type": "code",
   "execution_count": 10,
   "metadata": {
    "id": "zqsgharmzdut"
   },
   "outputs": [],
   "source": [
    "def add_date_from_1990(df):\n",
    "    # Вычисли относительную давность анализа:\n",
    "    # сформируем колонку date_from_1990 = количество дней от 01.01.1990 до date_analyse\n",
    "    date_19900101 = dt.datetime(1990, 1, 1)\n",
    "\n",
    "    df['date_from_1990'] = (df['date_analyse'] - date_19900101).dt.days\n",
    "    return df"
   ]
  },
  {
   "cell_type": "code",
   "execution_count": 11,
   "metadata": {
    "id": "bJyn2RTDVKXw"
   },
   "outputs": [],
   "source": [
    "def add_age_levels(df):\n",
    "    \"\"\"\n",
    "    Сформируем колонки по группам возрастов: на основе поля возраст\n",
    "        age_level\t0-10-30-50-60-70-80-90+\n",
    "        age_level1\t0-50-65-75-80+\n",
    "        age_level2\t0-35-50-65-80+\n",
    "        age_level3\t0-50-65-75-90+\n",
    "        age_level4\t0-50-65-80\n",
    "        age_level5\t0-50-65+\n",
    "        age_level6\t0-65+\n",
    "    \"\"\"\n",
    "    df['age_level'] = df['age'].apply(get_level)\n",
    "    df['age_level1'] = df['age'].apply(get_level1)\n",
    "    df['age_level2'] = df['age'].apply(get_level2)\n",
    "    df['age_level3'] = df['age'].apply(get_level3)\n",
    "    df['age_level4'] = df['age'].apply(get_level4)\n",
    "    df['age_level5'] = df['age'].apply(get_level5)\n",
    "    df['age_level6'] = np.where((df.age>=65), 65, 0)\n",
    "\n",
    "    return df"
   ]
  },
  {
   "cell_type": "markdown",
   "metadata": {
    "id": "sKoFBmRPQwkb"
   },
   "source": [
    "## Сформируем колонки по диагнозам и ССС"
   ]
  },
  {
   "cell_type": "code",
   "execution_count": 12,
   "metadata": {
    "id": "PAd9uEf4r3hq"
   },
   "outputs": [],
   "source": [
    "def add_diagnosis_and_sss(df):\n",
    "    \"\"\"\n",
    "    Сформируем колонки по диагнозам и ССС: на основе колонок diagnos, sss\n",
    "        d1 - Протезирование клапанов\n",
    "        d2 - (I48)Фибрилляция и трепетание предсердий, мерцательная аритмия\n",
    "        d3 - (I20-25)Ишемическая болезнь сердца(ИБС), инфаркт миокарда(ИМ,ОИМ), Хроническая ишемическая болезнь сердца, Постинфарктный крдиосклероз(ПИКС),Врождённый порок сердца(ВПС), эндокардит,острый коронарный синдром(ОКС),транзиторная ишемическая атака(ТИА), порок\n",
    "        d4 - (I05-09)Ревматическая болезнь сердца\n",
    "        d5 - (I35)Неревматические поражения аортального клапана\n",
    "        d6 - (I__)Другие не сердечные заболевания, гипертония(ГБ), тромбофлебит, острое нарушение мозгового кровообращения,ОНМК,тромбоэмболия лёгочной артерии(ТЭЛА)\n",
    "        d7 - аортальный, митральный порок сердца, поражение клапанов, недостаточность, межсердные перегородки\n",
    "        d8 - Стентирование сосудов, биопластика(БАП), радиочастотеая катетерная абляция(РЧА),аблация,электростимуляторы(ЭКС),Шунтирование(АКШ,МКШ)\n",
    "    \"\"\"\n",
    "    # приводим к типу 'str'\n",
    "    df['diagnos'] = df['diagnos'].astype(str)\n",
    "    df['sss'] = df['sss'].astype(str)\n",
    "\n",
    "    df['d1'] = df.apply(lambda x: get_d1(x), axis=1)\n",
    "    df['d2'] = df.apply(lambda x: get_d2(x), axis=1)\n",
    "    df['d3'] = df.apply(lambda x: get_d3(x), axis=1)\n",
    "    df['d4'] = df.apply(lambda x: get_d4(x), axis=1)\n",
    "    df['d5'] = df.apply(lambda x: get_d5(x), axis=1)\n",
    "    df['d6'] = df.apply(lambda x: get_d6(x), axis=1)\n",
    "    df['d7'] = df.apply(lambda x: get_d7(x), axis=1)\n",
    "    df['d8'] = df.apply(lambda x: get_d8(x), axis=1)\n",
    "\n",
    "    return df"
   ]
  },
  {
   "cell_type": "markdown",
   "metadata": {
    "id": "GAadQfNiYQtn"
   },
   "source": [
    "## Анализ распределения возраста пациентов\n",
    "На основании этого анализа хотим понять, как распределен возраст. И определить диапазон, вне которого будем считать возраст ошибочным."
   ]
  },
  {
   "cell_type": "code",
   "execution_count": 13,
   "metadata": {
    "colab": {
     "base_uri": "https://localhost:8080/",
     "height": 0
    },
    "id": "bwFnzOJbDtpd",
    "outputId": "0a90e13a-3e74-41ce-e901-dec5bdecb23c"
   },
   "outputs": [
    {
     "data": {
      "image/png": "[encoded data removed]",
      "text/plain": [
       "<Figure size 1000x600 with 1 Axes>"
      ]
     },
     "metadata": {},
     "output_type": "display_data"
    }
   ],
   "source": [
    "# QQ-plot - это графический инструмент, который помогает определить,\n",
    "# насколько близки данные к некоторому теоретическому распределению,\n",
    "# чаще всего к нормальному. Если распределение идеально совпадает с нормальным,\n",
    "# то точки на QQ-plot будут следовать прямой линии (45-градусной)\n",
    "\n",
    "import scipy.stats as stats\n",
    "\n",
    "def plot_age_qq(series):\n",
    "    plt.figure(figsize=(10, 6))\n",
    "    stats.probplot(series, plot=plt)\n",
    "    plt.title('QQ-plot для возраста')\n",
    "\n",
    "plot_age_qq(df['age'])"
   ]
  },
  {
   "cell_type": "code",
   "execution_count": 14,
   "metadata": {
    "colab": {
     "base_uri": "https://localhost:8080/",
     "height": 0
    },
    "id": "CPZVEXFlBAhP",
    "outputId": "f6c09741-fb9b-497b-ed2c-bb11da501171"
   },
   "outputs": [
    {
     "name": "stdout",
     "output_type": "stream",
     "text": [
      "Количество записей с ошибками: 11\n"
     ]
    },
    {
     "data": {
      "image/png": "[encoded data removed]",
      "text/plain": [
       "<Figure size 1000x600 with 2 Axes>"
      ]
     },
     "metadata": {},
     "output_type": "display_data"
    }
   ],
   "source": [
    "# Удаляем явные ошибки из датасета\n",
    "\n",
    "def remove_age_errors(df):\n",
    "    \"\"\"\n",
    "    Удаляем явные ошибки из датасета: возраст 0 и больше 100.\n",
    "    \"\"\"\n",
    "    df = df.drop(df[(df['age'] <= 0) | (df['age'] > 100)].index)\n",
    "    return df\n",
    "\n",
    "def plot_age_hist(ages, ax):\n",
    "    \"\"\"\n",
    "    Гистограмма распределения возраста.\n",
    "    \"\"\"\n",
    "    sns.set_style(\"whitegrid\")\n",
    "\n",
    "    sns.histplot(ages, bins=range(0, 121, 5), kde=True, color=\"skyblue\", ax=ax)\n",
    "    ax.set_xlabel('Возраст')\n",
    "    ax.set_ylabel('Количество')\n",
    "\n",
    "\n",
    "age_fixed_df = remove_age_errors(df.copy())\n",
    "# plot_age_hist(data_age_fixed['age'])\n",
    "\n",
    "# Создаем фигуру и две оси\n",
    "fig, (ax1, ax2) = plt.subplots(2, 1, figsize=(10, 6), sharex=True)\n",
    "\n",
    "# Построим гистограмму для исходных данных на первой оси\n",
    "plot_age_hist(df['age'].copy(), ax1)\n",
    "ax1.set_title('Распределение возраста (исходные данные)')\n",
    "\n",
    "# Построим гистограмму для исправленных данных на второй оси\n",
    "data_age_fixed = remove_age_errors(df.copy())\n",
    "plot_age_hist(age_fixed_df['age'], ax2)\n",
    "ax2.set_title('Распределение возраста (исправленные данные)')\n",
    "\n",
    "fig.suptitle('Сравнение распределения возраста до и после удаления ошибок')\n",
    "plt.tight_layout()\n",
    "\n",
    "print(f'Количество записей с ошибками: {df.shape[0] - age_fixed_df.shape[0]}')"
   ]
  },
  {
   "cell_type": "code",
   "execution_count": 15,
   "metadata": {
    "colab": {
     "base_uri": "https://localhost:8080/"
    },
    "id": "z6bXv7cAI0B4",
    "outputId": "bfcc909a-bcf3-436e-962a-1160c48b80f1"
   },
   "outputs": [
    {
     "name": "stdout",
     "output_type": "stream",
     "text": [
      "Anderson-Darling Test: Statistic=15.66016396291252\n",
      "Critical values: [0.574 0.654 0.785 0.915 1.089]\n",
      "Significance levels: [15.  10.   5.   2.5  1. ]\n"
     ]
    }
   ],
   "source": [
    "# Тест Андерсона-Дарлинга\n",
    "\n",
    "result = stats.anderson(data_age_fixed['age'])\n",
    "\n",
    "print(f\"Anderson-Darling Test: Statistic={result.statistic}\")\n",
    "print(\"Critical values:\", result.critical_values)\n",
    "print(\"Significance levels:\", result.significance_level)"
   ]
  },
  {
   "cell_type": "markdown",
   "metadata": {
    "id": "08_7pgpVgUrQ"
   },
   "source": [
    "Результат тестов показывает, что что **распределение данных в столбце 'age' не следует нормальному распределению**. Прямое применение стандартных методов машинного обучения может не давать оптимальных результатов, так как большинство методов предполагает, что признаки имеют некое стандартное или нормальное распределение. Но есть модели, устойчивые к несбалансированным данным: модели на основе деревьев хорошо работают с такими данными."
   ]
  },
  {
   "cell_type": "markdown",
   "metadata": {},
   "source": [
    "## Расчет статистических метрик по столбцу age"
   ]
  },
  {
   "cell_type": "markdown",
   "metadata": {
    "id": "psl0BgmrV_kr"
   },
   "source": [
    "Для дальнейшей оценки кореляции и принятия решения о включении в датасет на базе занных о возрасте рассчитываются следующие статистические показатели  (можно использовать другие):\n",
    "\n",
    "**deviation_from_median**: Отклонение возраста от медианного значения возраста в датасете. Если значение положительное, возраст выше медианы; если отрицательное — ниже медианы.\n",
    "\n",
    "**age_percentile**: Процентное положение возраста относительно всех остальных возрастов в наборе данных. Он показывает, сколько процентов людей в датасете имеют возраст ниже данного значения.\n",
    "\n",
    "**age_quantile**: Показатель делит возраста на четыре равные части (квартили). При этом значение 1 соответствует самому нижнему квартилю (25% самых молодых), а 4 — самому верхнему квартилю (25% самых старых).\n",
    "\n",
    "**is_elderly**: Бинарный параметр показывает, превышает ли возраст заданный порог. Если да, то значение равно 1, в противном случае — 0.\n",
    "\n",
    "**age_density**: Оценка плотности вероятности для каждого возраста в датасете показывает, насколько \"обычным\" или \"редким\" является определенный возраст среди всех возрастов в датасете.\n",
    "\n",
    "**age_zscore**: Z-оценка для возраста показывает, на сколько стандартных отклонений конкретное значение возраста отклоняется от среднего значения возраста в ндатасете. Если Z-оценка положительна, возраст выше среднего, и наоборот."
   ]
  },
  {
   "cell_type": "code",
   "execution_count": 16,
   "metadata": {},
   "outputs": [],
   "source": [
    "from sklearn.base import BaseEstimator, TransformerMixin\n",
    "from scipy import stats\n",
    "\n",
    "class AgeStatisticsTransformer(BaseEstimator, TransformerMixin):\n",
    "    \"\"\"\n",
    "    Трансформер, создающий новые признаки:\n",
    "        - age_deviation_from_median\n",
    "        - age_percentile\n",
    "        - age_quantile\n",
    "        - is_elderly\n",
    "        - age_density\n",
    "        - age_zscore\n",
    "    \"\"\"\n",
    "\n",
    "    def __init__(self):\n",
    "        self.ages = None\n",
    "        self.mean_age = None\n",
    "        self.median_age = None\n",
    "        self.std_age = None\n",
    "\n",
    "    def fit(self, X, y=None):\n",
    "        \"\"\"\n",
    "        Запоминаем статистический данные обучающей выдорки.\n",
    "        \"\"\"\n",
    "        self.ages = X['age'].copy()  # копируем столбец возрастов\n",
    "        self.mean_age = X['age'].mean() # средний возраст\n",
    "        self.median_age = X['age'].median() # медианный возраст\n",
    "        self.std_age = X['age'].std()  # стандартное отклонение\n",
    "        \n",
    "        return self  # возвращаем себя для цепочки вызовов\n",
    "\n",
    "    def transform(self, X, y=None):\n",
    "        \"\"\"\n",
    "        Создаем новые признаки, сравнивая df с запомненными статистическими данными обучающей выборки.\n",
    "        \"\"\"\n",
    "        res_df = X.copy()  # Копируем датафрейм, чтобы не менять исходный\n",
    "\n",
    "        res_df['age_deviation_from_median'] = res_df['age'] - self.median_age\n",
    "        res_df['age_percentile'] = res_df['age'].apply(lambda x: stats.percentileofscore(self.ages, x))\n",
    "        \n",
    "        # TODO: восстановить вычисление квантилей\n",
    "        # res_df['age_quantile'] = pd.qcut(self.ages, q=4, labels=[1, 2, 3, 4])\n",
    "\n",
    "        threshold = 70\n",
    "        res_df['is_elderly'] = (res_df['age'] > threshold).astype('int8')\n",
    "\n",
    "        res_df['age_density'] = res_df['age'].apply(lambda x: float(stats.gaussian_kde(self.ages)(x)))\n",
    "\n",
    "        res_df['age_zscore'] = (res_df['age'] - self.mean_age) / self.std_age\n",
    "\n",
    "        return res_df"
   ]
  },
  {
   "cell_type": "markdown",
   "metadata": {
    "id": "NZXMeXuEX2od"
   },
   "source": [
    "## Cоздание дополнительные признаков"
   ]
  },
  {
   "cell_type": "code",
   "execution_count": 17,
   "metadata": {
    "ExecuteTime": {
     "end_time": "2023-09-13T15:30:33.886310Z",
     "start_time": "2023-09-13T15:30:33.881049Z"
    },
    "id": "iBzdFUggX2od"
   },
   "outputs": [],
   "source": [
    "# Функция Отклонение (лет) от критического возраста: critical_age_l - младше порога;\n",
    "# critical_age_h - старше порога\n",
    "\n",
    "critical_age_threshold = 40  # принятый порог критического возраста\n",
    "\n",
    "def add_critical_age(df,tr_age=critical_age_threshold):\n",
    "    if 'age' in df.columns and 'int' in df.age.dtype.name:\n",
    "        df['critical_age_l'] = df['age'].apply(lambda x: tr_age - x if x < tr_age else 0).astype('int8')\n",
    "        df['critical_age_h'] = df['age'].apply(lambda x: x - tr_age if x > tr_age else 0).astype('int8')\n",
    "    return df"
   ]
  },
  {
   "cell_type": "code",
   "execution_count": 18,
   "metadata": {
    "ExecuteTime": {
     "end_time": "2023-09-13T15:30:37.440187Z",
     "start_time": "2023-09-13T15:30:37.434175Z"
    },
    "id": "UfF4z1bIX2oe"
   },
   "outputs": [],
   "source": [
    "# Разбиение возраста по корзинам\n",
    "# Функция назначения номера возрастной группы по значению возраста\n",
    "\n",
    "def add_age_bins(df, ohe=True):\n",
    "    def bin_age_x(a):\n",
    "        x = a // 10\n",
    "        x = 9 if x > 9 else x\n",
    "        return x\n",
    "\n",
    "    if 'age' in df.columns and 'int' in df.age.dtype.name:\n",
    "        df['agebin']=df['age'].apply(lambda x: bin_age_x(x)).astype('int8')\n",
    "        df = pd.get_dummies(df, columns=['agebin'], drop_first=False) if ohe else df\n",
    "    return df"
   ]
  },
  {
   "cell_type": "markdown",
   "metadata": {
    "id": "7bzgJTwzX2oe"
   },
   "source": [
    "### Добавление названий имен знаков зодиака"
   ]
  },
  {
   "cell_type": "code",
   "execution_count": 19,
   "metadata": {
    "id": "mN8xwurL1o8f"
   },
   "outputs": [],
   "source": [
    "# Загрузка пакета и функции генерации\n",
    "\n",
    "from zodiac_sign import get_zodiac_sign"
   ]
  },
  {
   "cell_type": "code",
   "execution_count": 20,
   "metadata": {
    "ExecuteTime": {
     "end_time": "2023-09-13T15:31:55.679193Z",
     "start_time": "2023-09-13T15:31:55.674157Z"
    },
    "id": "DV3KJfVIX2of"
   },
   "outputs": [],
   "source": [
    "# Разбиение OHE по знакам зодиака\n",
    "\n",
    "def make_zodiac_ohe(df):\n",
    "    if 'birthdate' in df.columns:\n",
    "        df['zodiac'] = df['birthdate'].apply(lambda x: get_zodiac_sign(x))\n",
    "        df = pd.get_dummies(df, columns=['zodiac'], drop_first=False )\n",
    "    return df"
   ]
  },
  {
   "cell_type": "markdown",
   "metadata": {},
   "source": [
    "### Тренд МНО"
   ]
  },
  {
   "cell_type": "code",
   "execution_count": 21,
   "metadata": {},
   "outputs": [],
   "source": [
    "# Дополнительный признак (изменение МНО) (Андрей)\n",
    "\n",
    "def add_trend(df):\n",
    "    df['trend'] = df['INR(MHO)'] - df['prev_INR(MHO)']\n",
    "    return df"
   ]
  },
  {
   "cell_type": "markdown",
   "metadata": {},
   "source": [
    "### One Hot Encoding"
   ]
  },
  {
   "cell_type": "code",
   "execution_count": 22,
   "metadata": {},
   "outputs": [],
   "source": [
    "# Функция make_ohe_columns - развертывание значений категориальных колнок в One-Hot-Encoded векторы\n",
    "\n",
    "def make_ohe_columns(df):\n",
    "\n",
    "    # Список колонок для развертывания в OHE векторы\n",
    "    # features_to_ohe = ['gender', 'institution_id', 'abracadabra']  # test\n",
    "    features_to_ohe = ['gender', 'institution_id']\n",
    "\n",
    "    cols = [c for c in list(features_to_ohe) if c in df.columns]\n",
    "\n",
    "    return pd.get_dummies(df, columns=cols, drop_first=False)\n",
    "\n",
    "\n",
    "# test\n",
    "\n",
    "# clear_df = make_ohe_columns(df.copy())\n",
    "# clear_df.head(3)"
   ]
  },
  {
   "cell_type": "markdown",
   "metadata": {
    "id": "D0ol5BJacFJD"
   },
   "source": [
    "## Собираем пайплайн, сохраняющий все признаки\n",
    "Этот пайплайн удобен для анализа признаков."
   ]
  },
  {
   "cell_type": "code",
   "execution_count": 23,
   "metadata": {
    "colab": {
     "base_uri": "https://localhost:8080/",
     "height": 366
    },
    "id": "3F6XuQ5NUiB1",
    "outputId": "80443b61-6d05-4345-ddfa-f89384538202"
   },
   "outputs": [
    {
     "data": {
      "text/html": [
       "<style>#sk-container-id-1 {color: black;}#sk-container-id-1 pre{padding: 0;}#sk-container-id-1 div.sk-toggleable {background-color: white;}#sk-container-id-1 label.sk-toggleable__label {cursor: pointer;display: block;width: 100%;margin-bottom: 0;padding: 0.3em;box-sizing: border-box;text-align: center;}#sk-container-id-1 label.sk-toggleable__label-arrow:before {content: \"▸\";float: left;margin-right: 0.25em;color: #696969;}#sk-container-id-1 label.sk-toggleable__label-arrow:hover:before {color: black;}#sk-container-id-1 div.sk-estimator:hover label.sk-toggleable__label-arrow:before {color: black;}#sk-container-id-1 div.sk-toggleable__content {max-height: 0;max-width: 0;overflow: hidden;text-align: left;background-color: #f0f8ff;}#sk-container-id-1 div.sk-toggleable__content pre {margin: 0.2em;color: black;border-radius: 0.25em;background-color: #f0f8ff;}#sk-container-id-1 input.sk-toggleable__control:checked~div.sk-toggleable__content {max-height: 200px;max-width: 100%;overflow: auto;}#sk-container-id-1 input.sk-toggleable__control:checked~label.sk-toggleable__label-arrow:before {content: \"▾\";}#sk-container-id-1 div.sk-estimator input.sk-toggleable__control:checked~label.sk-toggleable__label {background-color: #d4ebff;}#sk-container-id-1 div.sk-label input.sk-toggleable__control:checked~label.sk-toggleable__label {background-color: #d4ebff;}#sk-container-id-1 input.sk-hidden--visually {border: 0;clip: rect(1px 1px 1px 1px);clip: rect(1px, 1px, 1px, 1px);height: 1px;margin: -1px;overflow: hidden;padding: 0;position: absolute;width: 1px;}#sk-container-id-1 div.sk-estimator {font-family: monospace;background-color: #f0f8ff;border: 1px dotted black;border-radius: 0.25em;box-sizing: border-box;margin-bottom: 0.5em;}#sk-container-id-1 div.sk-estimator:hover {background-color: #d4ebff;}#sk-container-id-1 div.sk-parallel-item::after {content: \"\";width: 100%;border-bottom: 1px solid gray;flex-grow: 1;}#sk-container-id-1 div.sk-label:hover label.sk-toggleable__label {background-color: #d4ebff;}#sk-container-id-1 div.sk-serial::before {content: \"\";position: absolute;border-left: 1px solid gray;box-sizing: border-box;top: 0;bottom: 0;left: 50%;z-index: 0;}#sk-container-id-1 div.sk-serial {display: flex;flex-direction: column;align-items: center;background-color: white;padding-right: 0.2em;padding-left: 0.2em;position: relative;}#sk-container-id-1 div.sk-item {position: relative;z-index: 1;}#sk-container-id-1 div.sk-parallel {display: flex;align-items: stretch;justify-content: center;background-color: white;position: relative;}#sk-container-id-1 div.sk-item::before, #sk-container-id-1 div.sk-parallel-item::before {content: \"\";position: absolute;border-left: 1px solid gray;box-sizing: border-box;top: 0;bottom: 0;left: 50%;z-index: -1;}#sk-container-id-1 div.sk-parallel-item {display: flex;flex-direction: column;z-index: 1;position: relative;background-color: white;}#sk-container-id-1 div.sk-parallel-item:first-child::after {align-self: flex-end;width: 50%;}#sk-container-id-1 div.sk-parallel-item:last-child::after {align-self: flex-start;width: 50%;}#sk-container-id-1 div.sk-parallel-item:only-child::after {width: 0;}#sk-container-id-1 div.sk-dashed-wrapped {border: 1px dashed gray;margin: 0 0.4em 0.5em 0.4em;box-sizing: border-box;padding-bottom: 0.4em;background-color: white;}#sk-container-id-1 div.sk-label label {font-family: monospace;font-weight: bold;display: inline-block;line-height: 1.2em;}#sk-container-id-1 div.sk-label-container {text-align: center;}#sk-container-id-1 div.sk-container {/* jupyter's `normalize.less` sets `[hidden] { display: none; }` but bootstrap.min.css set `[hidden] { display: none !important; }` so we also need the `!important` here to be able to override the default hidden behavior on the sphinx rendered scikit-learn.org. See: https://github.com/scikit-learn/scikit-learn/issues/21755 */display: inline-block !important;position: relative;}#sk-container-id-1 div.sk-text-repr-fallback {display: none;}</style><div id=\"sk-container-id-1\" class=\"sk-top-container\"><div class=\"sk-text-repr-fallback\"><pre>Pipeline(steps=[(&#x27;dropmissingdata&#x27;, DropMissingData()),\n",
       "                (&#x27;functiontransformer-1&#x27;,\n",
       "                 FunctionTransformer(func=&lt;function set_dtypes at 0x00000290DB5D71A0&gt;)),\n",
       "                (&#x27;functiontransformer-2&#x27;,\n",
       "                 FunctionTransformer(func=&lt;function remove_age_errors at 0x00000290C80DDBC0&gt;)),\n",
       "                (&#x27;functiontransformer-3&#x27;,\n",
       "                 FunctionTransformer(func=&lt;function add_date_from_1990 at 0x00000290B99BB060&gt;)),\n",
       "                (&#x27;...\n",
       "                 FunctionTransformer(func=&lt;function make_zodiac_ohe at 0x00000290DB7A8C20&gt;)),\n",
       "                (&#x27;functiontransformer-9&#x27;,\n",
       "                 FunctionTransformer(func=&lt;function add_trend at 0x00000290DB7A8E00&gt;)),\n",
       "                (&#x27;functiontransformer-10&#x27;,\n",
       "                 FunctionTransformer(func=&lt;function make_ohe_columns at 0x00000290DB7A8A40&gt;)),\n",
       "                (&#x27;functiontransformer-11&#x27;,\n",
       "                 FunctionTransformer(func=&lt;function bool_to_int8_in_df at 0x00000290DACB04A0&gt;))])</pre><b>In a Jupyter environment, please rerun this cell to show the HTML representation or trust the notebook. <br />On GitHub, the HTML representation is unable to render, please try loading this page with nbviewer.org.</b></div><div class=\"sk-container\" hidden><div class=\"sk-item sk-dashed-wrapped\"><div class=\"sk-label-container\"><div class=\"sk-label sk-toggleable\"><input class=\"sk-toggleable__control sk-hidden--visually\" id=\"sk-estimator-id-1\" type=\"checkbox\" ><label for=\"sk-estimator-id-1\" class=\"sk-toggleable__label sk-toggleable__label-arrow\">Pipeline</label><div class=\"sk-toggleable__content\"><pre>Pipeline(steps=[(&#x27;dropmissingdata&#x27;, DropMissingData()),\n",
       "                (&#x27;functiontransformer-1&#x27;,\n",
       "                 FunctionTransformer(func=&lt;function set_dtypes at 0x00000290DB5D71A0&gt;)),\n",
       "                (&#x27;functiontransformer-2&#x27;,\n",
       "                 FunctionTransformer(func=&lt;function remove_age_errors at 0x00000290C80DDBC0&gt;)),\n",
       "                (&#x27;functiontransformer-3&#x27;,\n",
       "                 FunctionTransformer(func=&lt;function add_date_from_1990 at 0x00000290B99BB060&gt;)),\n",
       "                (&#x27;...\n",
       "                 FunctionTransformer(func=&lt;function make_zodiac_ohe at 0x00000290DB7A8C20&gt;)),\n",
       "                (&#x27;functiontransformer-9&#x27;,\n",
       "                 FunctionTransformer(func=&lt;function add_trend at 0x00000290DB7A8E00&gt;)),\n",
       "                (&#x27;functiontransformer-10&#x27;,\n",
       "                 FunctionTransformer(func=&lt;function make_ohe_columns at 0x00000290DB7A8A40&gt;)),\n",
       "                (&#x27;functiontransformer-11&#x27;,\n",
       "                 FunctionTransformer(func=&lt;function bool_to_int8_in_df at 0x00000290DACB04A0&gt;))])</pre></div></div></div><div class=\"sk-serial\"><div class=\"sk-item\"><div class=\"sk-estimator sk-toggleable\"><input class=\"sk-toggleable__control sk-hidden--visually\" id=\"sk-estimator-id-2\" type=\"checkbox\" ><label for=\"sk-estimator-id-2\" class=\"sk-toggleable__label sk-toggleable__label-arrow\">DropMissingData</label><div class=\"sk-toggleable__content\"><pre>DropMissingData()</pre></div></div></div><div class=\"sk-item\"><div class=\"sk-estimator sk-toggleable\"><input class=\"sk-toggleable__control sk-hidden--visually\" id=\"sk-estimator-id-3\" type=\"checkbox\" ><label for=\"sk-estimator-id-3\" class=\"sk-toggleable__label sk-toggleable__label-arrow\">FunctionTransformer</label><div class=\"sk-toggleable__content\"><pre>FunctionTransformer(func=&lt;function set_dtypes at 0x00000290DB5D71A0&gt;)</pre></div></div></div><div class=\"sk-item\"><div class=\"sk-estimator sk-toggleable\"><input class=\"sk-toggleable__control sk-hidden--visually\" id=\"sk-estimator-id-4\" type=\"checkbox\" ><label for=\"sk-estimator-id-4\" class=\"sk-toggleable__label sk-toggleable__label-arrow\">FunctionTransformer</label><div class=\"sk-toggleable__content\"><pre>FunctionTransformer(func=&lt;function remove_age_errors at 0x00000290C80DDBC0&gt;)</pre></div></div></div><div class=\"sk-item\"><div class=\"sk-estimator sk-toggleable\"><input class=\"sk-toggleable__control sk-hidden--visually\" id=\"sk-estimator-id-5\" type=\"checkbox\" ><label for=\"sk-estimator-id-5\" class=\"sk-toggleable__label sk-toggleable__label-arrow\">FunctionTransformer</label><div class=\"sk-toggleable__content\"><pre>FunctionTransformer(func=&lt;function add_date_from_1990 at 0x00000290B99BB060&gt;)</pre></div></div></div><div class=\"sk-item\"><div class=\"sk-estimator sk-toggleable\"><input class=\"sk-toggleable__control sk-hidden--visually\" id=\"sk-estimator-id-6\" type=\"checkbox\" ><label for=\"sk-estimator-id-6\" class=\"sk-toggleable__label sk-toggleable__label-arrow\">FunctionTransformer</label><div class=\"sk-toggleable__content\"><pre>FunctionTransformer(func=&lt;function add_age_levels at 0x00000290C8036980&gt;)</pre></div></div></div><div class=\"sk-item\"><div class=\"sk-estimator sk-toggleable\"><input class=\"sk-toggleable__control sk-hidden--visually\" id=\"sk-estimator-id-7\" type=\"checkbox\" ><label for=\"sk-estimator-id-7\" class=\"sk-toggleable__label sk-toggleable__label-arrow\">FunctionTransformer</label><div class=\"sk-toggleable__content\"><pre>FunctionTransformer(func=&lt;function add_diagnosis_and_sss at 0x00000290C8036700&gt;)</pre></div></div></div><div class=\"sk-item\"><div class=\"sk-estimator sk-toggleable\"><input class=\"sk-toggleable__control sk-hidden--visually\" id=\"sk-estimator-id-8\" type=\"checkbox\" ><label for=\"sk-estimator-id-8\" class=\"sk-toggleable__label sk-toggleable__label-arrow\">AgeStatisticsTransformer</label><div class=\"sk-toggleable__content\"><pre>AgeStatisticsTransformer()</pre></div></div></div><div class=\"sk-item\"><div class=\"sk-estimator sk-toggleable\"><input class=\"sk-toggleable__control sk-hidden--visually\" id=\"sk-estimator-id-9\" type=\"checkbox\" ><label for=\"sk-estimator-id-9\" class=\"sk-toggleable__label sk-toggleable__label-arrow\">FunctionTransformer</label><div class=\"sk-toggleable__content\"><pre>FunctionTransformer(func=&lt;function add_critical_age at 0x00000290DB7A8900&gt;)</pre></div></div></div><div class=\"sk-item\"><div class=\"sk-estimator sk-toggleable\"><input class=\"sk-toggleable__control sk-hidden--visually\" id=\"sk-estimator-id-10\" type=\"checkbox\" ><label for=\"sk-estimator-id-10\" class=\"sk-toggleable__label sk-toggleable__label-arrow\">FunctionTransformer</label><div class=\"sk-toggleable__content\"><pre>FunctionTransformer(func=&lt;function add_age_bins at 0x00000290DB773060&gt;)</pre></div></div></div><div class=\"sk-item\"><div class=\"sk-estimator sk-toggleable\"><input class=\"sk-toggleable__control sk-hidden--visually\" id=\"sk-estimator-id-11\" type=\"checkbox\" ><label for=\"sk-estimator-id-11\" class=\"sk-toggleable__label sk-toggleable__label-arrow\">FunctionTransformer</label><div class=\"sk-toggleable__content\"><pre>FunctionTransformer(func=&lt;function make_zodiac_ohe at 0x00000290DB7A8C20&gt;)</pre></div></div></div><div class=\"sk-item\"><div class=\"sk-estimator sk-toggleable\"><input class=\"sk-toggleable__control sk-hidden--visually\" id=\"sk-estimator-id-12\" type=\"checkbox\" ><label for=\"sk-estimator-id-12\" class=\"sk-toggleable__label sk-toggleable__label-arrow\">FunctionTransformer</label><div class=\"sk-toggleable__content\"><pre>FunctionTransformer(func=&lt;function add_trend at 0x00000290DB7A8E00&gt;)</pre></div></div></div><div class=\"sk-item\"><div class=\"sk-estimator sk-toggleable\"><input class=\"sk-toggleable__control sk-hidden--visually\" id=\"sk-estimator-id-13\" type=\"checkbox\" ><label for=\"sk-estimator-id-13\" class=\"sk-toggleable__label sk-toggleable__label-arrow\">FunctionTransformer</label><div class=\"sk-toggleable__content\"><pre>FunctionTransformer(func=&lt;function make_ohe_columns at 0x00000290DB7A8A40&gt;)</pre></div></div></div><div class=\"sk-item\"><div class=\"sk-estimator sk-toggleable\"><input class=\"sk-toggleable__control sk-hidden--visually\" id=\"sk-estimator-id-14\" type=\"checkbox\" ><label for=\"sk-estimator-id-14\" class=\"sk-toggleable__label sk-toggleable__label-arrow\">FunctionTransformer</label><div class=\"sk-toggleable__content\"><pre>FunctionTransformer(func=&lt;function bool_to_int8_in_df at 0x00000290DACB04A0&gt;)</pre></div></div></div></div></div></div></div>"
      ],
      "text/plain": [
       "Pipeline(steps=[('dropmissingdata', DropMissingData()),\n",
       "                ('functiontransformer-1',\n",
       "                 FunctionTransformer(func=<function set_dtypes at 0x00000290DB5D71A0>)),\n",
       "                ('functiontransformer-2',\n",
       "                 FunctionTransformer(func=<function remove_age_errors at 0x00000290C80DDBC0>)),\n",
       "                ('functiontransformer-3',\n",
       "                 FunctionTransformer(func=<function add_date_from_1990 at 0x00000290B99BB060>)),\n",
       "                ('...\n",
       "                 FunctionTransformer(func=<function make_zodiac_ohe at 0x00000290DB7A8C20>)),\n",
       "                ('functiontransformer-9',\n",
       "                 FunctionTransformer(func=<function add_trend at 0x00000290DB7A8E00>)),\n",
       "                ('functiontransformer-10',\n",
       "                 FunctionTransformer(func=<function make_ohe_columns at 0x00000290DB7A8A40>)),\n",
       "                ('functiontransformer-11',\n",
       "                 FunctionTransformer(func=<function bool_to_int8_in_df at 0x00000290DACB04A0>))])"
      ]
     },
     "execution_count": 23,
     "metadata": {},
     "output_type": "execute_result"
    }
   ],
   "source": [
    "# Рецепт, по которому очищаем и обогащаем набор данных\n",
    "\n",
    "data_pipeline_wide = make_pipeline(\n",
    "    # очистка данных\n",
    "    DropMissingData(),\n",
    "    FunctionTransformer(set_dtypes),\n",
    "    FunctionTransformer(remove_age_errors),\n",
    "    \n",
    "    # добавление признаков\n",
    "    FunctionTransformer(add_date_from_1990),\n",
    "    FunctionTransformer(add_age_levels),\n",
    "    FunctionTransformer(add_diagnosis_and_sss),\n",
    "    AgeStatisticsTransformer(),\n",
    "    FunctionTransformer(add_critical_age),\n",
    "    FunctionTransformer(add_age_bins),\n",
    "    FunctionTransformer(make_zodiac_ohe),\n",
    "    FunctionTransformer(add_trend),\n",
    "    \n",
    "    # технический шаг - финализация\n",
    "    FunctionTransformer(make_ohe_columns),\n",
    "    FunctionTransformer(uai.data.bool_to_int8_in_df),\n",
    ")\n",
    "data_pipeline_wide"
   ]
  },
  {
   "cell_type": "code",
   "execution_count": 24,
   "metadata": {},
   "outputs": [
    {
     "name": "stderr",
     "output_type": "stream",
     "text": [
      "C:\\Users\\victk\\AppData\\Local\\Temp\\ipykernel_30900\\3529346521.py:47: DeprecationWarning: Conversion of an array with ndim > 0 to a scalar is deprecated, and will error in future. Ensure you extract a single element from your array before performing this operation. (Deprecated NumPy 1.25.)\n",
      "  res_df['age_density'] = res_df['age'].apply(lambda x: float(stats.gaussian_kde(self.ages)(x)))\n"
     ]
    }
   ],
   "source": [
    "# Настраиваем (fit) пайплайн (на обучающих данных!) и сохраняем его в файл\n",
    "\n",
    "train_df = pd.read_csv(ROOT_PATH / f'data/interim/train_{NOTEBOOK_ID}.csv')\n",
    "\n",
    "data_pipeline_wide.fit(train_df)\n",
    "with open(ROOT_PATH / f'models/data_pipeline_wide_{NOTEBOOK_ID}.dill', 'wb') as f:\n",
    "    dill.dump(data_pipeline_wide, f, recurse=True)"
   ]
  },
  {
   "cell_type": "code",
   "execution_count": 25,
   "metadata": {
    "colab": {
     "base_uri": "https://localhost:8080/",
     "height": 315
    },
    "id": "tK8qNhytckuH",
    "outputId": "d64f1f32-77bb-403f-e7e2-fb41f3f6d1e5"
   },
   "outputs": [
    {
     "name": "stderr",
     "output_type": "stream",
     "text": [
      "C:\\Users\\victk\\AppData\\Local\\Temp\\ipykernel_30900\\3529346521.py:47: DeprecationWarning: Conversion of an array with ndim > 0 to a scalar is deprecated, and will error in future. Ensure you extract a single element from your array before performing this operation. (Deprecated NumPy 1.25.)\n",
      "  res_df['age_density'] = res_df['age'].apply(lambda x: float(stats.gaussian_kde(self.ages)(x)))\n"
     ]
    },
    {
     "data": {
      "text/html": [
       "<div>\n",
       "<style scoped>\n",
       "    .dataframe tbody tr th:only-of-type {\n",
       "        vertical-align: middle;\n",
       "    }\n",
       "\n",
       "    .dataframe tbody tr th {\n",
       "        vertical-align: top;\n",
       "    }\n",
       "\n",
       "    .dataframe thead th {\n",
       "        text-align: right;\n",
       "    }\n",
       "</style>\n",
       "<table border=\"1\" class=\"dataframe\">\n",
       "  <thead>\n",
       "    <tr style=\"text-align: right;\">\n",
       "      <th></th>\n",
       "      <th>institution</th>\n",
       "      <th>id</th>\n",
       "      <th>age</th>\n",
       "      <th>dose</th>\n",
       "      <th>date_analyse</th>\n",
       "      <th>prev_INR(MHO)</th>\n",
       "      <th>atrial_fibrillation</th>\n",
       "      <th>mitral_valve</th>\n",
       "      <th>aortal_valve</th>\n",
       "      <th>date_diff</th>\n",
       "      <th>...</th>\n",
       "      <th>institution_id_13</th>\n",
       "      <th>institution_id_14</th>\n",
       "      <th>institution_id_15</th>\n",
       "      <th>institution_id_16</th>\n",
       "      <th>institution_id_21</th>\n",
       "      <th>institution_id_22</th>\n",
       "      <th>institution_id_24</th>\n",
       "      <th>institution_id_26</th>\n",
       "      <th>institution_id_27</th>\n",
       "      <th>institution_id_28</th>\n",
       "    </tr>\n",
       "  </thead>\n",
       "  <tbody>\n",
       "    <tr>\n",
       "      <th>71</th>\n",
       "      <td>ГБУЗ Раевская ЦРБ</td>\n",
       "      <td>140361892548784</td>\n",
       "      <td>62</td>\n",
       "      <td>3.75</td>\n",
       "      <td>2022-09-09</td>\n",
       "      <td>1.10</td>\n",
       "      <td>1</td>\n",
       "      <td>0</td>\n",
       "      <td>0</td>\n",
       "      <td>130.0</td>\n",
       "      <td>...</td>\n",
       "      <td>0</td>\n",
       "      <td>0</td>\n",
       "      <td>0</td>\n",
       "      <td>0</td>\n",
       "      <td>0</td>\n",
       "      <td>0</td>\n",
       "      <td>0</td>\n",
       "      <td>0</td>\n",
       "      <td>0</td>\n",
       "      <td>0</td>\n",
       "    </tr>\n",
       "    <tr>\n",
       "      <th>124</th>\n",
       "      <td>ГБУЗ Раевская ЦРБ</td>\n",
       "      <td>140361892560592</td>\n",
       "      <td>63</td>\n",
       "      <td>5.00</td>\n",
       "      <td>2022-08-03</td>\n",
       "      <td>1.10</td>\n",
       "      <td>1</td>\n",
       "      <td>0</td>\n",
       "      <td>0</td>\n",
       "      <td>99.0</td>\n",
       "      <td>...</td>\n",
       "      <td>0</td>\n",
       "      <td>0</td>\n",
       "      <td>0</td>\n",
       "      <td>0</td>\n",
       "      <td>0</td>\n",
       "      <td>0</td>\n",
       "      <td>0</td>\n",
       "      <td>0</td>\n",
       "      <td>0</td>\n",
       "      <td>0</td>\n",
       "    </tr>\n",
       "    <tr>\n",
       "      <th>125</th>\n",
       "      <td>KMRT</td>\n",
       "      <td>139797384393008</td>\n",
       "      <td>68</td>\n",
       "      <td>2.50</td>\n",
       "      <td>2022-09-15</td>\n",
       "      <td>1.48</td>\n",
       "      <td>1</td>\n",
       "      <td>0</td>\n",
       "      <td>0</td>\n",
       "      <td>63.0</td>\n",
       "      <td>...</td>\n",
       "      <td>0</td>\n",
       "      <td>0</td>\n",
       "      <td>0</td>\n",
       "      <td>0</td>\n",
       "      <td>0</td>\n",
       "      <td>0</td>\n",
       "      <td>0</td>\n",
       "      <td>0</td>\n",
       "      <td>0</td>\n",
       "      <td>0</td>\n",
       "    </tr>\n",
       "  </tbody>\n",
       "</table>\n",
       "<p>3 rows × 76 columns</p>\n",
       "</div>"
      ],
      "text/plain": [
       "            institution               id  age  dose date_analyse  \\\n",
       "71   ГБУЗ Раевская ЦРБ   140361892548784   62  3.75   2022-09-09   \n",
       "124  ГБУЗ Раевская ЦРБ   140361892560592   63  5.00   2022-08-03   \n",
       "125                KMRT  139797384393008   68  2.50   2022-09-15   \n",
       "\n",
       "     prev_INR(MHO)  atrial_fibrillation  mitral_valve  aortal_valve  \\\n",
       "71            1.10                    1             0             0   \n",
       "124           1.10                    1             0             0   \n",
       "125           1.48                    1             0             0   \n",
       "\n",
       "     date_diff  ...  institution_id_13  institution_id_14  institution_id_15  \\\n",
       "71       130.0  ...                  0                  0                  0   \n",
       "124       99.0  ...                  0                  0                  0   \n",
       "125       63.0  ...                  0                  0                  0   \n",
       "\n",
       "    institution_id_16 institution_id_21 institution_id_22  institution_id_24  \\\n",
       "71                  0                 0                 0                  0   \n",
       "124                 0                 0                 0                  0   \n",
       "125                 0                 0                 0                  0   \n",
       "\n",
       "     institution_id_26  institution_id_27  institution_id_28  \n",
       "71                   0                  0                  0  \n",
       "124                  0                  0                  0  \n",
       "125                  0                  0                  0  \n",
       "\n",
       "[3 rows x 76 columns]"
      ]
     },
     "execution_count": 25,
     "metadata": {},
     "output_type": "execute_result"
    }
   ],
   "source": [
    "# Преобразуем исходные данные согласно рецепту и сохраняем результат в файл\n",
    "\n",
    "df = uai.data.load_dataset(ROOT_PATH)\n",
    "data_wide = data_pipeline_wide.transform(df)\n",
    "\n",
    "data_wide.to_csv(ROOT_PATH / f'data/processed/data_wide_{NOTEBOOK_ID}.csv', index=False)\n",
    "data_wide.head(3)"
   ]
  },
  {
   "cell_type": "markdown",
   "metadata": {
    "id": "ujQpcyU6dFUN"
   },
   "source": [
    "# Полный pipeline, создающий данные для модели\n",
    "1. Создаем пайплайн\n",
    "2. Пропускаем через него исходные данные\n",
    "3. Сохраняем результат - данные, которые будут использоваться моделями\n",
    "\n",
    "\n"
   ]
  },
  {
   "cell_type": "code",
   "execution_count": 26,
   "metadata": {
    "id": "FvyXUOMXpSpj"
   },
   "outputs": [],
   "source": [
    "def remove_unrelated_features(df):\n",
    "    \"\"\"\n",
    "    Удаляем столбцы, которые не влияют на дозу варфарина или переведены\n",
    "    в иные числовые параметры.\n",
    "    \"\"\"\n",
    "    return df.drop(\n",
    "        ['institution', 'date_analyse', 'diagnos', 'sss', 'date_from_1990', 'birthdate'],\n",
    "        axis=1\n",
    "    )"
   ]
  },
  {
   "cell_type": "code",
   "execution_count": 27,
   "metadata": {},
   "outputs": [],
   "source": [
    "# Удаляем ненужные колонки (Андрей)\n",
    "\n",
    "def remove_features(df):\n",
    "    # Опытным путем проверено, что наибольшая точность получается, если удалить из X\n",
    "    # следующий набор колонок:\n",
    "    features2remove = ['pass_dose', 'sample', 'date_diff']\n",
    "    return df.drop(columns=features2remove, axis=1)"
   ]
  },
  {
   "cell_type": "code",
   "execution_count": 28,
   "metadata": {
    "colab": {
     "base_uri": "https://localhost:8080/",
     "height": 434
    },
    "id": "elUanr1zV0oD",
    "outputId": "2c0e794b-033b-415f-fe60-36138823688f"
   },
   "outputs": [
    {
     "name": "stderr",
     "output_type": "stream",
     "text": [
      "C:\\Users\\victk\\AppData\\Local\\Temp\\ipykernel_30900\\3529346521.py:47: DeprecationWarning: Conversion of an array with ndim > 0 to a scalar is deprecated, and will error in future. Ensure you extract a single element from your array before performing this operation. (Deprecated NumPy 1.25.)\n",
      "  res_df['age_density'] = res_df['age'].apply(lambda x: float(stats.gaussian_kde(self.ages)(x)))\n"
     ]
    },
    {
     "data": {
      "text/html": [
       "<style>#sk-container-id-2 {color: black;}#sk-container-id-2 pre{padding: 0;}#sk-container-id-2 div.sk-toggleable {background-color: white;}#sk-container-id-2 label.sk-toggleable__label {cursor: pointer;display: block;width: 100%;margin-bottom: 0;padding: 0.3em;box-sizing: border-box;text-align: center;}#sk-container-id-2 label.sk-toggleable__label-arrow:before {content: \"▸\";float: left;margin-right: 0.25em;color: #696969;}#sk-container-id-2 label.sk-toggleable__label-arrow:hover:before {color: black;}#sk-container-id-2 div.sk-estimator:hover label.sk-toggleable__label-arrow:before {color: black;}#sk-container-id-2 div.sk-toggleable__content {max-height: 0;max-width: 0;overflow: hidden;text-align: left;background-color: #f0f8ff;}#sk-container-id-2 div.sk-toggleable__content pre {margin: 0.2em;color: black;border-radius: 0.25em;background-color: #f0f8ff;}#sk-container-id-2 input.sk-toggleable__control:checked~div.sk-toggleable__content {max-height: 200px;max-width: 100%;overflow: auto;}#sk-container-id-2 input.sk-toggleable__control:checked~label.sk-toggleable__label-arrow:before {content: \"▾\";}#sk-container-id-2 div.sk-estimator input.sk-toggleable__control:checked~label.sk-toggleable__label {background-color: #d4ebff;}#sk-container-id-2 div.sk-label input.sk-toggleable__control:checked~label.sk-toggleable__label {background-color: #d4ebff;}#sk-container-id-2 input.sk-hidden--visually {border: 0;clip: rect(1px 1px 1px 1px);clip: rect(1px, 1px, 1px, 1px);height: 1px;margin: -1px;overflow: hidden;padding: 0;position: absolute;width: 1px;}#sk-container-id-2 div.sk-estimator {font-family: monospace;background-color: #f0f8ff;border: 1px dotted black;border-radius: 0.25em;box-sizing: border-box;margin-bottom: 0.5em;}#sk-container-id-2 div.sk-estimator:hover {background-color: #d4ebff;}#sk-container-id-2 div.sk-parallel-item::after {content: \"\";width: 100%;border-bottom: 1px solid gray;flex-grow: 1;}#sk-container-id-2 div.sk-label:hover label.sk-toggleable__label {background-color: #d4ebff;}#sk-container-id-2 div.sk-serial::before {content: \"\";position: absolute;border-left: 1px solid gray;box-sizing: border-box;top: 0;bottom: 0;left: 50%;z-index: 0;}#sk-container-id-2 div.sk-serial {display: flex;flex-direction: column;align-items: center;background-color: white;padding-right: 0.2em;padding-left: 0.2em;position: relative;}#sk-container-id-2 div.sk-item {position: relative;z-index: 1;}#sk-container-id-2 div.sk-parallel {display: flex;align-items: stretch;justify-content: center;background-color: white;position: relative;}#sk-container-id-2 div.sk-item::before, #sk-container-id-2 div.sk-parallel-item::before {content: \"\";position: absolute;border-left: 1px solid gray;box-sizing: border-box;top: 0;bottom: 0;left: 50%;z-index: -1;}#sk-container-id-2 div.sk-parallel-item {display: flex;flex-direction: column;z-index: 1;position: relative;background-color: white;}#sk-container-id-2 div.sk-parallel-item:first-child::after {align-self: flex-end;width: 50%;}#sk-container-id-2 div.sk-parallel-item:last-child::after {align-self: flex-start;width: 50%;}#sk-container-id-2 div.sk-parallel-item:only-child::after {width: 0;}#sk-container-id-2 div.sk-dashed-wrapped {border: 1px dashed gray;margin: 0 0.4em 0.5em 0.4em;box-sizing: border-box;padding-bottom: 0.4em;background-color: white;}#sk-container-id-2 div.sk-label label {font-family: monospace;font-weight: bold;display: inline-block;line-height: 1.2em;}#sk-container-id-2 div.sk-label-container {text-align: center;}#sk-container-id-2 div.sk-container {/* jupyter's `normalize.less` sets `[hidden] { display: none; }` but bootstrap.min.css set `[hidden] { display: none !important; }` so we also need the `!important` here to be able to override the default hidden behavior on the sphinx rendered scikit-learn.org. See: https://github.com/scikit-learn/scikit-learn/issues/21755 */display: inline-block !important;position: relative;}#sk-container-id-2 div.sk-text-repr-fallback {display: none;}</style><div id=\"sk-container-id-2\" class=\"sk-top-container\"><div class=\"sk-text-repr-fallback\"><pre>Pipeline(steps=[(&#x27;dropmissingdata&#x27;, DropMissingData()),\n",
       "                (&#x27;functiontransformer-1&#x27;,\n",
       "                 FunctionTransformer(func=&lt;function set_dtypes at 0x00000290DB5D71A0&gt;)),\n",
       "                (&#x27;functiontransformer-2&#x27;,\n",
       "                 FunctionTransformer(func=&lt;function remove_age_errors at 0x00000290C80DDBC0&gt;)),\n",
       "                (&#x27;functiontransformer-3&#x27;,\n",
       "                 FunctionTransformer(func=&lt;function add_date_from_1990 at 0x00000290B99BB060&gt;)),\n",
       "                (&#x27;...\n",
       "                 FunctionTransformer(func=&lt;function add_trend at 0x00000290DB7A8E00&gt;)),\n",
       "                (&#x27;functiontransformer-10&#x27;,\n",
       "                 FunctionTransformer(func=&lt;function make_ohe_columns at 0x00000290DB7A8A40&gt;)),\n",
       "                (&#x27;functiontransformer-11&#x27;,\n",
       "                 FunctionTransformer(func=&lt;function bool_to_int8_in_df at 0x00000290DACB04A0&gt;)),\n",
       "                (&#x27;functiontransformer-12&#x27;,\n",
       "                 FunctionTransformer(func=&lt;function remove_unrelated_features at 0x00000290C80DCAE0&gt;))])</pre><b>In a Jupyter environment, please rerun this cell to show the HTML representation or trust the notebook. <br />On GitHub, the HTML representation is unable to render, please try loading this page with nbviewer.org.</b></div><div class=\"sk-container\" hidden><div class=\"sk-item sk-dashed-wrapped\"><div class=\"sk-label-container\"><div class=\"sk-label sk-toggleable\"><input class=\"sk-toggleable__control sk-hidden--visually\" id=\"sk-estimator-id-15\" type=\"checkbox\" ><label for=\"sk-estimator-id-15\" class=\"sk-toggleable__label sk-toggleable__label-arrow\">Pipeline</label><div class=\"sk-toggleable__content\"><pre>Pipeline(steps=[(&#x27;dropmissingdata&#x27;, DropMissingData()),\n",
       "                (&#x27;functiontransformer-1&#x27;,\n",
       "                 FunctionTransformer(func=&lt;function set_dtypes at 0x00000290DB5D71A0&gt;)),\n",
       "                (&#x27;functiontransformer-2&#x27;,\n",
       "                 FunctionTransformer(func=&lt;function remove_age_errors at 0x00000290C80DDBC0&gt;)),\n",
       "                (&#x27;functiontransformer-3&#x27;,\n",
       "                 FunctionTransformer(func=&lt;function add_date_from_1990 at 0x00000290B99BB060&gt;)),\n",
       "                (&#x27;...\n",
       "                 FunctionTransformer(func=&lt;function add_trend at 0x00000290DB7A8E00&gt;)),\n",
       "                (&#x27;functiontransformer-10&#x27;,\n",
       "                 FunctionTransformer(func=&lt;function make_ohe_columns at 0x00000290DB7A8A40&gt;)),\n",
       "                (&#x27;functiontransformer-11&#x27;,\n",
       "                 FunctionTransformer(func=&lt;function bool_to_int8_in_df at 0x00000290DACB04A0&gt;)),\n",
       "                (&#x27;functiontransformer-12&#x27;,\n",
       "                 FunctionTransformer(func=&lt;function remove_unrelated_features at 0x00000290C80DCAE0&gt;))])</pre></div></div></div><div class=\"sk-serial\"><div class=\"sk-item\"><div class=\"sk-estimator sk-toggleable\"><input class=\"sk-toggleable__control sk-hidden--visually\" id=\"sk-estimator-id-16\" type=\"checkbox\" ><label for=\"sk-estimator-id-16\" class=\"sk-toggleable__label sk-toggleable__label-arrow\">DropMissingData</label><div class=\"sk-toggleable__content\"><pre>DropMissingData()</pre></div></div></div><div class=\"sk-item\"><div class=\"sk-estimator sk-toggleable\"><input class=\"sk-toggleable__control sk-hidden--visually\" id=\"sk-estimator-id-17\" type=\"checkbox\" ><label for=\"sk-estimator-id-17\" class=\"sk-toggleable__label sk-toggleable__label-arrow\">FunctionTransformer</label><div class=\"sk-toggleable__content\"><pre>FunctionTransformer(func=&lt;function set_dtypes at 0x00000290DB5D71A0&gt;)</pre></div></div></div><div class=\"sk-item\"><div class=\"sk-estimator sk-toggleable\"><input class=\"sk-toggleable__control sk-hidden--visually\" id=\"sk-estimator-id-18\" type=\"checkbox\" ><label for=\"sk-estimator-id-18\" class=\"sk-toggleable__label sk-toggleable__label-arrow\">FunctionTransformer</label><div class=\"sk-toggleable__content\"><pre>FunctionTransformer(func=&lt;function remove_age_errors at 0x00000290C80DDBC0&gt;)</pre></div></div></div><div class=\"sk-item\"><div class=\"sk-estimator sk-toggleable\"><input class=\"sk-toggleable__control sk-hidden--visually\" id=\"sk-estimator-id-19\" type=\"checkbox\" ><label for=\"sk-estimator-id-19\" class=\"sk-toggleable__label sk-toggleable__label-arrow\">FunctionTransformer</label><div class=\"sk-toggleable__content\"><pre>FunctionTransformer(func=&lt;function add_date_from_1990 at 0x00000290B99BB060&gt;)</pre></div></div></div><div class=\"sk-item\"><div class=\"sk-estimator sk-toggleable\"><input class=\"sk-toggleable__control sk-hidden--visually\" id=\"sk-estimator-id-20\" type=\"checkbox\" ><label for=\"sk-estimator-id-20\" class=\"sk-toggleable__label sk-toggleable__label-arrow\">FunctionTransformer</label><div class=\"sk-toggleable__content\"><pre>FunctionTransformer(func=&lt;function add_age_levels at 0x00000290C8036980&gt;)</pre></div></div></div><div class=\"sk-item\"><div class=\"sk-estimator sk-toggleable\"><input class=\"sk-toggleable__control sk-hidden--visually\" id=\"sk-estimator-id-21\" type=\"checkbox\" ><label for=\"sk-estimator-id-21\" class=\"sk-toggleable__label sk-toggleable__label-arrow\">FunctionTransformer</label><div class=\"sk-toggleable__content\"><pre>FunctionTransformer(func=&lt;function add_diagnosis_and_sss at 0x00000290C8036700&gt;)</pre></div></div></div><div class=\"sk-item\"><div class=\"sk-estimator sk-toggleable\"><input class=\"sk-toggleable__control sk-hidden--visually\" id=\"sk-estimator-id-22\" type=\"checkbox\" ><label for=\"sk-estimator-id-22\" class=\"sk-toggleable__label sk-toggleable__label-arrow\">AgeStatisticsTransformer</label><div class=\"sk-toggleable__content\"><pre>AgeStatisticsTransformer()</pre></div></div></div><div class=\"sk-item\"><div class=\"sk-estimator sk-toggleable\"><input class=\"sk-toggleable__control sk-hidden--visually\" id=\"sk-estimator-id-23\" type=\"checkbox\" ><label for=\"sk-estimator-id-23\" class=\"sk-toggleable__label sk-toggleable__label-arrow\">FunctionTransformer</label><div class=\"sk-toggleable__content\"><pre>FunctionTransformer(func=&lt;function add_critical_age at 0x00000290DB7A8900&gt;)</pre></div></div></div><div class=\"sk-item\"><div class=\"sk-estimator sk-toggleable\"><input class=\"sk-toggleable__control sk-hidden--visually\" id=\"sk-estimator-id-24\" type=\"checkbox\" ><label for=\"sk-estimator-id-24\" class=\"sk-toggleable__label sk-toggleable__label-arrow\">FunctionTransformer</label><div class=\"sk-toggleable__content\"><pre>FunctionTransformer(func=&lt;function add_age_bins at 0x00000290DB773060&gt;)</pre></div></div></div><div class=\"sk-item\"><div class=\"sk-estimator sk-toggleable\"><input class=\"sk-toggleable__control sk-hidden--visually\" id=\"sk-estimator-id-25\" type=\"checkbox\" ><label for=\"sk-estimator-id-25\" class=\"sk-toggleable__label sk-toggleable__label-arrow\">FunctionTransformer</label><div class=\"sk-toggleable__content\"><pre>FunctionTransformer(func=&lt;function make_zodiac_ohe at 0x00000290DB7A8C20&gt;)</pre></div></div></div><div class=\"sk-item\"><div class=\"sk-estimator sk-toggleable\"><input class=\"sk-toggleable__control sk-hidden--visually\" id=\"sk-estimator-id-26\" type=\"checkbox\" ><label for=\"sk-estimator-id-26\" class=\"sk-toggleable__label sk-toggleable__label-arrow\">FunctionTransformer</label><div class=\"sk-toggleable__content\"><pre>FunctionTransformer(func=&lt;function add_trend at 0x00000290DB7A8E00&gt;)</pre></div></div></div><div class=\"sk-item\"><div class=\"sk-estimator sk-toggleable\"><input class=\"sk-toggleable__control sk-hidden--visually\" id=\"sk-estimator-id-27\" type=\"checkbox\" ><label for=\"sk-estimator-id-27\" class=\"sk-toggleable__label sk-toggleable__label-arrow\">FunctionTransformer</label><div class=\"sk-toggleable__content\"><pre>FunctionTransformer(func=&lt;function make_ohe_columns at 0x00000290DB7A8A40&gt;)</pre></div></div></div><div class=\"sk-item\"><div class=\"sk-estimator sk-toggleable\"><input class=\"sk-toggleable__control sk-hidden--visually\" id=\"sk-estimator-id-28\" type=\"checkbox\" ><label for=\"sk-estimator-id-28\" class=\"sk-toggleable__label sk-toggleable__label-arrow\">FunctionTransformer</label><div class=\"sk-toggleable__content\"><pre>FunctionTransformer(func=&lt;function bool_to_int8_in_df at 0x00000290DACB04A0&gt;)</pre></div></div></div><div class=\"sk-item\"><div class=\"sk-estimator sk-toggleable\"><input class=\"sk-toggleable__control sk-hidden--visually\" id=\"sk-estimator-id-29\" type=\"checkbox\" ><label for=\"sk-estimator-id-29\" class=\"sk-toggleable__label sk-toggleable__label-arrow\">FunctionTransformer</label><div class=\"sk-toggleable__content\"><pre>FunctionTransformer(func=&lt;function remove_unrelated_features at 0x00000290C80DCAE0&gt;)</pre></div></div></div></div></div></div></div>"
      ],
      "text/plain": [
       "Pipeline(steps=[('dropmissingdata', DropMissingData()),\n",
       "                ('functiontransformer-1',\n",
       "                 FunctionTransformer(func=<function set_dtypes at 0x00000290DB5D71A0>)),\n",
       "                ('functiontransformer-2',\n",
       "                 FunctionTransformer(func=<function remove_age_errors at 0x00000290C80DDBC0>)),\n",
       "                ('functiontransformer-3',\n",
       "                 FunctionTransformer(func=<function add_date_from_1990 at 0x00000290B99BB060>)),\n",
       "                ('...\n",
       "                 FunctionTransformer(func=<function add_trend at 0x00000290DB7A8E00>)),\n",
       "                ('functiontransformer-10',\n",
       "                 FunctionTransformer(func=<function make_ohe_columns at 0x00000290DB7A8A40>)),\n",
       "                ('functiontransformer-11',\n",
       "                 FunctionTransformer(func=<function bool_to_int8_in_df at 0x00000290DACB04A0>)),\n",
       "                ('functiontransformer-12',\n",
       "                 FunctionTransformer(func=<function remove_unrelated_features at 0x00000290C80DCAE0>))])"
      ]
     },
     "execution_count": 28,
     "metadata": {},
     "output_type": "execute_result"
    }
   ],
   "source": [
    "data_pipeline = make_pipeline(\n",
    "    *data_pipeline_wide,\n",
    "    FunctionTransformer(remove_unrelated_features),\n",
    "    # FunctionTransformer(remove_features, kw_args={'column_names': features_to_remove}),\n",
    "\n",
    ")\n",
    "\n",
    "# Настраиваем (fit) пайплайн и сохраняем его в файл\n",
    "data_pipeline.fit(df)\n",
    "with open(ROOT_PATH / f'models/data_pipeline_{NOTEBOOK_ID}.dill', 'wb') as f:\n",
    "    dill.dump(data_pipeline, f, recurse=True)\n",
    "\n",
    "data_pipeline"
   ]
  },
  {
   "cell_type": "code",
   "execution_count": 29,
   "metadata": {
    "colab": {
     "base_uri": "https://localhost:8080/",
     "height": 211
    },
    "id": "drTAE_tHbMax",
    "outputId": "2e4f7bd5-2154-42d4-c9cc-def662bdc97b"
   },
   "outputs": [
    {
     "name": "stderr",
     "output_type": "stream",
     "text": [
      "C:\\Users\\victk\\AppData\\Local\\Temp\\ipykernel_30900\\3529346521.py:47: DeprecationWarning: Conversion of an array with ndim > 0 to a scalar is deprecated, and will error in future. Ensure you extract a single element from your array before performing this operation. (Deprecated NumPy 1.25.)\n",
      "  res_df['age_density'] = res_df['age'].apply(lambda x: float(stats.gaussian_kde(self.ages)(x)))\n"
     ]
    },
    {
     "data": {
      "text/html": [
       "<div>\n",
       "<style scoped>\n",
       "    .dataframe tbody tr th:only-of-type {\n",
       "        vertical-align: middle;\n",
       "    }\n",
       "\n",
       "    .dataframe tbody tr th {\n",
       "        vertical-align: top;\n",
       "    }\n",
       "\n",
       "    .dataframe thead th {\n",
       "        text-align: right;\n",
       "    }\n",
       "</style>\n",
       "<table border=\"1\" class=\"dataframe\">\n",
       "  <thead>\n",
       "    <tr style=\"text-align: right;\">\n",
       "      <th></th>\n",
       "      <th>id</th>\n",
       "      <th>age</th>\n",
       "      <th>dose</th>\n",
       "      <th>prev_INR(MHO)</th>\n",
       "      <th>atrial_fibrillation</th>\n",
       "      <th>mitral_valve</th>\n",
       "      <th>aortal_valve</th>\n",
       "      <th>date_diff</th>\n",
       "      <th>INR(MHO)</th>\n",
       "      <th>sample</th>\n",
       "      <th>...</th>\n",
       "      <th>institution_id_13</th>\n",
       "      <th>institution_id_14</th>\n",
       "      <th>institution_id_15</th>\n",
       "      <th>institution_id_16</th>\n",
       "      <th>institution_id_21</th>\n",
       "      <th>institution_id_22</th>\n",
       "      <th>institution_id_24</th>\n",
       "      <th>institution_id_26</th>\n",
       "      <th>institution_id_27</th>\n",
       "      <th>institution_id_28</th>\n",
       "    </tr>\n",
       "  </thead>\n",
       "  <tbody>\n",
       "    <tr>\n",
       "      <th>71</th>\n",
       "      <td>140361892548784</td>\n",
       "      <td>62</td>\n",
       "      <td>3.75</td>\n",
       "      <td>1.10</td>\n",
       "      <td>1</td>\n",
       "      <td>0</td>\n",
       "      <td>0</td>\n",
       "      <td>130.0</td>\n",
       "      <td>2.10</td>\n",
       "      <td>1</td>\n",
       "      <td>...</td>\n",
       "      <td>0</td>\n",
       "      <td>0</td>\n",
       "      <td>0</td>\n",
       "      <td>0</td>\n",
       "      <td>0</td>\n",
       "      <td>0</td>\n",
       "      <td>0</td>\n",
       "      <td>0</td>\n",
       "      <td>0</td>\n",
       "      <td>0</td>\n",
       "    </tr>\n",
       "    <tr>\n",
       "      <th>124</th>\n",
       "      <td>140361892560592</td>\n",
       "      <td>63</td>\n",
       "      <td>5.00</td>\n",
       "      <td>1.10</td>\n",
       "      <td>1</td>\n",
       "      <td>0</td>\n",
       "      <td>0</td>\n",
       "      <td>99.0</td>\n",
       "      <td>3.20</td>\n",
       "      <td>1</td>\n",
       "      <td>...</td>\n",
       "      <td>0</td>\n",
       "      <td>0</td>\n",
       "      <td>0</td>\n",
       "      <td>0</td>\n",
       "      <td>0</td>\n",
       "      <td>0</td>\n",
       "      <td>0</td>\n",
       "      <td>0</td>\n",
       "      <td>0</td>\n",
       "      <td>0</td>\n",
       "    </tr>\n",
       "    <tr>\n",
       "      <th>125</th>\n",
       "      <td>139797384393008</td>\n",
       "      <td>68</td>\n",
       "      <td>2.50</td>\n",
       "      <td>1.48</td>\n",
       "      <td>1</td>\n",
       "      <td>0</td>\n",
       "      <td>0</td>\n",
       "      <td>63.0</td>\n",
       "      <td>2.59</td>\n",
       "      <td>1</td>\n",
       "      <td>...</td>\n",
       "      <td>0</td>\n",
       "      <td>0</td>\n",
       "      <td>0</td>\n",
       "      <td>0</td>\n",
       "      <td>0</td>\n",
       "      <td>0</td>\n",
       "      <td>0</td>\n",
       "      <td>0</td>\n",
       "      <td>0</td>\n",
       "      <td>0</td>\n",
       "    </tr>\n",
       "  </tbody>\n",
       "</table>\n",
       "<p>3 rows × 70 columns</p>\n",
       "</div>"
      ],
      "text/plain": [
       "                  id  age  dose  prev_INR(MHO)  atrial_fibrillation  \\\n",
       "71   140361892548784   62  3.75           1.10                    1   \n",
       "124  140361892560592   63  5.00           1.10                    1   \n",
       "125  139797384393008   68  2.50           1.48                    1   \n",
       "\n",
       "     mitral_valve  aortal_valve  date_diff  INR(MHO)  sample  ...  \\\n",
       "71              0             0      130.0      2.10       1  ...   \n",
       "124             0             0       99.0      3.20       1  ...   \n",
       "125             0             0       63.0      2.59       1  ...   \n",
       "\n",
       "     institution_id_13  institution_id_14  institution_id_15  \\\n",
       "71                   0                  0                  0   \n",
       "124                  0                  0                  0   \n",
       "125                  0                  0                  0   \n",
       "\n",
       "     institution_id_16  institution_id_21  institution_id_22  \\\n",
       "71                   0                  0                  0   \n",
       "124                  0                  0                  0   \n",
       "125                  0                  0                  0   \n",
       "\n",
       "     institution_id_24  institution_id_26  institution_id_27  \\\n",
       "71                   0                  0                  0   \n",
       "124                  0                  0                  0   \n",
       "125                  0                  0                  0   \n",
       "\n",
       "     institution_id_28  \n",
       "71                   0  \n",
       "124                  0  \n",
       "125                  0  \n",
       "\n",
       "[3 rows x 70 columns]"
      ]
     },
     "execution_count": 29,
     "metadata": {},
     "output_type": "execute_result"
    }
   ],
   "source": [
    "# Пропускаем исходные данные через сконструированный выше пайплайн.\n",
    "# Результат будем использовать для обучения моделей.\n",
    "\n",
    "# Загружаем данные из файла (для надежности)\n",
    "df = uai.data.load_dataset(ROOT_PATH)\n",
    "data_for_model = data_pipeline.transform(df)\n",
    "\n",
    "data_for_model.to_csv(ROOT_PATH / f'data/processed/data_for_model_{NOTEBOOK_ID}.csv', index=False)\n",
    "data_for_model.head(3)"
   ]
  },
  {
   "cell_type": "code",
   "execution_count": 30,
   "metadata": {},
   "outputs": [
    {
     "name": "stdout",
     "output_type": "stream",
     "text": [
      "<class 'pandas.core.frame.DataFrame'>\n",
      "Index: 422 entries, 71 to 1445\n",
      "Data columns (total 70 columns):\n",
      " #   Column                     Non-Null Count  Dtype  \n",
      "---  ------                     --------------  -----  \n",
      " 0   id                         422 non-null    int64  \n",
      " 1   age                        422 non-null    int64  \n",
      " 2   dose                       422 non-null    float64\n",
      " 3   prev_INR(MHO)              422 non-null    float64\n",
      " 4   atrial_fibrillation        422 non-null    int64  \n",
      " 5   mitral_valve               422 non-null    int64  \n",
      " 6   aortal_valve               422 non-null    int64  \n",
      " 7   date_diff                  422 non-null    float64\n",
      " 8   INR(MHO)                   422 non-null    float64\n",
      " 9   sample                     422 non-null    int64  \n",
      " 10  pass_dose                  422 non-null    int64  \n",
      " 11  age_level                  422 non-null    int64  \n",
      " 12  age_level1                 422 non-null    int64  \n",
      " 13  age_level2                 422 non-null    int64  \n",
      " 14  age_level3                 422 non-null    int64  \n",
      " 15  age_level4                 422 non-null    int64  \n",
      " 16  age_level5                 422 non-null    int64  \n",
      " 17  age_level6                 422 non-null    int32  \n",
      " 18  d1                         422 non-null    int64  \n",
      " 19  d2                         422 non-null    int64  \n",
      " 20  d3                         422 non-null    int64  \n",
      " 21  d4                         422 non-null    int64  \n",
      " 22  d5                         422 non-null    int64  \n",
      " 23  d6                         422 non-null    int64  \n",
      " 24  d7                         422 non-null    int64  \n",
      " 25  d8                         422 non-null    int64  \n",
      " 26  age_deviation_from_median  422 non-null    float64\n",
      " 27  age_percentile             422 non-null    float64\n",
      " 28  is_elderly                 422 non-null    int8   \n",
      " 29  age_density                422 non-null    float64\n",
      " 30  age_zscore                 422 non-null    float64\n",
      " 31  critical_age_l             422 non-null    int8   \n",
      " 32  critical_age_h             422 non-null    int8   \n",
      " 33  agebin_3                   422 non-null    int8   \n",
      " 34  agebin_4                   422 non-null    int8   \n",
      " 35  agebin_5                   422 non-null    int8   \n",
      " 36  agebin_6                   422 non-null    int8   \n",
      " 37  agebin_7                   422 non-null    int8   \n",
      " 38  agebin_8                   422 non-null    int8   \n",
      " 39  zodiac_Aquarius            422 non-null    int8   \n",
      " 40  zodiac_Aries               422 non-null    int8   \n",
      " 41  zodiac_Cancer              422 non-null    int8   \n",
      " 42  zodiac_Capricorn           422 non-null    int8   \n",
      " 43  zodiac_Gemini              422 non-null    int8   \n",
      " 44  zodiac_Leo                 422 non-null    int8   \n",
      " 45  zodiac_Libra               422 non-null    int8   \n",
      " 46  zodiac_Pisces              422 non-null    int8   \n",
      " 47  zodiac_Sagittarius         422 non-null    int8   \n",
      " 48  zodiac_Scorpio             422 non-null    int8   \n",
      " 49  zodiac_Taurus              422 non-null    int8   \n",
      " 50  zodiac_Virgo               422 non-null    int8   \n",
      " 51  trend                      422 non-null    float64\n",
      " 52  gender_0                   422 non-null    int8   \n",
      " 53  gender_1                   422 non-null    int8   \n",
      " 54  institution_id_1           422 non-null    int8   \n",
      " 55  institution_id_5           422 non-null    int8   \n",
      " 56  institution_id_6           422 non-null    int8   \n",
      " 57  institution_id_8           422 non-null    int8   \n",
      " 58  institution_id_9           422 non-null    int8   \n",
      " 59  institution_id_11          422 non-null    int8   \n",
      " 60  institution_id_13          422 non-null    int8   \n",
      " 61  institution_id_14          422 non-null    int8   \n",
      " 62  institution_id_15          422 non-null    int8   \n",
      " 63  institution_id_16          422 non-null    int8   \n",
      " 64  institution_id_21          422 non-null    int8   \n",
      " 65  institution_id_22          422 non-null    int8   \n",
      " 66  institution_id_24          422 non-null    int8   \n",
      " 67  institution_id_26          422 non-null    int8   \n",
      " 68  institution_id_27          422 non-null    int8   \n",
      " 69  institution_id_28          422 non-null    int8   \n",
      "dtypes: float64(9), int32(1), int64(21), int8(39)\n",
      "memory usage: 119.9 KB\n"
     ]
    }
   ],
   "source": [
    "data_for_model.info()"
   ]
  },
  {
   "cell_type": "code",
   "execution_count": 31,
   "metadata": {},
   "outputs": [
    {
     "name": "stdout",
     "output_type": "stream",
     "text": [
      "Ноутбук завершен: 2023-11-07 19:55:07.606039\n"
     ]
    }
   ],
   "source": [
    "# Если ничего не напечаталось - то не дошли сюда, и где-то в ноутбуке ошибка\n",
    "import datetime as dt\n",
    "print('Ноутбук завершен:', dt.datetime.now())"
   ]
  }
 ],
 "metadata": {
  "colab": {
   "collapsed_sections": [
    "Mpfw2g_1OcZe",
    "000xtHgovtIH",
    "C5F_2Pgcw17O",
    "sKoFBmRPQwkb",
    "GAadQfNiYQtn"
   ],
   "provenance": [],
   "toc_visible": true
  },
  "kernelspec": {
   "display_name": "Python 3 (ipykernel)",
   "language": "python",
   "name": "python3"
  },
  "language_info": {
   "codemirror_mode": {
    "name": "ipython",
    "version": 3
   },
   "file_extension": ".py",
   "mimetype": "text/x-python",
   "name": "python",
   "nbconvert_exporter": "python",
   "pygments_lexer": "ipython3",
   "version": "3.11.6"
  },
  "toc": {
   "base_numbering": 1,
   "nav_menu": {},
   "number_sections": true,
   "sideBar": true,
   "skip_h1_title": false,
   "title_cell": "Table of Contents",
   "title_sidebar": "Contents",
   "toc_cell": false,
   "toc_position": {},
   "toc_section_display": true,
   "toc_window_display": false
  },
  "widgets": {
   "application/vnd.jupyter.widget-state+json": {
    "20cee728338d463ab89ebf8df6861e86": {
     "model_module": "@jupyter-widgets/controls",
     "model_module_version": "1.5.0",
     "model_name": "HTMLModel",
     "state": {
      "_dom_classes": [],
      "_model_module": "@jupyter-widgets/controls",
      "_model_module_version": "1.5.0",
      "_model_name": "HTMLModel",
      "_view_count": null,
      "_view_module": "@jupyter-widgets/controls",
      "_view_module_version": "1.5.0",
      "_view_name": "HTMLView",
      "description": "",
      "description_tooltip": null,
      "layout": "IPY_MODEL_4560c7d81c8d4c2992c83fce0217061e",
      "placeholder": "​",
      "style": "IPY_MODEL_3d2031fa16cb4095a969eb97de5d943a",
      "value": " 9/9 [00:05&lt;00:00,  1.42it/s]"
     }
    },
    "3d2031fa16cb4095a969eb97de5d943a": {
     "model_module": "@jupyter-widgets/controls",
     "model_module_version": "1.5.0",
     "model_name": "DescriptionStyleModel",
     "state": {
      "_model_module": "@jupyter-widgets/controls",
      "_model_module_version": "1.5.0",
      "_model_name": "DescriptionStyleModel",
      "_view_count": null,
      "_view_module": "@jupyter-widgets/base",
      "_view_module_version": "1.2.0",
      "_view_name": "StyleView",
      "description_width": ""
     }
    },
    "4560c7d81c8d4c2992c83fce0217061e": {
     "model_module": "@jupyter-widgets/base",
     "model_module_version": "1.2.0",
     "model_name": "LayoutModel",
     "state": {
      "_model_module": "@jupyter-widgets/base",
      "_model_module_version": "1.2.0",
      "_model_name": "LayoutModel",
      "_view_count": null,
      "_view_module": "@jupyter-widgets/base",
      "_view_module_version": "1.2.0",
      "_view_name": "LayoutView",
      "align_content": null,
      "align_items": null,
      "align_self": null,
      "border": null,
      "bottom": null,
      "display": null,
      "flex": null,
      "flex_flow": null,
      "grid_area": null,
      "grid_auto_columns": null,
      "grid_auto_flow": null,
      "grid_auto_rows": null,
      "grid_column": null,
      "grid_gap": null,
      "grid_row": null,
      "grid_template_areas": null,
      "grid_template_columns": null,
      "grid_template_rows": null,
      "height": null,
      "justify_content": null,
      "justify_items": null,
      "left": null,
      "margin": null,
      "max_height": null,
      "max_width": null,
      "min_height": null,
      "min_width": null,
      "object_fit": null,
      "object_position": null,
      "order": null,
      "overflow": null,
      "overflow_x": null,
      "overflow_y": null,
      "padding": null,
      "right": null,
      "top": null,
      "visibility": null,
      "width": null
     }
    },
    "5cdb0271505e4fba8b4003ebe92fc504": {
     "model_module": "@jupyter-widgets/base",
     "model_module_version": "1.2.0",
     "model_name": "LayoutModel",
     "state": {
      "_model_module": "@jupyter-widgets/base",
      "_model_module_version": "1.2.0",
      "_model_name": "LayoutModel",
      "_view_count": null,
      "_view_module": "@jupyter-widgets/base",
      "_view_module_version": "1.2.0",
      "_view_name": "LayoutView",
      "align_content": null,
      "align_items": null,
      "align_self": null,
      "border": null,
      "bottom": null,
      "display": null,
      "flex": null,
      "flex_flow": null,
      "grid_area": null,
      "grid_auto_columns": null,
      "grid_auto_flow": null,
      "grid_auto_rows": null,
      "grid_column": null,
      "grid_gap": null,
      "grid_row": null,
      "grid_template_areas": null,
      "grid_template_columns": null,
      "grid_template_rows": null,
      "height": null,
      "justify_content": null,
      "justify_items": null,
      "left": null,
      "margin": null,
      "max_height": null,
      "max_width": null,
      "min_height": null,
      "min_width": null,
      "object_fit": null,
      "object_position": null,
      "order": null,
      "overflow": null,
      "overflow_x": null,
      "overflow_y": null,
      "padding": null,
      "right": null,
      "top": null,
      "visibility": null,
      "width": null
     }
    },
    "676c41fc844741ff99e84b45e98fa10b": {
     "model_module": "@jupyter-widgets/base",
     "model_module_version": "1.2.0",
     "model_name": "LayoutModel",
     "state": {
      "_model_module": "@jupyter-widgets/base",
      "_model_module_version": "1.2.0",
      "_model_name": "LayoutModel",
      "_view_count": null,
      "_view_module": "@jupyter-widgets/base",
      "_view_module_version": "1.2.0",
      "_view_name": "LayoutView",
      "align_content": null,
      "align_items": null,
      "align_self": null,
      "border": null,
      "bottom": null,
      "display": null,
      "flex": null,
      "flex_flow": null,
      "grid_area": null,
      "grid_auto_columns": null,
      "grid_auto_flow": null,
      "grid_auto_rows": null,
      "grid_column": null,
      "grid_gap": null,
      "grid_row": null,
      "grid_template_areas": null,
      "grid_template_columns": null,
      "grid_template_rows": null,
      "height": null,
      "justify_content": null,
      "justify_items": null,
      "left": null,
      "margin": null,
      "max_height": null,
      "max_width": null,
      "min_height": null,
      "min_width": null,
      "object_fit": null,
      "object_position": null,
      "order": null,
      "overflow": null,
      "overflow_x": null,
      "overflow_y": null,
      "padding": null,
      "right": null,
      "top": null,
      "visibility": null,
      "width": null
     }
    },
    "79b123d211d841b18be48a19ab9db245": {
     "model_module": "@jupyter-widgets/controls",
     "model_module_version": "1.5.0",
     "model_name": "FloatProgressModel",
     "state": {
      "_dom_classes": [],
      "_model_module": "@jupyter-widgets/controls",
      "_model_module_version": "1.5.0",
      "_model_name": "FloatProgressModel",
      "_view_count": null,
      "_view_module": "@jupyter-widgets/controls",
      "_view_module_version": "1.5.0",
      "_view_name": "ProgressView",
      "bar_style": "success",
      "description": "",
      "description_tooltip": null,
      "layout": "IPY_MODEL_c40686abe552476480c814cd207e09d8",
      "max": 9,
      "min": 0,
      "orientation": "horizontal",
      "style": "IPY_MODEL_b6e7ef6e9ceb43e2b3f5cde5723b4d10",
      "value": 9
     }
    },
    "a11470ff22394481a50dbb8a68d11b0b": {
     "model_module": "@jupyter-widgets/controls",
     "model_module_version": "1.5.0",
     "model_name": "DescriptionStyleModel",
     "state": {
      "_model_module": "@jupyter-widgets/controls",
      "_model_module_version": "1.5.0",
      "_model_name": "DescriptionStyleModel",
      "_view_count": null,
      "_view_module": "@jupyter-widgets/base",
      "_view_module_version": "1.2.0",
      "_view_name": "StyleView",
      "description_width": ""
     }
    },
    "b6e7ef6e9ceb43e2b3f5cde5723b4d10": {
     "model_module": "@jupyter-widgets/controls",
     "model_module_version": "1.5.0",
     "model_name": "ProgressStyleModel",
     "state": {
      "_model_module": "@jupyter-widgets/controls",
      "_model_module_version": "1.5.0",
      "_model_name": "ProgressStyleModel",
      "_view_count": null,
      "_view_module": "@jupyter-widgets/base",
      "_view_module_version": "1.2.0",
      "_view_name": "StyleView",
      "bar_color": null,
      "description_width": ""
     }
    },
    "c40686abe552476480c814cd207e09d8": {
     "model_module": "@jupyter-widgets/base",
     "model_module_version": "1.2.0",
     "model_name": "LayoutModel",
     "state": {
      "_model_module": "@jupyter-widgets/base",
      "_model_module_version": "1.2.0",
      "_model_name": "LayoutModel",
      "_view_count": null,
      "_view_module": "@jupyter-widgets/base",
      "_view_module_version": "1.2.0",
      "_view_name": "LayoutView",
      "align_content": null,
      "align_items": null,
      "align_self": null,
      "border": null,
      "bottom": null,
      "display": null,
      "flex": null,
      "flex_flow": null,
      "grid_area": null,
      "grid_auto_columns": null,
      "grid_auto_flow": null,
      "grid_auto_rows": null,
      "grid_column": null,
      "grid_gap": null,
      "grid_row": null,
      "grid_template_areas": null,
      "grid_template_columns": null,
      "grid_template_rows": null,
      "height": null,
      "justify_content": null,
      "justify_items": null,
      "left": null,
      "margin": null,
      "max_height": null,
      "max_width": null,
      "min_height": null,
      "min_width": null,
      "object_fit": null,
      "object_position": null,
      "order": null,
      "overflow": null,
      "overflow_x": null,
      "overflow_y": null,
      "padding": null,
      "right": null,
      "top": null,
      "visibility": null,
      "width": null
     }
    },
    "e3c80cccad8b4112a24ad9e0c78d505f": {
     "model_module": "@jupyter-widgets/controls",
     "model_module_version": "1.5.0",
     "model_name": "HBoxModel",
     "state": {
      "_dom_classes": [],
      "_model_module": "@jupyter-widgets/controls",
      "_model_module_version": "1.5.0",
      "_model_name": "HBoxModel",
      "_view_count": null,
      "_view_module": "@jupyter-widgets/controls",
      "_view_module_version": "1.5.0",
      "_view_name": "HBoxView",
      "box_style": "",
      "children": [
       "IPY_MODEL_e755cd8ce5854f26900f13519db17167",
       "IPY_MODEL_79b123d211d841b18be48a19ab9db245",
       "IPY_MODEL_20cee728338d463ab89ebf8df6861e86"
      ],
      "layout": "IPY_MODEL_676c41fc844741ff99e84b45e98fa10b"
     }
    },
    "e755cd8ce5854f26900f13519db17167": {
     "model_module": "@jupyter-widgets/controls",
     "model_module_version": "1.5.0",
     "model_name": "HTMLModel",
     "state": {
      "_dom_classes": [],
      "_model_module": "@jupyter-widgets/controls",
      "_model_module_version": "1.5.0",
      "_model_name": "HTMLModel",
      "_view_count": null,
      "_view_module": "@jupyter-widgets/controls",
      "_view_module_version": "1.5.0",
      "_view_name": "HTMLView",
      "description": "",
      "description_tooltip": null,
      "layout": "IPY_MODEL_5cdb0271505e4fba8b4003ebe92fc504",
      "placeholder": "​",
      "style": "IPY_MODEL_a11470ff22394481a50dbb8a68d11b0b",
      "value": "100%"
     }
    }
   }
  }
 },
 "nbformat": 4,
 "nbformat_minor": 1
}
