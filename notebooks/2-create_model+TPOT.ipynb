{
 "cells": [
  {
   "cell_type": "markdown",
   "metadata": {},
   "source": [
    "# Подбор модели с использованием AutoML\n",
    "\n",
    "Подбор пайплайнов с помощью AutoML пакета [GAMA](https://openml-labs.github.io/gama/master)  \n",
    "В качестве данных был выбран \"широкий вариант\" датасета **data_for_model.xlsx**\n",
    "\n",
    "Тестировались разные базовые методы поиска оптимального пайплайна, включенные в GAMA:\n",
    "\n",
    "- _Asynchronous Evolutionary Algorithm_: (генетический поиск) Evolve a population of machine learning pipelines, drawing new machine learning pipelines from the best of the population.\n",
    "\n",
    "- _Asynchronous Successive Halving Algorithm_: A bandit-based approach where many machine learning pipelines iteratively get evaluated and eliminated on bigger fractions of the data. \n",
    "\n",
    "\n",
    "Разные тесты проводились с разным лимитом времени. от 3 мин до 3 часов\n"
   ]
  },
  {
   "cell_type": "code",
   "execution_count": 1,
   "metadata": {},
   "outputs": [],
   "source": [
    "%reload_ext autoreload\n",
    "%autoreload 2\n",
    "\n",
    "from _shared import *\n",
    "\n",
    "NOTEBOOK_ID = '2'"
   ]
  },
  {
   "cell_type": "code",
   "execution_count": 2,
   "metadata": {},
   "outputs": [],
   "source": [
    "import datetime as dt\n",
    "import json\n",
    "import logging\n",
    "\n",
    "import pandas as pd\n",
    "\n",
    "from gama import GamaRegressor\n",
    "from gama.search_methods import AsynchronousSuccessiveHalving\n",
    "\n",
    "from sklearn.model_selection import train_test_split\n",
    "\n",
    "import uai.data\n",
    "import uai.models"
   ]
  },
  {
   "cell_type": "code",
   "execution_count": 3,
   "metadata": {},
   "outputs": [
    {
     "data": {
      "text/html": [
       "<div>\n",
       "<style scoped>\n",
       "    .dataframe tbody tr th:only-of-type {\n",
       "        vertical-align: middle;\n",
       "    }\n",
       "\n",
       "    .dataframe tbody tr th {\n",
       "        vertical-align: top;\n",
       "    }\n",
       "\n",
       "    .dataframe thead th {\n",
       "        text-align: right;\n",
       "    }\n",
       "</style>\n",
       "<table border=\"1\" class=\"dataframe\">\n",
       "  <thead>\n",
       "    <tr style=\"text-align: right;\">\n",
       "      <th></th>\n",
       "      <th>id</th>\n",
       "      <th>age</th>\n",
       "      <th>dose</th>\n",
       "      <th>prev_INR(MHO)</th>\n",
       "      <th>atrial_fibrillation</th>\n",
       "      <th>mitral_valve</th>\n",
       "      <th>aortal_valve</th>\n",
       "      <th>date_diff</th>\n",
       "      <th>INR(MHO)</th>\n",
       "      <th>sample</th>\n",
       "      <th>...</th>\n",
       "      <th>institution_id_22</th>\n",
       "      <th>institution_id_23</th>\n",
       "      <th>institution_id_24</th>\n",
       "      <th>institution_id_25</th>\n",
       "      <th>institution_id_26</th>\n",
       "      <th>institution_id_27</th>\n",
       "      <th>institution_id_28</th>\n",
       "      <th>institution_id_29</th>\n",
       "      <th>institution_id_30</th>\n",
       "      <th>institution_id_31</th>\n",
       "    </tr>\n",
       "  </thead>\n",
       "  <tbody>\n",
       "    <tr>\n",
       "      <th>0</th>\n",
       "      <td>140361892057136</td>\n",
       "      <td>57</td>\n",
       "      <td>7.5</td>\n",
       "      <td>3.11</td>\n",
       "      <td>1</td>\n",
       "      <td>0</td>\n",
       "      <td>0</td>\n",
       "      <td>13.0</td>\n",
       "      <td>3.32</td>\n",
       "      <td>1</td>\n",
       "      <td>...</td>\n",
       "      <td>0</td>\n",
       "      <td>0</td>\n",
       "      <td>0</td>\n",
       "      <td>0</td>\n",
       "      <td>0</td>\n",
       "      <td>0</td>\n",
       "      <td>0</td>\n",
       "      <td>0</td>\n",
       "      <td>0</td>\n",
       "      <td>0</td>\n",
       "    </tr>\n",
       "    <tr>\n",
       "      <th>1</th>\n",
       "      <td>140361892057136</td>\n",
       "      <td>57</td>\n",
       "      <td>7.5</td>\n",
       "      <td>3.32</td>\n",
       "      <td>1</td>\n",
       "      <td>0</td>\n",
       "      <td>0</td>\n",
       "      <td>15.0</td>\n",
       "      <td>2.01</td>\n",
       "      <td>2</td>\n",
       "      <td>...</td>\n",
       "      <td>0</td>\n",
       "      <td>0</td>\n",
       "      <td>0</td>\n",
       "      <td>0</td>\n",
       "      <td>0</td>\n",
       "      <td>0</td>\n",
       "      <td>0</td>\n",
       "      <td>0</td>\n",
       "      <td>0</td>\n",
       "      <td>0</td>\n",
       "    </tr>\n",
       "    <tr>\n",
       "      <th>2</th>\n",
       "      <td>140361892057264</td>\n",
       "      <td>50</td>\n",
       "      <td>5.0</td>\n",
       "      <td>2.01</td>\n",
       "      <td>0</td>\n",
       "      <td>1</td>\n",
       "      <td>0</td>\n",
       "      <td>26.0</td>\n",
       "      <td>2.75</td>\n",
       "      <td>1</td>\n",
       "      <td>...</td>\n",
       "      <td>0</td>\n",
       "      <td>0</td>\n",
       "      <td>0</td>\n",
       "      <td>0</td>\n",
       "      <td>0</td>\n",
       "      <td>0</td>\n",
       "      <td>0</td>\n",
       "      <td>0</td>\n",
       "      <td>0</td>\n",
       "      <td>0</td>\n",
       "    </tr>\n",
       "  </tbody>\n",
       "</table>\n",
       "<p>3 rows × 87 columns</p>\n",
       "</div>"
      ],
      "text/plain": [
       "                id  age  dose  prev_INR(MHO)  atrial_fibrillation  \\\n",
       "0  140361892057136   57   7.5           3.11                    1   \n",
       "1  140361892057136   57   7.5           3.32                    1   \n",
       "2  140361892057264   50   5.0           2.01                    0   \n",
       "\n",
       "   mitral_valve  aortal_valve  date_diff  INR(MHO)  sample  ...  \\\n",
       "0             0             0       13.0      3.32       1  ...   \n",
       "1             0             0       15.0      2.01       2  ...   \n",
       "2             1             0       26.0      2.75       1  ...   \n",
       "\n",
       "   institution_id_22  institution_id_23  institution_id_24  institution_id_25  \\\n",
       "0                  0                  0                  0                  0   \n",
       "1                  0                  0                  0                  0   \n",
       "2                  0                  0                  0                  0   \n",
       "\n",
       "   institution_id_26  institution_id_27  institution_id_28  institution_id_29  \\\n",
       "0                  0                  0                  0                  0   \n",
       "1                  0                  0                  0                  0   \n",
       "2                  0                  0                  0                  0   \n",
       "\n",
       "   institution_id_30  institution_id_31  \n",
       "0                  0                  0  \n",
       "1                  0                  0  \n",
       "2                  0                  0  \n",
       "\n",
       "[3 rows x 87 columns]"
      ]
     },
     "execution_count": 3,
     "metadata": {},
     "output_type": "execute_result"
    }
   ],
   "source": [
    "# Загрузка исходных данных для модели\n",
    "\n",
    "df = pd.read_csv(ROOT_PATH / 'data/processed/data_for_model_1.csv')\n",
    "df.head(3)"
   ]
  },
  {
   "cell_type": "code",
   "execution_count": 4,
   "metadata": {},
   "outputs": [
    {
     "name": "stdout",
     "output_type": "stream",
     "text": [
      "<class 'pandas.core.frame.DataFrame'>\n",
      "RangeIndex: 1456 entries, 0 to 1455\n",
      "Data columns (total 87 columns):\n",
      " #   Column                 Non-Null Count  Dtype   \n",
      "---  ------                 --------------  -----   \n",
      " 0   id                     1456 non-null   category\n",
      " 1   age                    1456 non-null   int64   \n",
      " 2   dose                   1456 non-null   float64 \n",
      " 3   prev_INR(MHO)          1456 non-null   float64 \n",
      " 4   atrial_fibrillation    1456 non-null   int64   \n",
      " 5   mitral_valve           1456 non-null   int64   \n",
      " 6   aortal_valve           1456 non-null   int64   \n",
      " 7   date_diff              1456 non-null   float64 \n",
      " 8   INR(MHO)               1456 non-null   float64 \n",
      " 9   sample                 1456 non-null   int64   \n",
      " 10  pass_dose              1456 non-null   int64   \n",
      " 11  age_level              1456 non-null   int64   \n",
      " 12  age_level1             1456 non-null   int64   \n",
      " 13  age_level2             1456 non-null   int64   \n",
      " 14  age_level3             1456 non-null   int64   \n",
      " 15  age_level4             1456 non-null   int64   \n",
      " 16  age_level5             1456 non-null   int64   \n",
      " 17  age_level6             1456 non-null   int64   \n",
      " 18  d1                     1456 non-null   int64   \n",
      " 19  d2                     1456 non-null   int64   \n",
      " 20  d3                     1456 non-null   int64   \n",
      " 21  d4                     1456 non-null   int64   \n",
      " 22  d5                     1456 non-null   int64   \n",
      " 23  d6                     1456 non-null   int64   \n",
      " 24  d7                     1456 non-null   int64   \n",
      " 25  d8                     1456 non-null   int64   \n",
      " 26  deviation_from_median  1456 non-null   float64 \n",
      " 27  age_percentile         1456 non-null   float64 \n",
      " 28  age_quantile           1456 non-null   int64   \n",
      " 29  is_elderly             1456 non-null   int64   \n",
      " 30  age_density            1456 non-null   float64 \n",
      " 31  age_zscore             1456 non-null   float64 \n",
      " 32  critical_age_l         1456 non-null   int64   \n",
      " 33  critical_age_h         1456 non-null   int64   \n",
      " 34  agebin_1               1456 non-null   int64   \n",
      " 35  agebin_2               1456 non-null   int64   \n",
      " 36  agebin_3               1456 non-null   int64   \n",
      " 37  agebin_4               1456 non-null   int64   \n",
      " 38  agebin_5               1456 non-null   int64   \n",
      " 39  agebin_6               1456 non-null   int64   \n",
      " 40  agebin_7               1456 non-null   int64   \n",
      " 41  agebin_8               1456 non-null   int64   \n",
      " 42  zodiac_Aquarius        1456 non-null   int64   \n",
      " 43  zodiac_Aries           1456 non-null   int64   \n",
      " 44  zodiac_Cancer          1456 non-null   int64   \n",
      " 45  zodiac_Capricorn       1456 non-null   int64   \n",
      " 46  zodiac_Gemini          1456 non-null   int64   \n",
      " 47  zodiac_Leo             1456 non-null   int64   \n",
      " 48  zodiac_Libra           1456 non-null   int64   \n",
      " 49  zodiac_Pisces          1456 non-null   int64   \n",
      " 50  zodiac_Sagittarius     1456 non-null   int64   \n",
      " 51  zodiac_Scorpio         1456 non-null   int64   \n",
      " 52  zodiac_Taurus          1456 non-null   int64   \n",
      " 53  zodiac_Virgo           1456 non-null   int64   \n",
      " 54  gender_0               1456 non-null   int64   \n",
      " 55  gender_1               1456 non-null   int64   \n",
      " 56  institution_id_1       1456 non-null   int64   \n",
      " 57  institution_id_2       1456 non-null   int64   \n",
      " 58  institution_id_3       1456 non-null   int64   \n",
      " 59  institution_id_4       1456 non-null   int64   \n",
      " 60  institution_id_5       1456 non-null   int64   \n",
      " 61  institution_id_6       1456 non-null   int64   \n",
      " 62  institution_id_7       1456 non-null   int64   \n",
      " 63  institution_id_8       1456 non-null   int64   \n",
      " 64  institution_id_9       1456 non-null   int64   \n",
      " 65  institution_id_10      1456 non-null   int64   \n",
      " 66  institution_id_11      1456 non-null   int64   \n",
      " 67  institution_id_12      1456 non-null   int64   \n",
      " 68  institution_id_13      1456 non-null   int64   \n",
      " 69  institution_id_14      1456 non-null   int64   \n",
      " 70  institution_id_15      1456 non-null   int64   \n",
      " 71  institution_id_16      1456 non-null   int64   \n",
      " 72  institution_id_17      1456 non-null   int64   \n",
      " 73  institution_id_18      1456 non-null   int64   \n",
      " 74  institution_id_19      1456 non-null   int64   \n",
      " 75  institution_id_20      1456 non-null   int64   \n",
      " 76  institution_id_21      1456 non-null   int64   \n",
      " 77  institution_id_22      1456 non-null   int64   \n",
      " 78  institution_id_23      1456 non-null   int64   \n",
      " 79  institution_id_24      1456 non-null   int64   \n",
      " 80  institution_id_25      1456 non-null   int64   \n",
      " 81  institution_id_26      1456 non-null   int64   \n",
      " 82  institution_id_27      1456 non-null   int64   \n",
      " 83  institution_id_28      1456 non-null   int64   \n",
      " 84  institution_id_29      1456 non-null   int64   \n",
      " 85  institution_id_30      1456 non-null   int64   \n",
      " 86  institution_id_31      1456 non-null   int64   \n",
      "dtypes: category(1), float64(8), int64(78)\n",
      "memory usage: 1003.3 KB\n"
     ]
    }
   ],
   "source": [
    "df['id'] = df['id'].astype('category')\n",
    "df.info()"
   ]
  },
  {
   "cell_type": "code",
   "execution_count": 6,
   "metadata": {},
   "outputs": [],
   "source": [
    "def select_pipe(\n",
    "        train_df,\n",
    "        *,\n",
    "        search=None,\n",
    "        max_total_time=3600,\n",
    "        scoring=('neg_mean_squared_error', 'r2'),\n",
    "        random_state=RANDOM_SEED,\n",
    "        regularize_length=True,\n",
    "        preset='simple',\n",
    "        n_jobs=1,\n",
    "        verbose=logging.WARNING,\n",
    "    ):\n",
    "    \"\"\"\n",
    "    Находим лучшую модель-регрессор для заданного набора данных.\n",
    "    \"\"\"\n",
    "    X_train, y_train = uai.data.to_X_y(train_df)\n",
    "\n",
    "    gama = GamaRegressor(\n",
    "        search=search,\n",
    "        max_total_time=max_total_time, \n",
    "        scoring=scoring,                      \n",
    "        random_state=random_state, \n",
    "        regularize_length=regularize_length,\n",
    "        # store=\"logs\",\n",
    "        preset=preset,\n",
    "        n_jobs=n_jobs,\n",
    "        verbosity=verbose\n",
    "    )\n",
    "    \n",
    "    delta = max_total_time / 60\n",
    "    t0 = dt.datetime.now()\n",
    "    eta = t0 + dt.timedelta(seconds=max_total_time)\n",
    "    def to_str(t):\n",
    "        return t.strftime('%Y-%m-%d %H:%M')\n",
    "\n",
    "    print(f'{to_str(t0)} Подбор модели завершится приблизительно за {delta} мин, в {to_str(eta)}')\n",
    "    gama.fit(X_train, y_train)\n",
    "    t1 = dt.datetime.now()\n",
    "    print(f'{to_str(t1)} Модель подобрана')\n",
    "    # print(gama.score(X_test, y_test))\n",
    "\n",
    "    return gama"
   ]
  },
  {
   "cell_type": "markdown",
   "metadata": {},
   "source": [
    "## Подбор с AsynchronousSuccessiveHalving "
   ]
  },
  {
   "cell_type": "code",
   "execution_count": 7,
   "metadata": {},
   "outputs": [
    {
     "name": "stdout",
     "output_type": "stream",
     "text": [
      "2023-11-07 15:11 Подбор модели завершится приблизительно за 60.0 мин, в 2023-11-07 16:11\n"
     ]
    },
    {
     "name": "stderr",
     "output_type": "stream",
     "text": [
      "/Users/rain/anaconda3/lib/python3.10/site-packages/scipy/interpolate/_interpolate.py:701: RuntimeWarning: divide by zero encountered in divide\n",
      "  slope = (y_hi - y_lo) / (x_hi - x_lo)[:, None]\n",
      "/Users/rain/anaconda3/lib/python3.10/site-packages/scipy/interpolate/_interpolate.py:701: RuntimeWarning: invalid value encountered in divide\n",
      "  slope = (y_hi - y_lo) / (x_hi - x_lo)[:, None]\n",
      "/Users/rain/anaconda3/lib/python3.10/site-packages/scipy/interpolate/_interpolate.py:701: RuntimeWarning: divide by zero encountered in divide\n",
      "  slope = (y_hi - y_lo) / (x_hi - x_lo)[:, None]\n",
      "/Users/rain/anaconda3/lib/python3.10/site-packages/scipy/interpolate/_interpolate.py:701: RuntimeWarning: invalid value encountered in divide\n",
      "  slope = (y_hi - y_lo) / (x_hi - x_lo)[:, None]\n",
      "/Users/rain/anaconda3/lib/python3.10/site-packages/scipy/interpolate/_interpolate.py:701: RuntimeWarning: divide by zero encountered in divide\n",
      "  slope = (y_hi - y_lo) / (x_hi - x_lo)[:, None]\n",
      "/Users/rain/anaconda3/lib/python3.10/site-packages/scipy/interpolate/_interpolate.py:701: RuntimeWarning: invalid value encountered in divide\n",
      "  slope = (y_hi - y_lo) / (x_hi - x_lo)[:, None]\n",
      "/Users/rain/anaconda3/lib/python3.10/site-packages/scipy/interpolate/_interpolate.py:701: RuntimeWarning: divide by zero encountered in divide\n",
      "  slope = (y_hi - y_lo) / (x_hi - x_lo)[:, None]\n",
      "/Users/rain/anaconda3/lib/python3.10/site-packages/scipy/interpolate/_interpolate.py:701: RuntimeWarning: invalid value encountered in divide\n",
      "  slope = (y_hi - y_lo) / (x_hi - x_lo)[:, None]\n"
     ]
    },
    {
     "name": "stdout",
     "output_type": "stream",
     "text": [
      "2023-11-07 16:05 Модель подобрана\n"
     ]
    }
   ],
   "source": [
    "MAX_TIME = 60 * 60\n",
    "N_JOBS = 8\n",
    "\n",
    "# Без стратификации\n",
    "train_df, test_df = train_test_split(df, test_size=0.2, random_state=RANDOM_SEED)\n",
    "\n",
    "gama = select_pipe(\n",
    "    train_df,\n",
    "    search=AsynchronousSuccessiveHalving(),\n",
    "    max_total_time=MAX_TIME,\n",
    "    n_jobs=N_JOBS,\n",
    ")"
   ]
  },
  {
   "cell_type": "code",
   "execution_count": 8,
   "metadata": {},
   "outputs": [
    {
     "name": "stdout",
     "output_type": "stream",
     "text": [
      "Средняя абсолютная ошибка (MAE):                         0.45\n",
      "Среднеквадратичная ошибка (MSE):                         0.63\n",
      "Коэффициент детерминации (R^2):                          0.74\n",
      "Средняя абсолютная процентная ошибка (MAPE):            18.12%\n",
      "Доля предсказаний с отклонением не более 0,5 мг:        67.47%\n"
     ]
    },
    {
     "data": {
      "image/png": "[encoded data removed]",
      "text/plain": [
       "<Figure size 640x480 with 2 Axes>"
      ]
     },
     "metadata": {},
     "output_type": "display_data"
    },
    {
     "name": "stdout",
     "output_type": "stream",
     "text": [
      "Подобранная модель сохранена в файл: ../models/gama_ASH_3600s.py\n",
      "Описание обучения: ../models/gama_ASH_3600s.json\n"
     ]
    },
    {
     "name": "stderr",
     "output_type": "stream",
     "text": [
      "reformatted ../models/gama_ASH_3600s.py\n",
      "\n",
      "All done! ✨ 🍰 ✨\n",
      "1 file reformatted.\n"
     ]
    }
   ],
   "source": [
    "# Тестируем модель, сохраняем ее и описание качества работы в файлы\n",
    "\n",
    "# Тестируем на тестовой выборке\n",
    "X_test, y_test = uai.data.to_X_y(test_df)\n",
    "y_pred = gama.predict(X_test)\n",
    "scores = uai.models.calculate_metrics(y_pred, y_test)\n",
    "uai.models.print_metrics(scores)\n",
    "\n",
    "uai.models.plot_predictions(y_pred, y_test)\n",
    "\n",
    "# Сохраняем модель в файл\n",
    "model_name = f'gama_ASH_{MAX_TIME}s'\n",
    "file_py = (ROOT_PATH / 'models' / model_name).with_suffix('.py')\n",
    "gama.export_script(file_py)\n",
    "print(f'Подобранная модель сохранена в файл: {file_py}')\n",
    "\n",
    "# Сохраняем описание обучения в файл\n",
    "spec = {\n",
    "    'model': model_name,\n",
    "    'max_total_time': MAX_TIME,\n",
    "    'test': scores,\n",
    "}\n",
    "\n",
    "file_json = file_py.with_suffix('.json')\n",
    "with file_json.open('w') as f:\n",
    "    json.dump(spec, f, indent=4)\n",
    "\n",
    "print(f'Описание обучения: {file_json}')"
   ]
  },
  {
   "cell_type": "markdown",
   "metadata": {
    "tags": []
   },
   "source": [
    "## Подбор с TPOT\n"
   ]
  },
  {
   "cell_type": "code",
   "execution_count": 20,
   "metadata": {},
   "outputs": [
    {
     "data": {
      "application/vnd.jupyter.widget-view+json": {
       "model_id": "656f161aeb6d468181fd775cb6166ed8",
       "version_major": 2,
       "version_minor": 0
      },
      "text/plain": [
       "Optimization Progress:   0%|          | 0/420 [00:00<?, ?pipeline/s]"
      ]
     },
     "metadata": {},
     "output_type": "display_data"
    },
    {
     "name": "stdout",
     "output_type": "stream",
     "text": [
      "\n",
      "Generation 1 - Current best internal CV score: -1.38286904828562\n",
      "\n",
      "Generation 2 - Current best internal CV score: -1.3798487930927603\n",
      "\n",
      "Generation 3 - Current best internal CV score: -1.3798487930927603\n",
      "\n",
      "Generation 4 - Current best internal CV score: -1.2671844733778337\n",
      "\n",
      "Generation 5 - Current best internal CV score: -1.2671844733778337\n",
      "\n",
      "Generation 6 - Current best internal CV score: -1.250291664302892\n",
      "\n",
      "Generation 7 - Current best internal CV score: -1.2055455207713501\n",
      "\n",
      "Generation 8 - Current best internal CV score: -1.2055455207713501\n",
      "\n",
      "Generation 9 - Current best internal CV score: -1.2055455207713501\n",
      "\n",
      "Generation 10 - Current best internal CV score: -1.2055455207713501\n",
      "\n",
      "Generation 11 - Current best internal CV score: -1.2042692011164158\n",
      "\n",
      "Generation 12 - Current best internal CV score: -1.1917444172536351\n",
      "\n",
      "Generation 13 - Current best internal CV score: -1.1844905102925671\n",
      "\n",
      "Generation 14 - Current best internal CV score: -1.1004093942249582\n",
      "\n",
      "Generation 15 - Current best internal CV score: -1.1004093942249582\n",
      "\n",
      "Generation 16 - Current best internal CV score: -1.1004093942249582\n",
      "\n",
      "Generation 17 - Current best internal CV score: -1.1004093942249582\n",
      "\n",
      "Generation 18 - Current best internal CV score: -1.1004093942249582\n",
      "\n",
      "Generation 19 - Current best internal CV score: -1.1003273404718052\n",
      "\n",
      "Generation 20 - Current best internal CV score: -1.1003273404718052\n",
      "\n",
      "Best pipeline: KNeighborsRegressor(input_matrix, n_neighbors=49, p=1, weights=distance)\n"
     ]
    },
    {
     "data": {
      "text/html": [
       "<style>#sk-container-id-4 {color: black;background-color: white;}#sk-container-id-4 pre{padding: 0;}#sk-container-id-4 div.sk-toggleable {background-color: white;}#sk-container-id-4 label.sk-toggleable__label {cursor: pointer;display: block;width: 100%;margin-bottom: 0;padding: 0.3em;box-sizing: border-box;text-align: center;}#sk-container-id-4 label.sk-toggleable__label-arrow:before {content: \"▸\";float: left;margin-right: 0.25em;color: #696969;}#sk-container-id-4 label.sk-toggleable__label-arrow:hover:before {color: black;}#sk-container-id-4 div.sk-estimator:hover label.sk-toggleable__label-arrow:before {color: black;}#sk-container-id-4 div.sk-toggleable__content {max-height: 0;max-width: 0;overflow: hidden;text-align: left;background-color: #f0f8ff;}#sk-container-id-4 div.sk-toggleable__content pre {margin: 0.2em;color: black;border-radius: 0.25em;background-color: #f0f8ff;}#sk-container-id-4 input.sk-toggleable__control:checked~div.sk-toggleable__content {max-height: 200px;max-width: 100%;overflow: auto;}#sk-container-id-4 input.sk-toggleable__control:checked~label.sk-toggleable__label-arrow:before {content: \"▾\";}#sk-container-id-4 div.sk-estimator input.sk-toggleable__control:checked~label.sk-toggleable__label {background-color: #d4ebff;}#sk-container-id-4 div.sk-label input.sk-toggleable__control:checked~label.sk-toggleable__label {background-color: #d4ebff;}#sk-container-id-4 input.sk-hidden--visually {border: 0;clip: rect(1px 1px 1px 1px);clip: rect(1px, 1px, 1px, 1px);height: 1px;margin: -1px;overflow: hidden;padding: 0;position: absolute;width: 1px;}#sk-container-id-4 div.sk-estimator {font-family: monospace;background-color: #f0f8ff;border: 1px dotted black;border-radius: 0.25em;box-sizing: border-box;margin-bottom: 0.5em;}#sk-container-id-4 div.sk-estimator:hover {background-color: #d4ebff;}#sk-container-id-4 div.sk-parallel-item::after {content: \"\";width: 100%;border-bottom: 1px solid gray;flex-grow: 1;}#sk-container-id-4 div.sk-label:hover label.sk-toggleable__label {background-color: #d4ebff;}#sk-container-id-4 div.sk-serial::before {content: \"\";position: absolute;border-left: 1px solid gray;box-sizing: border-box;top: 0;bottom: 0;left: 50%;z-index: 0;}#sk-container-id-4 div.sk-serial {display: flex;flex-direction: column;align-items: center;background-color: white;padding-right: 0.2em;padding-left: 0.2em;position: relative;}#sk-container-id-4 div.sk-item {position: relative;z-index: 1;}#sk-container-id-4 div.sk-parallel {display: flex;align-items: stretch;justify-content: center;background-color: white;position: relative;}#sk-container-id-4 div.sk-item::before, #sk-container-id-4 div.sk-parallel-item::before {content: \"\";position: absolute;border-left: 1px solid gray;box-sizing: border-box;top: 0;bottom: 0;left: 50%;z-index: -1;}#sk-container-id-4 div.sk-parallel-item {display: flex;flex-direction: column;z-index: 1;position: relative;background-color: white;}#sk-container-id-4 div.sk-parallel-item:first-child::after {align-self: flex-end;width: 50%;}#sk-container-id-4 div.sk-parallel-item:last-child::after {align-self: flex-start;width: 50%;}#sk-container-id-4 div.sk-parallel-item:only-child::after {width: 0;}#sk-container-id-4 div.sk-dashed-wrapped {border: 1px dashed gray;margin: 0 0.4em 0.5em 0.4em;box-sizing: border-box;padding-bottom: 0.4em;background-color: white;}#sk-container-id-4 div.sk-label label {font-family: monospace;font-weight: bold;display: inline-block;line-height: 1.2em;}#sk-container-id-4 div.sk-label-container {text-align: center;}#sk-container-id-4 div.sk-container {/* jupyter's `normalize.less` sets `[hidden] { display: none; }` but bootstrap.min.css set `[hidden] { display: none !important; }` so we also need the `!important` here to be able to override the default hidden behavior on the sphinx rendered scikit-learn.org. See: https://github.com/scikit-learn/scikit-learn/issues/21755 */display: inline-block !important;position: relative;}#sk-container-id-4 div.sk-text-repr-fallback {display: none;}</style><div id=\"sk-container-id-4\" class=\"sk-top-container\"><div class=\"sk-text-repr-fallback\"><pre>TPOTRegressor(crossover_rate=0.4, early_stop=10, generations=20,\n",
       "              mutation_rate=0.6, n_jobs=-1, population_size=20, random_state=0,\n",
       "              verbosity=2)</pre><b>In a Jupyter environment, please rerun this cell to show the HTML representation or trust the notebook. <br />On GitHub, the HTML representation is unable to render, please try loading this page with nbviewer.org.</b></div><div class=\"sk-container\" hidden><div class=\"sk-item\"><div class=\"sk-estimator sk-toggleable\"><input class=\"sk-toggleable__control sk-hidden--visually\" id=\"sk-estimator-id-4\" type=\"checkbox\" checked><label for=\"sk-estimator-id-4\" class=\"sk-toggleable__label sk-toggleable__label-arrow\">TPOTRegressor</label><div class=\"sk-toggleable__content\"><pre>TPOTRegressor(crossover_rate=0.4, early_stop=10, generations=20,\n",
       "              mutation_rate=0.6, n_jobs=-1, population_size=20, random_state=0,\n",
       "              verbosity=2)</pre></div></div></div></div></div>"
      ],
      "text/plain": [
       "TPOTRegressor(crossover_rate=0.4, early_stop=10, generations=20,\n",
       "              mutation_rate=0.6, n_jobs=-1, population_size=20, random_state=0,\n",
       "              verbosity=2)"
      ]
     },
     "execution_count": 20,
     "metadata": {},
     "output_type": "execute_result"
    }
   ],
   "source": [
    "from tpot import TPOTRegressor\n",
    "N_JOBS = -1\n",
    "GENERATIONS = 20\n",
    "POPULATION = 20\n",
    "# Без стратификации\n",
    "train_df, test_df = train_test_split(df, test_size=0.2, random_state=RANDOM_SEED)\n",
    "\n",
    "X_train, y_train = uai.data.to_X_y(train_df)\n",
    "\n",
    "tpot = TPOTRegressor(mutation_rate=0.6, cv=5, generations=GENERATIONS, population_size=POPULATION, n_jobs=N_JOBS, early_stop=10, verbosity=2, crossover_rate=0.4, random_state=RANDOM_SEED)\n",
    "\n",
    "tpot.fit(X_train, y_train)"
   ]
  },
  {
   "cell_type": "code",
   "execution_count": 21,
   "metadata": {},
   "outputs": [
    {
     "name": "stdout",
     "output_type": "stream",
     "text": [
      "Средняя абсолютная ошибка (MAE):                         0.61\n",
      "Среднеквадратичная ошибка (MSE):                         0.86\n",
      "Коэффициент детерминации (R^2):                          0.65\n",
      "Средняя абсолютная процентная ошибка (MAPE):            20.99%\n",
      "Доля предсказаний с отклонением не более 0,5 мг:        58.22%\n"
     ]
    },
    {
     "data": {
      "image/png": "[encoded data removed]",
      "text/plain": [
       "<Figure size 640x480 with 2 Axes>"
      ]
     },
     "metadata": {},
     "output_type": "display_data"
    },
    {
     "name": "stdout",
     "output_type": "stream",
     "text": [
      "Подобранная модель сохранена в файл: ../models/TPOT_20gen_20populaton.py\n",
      "Описание обучения: ../models/TPOT_20gen_20populaton.json\n"
     ]
    }
   ],
   "source": [
    "# Тестируем модель, сохраняем ее и описание качества работы в файлы\n",
    "\n",
    "# Тестируем на тестовой выборке\n",
    "X_test, y_test = uai.data.to_X_y(test_df)\n",
    "y_pred = tpot.predict(X_test)\n",
    "scores = uai.models.calculate_metrics(y_pred, y_test)\n",
    "uai.models.print_metrics(scores)\n",
    "\n",
    "uai.models.plot_predictions(y_pred, y_test)\n",
    "\n",
    "# Сохраняем модель в файл\n",
    "model_name = f'TPOT_{GENERATIONS}gen_{POPULATION}populaton'\n",
    "file_py = (ROOT_PATH / 'models' / model_name).with_suffix('.py')\n",
    "tpot.export(file_py)\n",
    "\n",
    "print(f'Подобранная модель сохранена в файл: {file_py}')\n",
    "\n",
    "# Сохраняем описание обучения в файл\n",
    "spec = {\n",
    "    'model': model_name,\n",
    "    'test': scores,\n",
    "}\n",
    "\n",
    "file_json = file_py.with_suffix('.json')\n",
    "with file_json.open('w') as f:\n",
    "    json.dump(spec, f, indent=4)\n",
    "\n",
    "print(f'Описание обучения: {file_json}')"
   ]
  },
  {
   "cell_type": "code",
   "execution_count": 9,
   "metadata": {},
   "outputs": [
    {
     "name": "stdout",
     "output_type": "stream",
     "text": [
      "Ноутбук завершен: 2023-11-07 17:59:55.473837\n"
     ]
    }
   ],
   "source": [
    "# Если ничего не напечаталось - то не дошли сюда, и где-то в ноутбуке ошибка\n",
    "import datetime as dt\n",
    "print('Ноутбук завершен:', dt.datetime.now()) "
   ]
  }
 ],
 "metadata": {
  "kernelspec": {
   "display_name": "jupyter",
   "language": "python",
   "name": "python3"
  },
  "language_info": {
   "codemirror_mode": {
    "name": "ipython",
    "version": 3
   },
   "file_extension": ".py",
   "mimetype": "text/x-python",
   "name": "python",
   "nbconvert_exporter": "python",
   "pygments_lexer": "ipython3",
   "version": "3.10.13"
  }
 },
 "nbformat": 4,
 "nbformat_minor": 2
}
