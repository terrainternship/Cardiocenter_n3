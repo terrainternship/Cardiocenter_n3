{
 "cells": [
  {
   "cell_type": "markdown",
   "metadata": {},
   "source": [
    "# Подбор модели с использованием AutoML\n",
    "\n",
    "Подбор пайплайнов с помощью AutoML пакета [GAMA](https://openml-labs.github.io/gama/master)  \n",
    "\n",
    "Тестировались разные базовые методы поиска оптимального пайплайна, включенные в GAMA:\n",
    "\n",
    "- _Asynchronous Evolutionary Algorithm_: (генетический поиск) Evolve a population of machine learning pipelines, drawing new machine learning pipelines from the best of the population.\n",
    "\n",
    "- _Asynchronous Successive Halving Algorithm_: A bandit-based approach where many machine learning pipelines iteratively get evaluated and eliminated on bigger fractions of the data. \n",
    "\n",
    "Разные тесты проводились с разным лимитом времени, от 3 мин до 3 часов\n"
   ]
  },
  {
   "cell_type": "code",
   "execution_count": 7,
   "metadata": {},
   "outputs": [],
   "source": [
    "%reload_ext autoreload\n",
    "%autoreload 2\n",
    "\n",
    "from pathlib import Path\n",
    "\n",
    "NOTEBOOK_ID = '2'  # в выходных данных будет указан этот id\n",
    "RANDOM_SEED = 0  # для воспроизводимости результатов\n",
    "ROOT_PATH = Path('..')  # путь к корню проекта"
   ]
  },
  {
   "cell_type": "code",
   "execution_count": 8,
   "metadata": {},
   "outputs": [],
   "source": [
    "import datetime as dt\n",
    "import logging\n",
    "\n",
    "import pandas as pd\n",
    "\n",
    "from gama import GamaRegressor\n",
    "from gama.search_methods import AsynchronousSuccessiveHalving"
   ]
  },
  {
   "cell_type": "code",
   "execution_count": 9,
   "metadata": {},
   "outputs": [],
   "source": [
    "def select_pipe(\n",
    "        X_train,\n",
    "        y_train,\n",
    "        *,\n",
    "        search=None,\n",
    "        max_total_time=3600,\n",
    "        scoring=('neg_mean_squared_error', 'r2'),\n",
    "        random_state=RANDOM_SEED,\n",
    "        regularize_length=True,\n",
    "        preset='simple',\n",
    "        n_jobs=1,\n",
    "        verbose=logging.WARNING,\n",
    "    ):\n",
    "    \"\"\"\n",
    "    Находим лучшую модель-регрессор для заданного набора данных.\n",
    "    \"\"\"\n",
    "    gama = GamaRegressor(\n",
    "        search=search,\n",
    "        max_total_time=max_total_time, \n",
    "        scoring=scoring,                      \n",
    "        random_state=random_state, \n",
    "        regularize_length=regularize_length,\n",
    "        # store=\"logs\",\n",
    "        preset=preset,\n",
    "        n_jobs=n_jobs,\n",
    "        verbosity=verbose\n",
    "    )\n",
    "    \n",
    "    delta = max_total_time / 60\n",
    "    t0 = dt.datetime.now()\n",
    "    eta = t0 + dt.timedelta(seconds=max_total_time)\n",
    "    def to_str(t):\n",
    "        return t.strftime('%Y-%m-%d %H:%M')\n",
    "\n",
    "    print(f'{to_str(t0)} Подбор модели завершится приблизительно за {delta} мин, в {to_str(eta)}')\n",
    "    gama.fit(X_train, y_train)\n",
    "    t1 = dt.datetime.now()\n",
    "    print(f'{to_str(t1)} Модель подобрана, score={gama.score(X_train, y_train)}')\n",
    "\n",
    "    return gama"
   ]
  },
  {
   "cell_type": "markdown",
   "metadata": {},
   "source": [
    "## Подбор с AsynchronousSuccessiveHalving "
   ]
  },
  {
   "cell_type": "code",
   "execution_count": 10,
   "metadata": {},
   "outputs": [
    {
     "name": "stdout",
     "output_type": "stream",
     "text": [
      "Обучающая выборка: (1164, 67)\n",
      "Тестовая выборка:  (292, 67)\n"
     ]
    }
   ],
   "source": [
    "# Загружаем обучающие и тестовые данные, уже очищенные от неверных значений\n",
    "\n",
    "X_train = pd.read_csv(ROOT_PATH / 'data/processed/train_X__pipe_main_fittedon_train_1.csv')\n",
    "y_train = pd.read_csv(ROOT_PATH / 'data/processed/train_y_1.csv')\n",
    "\n",
    "print('Обучающая выборка:', X_train.shape)\n",
    "\n",
    "X_test = pd.read_csv(ROOT_PATH / 'data/processed/test_X__pipe_main_fittedon_train_1.csv')\n",
    "y_test = pd.read_csv(ROOT_PATH / 'data/processed/test_y_1.csv')\n",
    "\n",
    "print('Тестовая выборка: ', X_test.shape)"
   ]
  },
  {
   "cell_type": "code",
   "execution_count": 11,
   "metadata": {},
   "outputs": [
    {
     "name": "stdout",
     "output_type": "stream",
     "text": [
      "2023-11-21 08:39 Подбор модели завершится приблизительно за 60.0 мин, в 2023-11-21 09:39\n",
      "2023-11-21 09:33 Модель подобрана, score=0.0\n",
      "Подобранная модель сохранена в файл: ..\\models\\predictors\\gama_ASH_3600s_2.py\n"
     ]
    }
   ],
   "source": [
    "# Подбираем модель\n",
    "\n",
    "MAX_TOTAL_TIME = 60 * 60  # sec\n",
    "N_JOBS = 6\n",
    "MODEL_NAME = f'gama_ASH_{MAX_TOTAL_TIME}s'\n",
    "\n",
    "gama = select_pipe(\n",
    "    X_train,\n",
    "    y_train,\n",
    "    search=AsynchronousSuccessiveHalving(),\n",
    "    max_total_time=MAX_TOTAL_TIME,\n",
    "    n_jobs=N_JOBS,\n",
    ")\n",
    "\n",
    "# сохраняем подобранную модель в файл\n",
    "file_py = ROOT_PATH / f'models/predictors/{MODEL_NAME}_{NOTEBOOK_ID}.py'\n",
    "gama.export_script(file_py)\n",
    "print(f'Подобранная модель сохранена в файл: {file_py}')"
   ]
  },
  {
   "cell_type": "code",
   "execution_count": 12,
   "metadata": {},
   "outputs": [
    {
     "name": "stdout",
     "output_type": "stream",
     "text": [
      "Ноутбук завершен: 2023-11-21 09:33:58.376988\n"
     ]
    }
   ],
   "source": [
    "# Если ничего не напечаталось - то не дошли сюда, и где-то в ноутбуке ошибка\n",
    "import datetime as dt\n",
    "print('Ноутбук завершен:', dt.datetime.now())"
   ]
  }
 ],
 "metadata": {
  "kernelspec": {
   "display_name": "jupyter",
   "language": "python",
   "name": "python3"
  },
  "language_info": {
   "codemirror_mode": {
    "name": "ipython",
    "version": 3
   },
   "file_extension": ".py",
   "mimetype": "text/x-python",
   "name": "python",
   "nbconvert_exporter": "python",
   "pygments_lexer": "ipython3",
   "version": "3.11.6"
  }
 },
 "nbformat": 4,
 "nbformat_minor": 2
}
