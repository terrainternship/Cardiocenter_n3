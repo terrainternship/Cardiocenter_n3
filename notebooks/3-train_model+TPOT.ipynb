{
 "cells": [
  {
   "cell_type": "markdown",
   "id": "58cb5d08",
   "metadata": {},
   "source": [
    "# Обучение модели"
   ]
  },
  {
   "cell_type": "code",
   "execution_count": 13,
   "id": "df4fdc5b",
   "metadata": {},
   "outputs": [],
   "source": [
    "%reload_ext autoreload\n",
    "%autoreload 2\n",
    "\n",
    "from _shared import *\n",
    "\n",
    "NOTEBOOK_ID = '3'\n",
    "name = 'gama_ASH_1_AS'  # GAMA + Asynchronous Successive Halving Algorithm + 1 + Andrey Sovtsov \n",
    "\n",
    "# Отключаем печать некоторых предупреждений\n",
    "import warnings\n",
    "warnings.simplefilter(action='ignore', category=FutureWarning)"
   ]
  },
  {
   "cell_type": "code",
   "execution_count": 7,
   "id": "682a53d7",
   "metadata": {
    "ExecuteTime": {
     "end_time": "2023-10-13T17:22:01.809457Z",
     "start_time": "2023-10-13T17:22:00.992199Z"
    }
   },
   "outputs": [],
   "source": [
    "import importlib.util\n",
    "import sys\n",
    "\n",
    "import dill\n",
    "import pandas as pd\n",
    "\n",
    "import uai.data\n",
    "import uai.models"
   ]
  },
  {
   "cell_type": "code",
   "execution_count": 8,
   "id": "2f7063ee",
   "metadata": {
    "ExecuteTime": {
     "end_time": "2023-10-13T17:22:39.142967Z",
     "start_time": "2023-10-13T17:22:39.136193Z"
    }
   },
   "outputs": [
    {
     "data": {
      "text/html": [
       "<div>\n",
       "<style scoped>\n",
       "    .dataframe tbody tr th:only-of-type {\n",
       "        vertical-align: middle;\n",
       "    }\n",
       "\n",
       "    .dataframe tbody tr th {\n",
       "        vertical-align: top;\n",
       "    }\n",
       "\n",
       "    .dataframe thead th {\n",
       "        text-align: right;\n",
       "    }\n",
       "</style>\n",
       "<table border=\"1\" class=\"dataframe\">\n",
       "  <thead>\n",
       "    <tr style=\"text-align: right;\">\n",
       "      <th></th>\n",
       "      <th>id</th>\n",
       "      <th>age</th>\n",
       "      <th>dose</th>\n",
       "      <th>prev_INR(MHO)</th>\n",
       "      <th>atrial_fibrillation</th>\n",
       "      <th>mitral_valve</th>\n",
       "      <th>aortal_valve</th>\n",
       "      <th>date_diff</th>\n",
       "      <th>INR(MHO)</th>\n",
       "      <th>sample</th>\n",
       "      <th>...</th>\n",
       "      <th>institution_id_22</th>\n",
       "      <th>institution_id_23</th>\n",
       "      <th>institution_id_24</th>\n",
       "      <th>institution_id_25</th>\n",
       "      <th>institution_id_26</th>\n",
       "      <th>institution_id_27</th>\n",
       "      <th>institution_id_28</th>\n",
       "      <th>institution_id_29</th>\n",
       "      <th>institution_id_30</th>\n",
       "      <th>institution_id_31</th>\n",
       "    </tr>\n",
       "  </thead>\n",
       "  <tbody>\n",
       "    <tr>\n",
       "      <th>0</th>\n",
       "      <td>140361892057136</td>\n",
       "      <td>57</td>\n",
       "      <td>7.5</td>\n",
       "      <td>3.11</td>\n",
       "      <td>1</td>\n",
       "      <td>0</td>\n",
       "      <td>0</td>\n",
       "      <td>13.0</td>\n",
       "      <td>3.32</td>\n",
       "      <td>1</td>\n",
       "      <td>...</td>\n",
       "      <td>0</td>\n",
       "      <td>0</td>\n",
       "      <td>0</td>\n",
       "      <td>0</td>\n",
       "      <td>0</td>\n",
       "      <td>0</td>\n",
       "      <td>0</td>\n",
       "      <td>0</td>\n",
       "      <td>0</td>\n",
       "      <td>0</td>\n",
       "    </tr>\n",
       "    <tr>\n",
       "      <th>1</th>\n",
       "      <td>140361892057136</td>\n",
       "      <td>57</td>\n",
       "      <td>7.5</td>\n",
       "      <td>3.32</td>\n",
       "      <td>1</td>\n",
       "      <td>0</td>\n",
       "      <td>0</td>\n",
       "      <td>15.0</td>\n",
       "      <td>2.01</td>\n",
       "      <td>2</td>\n",
       "      <td>...</td>\n",
       "      <td>0</td>\n",
       "      <td>0</td>\n",
       "      <td>0</td>\n",
       "      <td>0</td>\n",
       "      <td>0</td>\n",
       "      <td>0</td>\n",
       "      <td>0</td>\n",
       "      <td>0</td>\n",
       "      <td>0</td>\n",
       "      <td>0</td>\n",
       "    </tr>\n",
       "    <tr>\n",
       "      <th>2</th>\n",
       "      <td>140361892057264</td>\n",
       "      <td>50</td>\n",
       "      <td>5.0</td>\n",
       "      <td>2.01</td>\n",
       "      <td>0</td>\n",
       "      <td>1</td>\n",
       "      <td>0</td>\n",
       "      <td>26.0</td>\n",
       "      <td>2.75</td>\n",
       "      <td>1</td>\n",
       "      <td>...</td>\n",
       "      <td>0</td>\n",
       "      <td>0</td>\n",
       "      <td>0</td>\n",
       "      <td>0</td>\n",
       "      <td>0</td>\n",
       "      <td>0</td>\n",
       "      <td>0</td>\n",
       "      <td>0</td>\n",
       "      <td>0</td>\n",
       "      <td>0</td>\n",
       "    </tr>\n",
       "  </tbody>\n",
       "</table>\n",
       "<p>3 rows × 87 columns</p>\n",
       "</div>"
      ],
      "text/plain": [
       "                id  age  dose  prev_INR(MHO)  atrial_fibrillation  \\\n",
       "0  140361892057136   57   7.5           3.11                    1   \n",
       "1  140361892057136   57   7.5           3.32                    1   \n",
       "2  140361892057264   50   5.0           2.01                    0   \n",
       "\n",
       "   mitral_valve  aortal_valve  date_diff  INR(MHO)  sample  ...  \\\n",
       "0             0             0       13.0      3.32       1  ...   \n",
       "1             0             0       15.0      2.01       2  ...   \n",
       "2             1             0       26.0      2.75       1  ...   \n",
       "\n",
       "   institution_id_22  institution_id_23  institution_id_24  institution_id_25  \\\n",
       "0                  0                  0                  0                  0   \n",
       "1                  0                  0                  0                  0   \n",
       "2                  0                  0                  0                  0   \n",
       "\n",
       "   institution_id_26  institution_id_27  institution_id_28  institution_id_29  \\\n",
       "0                  0                  0                  0                  0   \n",
       "1                  0                  0                  0                  0   \n",
       "2                  0                  0                  0                  0   \n",
       "\n",
       "   institution_id_30  institution_id_31  \n",
       "0                  0                  0  \n",
       "1                  0                  0  \n",
       "2                  0                  0  \n",
       "\n",
       "[3 rows x 87 columns]"
      ]
     },
     "execution_count": 8,
     "metadata": {},
     "output_type": "execute_result"
    }
   ],
   "source": [
    "df = pd.read_csv(ROOT_PATH / 'data/processed/data_for_model_1.csv')\n",
    "df.head(3)"
   ]
  },
  {
   "cell_type": "code",
   "execution_count": 9,
   "id": "55d45989",
   "metadata": {},
   "outputs": [],
   "source": [
    "# Делим исходные данные на тренировочную и тестовую выборки\n",
    "\n",
    "X_train, X_test, y_train, y_test = uai.data.custom_train_test_split(df, RANDOM_SEED)"
   ]
  },
  {
   "cell_type": "code",
   "execution_count": 10,
   "id": "19652730",
   "metadata": {},
   "outputs": [
    {
     "data": {
      "text/html": [
       "<style>#sk-container-id-1 {color: black;background-color: white;}#sk-container-id-1 pre{padding: 0;}#sk-container-id-1 div.sk-toggleable {background-color: white;}#sk-container-id-1 label.sk-toggleable__label {cursor: pointer;display: block;width: 100%;margin-bottom: 0;padding: 0.3em;box-sizing: border-box;text-align: center;}#sk-container-id-1 label.sk-toggleable__label-arrow:before {content: \"▸\";float: left;margin-right: 0.25em;color: #696969;}#sk-container-id-1 label.sk-toggleable__label-arrow:hover:before {color: black;}#sk-container-id-1 div.sk-estimator:hover label.sk-toggleable__label-arrow:before {color: black;}#sk-container-id-1 div.sk-toggleable__content {max-height: 0;max-width: 0;overflow: hidden;text-align: left;background-color: #f0f8ff;}#sk-container-id-1 div.sk-toggleable__content pre {margin: 0.2em;color: black;border-radius: 0.25em;background-color: #f0f8ff;}#sk-container-id-1 input.sk-toggleable__control:checked~div.sk-toggleable__content {max-height: 200px;max-width: 100%;overflow: auto;}#sk-container-id-1 input.sk-toggleable__control:checked~label.sk-toggleable__label-arrow:before {content: \"▾\";}#sk-container-id-1 div.sk-estimator input.sk-toggleable__control:checked~label.sk-toggleable__label {background-color: #d4ebff;}#sk-container-id-1 div.sk-label input.sk-toggleable__control:checked~label.sk-toggleable__label {background-color: #d4ebff;}#sk-container-id-1 input.sk-hidden--visually {border: 0;clip: rect(1px 1px 1px 1px);clip: rect(1px, 1px, 1px, 1px);height: 1px;margin: -1px;overflow: hidden;padding: 0;position: absolute;width: 1px;}#sk-container-id-1 div.sk-estimator {font-family: monospace;background-color: #f0f8ff;border: 1px dotted black;border-radius: 0.25em;box-sizing: border-box;margin-bottom: 0.5em;}#sk-container-id-1 div.sk-estimator:hover {background-color: #d4ebff;}#sk-container-id-1 div.sk-parallel-item::after {content: \"\";width: 100%;border-bottom: 1px solid gray;flex-grow: 1;}#sk-container-id-1 div.sk-label:hover label.sk-toggleable__label {background-color: #d4ebff;}#sk-container-id-1 div.sk-serial::before {content: \"\";position: absolute;border-left: 1px solid gray;box-sizing: border-box;top: 0;bottom: 0;left: 50%;z-index: 0;}#sk-container-id-1 div.sk-serial {display: flex;flex-direction: column;align-items: center;background-color: white;padding-right: 0.2em;padding-left: 0.2em;position: relative;}#sk-container-id-1 div.sk-item {position: relative;z-index: 1;}#sk-container-id-1 div.sk-parallel {display: flex;align-items: stretch;justify-content: center;background-color: white;position: relative;}#sk-container-id-1 div.sk-item::before, #sk-container-id-1 div.sk-parallel-item::before {content: \"\";position: absolute;border-left: 1px solid gray;box-sizing: border-box;top: 0;bottom: 0;left: 50%;z-index: -1;}#sk-container-id-1 div.sk-parallel-item {display: flex;flex-direction: column;z-index: 1;position: relative;background-color: white;}#sk-container-id-1 div.sk-parallel-item:first-child::after {align-self: flex-end;width: 50%;}#sk-container-id-1 div.sk-parallel-item:last-child::after {align-self: flex-start;width: 50%;}#sk-container-id-1 div.sk-parallel-item:only-child::after {width: 0;}#sk-container-id-1 div.sk-dashed-wrapped {border: 1px dashed gray;margin: 0 0.4em 0.5em 0.4em;box-sizing: border-box;padding-bottom: 0.4em;background-color: white;}#sk-container-id-1 div.sk-label label {font-family: monospace;font-weight: bold;display: inline-block;line-height: 1.2em;}#sk-container-id-1 div.sk-label-container {text-align: center;}#sk-container-id-1 div.sk-container {/* jupyter's `normalize.less` sets `[hidden] { display: none; }` but bootstrap.min.css set `[hidden] { display: none !important; }` so we also need the `!important` here to be able to override the default hidden behavior on the sphinx rendered scikit-learn.org. See: https://github.com/scikit-learn/scikit-learn/issues/21755 */display: inline-block !important;position: relative;}#sk-container-id-1 div.sk-text-repr-fallback {display: none;}</style><div id=\"sk-container-id-1\" class=\"sk-top-container\"><div class=\"sk-text-repr-fallback\"><pre>Pipeline(steps=[(&#x27;ord-enc&#x27;, OrdinalEncoder(cols=[], drop_invariant=True)),\n",
       "                (&#x27;oh-enc&#x27;, OneHotEncoder(cols=[])),\n",
       "                (&#x27;target_enc&#x27;, TargetEncoder(cols=[])),\n",
       "                (&#x27;imputation&#x27;, SimpleImputer(strategy=&#x27;median&#x27;)),\n",
       "                (&#x27;1&#x27;,\n",
       "                 FeatureAgglomeration(affinity=&#x27;manhattan&#x27;, linkage=&#x27;average&#x27;)),\n",
       "                (&#x27;0&#x27;,\n",
       "                 KNeighborsRegressor(n_neighbors=93, p=1, weights=&#x27;distance&#x27;))])</pre><b>In a Jupyter environment, please rerun this cell to show the HTML representation or trust the notebook. <br />On GitHub, the HTML representation is unable to render, please try loading this page with nbviewer.org.</b></div><div class=\"sk-container\" hidden><div class=\"sk-item sk-dashed-wrapped\"><div class=\"sk-label-container\"><div class=\"sk-label sk-toggleable\"><input class=\"sk-toggleable__control sk-hidden--visually\" id=\"sk-estimator-id-1\" type=\"checkbox\" ><label for=\"sk-estimator-id-1\" class=\"sk-toggleable__label sk-toggleable__label-arrow\">Pipeline</label><div class=\"sk-toggleable__content\"><pre>Pipeline(steps=[(&#x27;ord-enc&#x27;, OrdinalEncoder(cols=[], drop_invariant=True)),\n",
       "                (&#x27;oh-enc&#x27;, OneHotEncoder(cols=[])),\n",
       "                (&#x27;target_enc&#x27;, TargetEncoder(cols=[])),\n",
       "                (&#x27;imputation&#x27;, SimpleImputer(strategy=&#x27;median&#x27;)),\n",
       "                (&#x27;1&#x27;,\n",
       "                 FeatureAgglomeration(affinity=&#x27;manhattan&#x27;, linkage=&#x27;average&#x27;)),\n",
       "                (&#x27;0&#x27;,\n",
       "                 KNeighborsRegressor(n_neighbors=93, p=1, weights=&#x27;distance&#x27;))])</pre></div></div></div><div class=\"sk-serial\"><div class=\"sk-item\"><div class=\"sk-estimator sk-toggleable\"><input class=\"sk-toggleable__control sk-hidden--visually\" id=\"sk-estimator-id-2\" type=\"checkbox\" ><label for=\"sk-estimator-id-2\" class=\"sk-toggleable__label sk-toggleable__label-arrow\">OrdinalEncoder</label><div class=\"sk-toggleable__content\"><pre>OrdinalEncoder(cols=[], drop_invariant=True)</pre></div></div></div><div class=\"sk-item\"><div class=\"sk-estimator sk-toggleable\"><input class=\"sk-toggleable__control sk-hidden--visually\" id=\"sk-estimator-id-3\" type=\"checkbox\" ><label for=\"sk-estimator-id-3\" class=\"sk-toggleable__label sk-toggleable__label-arrow\">OneHotEncoder</label><div class=\"sk-toggleable__content\"><pre>OneHotEncoder(cols=[])</pre></div></div></div><div class=\"sk-item\"><div class=\"sk-estimator sk-toggleable\"><input class=\"sk-toggleable__control sk-hidden--visually\" id=\"sk-estimator-id-4\" type=\"checkbox\" ><label for=\"sk-estimator-id-4\" class=\"sk-toggleable__label sk-toggleable__label-arrow\">TargetEncoder</label><div class=\"sk-toggleable__content\"><pre>TargetEncoder(cols=[])</pre></div></div></div><div class=\"sk-item\"><div class=\"sk-estimator sk-toggleable\"><input class=\"sk-toggleable__control sk-hidden--visually\" id=\"sk-estimator-id-5\" type=\"checkbox\" ><label for=\"sk-estimator-id-5\" class=\"sk-toggleable__label sk-toggleable__label-arrow\">SimpleImputer</label><div class=\"sk-toggleable__content\"><pre>SimpleImputer(strategy=&#x27;median&#x27;)</pre></div></div></div><div class=\"sk-item\"><div class=\"sk-estimator sk-toggleable\"><input class=\"sk-toggleable__control sk-hidden--visually\" id=\"sk-estimator-id-6\" type=\"checkbox\" ><label for=\"sk-estimator-id-6\" class=\"sk-toggleable__label sk-toggleable__label-arrow\">FeatureAgglomeration</label><div class=\"sk-toggleable__content\"><pre>FeatureAgglomeration(affinity=&#x27;manhattan&#x27;, linkage=&#x27;average&#x27;)</pre></div></div></div><div class=\"sk-item\"><div class=\"sk-estimator sk-toggleable\"><input class=\"sk-toggleable__control sk-hidden--visually\" id=\"sk-estimator-id-7\" type=\"checkbox\" ><label for=\"sk-estimator-id-7\" class=\"sk-toggleable__label sk-toggleable__label-arrow\">KNeighborsRegressor</label><div class=\"sk-toggleable__content\"><pre>KNeighborsRegressor(n_neighbors=93, p=1, weights=&#x27;distance&#x27;)</pre></div></div></div></div></div></div></div>"
      ],
      "text/plain": [
       "Pipeline(steps=[('ord-enc', OrdinalEncoder(cols=[], drop_invariant=True)),\n",
       "                ('oh-enc', OneHotEncoder(cols=[])),\n",
       "                ('target_enc', TargetEncoder(cols=[])),\n",
       "                ('imputation', SimpleImputer(strategy='median')),\n",
       "                ('1',\n",
       "                 FeatureAgglomeration(affinity='manhattan', linkage='average')),\n",
       "                ('0',\n",
       "                 KNeighborsRegressor(n_neighbors=93, p=1, weights='distance'))])"
      ]
     },
     "execution_count": 10,
     "metadata": {},
     "output_type": "execute_result"
    }
   ],
   "source": [
    "# Загружаем еще не обученный пайплайн, существующий пока в виде кода на Питоне\n",
    "\n",
    "spec = importlib.util.spec_from_file_location(\n",
    "    name,\n",
    "    ROOT_PATH / f'models/{name}.py'\n",
    ")\n",
    "module = importlib.util.module_from_spec(spec)\n",
    "sys.modules[name] = module\n",
    "spec.loader.exec_module(module)\n",
    "pipe = module.pipeline\n",
    "pipe"
   ]
  },
  {
   "cell_type": "markdown",
   "id": "cfc222fc",
   "metadata": {},
   "source": [
    "Следующий код извлекает пайплайн из файла, экпортированного из TPOT в ноутбуке 2-create_model+TPOT"
   ]
  },
  {
   "cell_type": "code",
   "execution_count": 14,
   "id": "44fbf30e",
   "metadata": {},
   "outputs": [],
   "source": [
    "import importlib.util\n",
    "import sys\n",
    "from pathlib import Path\n",
    "import re\n",
    "\n",
    "name = 'TPOT_20gen_20populaton'  \n",
    "pipeline_path = ROOT_PATH / f'models/{name}.py'\n",
    "\n",
    "\n",
    "with open(pipeline_path, 'r') as file:\n",
    "    file_content = file.read()\n",
    "\n",
    "# извлечение только импортов и pipeline\n",
    "imports_and_pipeline = re.findall(r'^(import .+|from .+|exported_pipeline = .+)$', file_content, re.MULTILINE)\n",
    "\n",
    "code_to_execute = \"\\n\".join(imports_and_pipeline)\n",
    "\n",
    "module = importlib.util.module_from_spec(importlib.util.spec_from_loader(name, loader=None))\n",
    "\n",
    "exec(code_to_execute, module.__dict__)\n",
    "\n",
    "pipe = module.exported_pipeline\n",
    "pipe"
   ]
  },
  {
   "cell_type": "code",
   "execution_count": 16,
   "id": "fd408bc9",
   "metadata": {
    "ExecuteTime": {
     "end_time": "2023-10-13T17:22:40.636893Z",
     "start_time": "2023-10-13T17:22:40.448112Z"
    }
   },
   "outputs": [
    {
     "name": "stdout",
     "output_type": "stream",
     "text": [
      "Средняя абсолютная ошибка (MAE):                         0.61\n",
      "Среднеквадратичная ошибка (MSE):                         0.86\n",
      "Коэффициент детерминации (R^2):                          0.65\n",
      "Средняя абсолютная процентная ошибка (MAPE):            20.99%\n",
      "Доля предсказаний с отклонением не более 0,5 мг:        58.22%\n"
     ]
    }
   ],
   "source": [
    "# Обучение пайплайна \n",
    "\n",
    "pipe.fit(X_train, y_train)\n",
    "\n",
    "### Прогноз и расчет точности на полном наборе данных\n",
    "# X_test = df.drop(columns=features2remove, axis=1)\n",
    "# y_test = df['dose']\n",
    "\n",
    "# Предсказание\n",
    "predictions = pipe.predict(X_test)\n",
    "rpredictions = [round(x, 3) for x in predictions]  # округление до точности исходных данных\n",
    "\n",
    "scores = uai.models.calculate_metrics(rpredictions, y_test)\n",
    "uai.models.print_metrics(scores)"
   ]
  },
  {
   "cell_type": "markdown",
   "id": "c0dd6eed",
   "metadata": {},
   "source": [
    "Лучшие значения из экспериментов Андрея Совцова (просто для сравнения):\n",
    "```\n",
    "Средняя абсолютная ошибка (MAE):                         0.36\n",
    "Среднеквадратичная ошибка (MSE):                         0.66\n",
    "Коэффициент детерминации (R^2):                          0.73\n",
    "Средняя абсолютная процентная ошибка (MAPE):            13.32%\n",
    "Доля предсказаний с отклонением не более 0,5 мг:        72.60%\n",
    "```"
   ]
  },
  {
   "cell_type": "code",
   "execution_count": 7,
   "id": "4af70fe4",
   "metadata": {},
   "outputs": [
    {
     "data": {
      "image/png": "[encoded data removed]",
      "text/plain": [
       "<Figure size 640x480 with 2 Axes>"
      ]
     },
     "metadata": {},
     "output_type": "display_data"
    }
   ],
   "source": [
    "uai.models.plot_predictions(rpredictions, y_test)"
   ]
  },
  {
   "cell_type": "code",
   "execution_count": 17,
   "id": "b4af37ca",
   "metadata": {},
   "outputs": [],
   "source": [
    "# Сохраняем обученную модель в файл\n",
    "\n",
    "fname = ROOT_PATH / f'models/{name}.dill'\n",
    "with open(fname, 'wb') as f:\n",
    "    dill.dump(pipe, f, recurse=True)"
   ]
  },
  {
   "cell_type": "code",
   "execution_count": 9,
   "id": "767561cc",
   "metadata": {},
   "outputs": [
    {
     "name": "stdout",
     "output_type": "stream",
     "text": [
      "Ноутбук завершен: 2023-11-05 03:04:41.459216\n"
     ]
    }
   ],
   "source": [
    "# Если ничего не напечаталось - то не дошли сюда, и где-то в ноутбуке ошибка\n",
    "import datetime as dt\n",
    "print('Ноутбук завершен:', dt.datetime.now())"
   ]
  }
 ],
 "metadata": {
  "kernelspec": {
   "display_name": "Python 3 (ipykernel)",
   "language": "python",
   "name": "python3"
  },
  "language_info": {
   "codemirror_mode": {
    "name": "ipython",
    "version": 3
   },
   "file_extension": ".py",
   "mimetype": "text/x-python",
   "name": "python",
   "nbconvert_exporter": "python",
   "pygments_lexer": "ipython3",
   "version": "3.10.13"
  },
  "toc": {
   "base_numbering": 1,
   "nav_menu": {
    "height": "420.994px",
    "width": "744.986px"
   },
   "number_sections": true,
   "sideBar": true,
   "skip_h1_title": false,
   "title_cell": "Table of Contents",
   "title_sidebar": "Contents",
   "toc_cell": false,
   "toc_position": {},
   "toc_section_display": true,
   "toc_window_display": false
  },
  "varInspector": {
   "cols": {
    "lenName": 16,
    "lenType": 16,
    "lenVar": 40
   },
   "kernels_config": {
    "python": {
     "delete_cmd_postfix": "",
     "delete_cmd_prefix": "del ",
     "library": "var_list.py",
     "varRefreshCmd": "print(var_dic_list())"
    },
    "r": {
     "delete_cmd_postfix": ") ",
     "delete_cmd_prefix": "rm(",
     "library": "var_list.r",
     "varRefreshCmd": "cat(var_dic_list()) "
    }
   },
   "types_to_exclude": [
    "module",
    "function",
    "builtin_function_or_method",
    "instance",
    "_Feature"
   ],
   "window_display": false
  }
 },
 "nbformat": 4,
 "nbformat_minor": 5
}
