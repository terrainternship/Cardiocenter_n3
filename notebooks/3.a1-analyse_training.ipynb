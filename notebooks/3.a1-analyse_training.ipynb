{
 "cells": [
  {
   "cell_type": "markdown",
   "id": "58cb5d08",
   "metadata": {},
   "source": [
    "# Анализ обученной модели"
   ]
  },
  {
   "cell_type": "code",
   "execution_count": 1,
   "id": "df4fdc5b",
   "metadata": {},
   "outputs": [],
   "source": [
    "%reload_ext autoreload\n",
    "%autoreload 2\n",
    "\n",
    "from pathlib import Path\n",
    "\n",
    "RANDOM_SEED = 0  # для воспроизводимости результатов\n",
    "ROOT_PATH = Path('..')  # путь к корню проекта\n",
    "\n",
    "# Отключаем печать некоторых предупреждений\n",
    "import warnings\n",
    "warnings.simplefilter(action='ignore', category=FutureWarning)"
   ]
  },
  {
   "cell_type": "code",
   "execution_count": 2,
   "id": "682a53d7",
   "metadata": {
    "ExecuteTime": {
     "end_time": "2023-10-13T17:22:01.809457Z",
     "start_time": "2023-10-13T17:22:00.992199Z"
    }
   },
   "outputs": [],
   "source": [
    "import dill\n",
    "import pandas as pd\n",
    "\n",
    "import uai.data\n",
    "import uai.models"
   ]
  },
  {
   "cell_type": "code",
   "execution_count": 3,
   "metadata": {},
   "outputs": [
    {
     "name": "stdout",
     "output_type": "stream",
     "text": [
      "<class 'pandas.core.frame.DataFrame'>\n",
      "RangeIndex: 294 entries, 0 to 293\n",
      "Data columns (total 18 columns):\n",
      " #   Column               Non-Null Count  Dtype  \n",
      "---  ------               --------------  -----  \n",
      " 0   institution          294 non-null    object \n",
      " 1   id                   294 non-null    int64  \n",
      " 2   gender               294 non-null    int64  \n",
      " 3   age                  294 non-null    int64  \n",
      " 4   dose                 294 non-null    float64\n",
      " 5   date_analyse         294 non-null    object \n",
      " 6   prev_INR(MHO)        294 non-null    float64\n",
      " 7   atrial_fibrillation  294 non-null    int64  \n",
      " 8   mitral_valve         294 non-null    int64  \n",
      " 9   aortal_valve         294 non-null    int64  \n",
      " 10  date_diff            294 non-null    float64\n",
      " 11  INR(MHO)             294 non-null    float64\n",
      " 12  sample               294 non-null    int64  \n",
      " 13  pass_dose            294 non-null    int64  \n",
      " 14  institution_id       294 non-null    int64  \n",
      " 15  diagnos              294 non-null    object \n",
      " 16  sss                  67 non-null     object \n",
      " 17  birthdate            294 non-null    object \n",
      "dtypes: float64(4), int64(9), object(5)\n",
      "memory usage: 41.5+ KB\n"
     ]
    }
   ],
   "source": [
    "df = pd.read_csv(ROOT_PATH / 'data/interim/test_1.csv')\n",
    "df.info()"
   ]
  },
  {
   "cell_type": "code",
   "execution_count": 11,
   "metadata": {},
   "outputs": [
    {
     "name": "stderr",
     "output_type": "stream",
     "text": [
      "C:\\Users\\victk\\AppData\\Local\\Temp\\ipykernel_20600\\2214013313.py:54: DeprecationWarning: Conversion of an array with ndim > 0 to a scalar is deprecated, and will error in future. Ensure you extract a single element from your array before performing this operation. (Deprecated NumPy 1.25.)\n"
     ]
    },
    {
     "ename": "ValueError",
     "evalue": "columns are missing: {'dose'}",
     "output_type": "error",
     "traceback": [
      "\u001b[1;31m---------------------------------------------------------------------------\u001b[0m",
      "\u001b[1;31mValueError\u001b[0m                                Traceback (most recent call last)",
      "\u001b[1;32mc:\\victk\\x\\uai\\Cardio\\Cardiocenter_n3\\notebooks\\3.a1-analyse_training.ipynb Cell 5\u001b[0m line \u001b[0;36m8\n\u001b[0;32m      <a href='vscode-notebook-cell:/c%3A/victk/x/uai/Cardio/Cardiocenter_n3/notebooks/3.a1-analyse_training.ipynb#W4sZmlsZQ%3D%3D?line=4'>5</a>\u001b[0m \u001b[39mwith\u001b[39;00m \u001b[39mopen\u001b[39m(ROOT_PATH \u001b[39m/\u001b[39m \u001b[39m'\u001b[39m\u001b[39mmodels/datapipes/main_fittedon_train_1.dill\u001b[39m\u001b[39m'\u001b[39m, \u001b[39m'\u001b[39m\u001b[39mrb\u001b[39m\u001b[39m'\u001b[39m) \u001b[39mas\u001b[39;00m f:    \n\u001b[0;32m      <a href='vscode-notebook-cell:/c%3A/victk/x/uai/Cardio/Cardiocenter_n3/notebooks/3.a1-analyse_training.ipynb#W4sZmlsZQ%3D%3D?line=5'>6</a>\u001b[0m     datapipe \u001b[39m=\u001b[39m dill\u001b[39m.\u001b[39mload(f)\n\u001b[1;32m----> <a href='vscode-notebook-cell:/c%3A/victk/x/uai/Cardio/Cardiocenter_n3/notebooks/3.a1-analyse_training.ipynb#W4sZmlsZQ%3D%3D?line=7'>8</a>\u001b[0m ready_for_model_df \u001b[39m=\u001b[39m datapipe\u001b[39m.\u001b[39;49mtransform(user_X)\n\u001b[0;32m     <a href='vscode-notebook-cell:/c%3A/victk/x/uai/Cardio/Cardiocenter_n3/notebooks/3.a1-analyse_training.ipynb#W4sZmlsZQ%3D%3D?line=9'>10</a>\u001b[0m \u001b[39m# загружаем уже настроенную модель\u001b[39;00m\n\u001b[0;32m     <a href='vscode-notebook-cell:/c%3A/victk/x/uai/Cardio/Cardiocenter_n3/notebooks/3.a1-analyse_training.ipynb#W4sZmlsZQ%3D%3D?line=10'>11</a>\u001b[0m \u001b[39mwith\u001b[39;00m \u001b[39mopen\u001b[39m(ROOT_PATH \u001b[39m/\u001b[39m \u001b[39m'\u001b[39m\u001b[39mmodels/predictors/gama_ASH_AS_2_fittedon_train_3.dill\u001b[39m\u001b[39m'\u001b[39m, \u001b[39m'\u001b[39m\u001b[39mrb\u001b[39m\u001b[39m'\u001b[39m) \u001b[39mas\u001b[39;00m f:\n",
      "File \u001b[1;32mc:\\Users\\victk\\envs\\jupyter-py311\\Lib\\site-packages\\sklearn\\pipeline.py:696\u001b[0m, in \u001b[0;36mPipeline.transform\u001b[1;34m(self, X)\u001b[0m\n\u001b[0;32m    694\u001b[0m Xt \u001b[39m=\u001b[39m X\n\u001b[0;32m    695\u001b[0m \u001b[39mfor\u001b[39;00m _, _, transform \u001b[39min\u001b[39;00m \u001b[39mself\u001b[39m\u001b[39m.\u001b[39m_iter():\n\u001b[1;32m--> 696\u001b[0m     Xt \u001b[39m=\u001b[39m transform\u001b[39m.\u001b[39;49mtransform(Xt)\n\u001b[0;32m    697\u001b[0m \u001b[39mreturn\u001b[39;00m Xt\n",
      "File \u001b[1;32mc:\\Users\\victk\\envs\\jupyter-py311\\Lib\\site-packages\\sklearn\\utils\\_set_output.py:157\u001b[0m, in \u001b[0;36m_wrap_method_output.<locals>.wrapped\u001b[1;34m(self, X, *args, **kwargs)\u001b[0m\n\u001b[0;32m    155\u001b[0m \u001b[39m@wraps\u001b[39m(f)\n\u001b[0;32m    156\u001b[0m \u001b[39mdef\u001b[39;00m \u001b[39mwrapped\u001b[39m(\u001b[39mself\u001b[39m, X, \u001b[39m*\u001b[39margs, \u001b[39m*\u001b[39m\u001b[39m*\u001b[39mkwargs):\n\u001b[1;32m--> 157\u001b[0m     data_to_wrap \u001b[39m=\u001b[39m f(\u001b[39mself\u001b[39;49m, X, \u001b[39m*\u001b[39;49margs, \u001b[39m*\u001b[39;49m\u001b[39m*\u001b[39;49mkwargs)\n\u001b[0;32m    158\u001b[0m     \u001b[39mif\u001b[39;00m \u001b[39misinstance\u001b[39m(data_to_wrap, \u001b[39mtuple\u001b[39m):\n\u001b[0;32m    159\u001b[0m         \u001b[39m# only wrap the first output for cross decomposition\u001b[39;00m\n\u001b[0;32m    160\u001b[0m         return_tuple \u001b[39m=\u001b[39m (\n\u001b[0;32m    161\u001b[0m             _wrap_data_with_container(method, data_to_wrap[\u001b[39m0\u001b[39m], X, \u001b[39mself\u001b[39m),\n\u001b[0;32m    162\u001b[0m             \u001b[39m*\u001b[39mdata_to_wrap[\u001b[39m1\u001b[39m:],\n\u001b[0;32m    163\u001b[0m         )\n",
      "File \u001b[1;32mc:\\Users\\victk\\envs\\jupyter-py311\\Lib\\site-packages\\sklearn\\compose\\_column_transformer.py:821\u001b[0m, in \u001b[0;36mColumnTransformer.transform\u001b[1;34m(self, X)\u001b[0m\n\u001b[0;32m    819\u001b[0m     diff \u001b[39m=\u001b[39m all_names \u001b[39m-\u001b[39m \u001b[39mset\u001b[39m(X\u001b[39m.\u001b[39mcolumns)\n\u001b[0;32m    820\u001b[0m     \u001b[39mif\u001b[39;00m diff:\n\u001b[1;32m--> 821\u001b[0m         \u001b[39mraise\u001b[39;00m \u001b[39mValueError\u001b[39;00m(\u001b[39mf\u001b[39m\u001b[39m\"\u001b[39m\u001b[39mcolumns are missing: \u001b[39m\u001b[39m{\u001b[39;00mdiff\u001b[39m}\u001b[39;00m\u001b[39m\"\u001b[39m)\n\u001b[0;32m    822\u001b[0m \u001b[39melse\u001b[39;00m:\n\u001b[0;32m    823\u001b[0m     \u001b[39m# ndarray was used for fitting or transforming, thus we only\u001b[39;00m\n\u001b[0;32m    824\u001b[0m     \u001b[39m# check that n_features_in_ is consistent\u001b[39;00m\n\u001b[0;32m    825\u001b[0m     \u001b[39mself\u001b[39m\u001b[39m.\u001b[39m_check_n_features(X, reset\u001b[39m=\u001b[39m\u001b[39mFalse\u001b[39;00m)\n",
      "\u001b[1;31mValueError\u001b[0m: columns are missing: {'dose'}"
     ]
    }
   ],
   "source": [
    "user_df = pd.read_csv(ROOT_PATH / 'data/interim/test_1.csv')\n",
    "user_X, _ = uai.data.to_X_y(user_df)\n",
    "\n",
    "# загружаем пайплайн для обработки данных\n",
    "with open(ROOT_PATH / 'models/datapipes/main_fittedon_train_1.dill', 'rb') as f:    \n",
    "    datapipe = dill.load(f)\n",
    "\n",
    "ready_for_model_df = datapipe.transform(user_X)\n",
    "\n",
    "# загружаем уже настроенную модель\n",
    "with open(ROOT_PATH / 'models/predictors/gama_ASH_AS_2_fittedon_train_3.dill', 'rb') as f:\n",
    "    model = dill.load(f)\n",
    "\n",
    "# предсказываем\n",
    "y_pred = model.predict(ready_for_model_df)"
   ]
  },
  {
   "cell_type": "code",
   "execution_count": 7,
   "metadata": {},
   "outputs": [],
   "source": [
    "\n",
    "\n",
    "with open(ROOT_PATH / 'models/predictors/gama_ASH_AS_2.dill', 'rb') as f:\n",
    "    model = dill.load(f)"
   ]
  },
  {
   "cell_type": "code",
   "execution_count": 9,
   "metadata": {},
   "outputs": [
    {
     "name": "stdout",
     "output_type": "stream",
     "text": [
      "Средняя абсолютная ошибка (MAE):                         0.38\n",
      "Среднеквадратичная ошибка (MSE):                         0.66\n",
      "Коэффициент детерминации (R^2):                          0.73\n",
      "Средняя абсолютная процентная ошибка (MAPE):            13.61%\n",
      "Доля предсказаний с отклонением не более 0,5 мг:        72.26%\n"
     ]
    }
   ],
   "source": [
    "# Качество предсказаний на тестовой выборке\n",
    "\n",
    "y_pred = model.predict(X_test)\n",
    "scores = uai.models.calculate_metrics(y_pred, y_test)\n",
    "uai.models.print_metrics(scores)"
   ]
  },
  {
   "cell_type": "code",
   "execution_count": 7,
   "metadata": {},
   "outputs": [
    {
     "data": {
      "image/png": "[encoded data removed]",
      "text/plain": [
       "<Figure size 640x480 with 2 Axes>"
      ]
     },
     "metadata": {},
     "output_type": "display_data"
    }
   ],
   "source": [
    "uai.models.plot_predictions(y_pred, y_test)"
   ]
  },
  {
   "cell_type": "code",
   "execution_count": 8,
   "metadata": {},
   "outputs": [
    {
     "name": "stdout",
     "output_type": "stream",
     "text": [
      "Ноутбук завершен: 2023-11-07 13:57:11.058630\n"
     ]
    }
   ],
   "source": [
    "# Если ничего не напечаталось - то не дошли сюда, и где-то в ноутбуке ошибка\n",
    "import datetime as dt\n",
    "print('Ноутбук завершен:', dt.datetime.now())"
   ]
  }
 ],
 "metadata": {
  "kernelspec": {
   "display_name": "Python 3 (ipykernel)",
   "language": "python",
   "name": "python3"
  },
  "language_info": {
   "codemirror_mode": {
    "name": "ipython",
    "version": 3
   },
   "file_extension": ".py",
   "mimetype": "text/x-python",
   "name": "python",
   "nbconvert_exporter": "python",
   "pygments_lexer": "ipython3",
   "version": "3.11.6"
  },
  "toc": {
   "base_numbering": 1,
   "nav_menu": {
    "height": "420.994px",
    "width": "744.986px"
   },
   "number_sections": true,
   "sideBar": true,
   "skip_h1_title": false,
   "title_cell": "Table of Contents",
   "title_sidebar": "Contents",
   "toc_cell": false,
   "toc_position": {},
   "toc_section_display": true,
   "toc_window_display": false
  },
  "varInspector": {
   "cols": {
    "lenName": 16,
    "lenType": 16,
    "lenVar": 40
   },
   "kernels_config": {
    "python": {
     "delete_cmd_postfix": "",
     "delete_cmd_prefix": "del ",
     "library": "var_list.py",
     "varRefreshCmd": "print(var_dic_list())"
    },
    "r": {
     "delete_cmd_postfix": ") ",
     "delete_cmd_prefix": "rm(",
     "library": "var_list.r",
     "varRefreshCmd": "cat(var_dic_list()) "
    }
   },
   "types_to_exclude": [
    "module",
    "function",
    "builtin_function_or_method",
    "instance",
    "_Feature"
   ],
   "window_display": false
  }
 },
 "nbformat": 4,
 "nbformat_minor": 5
}
