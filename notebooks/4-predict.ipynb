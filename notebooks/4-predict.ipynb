{
 "cells": [
  {
   "cell_type": "markdown",
   "metadata": {},
   "source": [
    "# Пример предсказания модели\n",
    "\n",
    "В директории dist на основании кода этого ноутбука сделан пример, который можно показывать заказчику.\n",
    "\n",
    "Этот ноутбук не использует наши пакеты (uai.*), и, как следствие, код из dist - тоже. Поэтому достаточно передать папку dist."
   ]
  },
  {
   "cell_type": "code",
   "execution_count": 1,
   "metadata": {},
   "outputs": [],
   "source": [
    "from pathlib import Path\n",
    "\n",
    "ROOT_PATH = Path('..')  # путь к корню проекта"
   ]
  },
  {
   "cell_type": "code",
   "execution_count": 2,
   "metadata": {},
   "outputs": [],
   "source": [
    "import dill\n",
    "import numpy as np\n",
    "import pandas as pd"
   ]
  },
  {
   "cell_type": "code",
   "execution_count": 3,
   "metadata": {},
   "outputs": [],
   "source": [
    "# Загружаем модели\n",
    "\n",
    "with open(ROOT_PATH / 'models/datapipes/main_fittedon_train_1.dill', 'rb') as f:\n",
    "    datapipe = dill.load(f)\n",
    "\n",
    "with open(ROOT_PATH / 'models/predictors/gama_ASH_600s_2_fittedon_train_3.dill', 'rb') as f:\n",
    "    model = dill.load(f)"
   ]
  },
  {
   "cell_type": "code",
   "execution_count": 4,
   "metadata": {},
   "outputs": [
    {
     "name": "stdout",
     "output_type": "stream",
     "text": [
      "Предсказания:\n",
      "array([[4.379],\n",
      "       [3.872],\n",
      "       [2.456],\n",
      "       [3.064],\n",
      "       [3.936]])\n"
     ]
    },
    {
     "name": "stderr",
     "output_type": "stream",
     "text": [
      "C:\\Users\\victk\\AppData\\Local\\Temp\\ipykernel_15852\\2214013313.py:54: DeprecationWarning: Conversion of an array with ndim > 0 to a scalar is deprecated, and will error in future. Ensure you extract a single element from your array before performing this operation. (Deprecated NumPy 1.25.)\n"
     ]
    }
   ],
   "source": [
    "# Предсказываем на новых данных\n",
    "\n",
    "X = pd.read_csv(ROOT_PATH / 'data/raw/example.csv')\n",
    "\n",
    "X_for_model = datapipe.transform(X)\n",
    "\n",
    "y_pred = model.predict(X_for_model)\n",
    "y_pred_rounded = np.round(y_pred, 3)\n",
    "\n",
    "print('Предсказания:')\n",
    "print(repr(y_pred_rounded))"
   ]
  }
 ],
 "metadata": {
  "kernelspec": {
   "display_name": "jupyter",
   "language": "python",
   "name": "python3"
  },
  "language_info": {
   "codemirror_mode": {
    "name": "ipython",
    "version": 3
   },
   "file_extension": ".py",
   "mimetype": "text/x-python",
   "name": "python",
   "nbconvert_exporter": "python",
   "pygments_lexer": "ipython3",
   "version": "3.11.6"
  }
 },
 "nbformat": 4,
 "nbformat_minor": 2
}
