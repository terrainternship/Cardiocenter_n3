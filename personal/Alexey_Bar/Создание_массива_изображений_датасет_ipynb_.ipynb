{
  "nbformat": 4,
  "nbformat_minor": 0,
  "metadata": {
    "colab": {
      "provenance": []
    },
    "kernelspec": {
      "name": "python3",
      "display_name": "Python 3"
    },
    "language_info": {
      "name": "python"
    }
  },
  "cells": [
    {
      "cell_type": "markdown",
      "source": [
        "Создание массива выборки"
      ],
      "metadata": {
        "id": "P-Hbq_BCXsoK"
      }
    },
    {
      "cell_type": "code",
      "source": [
        "import os\n",
        "import cv2\n",
        "import numpy as np\n",
        "import gdown"
      ],
      "metadata": {
        "id": "kpbb6EnDhHvX"
      },
      "execution_count": 4,
      "outputs": []
    },
    {
      "cell_type": "code",
      "source": [
        "#https://drive.google.com/file/d/1qQtdHZ3N8GtXUgQbXn_nl3hvnb-bLpBY/view?usp=sharing\n",
        "#https://drive.google.com/file/d/1qQtdHZ3N8GtXUgQbXn_nl3hvnb-bLpBY/view?usp=drive_link\n",
        "file_id = \"1qQtdHZ3N8GtXUgQbXn_nl3hvnb-bLpBY\"\n",
        "#gdown.download(\"https://drive.google.com/uc?id=1qQtdHZ3N8GtXUgQbXn_nl3hvnb-bLpBY\", None, quiet=False)\n",
        "gdown.download(\"https://drive.google.com/uc?export=download&confirm=no_antivirus&id=1qQtdHZ3N8GtXUgQbXn_nl3hvnb-bLpBY\", None, quiet=False)\n",
        "#https://drive.google.com/uc?export=download&confirm=no_antivirus&id=1qQtdHZ3N8GtXUgQbXn_nl3hvnb-bLpBY\n",
        "\n",
        "\n",
        "!unzip -q Buh.zip"
      ],
      "metadata": {
        "colab": {
          "base_uri": "https://localhost:8080/"
        },
        "id": "s3i14La98kwA",
        "outputId": "d5a07898-2002-4388-e36c-29c2768455b8"
      },
      "execution_count": 23,
      "outputs": [
        {
          "output_type": "stream",
          "name": "stderr",
          "text": [
            "Downloading...\n",
            "From: https://drive.google.com/uc?export=download&confirm=no_antivirus&id=1qQtdHZ3N8GtXUgQbXn_nl3hvnb-bLpBY\n",
            "To: /content/Buh.zip\n",
            "100%|██████████| 8.21M/8.21M [00:00<00:00, 41.0MB/s]\n"
          ]
        }
      ]
    },
    {
      "cell_type": "code",
      "source": [
        "\n",
        "\n",
        "# Путь к папке с изображениями\n",
        "folder_path = \"/content/Buh\"\n",
        "\n",
        "# Создание списка для хранения изображений и меток\n",
        "images = []\n",
        "labels = []\n",
        "\n",
        "# Цикл для перебора файлов в папке\n",
        "for filename in os.listdir(folder_path):\n",
        "    if filename.endswith(\".png\"):  # Проверка, что файл - изображение формата JPEG (можно изменить на нужный формат)\n",
        "        image_path = os.path.join(folder_path, filename)\n",
        "        label = filename.split(\"_\")[0]  # Пример получения метки из имени файла\n",
        "\n",
        "        # Загрузка изображения с помощью OpenCV\n",
        "        image = cv2.imread(image_path)\n",
        "\n",
        "        # Преобразование изображения, если нужно (нормализация, изменение размера и т.д.)\n",
        "        image = cv2.resize(image, (100, 100))\n",
        "        print(image)\n",
        "        image = cv2.cvtColor(image, cv2.COLOR_BGR2GRAY)## преобразовать в серый цвет\n",
        "        image = image / 255.0  # Нормализация значений пикселей от 0 до 1\n",
        "\n",
        "        # Добавление изображения и метки в списки\n",
        "        images.append(image)\n",
        "        labels.append(label)\n",
        "\n",
        "# Преобразование списков в массивы NumPy\n",
        "images = np.array(images)\n",
        "labels = np.array(labels)\n",
        "\n",
        "# Вывод размерности массивов\n",
        "print(\"Размеры массива изображений:\", images.shape)\n",
        "print(\"Размеры массива меток:\", labels.shape)\n",
        ""
      ],
      "metadata": {
        "id": "Tyjj-Sw7XjzY"
      },
      "execution_count": null,
      "outputs": []
    },
    {
      "cell_type": "markdown",
      "source": [
        "Работа с картинками"
      ],
      "metadata": {
        "id": "z2rwqX86XnHY"
      }
    },
    {
      "cell_type": "code",
      "execution_count": null,
      "metadata": {
        "id": "AQY3rnmGE7jC"
      },
      "outputs": [],
      "source": [
        "# pip3 install pillow\n",
        "#import PIL\n",
        "from PIL import Image\n",
        "import sys"
      ]
    },
    {
      "cell_type": "code",
      "source": [
        "image = Image.open('1-Buhanka.png')\n",
        "image.show()\n",
        "image"
      ],
      "metadata": {
        "id": "-GMcVmyRK7nT"
      },
      "execution_count": null,
      "outputs": []
    },
    {
      "cell_type": "markdown",
      "source": [
        "крутить\n"
      ],
      "metadata": {
        "id": "Y19njPzz0T1Z"
      }
    },
    {
      "cell_type": "code",
      "source": [
        "try:\n",
        "    tatras = Image.open(\"1-Buhanka.png\")\n",
        "except IOError:\n",
        "    print(\"Unable to load image\")\n",
        "    sys.exit(1)\n",
        "\n",
        "rotated = tatras.rotate(180)\n",
        "rotated.save('tatras_rotated.png')"
      ],
      "metadata": {
        "id": "iAvtzpkULreu"
      },
      "execution_count": null,
      "outputs": []
    },
    {
      "cell_type": "markdown",
      "source": [
        "размыть"
      ],
      "metadata": {
        "id": "iTrpuwfO032v"
      }
    },
    {
      "cell_type": "code",
      "source": [
        "# from PIL import Image, ImageFilter\n",
        "from PIL import ImageFilter\n",
        "from PIL import Image\n",
        "\n",
        "image = Image.open('1-Buhanka.png')\n",
        "blurred_jelly = image.filter(ImageFilter.BLUR)\n",
        "#blurred_jelly = image.filter(ImageFilter.BoxBlur(5))\n",
        "blurred_jelly.save('Buh1.png')\n",
        "image = blurred_jelly\n",
        "image"
      ],
      "metadata": {
        "id": "L4ds6q_XNQ7Q"
      },
      "execution_count": null,
      "outputs": []
    },
    {
      "cell_type": "markdown",
      "source": [
        ". Pillow меняет резкость картинки следующим образом:"
      ],
      "metadata": {
        "id": "Lzph3IpIOC1i"
      }
    },
    {
      "cell_type": "code",
      "source": [
        "from PIL import ImageFilter\n",
        "from PIL import Image\n",
        "\n",
        "image = Image.open('/content/Buh1.png')\n",
        "blurred_jelly = image.filter(ImageFilter.SHARPEN)\n",
        "blurred_jelly.save('/content/Buh1.png')"
      ],
      "metadata": {
        "id": "FP5vUb3xOGO1"
      },
      "execution_count": null,
      "outputs": []
    },
    {
      "cell_type": "markdown",
      "source": [
        "Создаем черно-белое изображение GrayScale в Pillow"
      ],
      "metadata": {
        "id": "rW1Cx53fQWsz"
      }
    },
    {
      "cell_type": "code",
      "source": [
        "from PIL import Image\n",
        "import sys\n",
        "\n",
        "try:\n",
        "    tatras = Image.open(\"Buh1.png\")\n",
        "except IOError:\n",
        "    print(\"Unable to load image\")\n",
        "    sys.exit(1)\n",
        "\n",
        "grayscale = tatras.convert('L')\n",
        "grayscale.save('/content/Buh4.png')"
      ],
      "metadata": {
        "id": "AILBK1vcQXzz"
      },
      "execution_count": null,
      "outputs": []
    },
    {
      "cell_type": "markdown",
      "source": [
        "Можно изменить длину и ширину изображения при помощи метода resize(). В данном примере будут показаны три примера изменения размера:\n",
        "\n",
        "Изменение размера изображения имея ширину и высоту;\n",
        "Изменение ширины с учетом пропорций для высоты;\n",
        "Изменение высоты пропорционально ширине.\n",
        "Изменение размера изображения имея ширину и высоту"
      ],
      "metadata": {
        "id": "JkOgxsKxR6lM"
      }
    },
    {
      "cell_type": "markdown",
      "source": [
        "Изменение ширины с учетом пропорций для новой высоты изображения\n"
      ],
      "metadata": {
        "id": "-3CxH5_DSai_"
      }
    },
    {
      "cell_type": "code",
      "source": [
        "from PIL import Image\n",
        "\n",
        "image = Image.open(\"Buh2.png\")\n",
        "\n",
        "width, height = tatras.size\n",
        "new_width  = 100 # ширина\n",
        "new_height = int(new_width * height / width)\n",
        "\n",
        "image = image.resize((new_width, new_height), Image.ANTIALIAS)\n",
        "image.save('/content/Buh2.png')"
      ],
      "metadata": {
        "colab": {
          "base_uri": "https://localhost:8080/"
        },
        "id": "cxz3WwDKR7x7",
        "outputId": "271d7610-b0d8-4f74-ee3a-6a59539257dd"
      },
      "execution_count": null,
      "outputs": [
        {
          "output_type": "stream",
          "name": "stderr",
          "text": [
            "<ipython-input-57-64c7d312a0ff>:9: DeprecationWarning: ANTIALIAS is deprecated and will be removed in Pillow 10 (2023-07-01). Use LANCZOS or Resampling.LANCZOS instead.\n",
            "  tatras = tatras.resize((new_width, new_height), Image.ANTIALIAS)\n"
          ]
        }
      ]
    },
    {
      "cell_type": "markdown",
      "source": [
        "Создание миниатюр. С помощью метода thumbnail() можно изменить размер изображения с сохранением соотношения сторон."
      ],
      "metadata": {
        "id": "59FYoT-01N6m"
      }
    },
    {
      "cell_type": "code",
      "source": [
        "image = Image.open('1-Buhanka.png')\n",
        "image.thumbnail((200, 200))\n",
        "image.save('Buh3.png')"
      ],
      "metadata": {
        "id": "BXVuyhtw1GAN"
      },
      "execution_count": null,
      "outputs": []
    },
    {
      "cell_type": "code",
      "source": [
        "print(image.size)"
      ],
      "metadata": {
        "colab": {
          "base_uri": "https://localhost:8080/"
        },
        "id": "tQVfImk0TDjR",
        "outputId": "79bc49b8-0222-4ed1-bfa9-f181879e9acb"
      },
      "execution_count": null,
      "outputs": [
        {
          "output_type": "stream",
          "name": "stdout",
          "text": [
            "(200, 200)\n"
          ]
        }
      ]
    },
    {
      "cell_type": "markdown",
      "source": [
        "Отражение и поворот изображений"
      ],
      "metadata": {
        "id": "05ng9i0c2uwM"
      }
    },
    {
      "cell_type": "code",
      "source": [
        "from PIL import Image\n",
        "image = Image.open('Buh3.png')\n",
        "#image = image.transpose(Image.FLIP_TOP_BOTTOM)\n",
        "image = image.transpose(Image.FLIP_LEFT_RIGHT)\n",
        "#image = image.transpose(Image.ROTATE_90 )\n",
        "image.save('Buh3.png')TRANSPOSE\n",
        "Источник: https://tonais.ru/library/perevorot-izobrazheniya-po-vertikali-i-gorizontali-v-pillow-python"
      ],
      "metadata": {
        "id": "P1NNPSID2zDy"
      },
      "execution_count": null,
      "outputs": []
    },
    {
      "cell_type": "code",
      "source": [
        "from PIL import Image\n",
        "try:\n",
        "    im = Image.open(\"1-Buhanka.png\")\n",
        "except IOError:\n",
        "    print(\"Unable to load image\")\n",
        "    sys.exit(1)\n",
        "\n",
        "width, height = im.size\n",
        "new_width  = 500 # ширина\n",
        "new_height = int(new_width * height / width)\n",
        "im = im.resize((new_width, new_height), Image.ANTIALIAS)\n",
        "im.save('Buh3.png', quality=95)\n"
      ],
      "metadata": {
        "colab": {
          "base_uri": "https://localhost:8080/"
        },
        "id": "91NZBV9b3NWW",
        "outputId": "51ea04d7-8732-46e5-e561-513490dab8e9"
      },
      "execution_count": null,
      "outputs": [
        {
          "output_type": "stream",
          "name": "stderr",
          "text": [
            "<ipython-input-123-dad9772eda5b>:11: DeprecationWarning: ANTIALIAS is deprecated and will be removed in Pillow 10 (2023-07-01). Use LANCZOS or Resampling.LANCZOS instead.\n",
            "  im = im.resize((new_width, new_height), Image.ANTIALIAS)\n"
          ]
        }
      ]
    },
    {
      "cell_type": "code",
      "source": [
        "from PIL import Image\n",
        "\n",
        "im = Image.open(\"Buh3.png\")\n",
        "#im_rotate = im.rotate(45, translate=(100, 50), expand=True) # вращение со смещением картинки\n",
        "# С помощью фильтра Image.BICUBIC детали изображения станут более четким,\n",
        "#  чем в случае использования фильтра по умолчанию Image.NEAREST.\n",
        "# im_rotate = im.rotate(15, expand=True, resample=Image.BICUBIC)#более четким\n",
        "im_rotate = im.rotate(15, expand=True, resample=Image.BILINEAR)#более гладким\n",
        "im = im.filter(ImageFilter.SHARPEN) #изменение резкости\n",
        "im_rotate.save('Buh3.png', quality=95)\n",
        "\n",
        "im_rotate\n",
        "\n",
        "#im.show()\n",
        "# im.close()\n"
      ],
      "metadata": {
        "colab": {
          "base_uri": "https://localhost:8080/",
          "height": 245
        },
        "id": "f9HW91Tm_5Sg",
        "outputId": "ce413556-8316-4255-e619-08edee787f97"
      },
      "execution_count": null,
      "outputs": [
        {
          "output_type": "error",
          "ename": "NameError",
          "evalue": "ignored",
          "traceback": [
            "\u001b[0;31m---------------------------------------------------------------------------\u001b[0m",
            "\u001b[0;31mNameError\u001b[0m                                 Traceback (most recent call last)",
            "\u001b[0;32m<ipython-input-129-fe8dac599aa1>\u001b[0m in \u001b[0;36m<cell line: 13>\u001b[0;34m()\u001b[0m\n\u001b[1;32m     11\u001b[0m \u001b[0;34m\u001b[0m\u001b[0m\n\u001b[1;32m     12\u001b[0m \u001b[0;34m\u001b[0m\u001b[0m\n\u001b[0;32m---> 13\u001b[0;31m \u001b[0moriginal\u001b[0m\u001b[0;34m.\u001b[0m\u001b[0mshow\u001b[0m\u001b[0;34m(\u001b[0m\u001b[0;34m)\u001b[0m\u001b[0;34m\u001b[0m\u001b[0;34m\u001b[0m\u001b[0m\n\u001b[0m\u001b[1;32m     14\u001b[0m \u001b[0mim_rotate\u001b[0m\u001b[0;34m.\u001b[0m\u001b[0mshow\u001b[0m\u001b[0;34m(\u001b[0m\u001b[0;34m)\u001b[0m\u001b[0;34m\u001b[0m\u001b[0;34m\u001b[0m\u001b[0m\n\u001b[1;32m     15\u001b[0m \u001b[0;31m#im.show()\u001b[0m\u001b[0;34m\u001b[0m\u001b[0;34m\u001b[0m\u001b[0m\n",
            "\u001b[0;31mNameError\u001b[0m: name 'original' is not defined"
          ]
        }
      ]
    }
  ]
}