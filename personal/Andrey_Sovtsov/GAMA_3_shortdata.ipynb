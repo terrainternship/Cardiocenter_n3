{
 "cells": [
  {
   "cell_type": "code",
   "execution_count": 1,
   "id": "17b278c9",
   "metadata": {
    "ExecuteTime": {
     "end_time": "2023-10-12T18:58:23.065565Z",
     "start_time": "2023-10-12T18:58:22.411334Z"
    }
   },
   "outputs": [],
   "source": [
    "# pip instal gama\n",
    "import pandas as pd\n",
    "import numpy as np"
   ]
  },
  {
   "cell_type": "code",
   "execution_count": 2,
   "id": "ba98dd93",
   "metadata": {
    "ExecuteTime": {
     "end_time": "2023-10-12T18:58:27.291473Z",
     "start_time": "2023-10-12T18:58:27.276310Z"
    }
   },
   "outputs": [],
   "source": [
    "# Функция Отклонение (лет) от критического возраста: critical_age_l - младше порога; critical_age_h - старше порога\n",
    "\n",
    "critical_age_threshold = 40  # принятый порог критического возраста\n",
    "\n",
    "def critical_age(df,tr_age=critical_age_threshold):\n",
    "    if 'age' in df.columns and 'int' in df.age.dtype.name:\n",
    "        df['critical_age_l']=df['age'].apply(lambda x: tr_age - x if x < tr_age else 0 ).astype('int8')\n",
    "        df['critical_age_h']=df['age'].apply(lambda x: x - tr_age if x > tr_age else 0  ).astype('int8')\n",
    "    return df"
   ]
  },
  {
   "cell_type": "code",
   "execution_count": 3,
   "id": "93dab1d2",
   "metadata": {
    "ExecuteTime": {
     "end_time": "2023-10-12T18:58:34.770110Z",
     "start_time": "2023-10-12T18:58:33.901196Z"
    }
   },
   "outputs": [
    {
     "data": {
      "text/html": [
       "<div>\n",
       "<style scoped>\n",
       "    .dataframe tbody tr th:only-of-type {\n",
       "        vertical-align: middle;\n",
       "    }\n",
       "\n",
       "    .dataframe tbody tr th {\n",
       "        vertical-align: top;\n",
       "    }\n",
       "\n",
       "    .dataframe thead th {\n",
       "        text-align: right;\n",
       "    }\n",
       "</style>\n",
       "<table border=\"1\" class=\"dataframe\">\n",
       "  <thead>\n",
       "    <tr style=\"text-align: right;\">\n",
       "      <th></th>\n",
       "      <th>id</th>\n",
       "      <th>gender</th>\n",
       "      <th>age</th>\n",
       "      <th>dose</th>\n",
       "      <th>prev_INR(MHO)</th>\n",
       "      <th>atrial_fibrillation</th>\n",
       "      <th>mitral_valve</th>\n",
       "      <th>aortal_valve</th>\n",
       "      <th>date_diff</th>\n",
       "      <th>INR(MHO)</th>\n",
       "      <th>sample</th>\n",
       "      <th>pass_dose</th>\n",
       "      <th>institution_id</th>\n",
       "      <th>critical_age_l</th>\n",
       "      <th>critical_age_h</th>\n",
       "      <th>trend</th>\n",
       "    </tr>\n",
       "  </thead>\n",
       "  <tbody>\n",
       "    <tr>\n",
       "      <th>0</th>\n",
       "      <td>140361892057136</td>\n",
       "      <td>0</td>\n",
       "      <td>57</td>\n",
       "      <td>7.50</td>\n",
       "      <td>3.11</td>\n",
       "      <td>1</td>\n",
       "      <td>0</td>\n",
       "      <td>0</td>\n",
       "      <td>13.0</td>\n",
       "      <td>3.32</td>\n",
       "      <td>1</td>\n",
       "      <td>0</td>\n",
       "      <td>20</td>\n",
       "      <td>0</td>\n",
       "      <td>17</td>\n",
       "      <td>0.21</td>\n",
       "    </tr>\n",
       "    <tr>\n",
       "      <th>1</th>\n",
       "      <td>140361892057136</td>\n",
       "      <td>0</td>\n",
       "      <td>57</td>\n",
       "      <td>7.50</td>\n",
       "      <td>3.32</td>\n",
       "      <td>1</td>\n",
       "      <td>0</td>\n",
       "      <td>0</td>\n",
       "      <td>15.0</td>\n",
       "      <td>2.01</td>\n",
       "      <td>2</td>\n",
       "      <td>0</td>\n",
       "      <td>20</td>\n",
       "      <td>0</td>\n",
       "      <td>17</td>\n",
       "      <td>-1.31</td>\n",
       "    </tr>\n",
       "    <tr>\n",
       "      <th>2</th>\n",
       "      <td>140361892057264</td>\n",
       "      <td>1</td>\n",
       "      <td>50</td>\n",
       "      <td>5.00</td>\n",
       "      <td>2.01</td>\n",
       "      <td>0</td>\n",
       "      <td>1</td>\n",
       "      <td>0</td>\n",
       "      <td>26.0</td>\n",
       "      <td>2.75</td>\n",
       "      <td>1</td>\n",
       "      <td>0</td>\n",
       "      <td>20</td>\n",
       "      <td>0</td>\n",
       "      <td>10</td>\n",
       "      <td>0.74</td>\n",
       "    </tr>\n",
       "    <tr>\n",
       "      <th>3</th>\n",
       "      <td>140361892057392</td>\n",
       "      <td>0</td>\n",
       "      <td>53</td>\n",
       "      <td>6.25</td>\n",
       "      <td>1.42</td>\n",
       "      <td>1</td>\n",
       "      <td>0</td>\n",
       "      <td>0</td>\n",
       "      <td>15.0</td>\n",
       "      <td>2.56</td>\n",
       "      <td>1</td>\n",
       "      <td>0</td>\n",
       "      <td>20</td>\n",
       "      <td>0</td>\n",
       "      <td>13</td>\n",
       "      <td>1.14</td>\n",
       "    </tr>\n",
       "    <tr>\n",
       "      <th>4</th>\n",
       "      <td>140361892057392</td>\n",
       "      <td>0</td>\n",
       "      <td>53</td>\n",
       "      <td>6.25</td>\n",
       "      <td>2.56</td>\n",
       "      <td>1</td>\n",
       "      <td>0</td>\n",
       "      <td>0</td>\n",
       "      <td>49.0</td>\n",
       "      <td>2.80</td>\n",
       "      <td>2</td>\n",
       "      <td>0</td>\n",
       "      <td>20</td>\n",
       "      <td>0</td>\n",
       "      <td>13</td>\n",
       "      <td>0.24</td>\n",
       "    </tr>\n",
       "  </tbody>\n",
       "</table>\n",
       "</div>"
      ],
      "text/plain": [
       "                id  gender  age  dose  prev_INR(MHO)  atrial_fibrillation  \\\n",
       "0  140361892057136       0   57  7.50           3.11                    1   \n",
       "1  140361892057136       0   57  7.50           3.32                    1   \n",
       "2  140361892057264       1   50  5.00           2.01                    0   \n",
       "3  140361892057392       0   53  6.25           1.42                    1   \n",
       "4  140361892057392       0   53  6.25           2.56                    1   \n",
       "\n",
       "   mitral_valve  aortal_valve  date_diff  INR(MHO)  sample  pass_dose  \\\n",
       "0             0             0       13.0      3.32       1          0   \n",
       "1             0             0       15.0      2.01       2          0   \n",
       "2             1             0       26.0      2.75       1          0   \n",
       "3             0             0       15.0      2.56       1          0   \n",
       "4             0             0       49.0      2.80       2          0   \n",
       "\n",
       "   institution_id  critical_age_l  critical_age_h  trend  \n",
       "0              20               0              17   0.21  \n",
       "1              20               0              17  -1.31  \n",
       "2              20               0              10   0.74  \n",
       "3              20               0              13   1.14  \n",
       "4              20               0              13   0.24  "
      ]
     },
     "execution_count": 3,
     "metadata": {},
     "output_type": "execute_result"
    }
   ],
   "source": [
    "df = pd.read_excel('short_data_for_model.xlsx')\n",
    "df = df.dropna()\n",
    "df = critical_age(df,tr_age=40)\n",
    "df['trend'] = df['INR(MHO)'] - df['prev_INR(MHO)']\n",
    "df.head()"
   ]
  },
  {
   "cell_type": "code",
   "execution_count": 4,
   "id": "ea72258f",
   "metadata": {
    "ExecuteTime": {
     "end_time": "2023-10-12T18:58:41.703830Z",
     "start_time": "2023-10-12T18:58:38.501135Z"
    }
   },
   "outputs": [],
   "source": [
    "from sklearn.model_selection import train_test_split\n",
    "from sklearn.metrics import mean_squared_error, r2_score, mean_absolute_error\n",
    "from gama import GamaRegressor\n",
    "from sklearn.model_selection import train_test_split\n",
    "import seaborn as sns\n",
    "import matplotlib.pyplot as plt\n",
    "import logging"
   ]
  },
  {
   "cell_type": "markdown",
   "id": "e5b4a59d",
   "metadata": {},
   "source": [
    "## Вспомогательные подпрограммы"
   ]
  },
  {
   "cell_type": "code",
   "execution_count": 5,
   "id": "4819f39c",
   "metadata": {
    "ExecuteTime": {
     "end_time": "2023-10-12T18:58:42.771738Z",
     "start_time": "2023-10-12T18:58:42.768725Z"
    }
   },
   "outputs": [],
   "source": [
    "\n",
    "RANDOM_STATE = 0\n",
    "MAX_TIME = 180\n",
    "JOBS = 5"
   ]
  },
  {
   "cell_type": "code",
   "execution_count": 6,
   "id": "f03cc44a",
   "metadata": {
    "ExecuteTime": {
     "end_time": "2023-10-12T18:58:45.933622Z",
     "start_time": "2023-10-12T18:58:45.927931Z"
    }
   },
   "outputs": [],
   "source": [
    "def simplified_stratified_split(df, target_column='dose', *, n_bins=4, test_size=0.2, random_state=42):\n",
    "    \"\"\"\n",
    "    Функция разбивает датафрейм на обучающий и тестовый наборы с учетом стратификации по квантильным значениям целевой переменной.\n",
    "\n",
    "    Параметры:\n",
    "    - df (pd.DataFrame): исходный датафрейм\n",
    "    - target_column (str): имя целевого столбца, по которому будет осуществляться стратификация\n",
    "    - n_bins (int): количество интервалов для разделения квантильных значений целевой переменной\n",
    "    - test_size (float): доля данных, которая будет использоваться для тестового набора\n",
    "    - random_state (int): seed для случайности при разбиении\n",
    "\n",
    "    Возвращает:\n",
    "    - train_df (pd.DataFrame): обучающий датафрейм\n",
    "    - test_df (pd.DataFrame): тестовый датафрейм\n",
    "    \"\"\"\n",
    "\n",
    "    # 1. Классификация значений целевой переменной (target_column) по квантилям\n",
    "    binned_target= pd.qcut(df[target_column], q=n_bins, labels=False, duplicates='drop')\n",
    "\n",
    "    # 2. Разбивка индексов датафрейма на обучающую и тестовую выборки с учетом стратификации по квантильным интервалам целевой переменной\n",
    "    train_idx, test_idx = train_test_split(df.index, test_size=test_size, stratify=binned_target, random_state=random_state)\n",
    "\n",
    "    # 3. Разбиение исходного датафрейма на обучающий и тестовый наборы на основе полученных индексов\n",
    "    train_df = df.loc[train_idx]\n",
    "    test_df = df.loc[test_idx]\n",
    "\n",
    "    return train_df, test_df"
   ]
  },
  {
   "cell_type": "code",
   "execution_count": 7,
   "id": "b1e79ec1",
   "metadata": {
    "ExecuteTime": {
     "end_time": "2023-10-12T18:58:47.914425Z",
     "start_time": "2023-10-12T18:58:47.895204Z"
    },
    "scrolled": true
   },
   "outputs": [],
   "source": [
    "def estimateG(predictions, y_test):\n",
    "    # Рассчитываем основные метрики\n",
    "    mae = mean_absolute_error(y_test, predictions)\n",
    "    mse = mean_squared_error(y_test, predictions)\n",
    "    r2 = r2_score(y_test, predictions)\n",
    "    mape_value = np.mean(np.abs((y_test - predictions) / y_test)) * 100\n",
    "    abs_diff = abs(y_test - predictions)\n",
    "    diff_below_threshold = (abs_diff <= 0.5).sum()\n",
    "    total_predictions = len(predictions)\n",
    "    percentage_diff = (diff_below_threshold / total_predictions) * 100\n",
    "\n",
    "    # Выводим результаты\n",
    "    print(\"{:<55} {:>5.2f}\".format(\"Средняя абсолютная ошибка (MAE):\", mae))\n",
    "    print(\"{:<55} {:>5.2f}\".format(\"Среднеквадратичная ошибка (MSE):\", mse))\n",
    "    print(\"{:<55} {:>5.2f}\".format(\"Коэффициент детерминации (R^2):\", r2))\n",
    "    print(\"{:<55} {:>5.2f}%\".format(\"Средняя абсолютная процентная ошибка (MAPE):\", mape_value))\n",
    "    print(\"{:<55} {:>5.2f}%\".format(\"Доля предсказаний с отклонением не более 0,5 мг:\", percentage_diff))\n",
    "    \n",
    "    ae = round(abs(y_test - predictions)/0.5)\n",
    "    col = ae\n",
    "    size = ae*10\n",
    "    plt.scatter(y_test, predictions, marker='o', c=col,  s=size)\n",
    "    plt.title('Сравнение предсказанной и назначенной доз')\n",
    "    \n",
    "    plt.ylabel('Предсказанная доза')\n",
    "    plt.xlabel('Назначенная доза');\n",
    "    plt.grid()\n",
    "    plt.show()\n",
    "    return (mae, mse, r2, mape_value, percentage_diff)"
   ]
  },
  {
   "cell_type": "code",
   "execution_count": 8,
   "id": "035ce6e2",
   "metadata": {
    "ExecuteTime": {
     "end_time": "2023-10-12T18:58:49.681359Z",
     "start_time": "2023-10-12T18:58:49.671377Z"
    }
   },
   "outputs": [],
   "source": [
    "def pipe_select(train_df, test_df, BaseSearch=None,\n",
    "               scoring=('neg_mean_squared_error','r2'),regularize_length=True,\n",
    "               verbose=logging.WARNING, preset='simple'): \n",
    "    X_train = train_df.drop('dose', axis=1)\n",
    "    y_train = train_df['dose']\n",
    "    X_test = test_df.drop('dose', axis=1)\n",
    "    y_test = test_df['dose']\n",
    "\n",
    "    gama = GamaRegressor(search=BaseSearch, max_total_time=MAX_TIME, \n",
    "                         scoring=scoring,                      \n",
    "                         random_state=RANDOM_STATE, \n",
    "                         regularize_length=regularize_length,\n",
    "                         # store=\"logs\",\n",
    "                         preset=preset,\n",
    "                         n_jobs=JOBS, verbosity=verbose)\n",
    "\n",
    "    print(f\"Задание завершится приблизительно через {MAX_TIME / 60} мин.\")\n",
    "    gama.fit(X_train, y_train)\n",
    "    print(gama.score(X_test, y_test))\n",
    "\n",
    "    print(f\"pipeline:\\n{gama.export_script(f'gama_EA{MAX_TIME}.py')}\\n\")\n",
    "    gama.export_script()\n",
    "    \n",
    "    predictions = gama.predict(X_test)\n",
    "\n",
    "    scores = estimateG(predictions, y_test)\n",
    "    return scores, gama"
   ]
  },
  {
   "cell_type": "markdown",
   "id": "8fcbbbd5",
   "metadata": {
    "heading_collapsed": true
   },
   "source": [
    "## Влияние стратификации "
   ]
  },
  {
   "cell_type": "code",
   "execution_count": 9,
   "id": "a865a857",
   "metadata": {
    "ExecuteTime": {
     "end_time": "2023-10-12T15:58:02.305432Z",
     "start_time": "2023-10-12T15:58:02.292206Z"
    },
    "hidden": true
   },
   "outputs": [],
   "source": [
    "def plot_split_hist(train,test, bins=4):\n",
    "    yhist, ybins = np.histogram(test, bins=bins, range=None)\n",
    "    ybins = 0.5 * (ybins[1:] + ybins[:-1])\n",
    "\n",
    "    phist, pbins = np.histogram(train, bins=bins, range=None)\n",
    "    pbins = 0.5 * (pbins[1:] + pbins[:-1])\n",
    "\n",
    "    plt.plot(ybins,yhist, label='Test')\n",
    "    plt.bar(pbins,phist, label='Train')\n",
    "    plt.title('Распределение частей таргета')\n",
    "    plt.xlabel('таргет')\n",
    "    plt.ylabel('Количество')\n",
    "    plt.legend()\n",
    "    plt.tight_layout()\n",
    "    plt.show()"
   ]
  },
  {
   "cell_type": "code",
   "execution_count": 10,
   "id": "cca7ffc3",
   "metadata": {
    "ExecuteTime": {
     "end_time": "2023-10-12T15:58:04.209571Z",
     "start_time": "2023-10-12T15:58:03.867210Z"
    },
    "hidden": true
   },
   "outputs": [
    {
     "name": "stdout",
     "output_type": "stream",
     "text": [
      "Без стратификации\n"
     ]
    },
    {
     "data": {
      "image/png": "[encoded data removed]",
      "text/plain": [
       "<Figure size 640x480 with 1 Axes>"
      ]
     },
     "metadata": {},
     "output_type": "display_data"
    },
    {
     "name": "stdout",
     "output_type": "stream",
     "text": [
      "Со стратификацией\n"
     ]
    },
    {
     "data": {
      "image/png": "[encoded data removed]",
      "text/plain": [
       "<Figure size 640x480 with 1 Axes>"
      ]
     },
     "metadata": {},
     "output_type": "display_data"
    }
   ],
   "source": [
    "# Без стратификации\n",
    "RANDOM_STATE = 0\n",
    "BINS = 5\n",
    "train_df, test_df = train_test_split(df, test_size=0.2, random_state=RANDOM_STATE)  #shuffle=False, \n",
    "\n",
    "y_train = train_df['dose']\n",
    "y_test = test_df['dose']\n",
    "\n",
    "print('Без стратификации')\n",
    "plot_split_hist(y_train, y_test, bins=BINS)\n",
    "\n",
    "# Со стратификацией\n",
    "\n",
    "train_df, test_df = simplified_stratified_split(df, target_column='dose', n_bins=BINS, \n",
    "                                                test_size=0.2, random_state=RANDOM_STATE)\n",
    "\n",
    "y_train = train_df['dose']\n",
    "y_test = test_df['dose']\n",
    "\n",
    "print('Со стратификацией')\n",
    "plot_split_hist(y_train, y_test, bins=BINS)\n"
   ]
  },
  {
   "cell_type": "markdown",
   "id": "fa510f77",
   "metadata": {},
   "source": [
    "## Генетический (эволюционный) поиск"
   ]
  },
  {
   "cell_type": "code",
   "execution_count": 9,
   "id": "921a4da9",
   "metadata": {
    "ExecuteTime": {
     "end_time": "2023-10-12T18:59:08.160532Z",
     "start_time": "2023-10-12T18:59:08.150532Z"
    }
   },
   "outputs": [],
   "source": [
    "from gama.search_methods import AsyncEA\n",
    "\n",
    "RANDOM_STATE = 0\n",
    "MAX_TIME = 600\n",
    "JOBS = 5"
   ]
  },
  {
   "cell_type": "code",
   "execution_count": 14,
   "id": "e644e6c0",
   "metadata": {
    "ExecuteTime": {
     "end_time": "2023-10-12T16:19:56.016561Z",
     "start_time": "2023-10-12T16:10:54.622346Z"
    },
    "scrolled": false
   },
   "outputs": [
    {
     "name": "stdout",
     "output_type": "stream",
     "text": [
      "Задание завершится приблизительно через 10.0 мин.\n",
      "0.7060478198211463\n",
      "pipeline:\n",
      "from sklearn.impute import SimpleImputer\n",
      "from category_encoders.target_encoder import TargetEncoder\n",
      "from category_encoders.one_hot import OneHotEncoder\n",
      "from sklearn.kernel_approximation import Nystroem\n",
      "from category_encoders.ordinal import OrdinalEncoder\n",
      "from sklearn.neighbors import KNeighborsRegressor\n",
      "from numpy import nan\n",
      "from sklearn.pipeline import Pipeline\n",
      "\n",
      "pipeline = Pipeline([('ord-enc', OrdinalEncoder(cols=[], drop_invariant=True)),\n",
      "('oh-enc', OneHotEncoder(cols=[])),\n",
      "('target_enc', TargetEncoder(cols=[])),\n",
      "('imputation', SimpleImputer(strategy='median')),\n",
      "('1', Nystroem(gamma=0.15000000000000002, kernel='poly', n_components=2)),\n",
      "('0', KNeighborsRegressor(n_neighbors=98, p=2, weights='distance'))])\n",
      "\n",
      "\n",
      "Средняя абсолютная ошибка (MAE):                         0.42\n",
      "Среднеквадратичная ошибка (MSE):                         0.71\n",
      "Коэффициент детерминации (R^2):                          0.70\n",
      "Средняя абсолютная процентная ошибка (MAPE):            15.14%\n",
      "Доля предсказаний с отклонением не более 0,5 мг:        68.03%\n"
     ]
    },
    {
     "data": {
      "image/png": "[encoded data removed]",
      "text/plain": [
       "<Figure size 640x480 with 1 Axes>"
      ]
     },
     "metadata": {},
     "output_type": "display_data"
    },
    {
     "name": "stdout",
     "output_type": "stream",
     "text": [
      "(0.4161965700299109, 0.7060478198211463, 0.6979328425964116, 15.139299153304389, 68.02721088435374)\n",
      "pipeline:\n",
      "from sklearn.impute import SimpleImputer\n",
      "from category_encoders.target_encoder import TargetEncoder\n",
      "from category_encoders.one_hot import OneHotEncoder\n",
      "from sklearn.kernel_approximation import Nystroem\n",
      "from category_encoders.ordinal import OrdinalEncoder\n",
      "from sklearn.neighbors import KNeighborsRegressor\n",
      "from numpy import nan\n",
      "from sklearn.pipeline import Pipeline\n",
      "\n",
      "pipeline = Pipeline([('ord-enc', OrdinalEncoder(cols=[], drop_invariant=True)),\n",
      "('oh-enc', OneHotEncoder(cols=[])),\n",
      "('target_enc', TargetEncoder(cols=[])),\n",
      "('imputation', SimpleImputer(strategy='median')),\n",
      "('1', Nystroem(gamma=0.15000000000000002, kernel='poly', n_components=2)),\n",
      "('0', KNeighborsRegressor(n_neighbors=98, p=2, weights='distance'))])\n",
      "\n",
      "\n"
     ]
    }
   ],
   "source": [
    "train_df, test_df = train_test_split(df, test_size=0.2, random_state=RANDOM_STATE)  #shuffle=False, \n",
    "scores, estimator = pipe_select(train_df, test_df, BaseSearch=AsyncEA(population_size=100),\n",
    "               scoring=('neg_mean_squared_error','r2'),regularize_length=True\n",
    "               )\n",
    "print(scores)\n",
    "print(f\"pipeline:\\n{estimator.export_script(f'gama_short_EA{MAX_TIME}.py')}\\n\")\n"
   ]
  },
  {
   "cell_type": "code",
   "execution_count": 15,
   "id": "0d6600ea",
   "metadata": {
    "ExecuteTime": {
     "end_time": "2023-10-12T16:29:37.400720Z",
     "start_time": "2023-10-12T16:20:35.992354Z"
    }
   },
   "outputs": [
    {
     "name": "stdout",
     "output_type": "stream",
     "text": [
      "Задание завершится приблизительно через 10.0 мин.\n",
      "0.9733010931073781\n",
      "pipeline:\n",
      "from sklearn.impute import SimpleImputer\n",
      "from category_encoders.target_encoder import TargetEncoder\n",
      "from category_encoders.one_hot import OneHotEncoder\n",
      "from category_encoders.ordinal import OrdinalEncoder\n",
      "from sklearn.cluster import FeatureAgglomeration\n",
      "from sklearn.neighbors import KNeighborsRegressor\n",
      "from numpy import nan\n",
      "from sklearn.pipeline import Pipeline\n",
      "\n",
      "pipeline = Pipeline([('ord-enc', OrdinalEncoder(cols=[], drop_invariant=True)),\n",
      "('oh-enc', OneHotEncoder(cols=[])),\n",
      "('target_enc', TargetEncoder(cols=[])),\n",
      "('imputation', SimpleImputer(strategy='median')),\n",
      "('1', FeatureAgglomeration(affinity='euclidean', linkage='ward')),\n",
      "('0', KNeighborsRegressor(n_neighbors=78, p=1, weights='distance'))])\n",
      "\n",
      "\n",
      "Средняя абсолютная ошибка (MAE):                         0.44\n",
      "Среднеквадратичная ошибка (MSE):                         0.97\n",
      "Коэффициент детерминации (R^2):                          0.65\n",
      "Средняя абсолютная процентная ошибка (MAPE):            17.16%\n",
      "Доля предсказаний с отклонением не более 0,5 мг:        72.45%\n"
     ]
    },
    {
     "data": {
      "image/png": "[encoded data removed]",
      "text/plain": [
       "<Figure size 640x480 with 1 Axes>"
      ]
     },
     "metadata": {},
     "output_type": "display_data"
    },
    {
     "name": "stdout",
     "output_type": "stream",
     "text": [
      "(0.44472455436171326, 0.9733010931073781, 0.649960975788035, 17.155079741649505, 72.44897959183673)\n",
      "pipeline:\n",
      "from sklearn.impute import SimpleImputer\n",
      "from category_encoders.target_encoder import TargetEncoder\n",
      "from category_encoders.one_hot import OneHotEncoder\n",
      "from category_encoders.ordinal import OrdinalEncoder\n",
      "from sklearn.cluster import FeatureAgglomeration\n",
      "from sklearn.neighbors import KNeighborsRegressor\n",
      "from numpy import nan\n",
      "from sklearn.pipeline import Pipeline\n",
      "\n",
      "pipeline = Pipeline([('ord-enc', OrdinalEncoder(cols=[], drop_invariant=True)),\n",
      "('oh-enc', OneHotEncoder(cols=[])),\n",
      "('target_enc', TargetEncoder(cols=[])),\n",
      "('imputation', SimpleImputer(strategy='median')),\n",
      "('1', FeatureAgglomeration(affinity='euclidean', linkage='ward')),\n",
      "('0', KNeighborsRegressor(n_neighbors=78, p=1, weights='distance'))])\n",
      "\n",
      "\n"
     ]
    }
   ],
   "source": [
    "# Со стратификацией Александра\n",
    "train_df, test_df = simplified_stratified_split(df, target_column='dose', n_bins=4, \n",
    "                                                test_size=0.2, random_state=RANDOM_STATE)\n",
    "\n",
    "scores, estimator = pipe_select(train_df, test_df, BaseSearch=AsyncEA(population_size=100),\n",
    "               scoring=('neg_mean_squared_error','r2'),regularize_length=True\n",
    "               )\n",
    "print(scores)\n",
    "print(f\"pipeline:\\n{estimator.export_script(f'gama_EA_S{MAX_TIME}.py')}\\n\")"
   ]
  },
  {
   "cell_type": "markdown",
   "id": "dc5a4a97",
   "metadata": {},
   "source": [
    "## Подбор с AsynchronousSuccessiveHalving \n"
   ]
  },
  {
   "cell_type": "code",
   "execution_count": 10,
   "id": "93b08bf0",
   "metadata": {
    "ExecuteTime": {
     "end_time": "2023-10-12T19:00:13.241697Z",
     "start_time": "2023-10-12T19:00:13.231696Z"
    }
   },
   "outputs": [],
   "source": [
    "from sklearn.model_selection import train_test_split\n",
    "from sklearn.metrics import mean_squared_error, r2_score, mean_absolute_error\n",
    "from gama import GamaRegressor\n",
    "from sklearn.model_selection import train_test_split\n",
    "from gama.search_methods import AsyncEA\n",
    "from gama.search_methods import AsynchronousSuccessiveHalving"
   ]
  },
  {
   "cell_type": "code",
   "execution_count": 11,
   "id": "1f6a5717",
   "metadata": {
    "ExecuteTime": {
     "end_time": "2023-10-12T19:00:14.571008Z",
     "start_time": "2023-10-12T19:00:14.567017Z"
    }
   },
   "outputs": [],
   "source": [
    "\n",
    "RANDOM_STATE = 0\n",
    "MAX_TIME = 600\n",
    "JOBS = 4"
   ]
  },
  {
   "cell_type": "code",
   "execution_count": 12,
   "id": "a2dccc7c",
   "metadata": {
    "ExecuteTime": {
     "end_time": "2023-10-12T19:09:48.403302Z",
     "start_time": "2023-10-12T19:00:47.151553Z"
    },
    "scrolled": false
   },
   "outputs": [
    {
     "name": "stdout",
     "output_type": "stream",
     "text": [
      "Задание завершится приблизительно через 10.0 мин.\n",
      "0.6416881976216315\n",
      "pipeline:\n",
      "from category_encoders.target_encoder import TargetEncoder\n",
      "from sklearn.neighbors import KNeighborsRegressor\n",
      "from sklearn.impute import SimpleImputer\n",
      "from numpy import nan\n",
      "from sklearn.cluster import FeatureAgglomeration\n",
      "from category_encoders.one_hot import OneHotEncoder\n",
      "from category_encoders.ordinal import OrdinalEncoder\n",
      "from sklearn.pipeline import Pipeline\n",
      "\n",
      "pipeline = Pipeline([('ord-enc', OrdinalEncoder(cols=[], drop_invariant=True)),\n",
      "('oh-enc', OneHotEncoder(cols=[])),\n",
      "('target_enc', TargetEncoder(cols=[])),\n",
      "('imputation', SimpleImputer(strategy='median')),\n",
      "('1', FeatureAgglomeration(affinity='l2', linkage='complete')),\n",
      "('0', KNeighborsRegressor(n_neighbors=24, p=1, weights='distance'))])\n",
      "\n",
      "\n",
      "Средняя абсолютная ошибка (MAE):                         0.42\n",
      "Среднеквадратичная ошибка (MSE):                         0.64\n",
      "Коэффициент детерминации (R^2):                          0.73\n",
      "Средняя абсолютная процентная ошибка (MAPE):            13.02%\n",
      "Доля предсказаний с отклонением не более 0,5 мг:        71.43%\n"
     ]
    },
    {
     "data": {
      "image/png": "[encoded data removed]",
      "text/plain": [
       "<Figure size 640x480 with 1 Axes>"
      ]
     },
     "metadata": {},
     "output_type": "display_data"
    },
    {
     "name": "stdout",
     "output_type": "stream",
     "text": [
      "(0.41932507743189174, 0.6416881976216315, 0.7254677029608285, 13.017314580683875, 71.42857142857143)\n",
      "pipeline:\n",
      "from category_encoders.target_encoder import TargetEncoder\n",
      "from sklearn.neighbors import KNeighborsRegressor\n",
      "from sklearn.impute import SimpleImputer\n",
      "from numpy import nan\n",
      "from sklearn.cluster import FeatureAgglomeration\n",
      "from category_encoders.one_hot import OneHotEncoder\n",
      "from category_encoders.ordinal import OrdinalEncoder\n",
      "from sklearn.pipeline import Pipeline\n",
      "\n",
      "pipeline = Pipeline([('ord-enc', OrdinalEncoder(cols=[], drop_invariant=True)),\n",
      "('oh-enc', OneHotEncoder(cols=[])),\n",
      "('target_enc', TargetEncoder(cols=[])),\n",
      "('imputation', SimpleImputer(strategy='median')),\n",
      "('1', FeatureAgglomeration(affinity='l2', linkage='complete')),\n",
      "('0', KNeighborsRegressor(n_neighbors=24, p=1, weights='distance'))])\n",
      "\n",
      "\n"
     ]
    }
   ],
   "source": [
    "# Без стратификации\n",
    "train_df, test_df = train_test_split(df, test_size=0.2, random_state=RANDOM_STATE)  #shuffle=False, \n",
    "\n",
    "scores, estimator = pipe_select(train_df, test_df, BaseSearch=AsynchronousSuccessiveHalving(),\n",
    "               scoring=('neg_mean_squared_error','r2'),regularize_length=True\n",
    "               )\n",
    "print(scores)\n",
    "print(f\"pipeline:\\n{estimator.export_script(f'gama_short_ASH{MAX_TIME}.py')}\\n\")\n",
    "\n"
   ]
  },
  {
   "cell_type": "code",
   "execution_count": null,
   "id": "8b2113b0",
   "metadata": {},
   "outputs": [],
   "source": [
    "# # Со стратификацией Александра\n",
    "# train_df, test_df = simplified_stratified_split(df, target_column='dose', n_bins=4, \n",
    "#                                                 test_size=0.2, random_state=RANDOM_STATE)\n",
    "# ...."
   ]
  },
  {
   "cell_type": "code",
   "execution_count": null,
   "id": "c7d137a4",
   "metadata": {},
   "outputs": [],
   "source": []
  },
  {
   "cell_type": "markdown",
   "id": "ee178569",
   "metadata": {},
   "source": [
    "## Removed Features"
   ]
  },
  {
   "cell_type": "code",
   "execution_count": 13,
   "id": "c99e4534",
   "metadata": {
    "ExecuteTime": {
     "end_time": "2023-10-12T19:10:27.317849Z",
     "start_time": "2023-10-12T19:10:26.017883Z"
    }
   },
   "outputs": [
    {
     "data": {
      "text/html": [
       "<div>\n",
       "<style scoped>\n",
       "    .dataframe tbody tr th:only-of-type {\n",
       "        vertical-align: middle;\n",
       "    }\n",
       "\n",
       "    .dataframe tbody tr th {\n",
       "        vertical-align: top;\n",
       "    }\n",
       "\n",
       "    .dataframe thead th {\n",
       "        text-align: right;\n",
       "    }\n",
       "</style>\n",
       "<table border=\"1\" class=\"dataframe\">\n",
       "  <thead>\n",
       "    <tr style=\"text-align: right;\">\n",
       "      <th></th>\n",
       "      <th>id</th>\n",
       "      <th>age</th>\n",
       "      <th>dose</th>\n",
       "      <th>prev_INR(MHO)</th>\n",
       "      <th>atrial_fibrillation</th>\n",
       "      <th>mitral_valve</th>\n",
       "      <th>aortal_valve</th>\n",
       "      <th>date_diff</th>\n",
       "      <th>INR(MHO)</th>\n",
       "      <th>sample</th>\n",
       "      <th>...</th>\n",
       "      <th>institution_id_22</th>\n",
       "      <th>institution_id_23</th>\n",
       "      <th>institution_id_24</th>\n",
       "      <th>institution_id_25</th>\n",
       "      <th>institution_id_26</th>\n",
       "      <th>institution_id_27</th>\n",
       "      <th>institution_id_28</th>\n",
       "      <th>institution_id_29</th>\n",
       "      <th>institution_id_30</th>\n",
       "      <th>institution_id_31</th>\n",
       "    </tr>\n",
       "  </thead>\n",
       "  <tbody>\n",
       "    <tr>\n",
       "      <th>0</th>\n",
       "      <td>140361892057136</td>\n",
       "      <td>57</td>\n",
       "      <td>7.50</td>\n",
       "      <td>3.11</td>\n",
       "      <td>1</td>\n",
       "      <td>0</td>\n",
       "      <td>0</td>\n",
       "      <td>13</td>\n",
       "      <td>3.32</td>\n",
       "      <td>1</td>\n",
       "      <td>...</td>\n",
       "      <td>0</td>\n",
       "      <td>0</td>\n",
       "      <td>0</td>\n",
       "      <td>0</td>\n",
       "      <td>0</td>\n",
       "      <td>0</td>\n",
       "      <td>0</td>\n",
       "      <td>0</td>\n",
       "      <td>0</td>\n",
       "      <td>0</td>\n",
       "    </tr>\n",
       "    <tr>\n",
       "      <th>1</th>\n",
       "      <td>140361892057136</td>\n",
       "      <td>57</td>\n",
       "      <td>7.50</td>\n",
       "      <td>3.32</td>\n",
       "      <td>1</td>\n",
       "      <td>0</td>\n",
       "      <td>0</td>\n",
       "      <td>15</td>\n",
       "      <td>2.01</td>\n",
       "      <td>2</td>\n",
       "      <td>...</td>\n",
       "      <td>0</td>\n",
       "      <td>0</td>\n",
       "      <td>0</td>\n",
       "      <td>0</td>\n",
       "      <td>0</td>\n",
       "      <td>0</td>\n",
       "      <td>0</td>\n",
       "      <td>0</td>\n",
       "      <td>0</td>\n",
       "      <td>0</td>\n",
       "    </tr>\n",
       "    <tr>\n",
       "      <th>2</th>\n",
       "      <td>140361892057264</td>\n",
       "      <td>50</td>\n",
       "      <td>5.00</td>\n",
       "      <td>2.01</td>\n",
       "      <td>0</td>\n",
       "      <td>1</td>\n",
       "      <td>0</td>\n",
       "      <td>26</td>\n",
       "      <td>2.75</td>\n",
       "      <td>1</td>\n",
       "      <td>...</td>\n",
       "      <td>0</td>\n",
       "      <td>0</td>\n",
       "      <td>0</td>\n",
       "      <td>0</td>\n",
       "      <td>0</td>\n",
       "      <td>0</td>\n",
       "      <td>0</td>\n",
       "      <td>0</td>\n",
       "      <td>0</td>\n",
       "      <td>0</td>\n",
       "    </tr>\n",
       "    <tr>\n",
       "      <th>3</th>\n",
       "      <td>140361892057392</td>\n",
       "      <td>53</td>\n",
       "      <td>6.25</td>\n",
       "      <td>1.42</td>\n",
       "      <td>1</td>\n",
       "      <td>0</td>\n",
       "      <td>0</td>\n",
       "      <td>15</td>\n",
       "      <td>2.56</td>\n",
       "      <td>1</td>\n",
       "      <td>...</td>\n",
       "      <td>0</td>\n",
       "      <td>0</td>\n",
       "      <td>0</td>\n",
       "      <td>0</td>\n",
       "      <td>0</td>\n",
       "      <td>0</td>\n",
       "      <td>0</td>\n",
       "      <td>0</td>\n",
       "      <td>0</td>\n",
       "      <td>0</td>\n",
       "    </tr>\n",
       "    <tr>\n",
       "      <th>4</th>\n",
       "      <td>140361892057392</td>\n",
       "      <td>53</td>\n",
       "      <td>6.25</td>\n",
       "      <td>2.56</td>\n",
       "      <td>1</td>\n",
       "      <td>0</td>\n",
       "      <td>0</td>\n",
       "      <td>49</td>\n",
       "      <td>2.80</td>\n",
       "      <td>2</td>\n",
       "      <td>...</td>\n",
       "      <td>0</td>\n",
       "      <td>0</td>\n",
       "      <td>0</td>\n",
       "      <td>0</td>\n",
       "      <td>0</td>\n",
       "      <td>0</td>\n",
       "      <td>0</td>\n",
       "      <td>0</td>\n",
       "      <td>0</td>\n",
       "      <td>0</td>\n",
       "    </tr>\n",
       "  </tbody>\n",
       "</table>\n",
       "<p>5 rows × 87 columns</p>\n",
       "</div>"
      ],
      "text/plain": [
       "                id  age  dose  prev_INR(MHO)  atrial_fibrillation  \\\n",
       "0  140361892057136   57  7.50           3.11                    1   \n",
       "1  140361892057136   57  7.50           3.32                    1   \n",
       "2  140361892057264   50  5.00           2.01                    0   \n",
       "3  140361892057392   53  6.25           1.42                    1   \n",
       "4  140361892057392   53  6.25           2.56                    1   \n",
       "\n",
       "   mitral_valve  aortal_valve  date_diff  INR(MHO)  sample  ...  \\\n",
       "0             0             0         13      3.32       1  ...   \n",
       "1             0             0         15      2.01       2  ...   \n",
       "2             1             0         26      2.75       1  ...   \n",
       "3             0             0         15      2.56       1  ...   \n",
       "4             0             0         49      2.80       2  ...   \n",
       "\n",
       "   institution_id_22  institution_id_23  institution_id_24  institution_id_25  \\\n",
       "0                  0                  0                  0                  0   \n",
       "1                  0                  0                  0                  0   \n",
       "2                  0                  0                  0                  0   \n",
       "3                  0                  0                  0                  0   \n",
       "4                  0                  0                  0                  0   \n",
       "\n",
       "   institution_id_26  institution_id_27  institution_id_28  institution_id_29  \\\n",
       "0                  0                  0                  0                  0   \n",
       "1                  0                  0                  0                  0   \n",
       "2                  0                  0                  0                  0   \n",
       "3                  0                  0                  0                  0   \n",
       "4                  0                  0                  0                  0   \n",
       "\n",
       "   institution_id_30  institution_id_31  \n",
       "0                  0                  0  \n",
       "1                  0                  0  \n",
       "2                  0                  0  \n",
       "3                  0                  0  \n",
       "4                  0                  0  \n",
       "\n",
       "[5 rows x 87 columns]"
      ]
     },
     "execution_count": 13,
     "metadata": {},
     "output_type": "execute_result"
    }
   ],
   "source": [
    "df = pd.read_excel('data_for_model.xlsx')\n",
    "df = df.dropna()\n",
    "# df = critical_age(df,tr_age=40)\n",
    "# df['trend'] = df['INR(MHO)'] - df['prev_INR(MHO)']\n",
    "df.head()"
   ]
  },
  {
   "cell_type": "code",
   "execution_count": 15,
   "id": "9ebb279b",
   "metadata": {
    "ExecuteTime": {
     "end_time": "2023-10-12T19:10:40.362354Z",
     "start_time": "2023-10-12T19:10:40.345309Z"
    }
   },
   "outputs": [],
   "source": [
    "# Несущественные признаки, удаляемые из данных: treshold = 2\n",
    "\n",
    "features_to_remove = ['institution_id_6',\n",
    " 'zodiac_Leo',\n",
    " 'zodiac_Libra',\n",
    " 'institution_id_28',\n",
    " 'agebin_7',\n",
    " 'institution_id_26',\n",
    " 'zodiac_Aquarius',\n",
    " 'd2',\n",
    " 'critical_age_l',\n",
    " 'agebin_8',\n",
    " 'zodiac_Cancer',\n",
    " 'institution_id_21',\n",
    " 'zodiac_Pisces',\n",
    " 'institution_id_16',\n",
    " 'agebin_1',\n",
    " 'agebin_4',\n",
    " 'institution_id_12',\n",
    " 'agebin_6',\n",
    " 'agebin_2',\n",
    " 'institution_id_10',\n",
    " 'zodiac_Gemini',\n",
    " 'institution_id_30',\n",
    " 'institution_id_18',\n",
    " 'institution_id_17',\n",
    " 'institution_id_19',\n",
    " 'age_percentile',\n",
    " 'institution_id_14',\n",
    " 'institution_id_15',\n",
    " 'd3',\n",
    " 'zodiac_Virgo',\n",
    " 'age_level1',\n",
    " 'd7',\n",
    " 'zodiac_Capricorn',\n",
    " 'institution_id_29',\n",
    " 'zodiac_Scorpio',\n",
    " 'age_level',\n",
    " 'age_level3',\n",
    " 'zodiac_Taurus',\n",
    " 'age_quantile',\n",
    " 'pass_dose',\n",
    " 'age_level2',\n",
    " 'zodiac_Sagittarius',\n",
    " 'agebin_5',\n",
    " 'is_elderly',\n",
    " 'zodiac_Aries',\n",
    " 'd4',\n",
    " 'd6',\n",
    " 'age_level6',\n",
    " 'age_level5',\n",
    " 'age_level4']"
   ]
  },
  {
   "cell_type": "code",
   "execution_count": 16,
   "id": "1b58896d",
   "metadata": {
    "ExecuteTime": {
     "end_time": "2023-10-12T19:10:42.540823Z",
     "start_time": "2023-10-12T19:10:42.520524Z"
    }
   },
   "outputs": [
    {
     "data": {
      "text/html": [
       "<div>\n",
       "<style scoped>\n",
       "    .dataframe tbody tr th:only-of-type {\n",
       "        vertical-align: middle;\n",
       "    }\n",
       "\n",
       "    .dataframe tbody tr th {\n",
       "        vertical-align: top;\n",
       "    }\n",
       "\n",
       "    .dataframe thead th {\n",
       "        text-align: right;\n",
       "    }\n",
       "</style>\n",
       "<table border=\"1\" class=\"dataframe\">\n",
       "  <thead>\n",
       "    <tr style=\"text-align: right;\">\n",
       "      <th></th>\n",
       "      <th>id</th>\n",
       "      <th>age</th>\n",
       "      <th>dose</th>\n",
       "      <th>prev_INR(MHO)</th>\n",
       "      <th>atrial_fibrillation</th>\n",
       "      <th>mitral_valve</th>\n",
       "      <th>aortal_valve</th>\n",
       "      <th>date_diff</th>\n",
       "      <th>INR(MHO)</th>\n",
       "      <th>sample</th>\n",
       "      <th>...</th>\n",
       "      <th>institution_id_9</th>\n",
       "      <th>institution_id_11</th>\n",
       "      <th>institution_id_13</th>\n",
       "      <th>institution_id_20</th>\n",
       "      <th>institution_id_22</th>\n",
       "      <th>institution_id_23</th>\n",
       "      <th>institution_id_24</th>\n",
       "      <th>institution_id_25</th>\n",
       "      <th>institution_id_27</th>\n",
       "      <th>institution_id_31</th>\n",
       "    </tr>\n",
       "  </thead>\n",
       "  <tbody>\n",
       "    <tr>\n",
       "      <th>0</th>\n",
       "      <td>140361892057136</td>\n",
       "      <td>57</td>\n",
       "      <td>7.5</td>\n",
       "      <td>3.11</td>\n",
       "      <td>1</td>\n",
       "      <td>0</td>\n",
       "      <td>0</td>\n",
       "      <td>13</td>\n",
       "      <td>3.32</td>\n",
       "      <td>1</td>\n",
       "      <td>...</td>\n",
       "      <td>0</td>\n",
       "      <td>0</td>\n",
       "      <td>0</td>\n",
       "      <td>1</td>\n",
       "      <td>0</td>\n",
       "      <td>0</td>\n",
       "      <td>0</td>\n",
       "      <td>0</td>\n",
       "      <td>0</td>\n",
       "      <td>0</td>\n",
       "    </tr>\n",
       "    <tr>\n",
       "      <th>1</th>\n",
       "      <td>140361892057136</td>\n",
       "      <td>57</td>\n",
       "      <td>7.5</td>\n",
       "      <td>3.32</td>\n",
       "      <td>1</td>\n",
       "      <td>0</td>\n",
       "      <td>0</td>\n",
       "      <td>15</td>\n",
       "      <td>2.01</td>\n",
       "      <td>2</td>\n",
       "      <td>...</td>\n",
       "      <td>0</td>\n",
       "      <td>0</td>\n",
       "      <td>0</td>\n",
       "      <td>1</td>\n",
       "      <td>0</td>\n",
       "      <td>0</td>\n",
       "      <td>0</td>\n",
       "      <td>0</td>\n",
       "      <td>0</td>\n",
       "      <td>0</td>\n",
       "    </tr>\n",
       "    <tr>\n",
       "      <th>2</th>\n",
       "      <td>140361892057264</td>\n",
       "      <td>50</td>\n",
       "      <td>5.0</td>\n",
       "      <td>2.01</td>\n",
       "      <td>0</td>\n",
       "      <td>1</td>\n",
       "      <td>0</td>\n",
       "      <td>26</td>\n",
       "      <td>2.75</td>\n",
       "      <td>1</td>\n",
       "      <td>...</td>\n",
       "      <td>0</td>\n",
       "      <td>0</td>\n",
       "      <td>0</td>\n",
       "      <td>1</td>\n",
       "      <td>0</td>\n",
       "      <td>0</td>\n",
       "      <td>0</td>\n",
       "      <td>0</td>\n",
       "      <td>0</td>\n",
       "      <td>0</td>\n",
       "    </tr>\n",
       "  </tbody>\n",
       "</table>\n",
       "<p>3 rows × 37 columns</p>\n",
       "</div>"
      ],
      "text/plain": [
       "                id  age  dose  prev_INR(MHO)  atrial_fibrillation  \\\n",
       "0  140361892057136   57   7.5           3.11                    1   \n",
       "1  140361892057136   57   7.5           3.32                    1   \n",
       "2  140361892057264   50   5.0           2.01                    0   \n",
       "\n",
       "   mitral_valve  aortal_valve  date_diff  INR(MHO)  sample  ...  \\\n",
       "0             0             0         13      3.32       1  ...   \n",
       "1             0             0         15      2.01       2  ...   \n",
       "2             1             0         26      2.75       1  ...   \n",
       "\n",
       "   institution_id_9  institution_id_11  institution_id_13  institution_id_20  \\\n",
       "0                 0                  0                  0                  1   \n",
       "1                 0                  0                  0                  1   \n",
       "2                 0                  0                  0                  1   \n",
       "\n",
       "   institution_id_22  institution_id_23  institution_id_24  institution_id_25  \\\n",
       "0                  0                  0                  0                  0   \n",
       "1                  0                  0                  0                  0   \n",
       "2                  0                  0                  0                  0   \n",
       "\n",
       "   institution_id_27  institution_id_31  \n",
       "0                  0                  0  \n",
       "1                  0                  0  \n",
       "2                  0                  0  \n",
       "\n",
       "[3 rows x 37 columns]"
      ]
     },
     "execution_count": 16,
     "metadata": {},
     "output_type": "execute_result"
    }
   ],
   "source": [
    "# Удаляем несущественные признаки из датасета\n",
    "\n",
    "def remove_features(df, column_names):\n",
    "    return df.drop(columns=column_names)\n",
    "\n",
    "\n",
    "clear_df = remove_features(df.copy(), features_to_remove)\n",
    "\n",
    "clear_df.head(3)"
   ]
  },
  {
   "cell_type": "code",
   "execution_count": 17,
   "id": "730b2778",
   "metadata": {
    "ExecuteTime": {
     "end_time": "2023-10-12T19:33:59.147859Z",
     "start_time": "2023-10-12T19:33:55.268137Z"
    }
   },
   "outputs": [
    {
     "data": {
      "text/html": [
       "<div>\n",
       "<style scoped>\n",
       "    .dataframe tbody tr th:only-of-type {\n",
       "        vertical-align: middle;\n",
       "    }\n",
       "\n",
       "    .dataframe tbody tr th {\n",
       "        vertical-align: top;\n",
       "    }\n",
       "\n",
       "    .dataframe thead th {\n",
       "        text-align: right;\n",
       "    }\n",
       "</style>\n",
       "<table border=\"1\" class=\"dataframe\">\n",
       "  <thead>\n",
       "    <tr style=\"text-align: right;\">\n",
       "      <th></th>\n",
       "      <th>id</th>\n",
       "      <th>age</th>\n",
       "      <th>dose</th>\n",
       "      <th>prev_INR(MHO)</th>\n",
       "      <th>atrial_fibrillation</th>\n",
       "      <th>mitral_valve</th>\n",
       "      <th>aortal_valve</th>\n",
       "      <th>date_diff</th>\n",
       "      <th>INR(MHO)</th>\n",
       "      <th>sample</th>\n",
       "      <th>...</th>\n",
       "      <th>institution_id_9</th>\n",
       "      <th>institution_id_11</th>\n",
       "      <th>institution_id_13</th>\n",
       "      <th>institution_id_20</th>\n",
       "      <th>institution_id_22</th>\n",
       "      <th>institution_id_23</th>\n",
       "      <th>institution_id_24</th>\n",
       "      <th>institution_id_25</th>\n",
       "      <th>institution_id_27</th>\n",
       "      <th>institution_id_31</th>\n",
       "    </tr>\n",
       "  </thead>\n",
       "  <tbody>\n",
       "    <tr>\n",
       "      <th>0</th>\n",
       "      <td>140361892057136</td>\n",
       "      <td>57</td>\n",
       "      <td>7.5</td>\n",
       "      <td>3.11</td>\n",
       "      <td>1</td>\n",
       "      <td>0</td>\n",
       "      <td>0</td>\n",
       "      <td>13</td>\n",
       "      <td>3.32</td>\n",
       "      <td>1</td>\n",
       "      <td>...</td>\n",
       "      <td>0</td>\n",
       "      <td>0</td>\n",
       "      <td>0</td>\n",
       "      <td>1</td>\n",
       "      <td>0</td>\n",
       "      <td>0</td>\n",
       "      <td>0</td>\n",
       "      <td>0</td>\n",
       "      <td>0</td>\n",
       "      <td>0</td>\n",
       "    </tr>\n",
       "    <tr>\n",
       "      <th>1</th>\n",
       "      <td>140361892057136</td>\n",
       "      <td>57</td>\n",
       "      <td>7.5</td>\n",
       "      <td>3.32</td>\n",
       "      <td>1</td>\n",
       "      <td>0</td>\n",
       "      <td>0</td>\n",
       "      <td>15</td>\n",
       "      <td>2.01</td>\n",
       "      <td>2</td>\n",
       "      <td>...</td>\n",
       "      <td>0</td>\n",
       "      <td>0</td>\n",
       "      <td>0</td>\n",
       "      <td>1</td>\n",
       "      <td>0</td>\n",
       "      <td>0</td>\n",
       "      <td>0</td>\n",
       "      <td>0</td>\n",
       "      <td>0</td>\n",
       "      <td>0</td>\n",
       "    </tr>\n",
       "    <tr>\n",
       "      <th>2</th>\n",
       "      <td>140361892057264</td>\n",
       "      <td>50</td>\n",
       "      <td>5.0</td>\n",
       "      <td>2.01</td>\n",
       "      <td>0</td>\n",
       "      <td>1</td>\n",
       "      <td>0</td>\n",
       "      <td>26</td>\n",
       "      <td>2.75</td>\n",
       "      <td>1</td>\n",
       "      <td>...</td>\n",
       "      <td>0</td>\n",
       "      <td>0</td>\n",
       "      <td>0</td>\n",
       "      <td>1</td>\n",
       "      <td>0</td>\n",
       "      <td>0</td>\n",
       "      <td>0</td>\n",
       "      <td>0</td>\n",
       "      <td>0</td>\n",
       "      <td>0</td>\n",
       "    </tr>\n",
       "  </tbody>\n",
       "</table>\n",
       "<p>3 rows × 37 columns</p>\n",
       "</div>"
      ],
      "text/plain": [
       "                id  age  dose  prev_INR(MHO)  atrial_fibrillation  \\\n",
       "0  140361892057136   57   7.5           3.11                    1   \n",
       "1  140361892057136   57   7.5           3.32                    1   \n",
       "2  140361892057264   50   5.0           2.01                    0   \n",
       "\n",
       "   mitral_valve  aortal_valve  date_diff  INR(MHO)  sample  ...  \\\n",
       "0             0             0         13      3.32       1  ...   \n",
       "1             0             0         15      2.01       2  ...   \n",
       "2             1             0         26      2.75       1  ...   \n",
       "\n",
       "   institution_id_9  institution_id_11  institution_id_13  institution_id_20  \\\n",
       "0                 0                  0                  0                  1   \n",
       "1                 0                  0                  0                  1   \n",
       "2                 0                  0                  0                  1   \n",
       "\n",
       "   institution_id_22  institution_id_23  institution_id_24  institution_id_25  \\\n",
       "0                  0                  0                  0                  0   \n",
       "1                  0                  0                  0                  0   \n",
       "2                  0                  0                  0                  0   \n",
       "\n",
       "   institution_id_27  institution_id_31  \n",
       "0                  0                  0  \n",
       "1                  0                  0  \n",
       "2                  0                  0  \n",
       "\n",
       "[3 rows x 37 columns]"
      ]
     },
     "execution_count": 17,
     "metadata": {},
     "output_type": "execute_result"
    }
   ],
   "source": [
    "clear_df.to_excel(f'data_for_model_few_features.xlsx', index=False)\n",
    "df = pd.read_excel('data_for_model_few_features.xlsx')\n",
    "df = df.dropna()\n",
    "df.head(3)\n"
   ]
  },
  {
   "cell_type": "code",
   "execution_count": 19,
   "id": "bf412410",
   "metadata": {
    "ExecuteTime": {
     "end_time": "2023-10-12T19:43:29.457749Z",
     "start_time": "2023-10-12T19:34:26.255079Z"
    }
   },
   "outputs": [
    {
     "name": "stdout",
     "output_type": "stream",
     "text": [
      "Задание завершится приблизительно через 10.0 мин.\n",
      "0.7873776637542521\n",
      "pipeline:\n",
      "from category_encoders.target_encoder import TargetEncoder\n",
      "from sklearn.neighbors import KNeighborsRegressor\n",
      "from sklearn.preprocessing import PolynomialFeatures\n",
      "from sklearn.impute import SimpleImputer\n",
      "from numpy import nan\n",
      "from category_encoders.one_hot import OneHotEncoder\n",
      "from category_encoders.ordinal import OrdinalEncoder\n",
      "from sklearn.pipeline import Pipeline\n",
      "\n",
      "pipeline = Pipeline([('ord-enc', OrdinalEncoder(cols=[], drop_invariant=True)),\n",
      "('oh-enc', OneHotEncoder(cols=[])),\n",
      "('target_enc', TargetEncoder(cols=[])),\n",
      "('imputation', SimpleImputer(strategy='median')),\n",
      "('1', PolynomialFeatures(degree=2, include_bias=False, interaction_only=False)),\n",
      "('0', KNeighborsRegressor(n_neighbors=34, p=1, weights='distance'))])\n",
      "\n",
      "\n",
      "Средняя абсолютная ошибка (MAE):                         0.55\n",
      "Среднеквадратичная ошибка (MSE):                         0.79\n",
      "Коэффициент детерминации (R^2):                          0.68\n",
      "Средняя абсолютная процентная ошибка (MAPE):            18.99%\n",
      "Доля предсказаний с отклонением не более 0,5 мг:        61.30%\n"
     ]
    },
    {
     "data": {
      "image/png": "[encoded data removed]",
      "text/plain": [
       "<Figure size 640x480 with 1 Axes>"
      ]
     },
     "metadata": {},
     "output_type": "display_data"
    },
    {
     "name": "stdout",
     "output_type": "stream",
     "text": [
      "(0.5495794323697742, 0.7873776637542521, 0.6781540694108754, 18.990339081044947, 61.3013698630137)\n",
      "pipeline:\n",
      "from category_encoders.target_encoder import TargetEncoder\n",
      "from sklearn.neighbors import KNeighborsRegressor\n",
      "from sklearn.preprocessing import PolynomialFeatures\n",
      "from sklearn.impute import SimpleImputer\n",
      "from numpy import nan\n",
      "from category_encoders.one_hot import OneHotEncoder\n",
      "from category_encoders.ordinal import OrdinalEncoder\n",
      "from sklearn.pipeline import Pipeline\n",
      "\n",
      "pipeline = Pipeline([('ord-enc', OrdinalEncoder(cols=[], drop_invariant=True)),\n",
      "('oh-enc', OneHotEncoder(cols=[])),\n",
      "('target_enc', TargetEncoder(cols=[])),\n",
      "('imputation', SimpleImputer(strategy='median')),\n",
      "('1', PolynomialFeatures(degree=2, include_bias=False, interaction_only=False)),\n",
      "('0', KNeighborsRegressor(n_neighbors=34, p=1, weights='distance'))])\n",
      "\n",
      "\n"
     ]
    }
   ],
   "source": [
    "# Без стратификации длинные pipelines\n",
    "train_df, test_df = train_test_split(df, test_size=0.2, random_state=RANDOM_STATE)  #shuffle=False, \n",
    "\n",
    "scores, estimator = pipe_select(train_df, test_df, BaseSearch=AsynchronousSuccessiveHalving(),\n",
    "               scoring=('neg_mean_squared_error','r2') #,regularize_length=False\n",
    "               )\n",
    "print(scores)\n",
    "print(f\"pipeline:\\n{estimator.export_script(f'gama_ASH_Clear_df{MAX_TIME}.py')}\\n\")\n"
   ]
  },
  {
   "cell_type": "code",
   "execution_count": null,
   "id": "edd4b75a",
   "metadata": {},
   "outputs": [],
   "source": []
  },
  {
   "cell_type": "code",
   "execution_count": null,
   "id": "ce0003e6",
   "metadata": {},
   "outputs": [],
   "source": []
  }
 ],
 "metadata": {
  "kernelspec": {
   "display_name": "Python 3 (ipykernel)",
   "language": "python",
   "name": "python3"
  },
  "language_info": {
   "codemirror_mode": {
    "name": "ipython",
    "version": 3
   },
   "file_extension": ".py",
   "mimetype": "text/x-python",
   "name": "python",
   "nbconvert_exporter": "python",
   "pygments_lexer": "ipython3",
   "version": "3.10.9"
  },
  "toc": {
   "base_numbering": 1,
   "nav_menu": {},
   "number_sections": true,
   "sideBar": true,
   "skip_h1_title": false,
   "title_cell": "Table of Contents",
   "title_sidebar": "Contents",
   "toc_cell": false,
   "toc_position": {},
   "toc_section_display": true,
   "toc_window_display": false
  },
  "varInspector": {
   "cols": {
    "lenName": 16,
    "lenType": 16,
    "lenVar": 40
   },
   "kernels_config": {
    "python": {
     "delete_cmd_postfix": "",
     "delete_cmd_prefix": "del ",
     "library": "var_list.py",
     "varRefreshCmd": "print(var_dic_list())"
    },
    "r": {
     "delete_cmd_postfix": ") ",
     "delete_cmd_prefix": "rm(",
     "library": "var_list.r",
     "varRefreshCmd": "cat(var_dic_list()) "
    }
   },
   "types_to_exclude": [
    "module",
    "function",
    "builtin_function_or_method",
    "instance",
    "_Feature"
   ],
   "window_display": false
  }
 },
 "nbformat": 4,
 "nbformat_minor": 5
}
