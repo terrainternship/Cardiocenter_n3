{
 "cells": [
  {
   "cell_type": "markdown",
   "metadata": {
    "id": "OVT_2zR6hMlX"
   },
   "source": [
    "\"Кардиоцентр_стажировка (новички) 01.07 | Резер Артем\"\n",
    "\n",
    "**2023-09-29**\n",
    "\n",
    "Исправлена ошибка: даты рождения присоединялись к основным данным неправильно (Александр, спасибо за багрепорт!)\n",
    "\n",
    "**2023-09-28**\n",
    "\n",
    "Ноутбук теперь работает и в Google Colab, и в Jupyter\n",
    "\n",
    "**2023-09-26**\n",
    "\n",
    "- Добавен TPOT для автоматического подбора модели\n",
    "- Запускается на нескольких наборах признаков, для разных отчечек уровня значимости признака\n",
    "- Данные помещены в `data/*`\n",
    "\n",
    "**2023-09-17**\n",
    "\n",
    "Добавлена функция stratified_patient_split (АИ = Александр Ильенко)\n",
    "\n",
    "**2023-09-13**\n",
    "\n",
    "Добавлен набор функций для создания дополнительных колонок (АС = Андрей Совцов):\n",
    "\n",
    "- Отклонение (лет) от критического возраста\n",
    "- Разбиение возраста по корзинам. Функция назначения номера возрастной группы по значению возраста\n",
    "- Добавление знаков зодиака\n",
    "- Функция развертывания значений указанных категориальных колнок в One-Hot-Encoded векторы"
   ]
  },
  {
   "cell_type": "markdown",
   "metadata": {
    "id": "Mpfw2g_1OcZe"
   },
   "source": [
    "# Подготовка среды\n",
    "Определяем и запоминаем, находимся ли мы в Google Colab.\n",
    "\n",
    "В Colab-е многие пакеты уже предустановлены, а недостающие добавим (см. код ниже).\n",
    "\n",
    "В среде Jupyter мы один раз устанавливаем библиотеки из `requirements.txt`:\n",
    "```\n",
    "pip install -r requirements.txt\n",
    "```"
   ]
  },
  {
   "cell_type": "code",
   "execution_count": 1,
   "metadata": {
    "ExecuteTime": {
     "end_time": "2023-10-09T09:11:18.895878Z",
     "start_time": "2023-10-09T09:11:13.993840Z"
    },
    "id": "X-Hf3Ce61o8V"
   },
   "outputs": [],
   "source": [
    "%%bash\n",
    "# Если мы работаем в Google Colab, то устанавливаем недостающие библиотеки\n",
    "\n",
    "[[ ! -e /content ]] && exit\n",
    "\n",
    "pip install catboost --quiet\n",
    "pip install feature_engine --quiet\n",
    "pip install phik --quiet\n",
    "pip install tpot --quiet\n",
    "pip install zodiac-sign --quiet"
   ]
  },
  {
   "cell_type": "code",
   "execution_count": 2,
   "metadata": {
    "ExecuteTime": {
     "end_time": "2023-10-09T09:11:20.563820Z",
     "start_time": "2023-10-09T09:11:20.546616Z"
    },
    "id": "7_J-t9ls1o8W"
   },
   "outputs": [],
   "source": [
    "# Переменная IN_COLAB показывает, находимся ли мы в Google Colab\n",
    "\n",
    "try:\n",
    "  import google.colab\n",
    "  IN_COLAB = True\n",
    "except ImportError:\n",
    "  IN_COLAB = False"
   ]
  },
  {
   "cell_type": "code",
   "execution_count": 3,
   "metadata": {
    "ExecuteTime": {
     "end_time": "2023-10-09T09:11:23.816187Z",
     "start_time": "2023-10-09T09:11:23.809868Z"
    }
   },
   "outputs": [
    {
     "data": {
      "text/plain": [
       "False"
      ]
     },
     "execution_count": 3,
     "metadata": {},
     "output_type": "execute_result"
    }
   ],
   "source": [
    "IN_COLAB"
   ]
  },
  {
   "cell_type": "markdown",
   "metadata": {
    "id": "9oKhzatE1o8W"
   },
   "source": [
    "## Импорт библиотек"
   ]
  },
  {
   "cell_type": "code",
   "execution_count": 4,
   "metadata": {
    "ExecuteTime": {
     "end_time": "2023-10-09T09:11:28.424189Z",
     "start_time": "2023-10-09T09:11:25.940477Z"
    },
    "id": "yFRs_BhfJCc9"
   },
   "outputs": [],
   "source": [
    "import os\n",
    "from pprint import pp  # красивая печать; pp - это улучшенная pprint.pprint\n",
    "\n",
    "import matplotlib.pyplot as plt\n",
    "import numpy as np\n",
    "import pandas as pd\n",
    "import phik\n",
    "import xgboost as xgb\n",
    "\n",
    "from catboost import CatBoostRegressor\n",
    "from feature_engine.imputation import DropMissingData\n",
    "from lightgbm import LGBMRegressor\n",
    "\n",
    "from sklearn.ensemble import GradientBoostingRegressor, RandomForestRegressor\n",
    "from sklearn.linear_model import LinearRegression\n",
    "from sklearn.metrics import mean_absolute_error, mean_squared_error, r2_score\n",
    "from sklearn.model_selection import train_test_split\n",
    "from sklearn.neighbors import KNeighborsRegressor\n",
    "from sklearn.pipeline import Pipeline, make_pipeline\n",
    "from sklearn.preprocessing import FunctionTransformer, StandardScaler\n",
    "\n",
    "from tqdm.notebook import tqdm  # индикатор прогресса"
   ]
  },
  {
   "cell_type": "code",
   "execution_count": null,
   "metadata": {
    "ExecuteTime": {
     "end_time": "2023-10-09T09:11:29.146059Z",
     "start_time": "2023-10-09T09:11:29.146059Z"
    },
    "id": "vOtTViTP1o8X"
   },
   "outputs": [],
   "source": [
    "if IN_COLAB:\n",
    "    import gdown"
   ]
  },
  {
   "cell_type": "markdown",
   "metadata": {
    "id": "nXcX-yqPidRv"
   },
   "source": [
    "## Вспомогательные функции"
   ]
  },
  {
   "cell_type": "code",
   "execution_count": 5,
   "metadata": {
    "ExecuteTime": {
     "end_time": "2023-10-09T09:11:44.090653Z",
     "start_time": "2023-10-09T09:11:44.082619Z"
    },
    "id": "mZFvV2QV2Pqh"
   },
   "outputs": [],
   "source": [
    "# Функция для удобного отображения dataframe-ов в Google Colab-е\n",
    "# (сортировка, фильтр, страницы, два знака после запятой...)\n",
    "\n",
    "if IN_COLAB:\n",
    "\n",
    "    from google.colab import data_table\n",
    "    data_table._DEFAULT_FORMATTERS[float] = lambda x: f\"{x:.2f}\"\n",
    "\n",
    "    def preview(df, show_all_rows=False, **kwargs):\n",
    "        if show_all_rows:\n",
    "            num_columns_per_page = df.shape[0]\n",
    "        else:\n",
    "            num_columns_per_page = 3\n",
    "\n",
    "        return data_table.DataTable(\n",
    "            df,\n",
    "            num_rows_per_page=num_columns_per_page,\n",
    "            max_columns = df.shape[1],  # показываем все колонки\n",
    "            **kwargs\n",
    "        )\n",
    "\n",
    "else:\n",
    "\n",
    "    def preview(df, **kwargs):\n",
    "        return df"
   ]
  },
  {
   "cell_type": "code",
   "execution_count": 6,
   "metadata": {
    "ExecuteTime": {
     "end_time": "2023-10-09T09:11:44.137060Z",
     "start_time": "2023-10-09T09:11:44.119812Z"
    },
    "id": "0-JplQ1kX2oY"
   },
   "outputs": [],
   "source": [
    "# TODO\n",
    "\n",
    "# Функция для удобного отображения dataframe-ов в Jupyter Notebook\n",
    "\n",
    "# !pip install itables\n",
    "# from itables import init_notebook_mode\n",
    "\n",
    "# init_notebook_mode(all_interactive=False)\n",
    "# from itables import show\n",
    "\n",
    "# def preview(df, show_all_rows=False, **kwargs):\n",
    "#     with pd.option_context(\"display.float_format\", \"{:,.2f}\".format):\n",
    "#         show(df)\n",
    "#     if show_all_rows:\n",
    "#         num_columns_per_page = df.shape[0]\n",
    "#     else:\n",
    "#         num_columns_per_page = 3\n",
    "\n",
    "#     return data_table.DataTable(\n",
    "#         df,\n",
    "#         num_rows_per_page=num_columns_per_page,\n",
    "#         max_columns = df.shape[1],  # показываем все колонки\n",
    "#         **kwargs\n",
    "#     )"
   ]
  },
  {
   "cell_type": "code",
   "execution_count": 7,
   "metadata": {
    "ExecuteTime": {
     "end_time": "2023-10-09T09:11:48.975551Z",
     "start_time": "2023-10-09T09:11:48.970525Z"
    },
    "id": "xEsteAgcyyOC"
   },
   "outputs": [],
   "source": [
    "RANDOM_SEED = 0\n",
    "\n",
    "def reset_random_number_generators(seed=0):\n",
    "    # random.seed(seed)\n",
    "    np.random.seed(seed)\n",
    "\n",
    "# Для воспроизводимости результатов сбрасываем датчики случайных чисел\n",
    "reset_random_number_generators()"
   ]
  },
  {
   "cell_type": "markdown",
   "metadata": {
    "id": "fNbbW8u8i3FU"
   },
   "source": [
    "## Создание структуры папок"
   ]
  },
  {
   "cell_type": "code",
   "execution_count": 8,
   "metadata": {
    "ExecuteTime": {
     "end_time": "2023-10-09T09:12:00.185770Z",
     "start_time": "2023-10-09T09:12:00.168517Z"
    },
    "id": "TJSfY44f1o8Y"
   },
   "outputs": [],
   "source": [
    "if IN_COLAB:\n",
    "    ROOT_PATH = '/content'\n",
    "else:\n",
    "    ROOT_PATH = r'C:\\Users\\Sovtsov\\Documents\\УИИ\\Стажировка\\Cardiocenter_n3-main'"
   ]
  },
  {
   "cell_type": "code",
   "execution_count": 9,
   "metadata": {
    "ExecuteTime": {
     "end_time": "2023-10-09T09:12:09.298821Z",
     "start_time": "2023-10-09T09:12:09.281586Z"
    },
    "id": "jjgfZ4u1hhE6"
   },
   "outputs": [],
   "source": [
    "# TODO\n",
    "# Создаем структуру директорий как в репозитории\n",
    "\n",
    "os.makedirs(f'{ROOT_PATH}/data/raw', exist_ok=True)\n",
    "os.makedirs(f'{ROOT_PATH}/data/interim', exist_ok=True)\n",
    "os.makedirs(f'{ROOT_PATH}/data/processed', exist_ok=True)"
   ]
  },
  {
   "cell_type": "markdown",
   "metadata": {
    "id": "ZQ3VRbVdOWva"
   },
   "source": [
    "# Загрузка данных"
   ]
  },
  {
   "cell_type": "code",
   "execution_count": 10,
   "metadata": {
    "ExecuteTime": {
     "end_time": "2023-10-09T09:12:11.859814Z",
     "start_time": "2023-10-09T09:12:11.841172Z"
    },
    "id": "zUDyl-VO_VPV"
   },
   "outputs": [],
   "source": [
    "if IN_COLAB:\n",
    "    # загружаем в colab Копия ЦАТ_общий_parsed_extDS_v6.xlsx\n",
    "    url = 'https://drive.google.com/uc?export=download&id=1ZdF0dESb9BIzj7yp75IM3GIJeDO7cyVg'\n",
    "    output = 'Копия ЦАТ_общий_parsed_extDS_v6.xlsx'\n",
    "    gdown.download(url, f'{ROOT_PATH}/data/raw/', quiet=True, fuzzy=True)"
   ]
  },
  {
   "cell_type": "code",
   "execution_count": 11,
   "metadata": {
    "ExecuteTime": {
     "end_time": "2023-10-09T09:12:12.849512Z",
     "start_time": "2023-10-09T09:12:12.833117Z"
    },
    "id": "ECVFG7NO_VPW"
   },
   "outputs": [],
   "source": [
    "if IN_COLAB:\n",
    "    url = 'https://drive.google.com/uc?export=download&id=16uQqSmv428NRlJ-xDFpHJyNT7RTnFLjf'\n",
    "    gdown.download(url, f'{ROOT_PATH}/data/interim/', quiet=True, fuzzy=True)"
   ]
  },
  {
   "cell_type": "code",
   "execution_count": 12,
   "metadata": {
    "ExecuteTime": {
     "end_time": "2023-10-09T09:12:23.886927Z",
     "start_time": "2023-10-09T09:12:22.055482Z"
    },
    "colab": {
     "base_uri": "https://localhost:8080/",
     "height": 285
    },
    "id": "gwtdldc0_VPW",
    "outputId": "c58b8eb0-c6c2-4b6f-d553-cfc081708baf"
   },
   "outputs": [
    {
     "name": "stdout",
     "output_type": "stream",
     "text": [
      "Загружено случаев: 1468\n"
     ]
    },
    {
     "data": {
      "text/html": [
       "<div>\n",
       "<style scoped>\n",
       "    .dataframe tbody tr th:only-of-type {\n",
       "        vertical-align: middle;\n",
       "    }\n",
       "\n",
       "    .dataframe tbody tr th {\n",
       "        vertical-align: top;\n",
       "    }\n",
       "\n",
       "    .dataframe thead th {\n",
       "        text-align: right;\n",
       "    }\n",
       "</style>\n",
       "<table border=\"1\" class=\"dataframe\">\n",
       "  <thead>\n",
       "    <tr style=\"text-align: right;\">\n",
       "      <th></th>\n",
       "      <th>institution</th>\n",
       "      <th>id</th>\n",
       "      <th>gender</th>\n",
       "      <th>age</th>\n",
       "      <th>dose</th>\n",
       "      <th>date_analyse</th>\n",
       "      <th>prev_INR(MHO)</th>\n",
       "      <th>atrial_fibrillation</th>\n",
       "      <th>mitral_valve</th>\n",
       "      <th>aortal_valve</th>\n",
       "      <th>date_diff</th>\n",
       "      <th>INR(MHO)</th>\n",
       "      <th>sample</th>\n",
       "      <th>pass_dose</th>\n",
       "      <th>institution_id</th>\n",
       "      <th>diagnos</th>\n",
       "      <th>sss</th>\n",
       "      <th>birthdate</th>\n",
       "    </tr>\n",
       "  </thead>\n",
       "  <tbody>\n",
       "    <tr>\n",
       "      <th>0</th>\n",
       "      <td>ГБУЗ РБ Толбазинская ЦРБ</td>\n",
       "      <td>140361892057136</td>\n",
       "      <td>0</td>\n",
       "      <td>57</td>\n",
       "      <td>7.5</td>\n",
       "      <td>2022-11-11</td>\n",
       "      <td>3.11</td>\n",
       "      <td>1</td>\n",
       "      <td>0</td>\n",
       "      <td>0</td>\n",
       "      <td>13.0</td>\n",
       "      <td>3.32</td>\n",
       "      <td>1</td>\n",
       "      <td>0</td>\n",
       "      <td>20</td>\n",
       "      <td>Фибрилляция предсердий</td>\n",
       "      <td>NaN</td>\n",
       "      <td>1965-11-11</td>\n",
       "    </tr>\n",
       "    <tr>\n",
       "      <th>1</th>\n",
       "      <td>ГБУЗ РБ Толбазинская ЦРБ</td>\n",
       "      <td>140361892057136</td>\n",
       "      <td>0</td>\n",
       "      <td>57</td>\n",
       "      <td>7.5</td>\n",
       "      <td>2022-11-24</td>\n",
       "      <td>3.32</td>\n",
       "      <td>1</td>\n",
       "      <td>0</td>\n",
       "      <td>0</td>\n",
       "      <td>15.0</td>\n",
       "      <td>2.01</td>\n",
       "      <td>2</td>\n",
       "      <td>0</td>\n",
       "      <td>20</td>\n",
       "      <td>Фибрилляция предсердий</td>\n",
       "      <td>NaN</td>\n",
       "      <td>1965-11-11</td>\n",
       "    </tr>\n",
       "    <tr>\n",
       "      <th>2</th>\n",
       "      <td>ГБУЗ РБ Толбазинская ЦРБ</td>\n",
       "      <td>140361892057264</td>\n",
       "      <td>1</td>\n",
       "      <td>50</td>\n",
       "      <td>5.0</td>\n",
       "      <td>2022-11-22</td>\n",
       "      <td>2.01</td>\n",
       "      <td>0</td>\n",
       "      <td>1</td>\n",
       "      <td>0</td>\n",
       "      <td>26.0</td>\n",
       "      <td>2.75</td>\n",
       "      <td>1</td>\n",
       "      <td>0</td>\n",
       "      <td>20</td>\n",
       "      <td>ПротезированиеМитрального клапана</td>\n",
       "      <td>NaN</td>\n",
       "      <td>1972-11-22</td>\n",
       "    </tr>\n",
       "  </tbody>\n",
       "</table>\n",
       "</div>"
      ],
      "text/plain": [
       "                 institution               id  gender  age  dose date_analyse  \\\n",
       "0  ГБУЗ РБ Толбазинская ЦРБ   140361892057136       0   57   7.5   2022-11-11   \n",
       "1  ГБУЗ РБ Толбазинская ЦРБ   140361892057136       0   57   7.5   2022-11-24   \n",
       "2  ГБУЗ РБ Толбазинская ЦРБ   140361892057264       1   50   5.0   2022-11-22   \n",
       "\n",
       "   prev_INR(MHO)  atrial_fibrillation  mitral_valve  aortal_valve  date_diff  \\\n",
       "0           3.11                    1             0             0       13.0   \n",
       "1           3.32                    1             0             0       15.0   \n",
       "2           2.01                    0             1             0       26.0   \n",
       "\n",
       "   INR(MHO)  sample  pass_dose  institution_id  \\\n",
       "0      3.32       1          0              20   \n",
       "1      2.01       2          0              20   \n",
       "2      2.75       1          0              20   \n",
       "\n",
       "                             diagnos  sss  birthdate  \n",
       "0             Фибрилляция предсердий  NaN 1965-11-11  \n",
       "1             Фибрилляция предсердий  NaN 1965-11-11  \n",
       "2  ПротезированиеМитрального клапана  NaN 1972-11-22  "
      ]
     },
     "execution_count": 12,
     "metadata": {},
     "output_type": "execute_result"
    }
   ],
   "source": [
    "def load_dataset():\n",
    "    # загружаем Копия ЦАТ_общий_parsed_extDS_v6.xlsx в dataframe pandas\n",
    "    df = pd.read_excel(f'{ROOT_PATH}/data/raw/Копия ЦАТ_общий_parsed_extDS_v6.xlsx', decimal=\",\")\n",
    "\n",
    "    # загружаем информацию о датах рождения\n",
    "    birthdates_df = pd.read_excel(f'{ROOT_PATH}/data/interim/dataset_wide_birthday.xlsx', decimal=',')\n",
    "\n",
    "    # проверяем корректность: если id совпал, то и birthdate - тоже\n",
    "    is_birthdates_equal = birthdates_df.groupby('id')['birthdate'].transform(lambda x: x.nunique() == 1)\n",
    "    assert is_birthdates_equal.all(), (\n",
    "        'В данных о датах рождения в строках с одинаковым id'\n",
    "        ' ожидаются одинаковые даты рождения.'\n",
    "    )\n",
    "\n",
    "    # удаляем строки с повторяющимися id\n",
    "    # (выше проверили, что если id совпал, то и birthdate - тоже)\n",
    "    unique_birthdates_df = birthdates_df.sort_values('id').drop_duplicates(subset='id')\n",
    "\n",
    "    # объединяем датафреймы по ключу id, оставляя только колонку birthdate из birthdays_df\n",
    "    merged_df = df.merge(\n",
    "        unique_birthdates_df[['id', 'birthdate']], on='id', how='left'\n",
    "    )\n",
    "    assert merged_df.shape[0] == df.shape[0], (\n",
    "        'Ожидается, что при заполнении дат рождения'\n",
    "        ' количество случаев не изменится.'\n",
    "    )\n",
    "\n",
    "    return merged_df\n",
    "\n",
    "df = load_dataset()\n",
    "print(f'Загружено случаев: {df.shape[0]}')\n",
    "df.head(3)"
   ]
  },
  {
   "cell_type": "markdown",
   "metadata": {
    "id": "hhJg6RuzOq4g"
   },
   "source": [
    "# Подготовка данных (preprocessing)"
   ]
  },
  {
   "cell_type": "code",
   "execution_count": 13,
   "metadata": {
    "ExecuteTime": {
     "end_time": "2023-10-09T09:12:36.441026Z",
     "start_time": "2023-10-09T09:12:36.432015Z"
    },
    "id": "RdqKW3qcD5C4"
   },
   "outputs": [],
   "source": [
    "def to_Xy(df):\n",
    "    \"\"\"\n",
    "    Разделение набора данных на свободные переменные X и зависимую переменную y.\n",
    "    \"\"\"\n",
    "    X = df.drop('dose', axis=1)\n",
    "    y = df['dose']\n",
    "    return X, y"
   ]
  },
  {
   "cell_type": "markdown",
   "metadata": {
    "id": "000xtHgovtIH"
   },
   "source": [
    "## Парсинг данных - выделение по группам (оставлен код исходного парсера)\n",
    "* возрастов\n",
    "* диагнозов\n",
    "* вычисление относительной даты анализа"
   ]
  },
  {
   "cell_type": "code",
   "execution_count": 15,
   "metadata": {
    "ExecuteTime": {
     "end_time": "2023-10-03T14:24:20.629787Z",
     "start_time": "2023-10-03T14:24:20.622507Z"
    },
    "id": "3CfxvQMWxNB6"
   },
   "outputs": [],
   "source": [
    "# В файл ЦАТ_общий_parsed_extDS_v6.xlsx относительно ЦАТ_общий_parsed.xlsx\n",
    "# добавлены:\n",
    "# institution_id - id лечебного учреждения (на основании первого столбца с названием)\n",
    "# diagnos и sss - записи о диагнозе и сердечно-сосудистых событиях из первичных файлов\n",
    "\n",
    "# Группы диагнозов: обрабатываются поля диагнозов и сердечно-сосудистых событий\n",
    "# d1 - Протезирование клапанов\n",
    "# d2 - (I48)Фибрилляция и трепетание предсердий, мерцательная аритмия\n",
    "# d3 - (I20-25)Ишемическая болезнь сердца(ИБС), инфаркт миокарда(ИМ,ОИМ), Хроническая ишемическая болезнь сердца, Постинфарктный крдиосклероз(ПИКС),Врождённый порок сердца(ВПС), эндокардит,острый коронарный синдром(ОКС),транзиторная ишемическая атака(ТИА), порок\n",
    "# d4 - (I05-09)Ревматическая болезнь сердца\n",
    "# d5 - (I35)Неревматические поражения аортального клапана\n",
    "# d6 - (I__)Другие не сердечные заболевания, гипертония(ГБ), тромбофлебит, острое нарушение мозгового кровообращения,ОНМК,тромбоэмболия лёгочной артерии(ТЭЛА)\n",
    "# d7 - аортальный, митральный порок сердца, поражение клапанов, недостаточность, межсердные перегородки\n",
    "# d8 - Стентирование сосудов, биопластика(БАП), радиочастотеая катетерная абляция(РЧА),аблация,электростимуляторы(ЭКС),Шунтирование(АКШ,МКШ)\n",
    "\n",
    "# Группы возрастов: на основе поля возраст\n",
    "# age_level\t0-10-30-50-60-70-80-90+\n",
    "# age_level1\t0-50-65-75-80+\n",
    "# age_level2\t0-35-50-65-80+\n",
    "# age_level3\t0-50-65-75-90+\n",
    "# age_level4\t0-50-65-80\n",
    "# age_level5\t0-50-65+\n",
    "# age_level6\t0-65+\n",
    "\n",
    "# Относительная давность анализа:\n",
    "# date_from_1990 = количество дней от 01.01.1990 до date_analyse"
   ]
  },
  {
   "cell_type": "code",
   "execution_count": 14,
   "metadata": {
    "ExecuteTime": {
     "end_time": "2023-10-09T09:12:59.565474Z",
     "start_time": "2023-10-09T09:12:59.320697Z"
    },
    "id": "-uQBhDC0u6tT"
   },
   "outputs": [],
   "source": [
    "import os\n",
    "# import gdown\n",
    "import pandas as pd\n",
    "import numpy as np\n",
    "import matplotlib.pyplot as plt\n",
    "import seaborn as sns\n",
    "from scipy.stats import pearsonr\n",
    "from datetime import datetime\n",
    "# import phik\n",
    "# from phik import resources, report"
   ]
  },
  {
   "cell_type": "markdown",
   "metadata": {
    "id": "C5F_2Pgcw17O"
   },
   "source": [
    "## Функции для формирования доп.колонок (код сохранен без изменений исходного парсера).\n",
    "Создаются новые столбцы по группам возрастов, по группам заболеваний и столбец с относительной давностью анализа:  date_from_1990"
   ]
  },
  {
   "cell_type": "code",
   "execution_count": 15,
   "metadata": {
    "ExecuteTime": {
     "end_time": "2023-10-09T09:13:02.491573Z",
     "start_time": "2023-10-09T09:13:02.481142Z"
    },
    "id": "yINyOeFYQU2p"
   },
   "outputs": [],
   "source": [
    "# Сформируем колонки по группам возрастов: на основе поля возраст\n",
    "# age_level\t0-10-30-50-60-70-80-90+\n",
    "# age_level1\t0-50-65-75-80+\n",
    "# age_level2\t0-35-50-65-80+\n",
    "# age_level3\t0-50-65-75-90+\n",
    "# age_level4\t0-50-65-80\n",
    "# age_level5\t0-50-65+\n",
    "# age_level6\t0-65+\n",
    "\n",
    "def get_level(x):\n",
    "# age_level\t0-10-30-50-60-70-80-90+\n",
    "    if x < 10 : return 0\n",
    "    if x >= 10 and x < 30 : return 10\n",
    "    if x >= 30 and x < 50 : return 30\n",
    "    if x >= 50 and x < 60 : return 50\n",
    "    if x >= 60 and x < 70 : return 60\n",
    "    if x >= 70 and x < 80 : return 70\n",
    "    if x >= 80 and x < 90 : return 80\n",
    "    return 90\n",
    "\n",
    "def get_level1(x):\n",
    "# age_level1\t0-50-65-75-80+\n",
    "    if x < 50 : return 0\n",
    "    if x >= 50 and x < 65 : return 50\n",
    "    if x >= 65 and x < 75 : return 65\n",
    "    if x >= 75 and x < 80 : return 75\n",
    "    return 80\n",
    "\n",
    "def get_level2(x):\n",
    "# age_level2\t0-35-50-65-80+\n",
    "    if x < 35 : return 0\n",
    "    if x >= 35 and x < 50 : return 35\n",
    "    if x >= 50 and x < 65 : return 50\n",
    "    if x >= 65 and x < 80 : return 65\n",
    "    return 80\n",
    "\n",
    "def get_level3(x):\n",
    "# age_level3\t0-50-65-75-90+\n",
    "    if x < 50 : return 0\n",
    "    if x >= 50 and x < 65 : return 50\n",
    "    if x >= 65 and x < 75 : return 65\n",
    "    if x >= 75 and x < 90 : return 75\n",
    "    return 90\n",
    "\n",
    "def get_level4(x):\n",
    "# age_level4\t0-50-65-80\n",
    "    if x < 50 : return 0\n",
    "    if x >= 50 and x < 65 : return 50\n",
    "    if x >= 65 and x < 80 : return 65\n",
    "    return 80\n",
    "\n",
    "def get_level5(x):\n",
    "# age_level5\t0-50-65+\n",
    "    if x < 50 : return 0\n",
    "    if x >= 50 and x < 65 : return 50\n",
    "    return 65"
   ]
  },
  {
   "cell_type": "code",
   "execution_count": 16,
   "metadata": {
    "ExecuteTime": {
     "end_time": "2023-10-09T09:13:03.230387Z",
     "start_time": "2023-10-09T09:13:03.216911Z"
    },
    "id": "OdOK8NPgvzIh"
   },
   "outputs": [],
   "source": [
    "# поисковые конструкции для diagnos и sss\n",
    "# for d1 -диагноз или ссс содержат слово \"проте\"\n",
    "# for d2- фибр, фебр,ФП,трепет,i48,I48,I 48\n",
    "# for d3- порок,ИБС,склероз,ОИМ,инфаркт,миокард,стенокар,I20,I25,ПИКС,пикс,ишемич,кард,ВПС,ОКС,стенокардия,ТИА,эндокардит,порок\n",
    "# for d4-  I 08,I05,i05,i08,I06,I09,ревмат,\n",
    "# for d5-  I35,i35\n",
    "# for d6 - ДКМП, I42, ОНМК,i34,Q231,ГБ,легочн,ТЭЛА\n",
    "# for d7 - аорт, митр,клап,перегор\n",
    "# for d8 - АКШ,МКШ,шунт,стент,ЭКС,РЧА,аблац\n",
    "\n",
    "def get_d1(x):\n",
    "  # for d1 -диагноз или ссс содержат слово \"проте\"\n",
    "  wlist = ['проте']\n",
    "  for w in wlist:\n",
    "    w = w.upper()\n",
    "    if x['diagnos'].upper().find(w) > -1: return 1\n",
    "    if x['sss'].upper().find(w) > -1: return 1\n",
    "  return 0\n",
    "\n",
    "def get_d2(x):\n",
    "# for d2- фибр, фебр,ФП,трепет,i48,I48,I 48\n",
    "  wlist = ['фибр', 'фебр','ФП','трепет','i48','I48','I 48']\n",
    "  for w in wlist:\n",
    "    w = w.upper()\n",
    "    if x['diagnos'].upper().find(w) > -1: return 1\n",
    "    if x['sss'].upper().find(w) > -1: return 1\n",
    "  return 0\n",
    "\n",
    "def get_d3(x):\n",
    "# for d3- порок,ИБС,склероз,ОИМ,инфаркт,миокард,стенокар,I20,I25,ПИКС,пикс,ишемич,кард,ВПС,ОКС,стенокардия,ТИА,эндокардит,порок\n",
    "  wlist = ['порок','ИБС','склероз','ОИМ','инфаркт','миокард','стенокар','I20',\n",
    "           'I25','ПИКС','пикс','ишемич','кард','ВПС','ОКС','стенокард',\n",
    "           'ТИА','эндокардит','порок']\n",
    "  for w in wlist:\n",
    "    w = w.upper()\n",
    "    if x['diagnos'].upper().find(w) > -1: return 1\n",
    "    if x['sss'].upper().find(w) > -1: return 1\n",
    "  return 0\n",
    "\n",
    "def get_d4(x):\n",
    "# for d4-  I 08,I05,i05,i08,I06,I09,ревмат,\n",
    "  wlist = ['I 08','I05','i05','i08','I06','I09','ревмат']\n",
    "  for w in wlist:\n",
    "    w = w.upper()\n",
    "    if x['diagnos'].upper().find(w) > -1: return 1\n",
    "    if x['sss'].upper().find(w) > -1: return 1\n",
    "  return 0\n",
    "\n",
    "def get_d5(x):\n",
    "# for d5-  I35,i35\n",
    "  wlist = ['I35','i35']\n",
    "  for w in wlist:\n",
    "    w = w.upper()\n",
    "    if x['diagnos'].upper().find(w) > -1: return 1\n",
    "    if x['sss'].upper().find(w) > -1: return 1\n",
    "  return 0\n",
    "\n",
    "def get_d6(x):\n",
    "# for d6 - ДКМП, I42, ОНМК,i34,Q231,ГБ,легочн,ТЭЛА\n",
    "  wlist = ['ДКМП', 'I42', 'ОНМК','i34','Q231','ГБ','легочн','ТЭЛА']\n",
    "  for w in wlist:\n",
    "    w = w.upper()\n",
    "    if x['diagnos'].upper().find(w) > -1: return 1\n",
    "    if x['sss'].upper().find(w) > -1: return 1\n",
    "  return 0\n",
    "\n",
    "def get_d7(x):\n",
    "# for d7 - аорт, митр,клап,перегор\n",
    "  wlist = ['аорт', 'митр','клап','перегор']\n",
    "  for w in wlist:\n",
    "    w = w.upper()\n",
    "    if x['diagnos'].upper().find(w) > -1: return 1\n",
    "    if x['sss'].upper().find(w) > -1: return 1\n",
    "  return 0\n",
    "\n",
    "def get_d8(x):\n",
    "# for d8 - АКШ,МКШ,шунт,стент,ЭКС,РЧА,аблац\n",
    "  wlist = ['АКШ','МКШ','шунт','стент','ЭКС','РЧА','аблац']\n",
    "  for w in wlist:\n",
    "    w = w.upper()\n",
    "    if x['diagnos'].upper().find(w) > -1: return 1\n",
    "    if x['sss'].upper().find(w) > -1: return 1\n",
    "  return 0"
   ]
  },
  {
   "cell_type": "code",
   "execution_count": 17,
   "metadata": {
    "ExecuteTime": {
     "end_time": "2023-10-09T09:13:04.711587Z",
     "start_time": "2023-10-09T09:13:04.697341Z"
    },
    "id": "zqsgharmzdut"
   },
   "outputs": [],
   "source": [
    "def add_date_from_1990(df):\n",
    "    # Вычисли относительную давность анализа:\n",
    "    # сформируем колонку date_from_1990 = количество дней от 01.01.1990 до date_analyse\n",
    "    date_01011990 = datetime(1990, 1, 1)\n",
    "\n",
    "    df['date_from_1990'] = (df['date_analyse'] - date_01011990).dt.days\n",
    "    return df"
   ]
  },
  {
   "cell_type": "code",
   "execution_count": 18,
   "metadata": {
    "ExecuteTime": {
     "end_time": "2023-10-09T09:13:06.526283Z",
     "start_time": "2023-10-09T09:13:06.513370Z"
    },
    "id": "bJyn2RTDVKXw"
   },
   "outputs": [],
   "source": [
    "def add_age_levels(df):\n",
    "    \"\"\"\n",
    "    Сформируем колонки по группам возрастов: на основе поля возраст\n",
    "        age_level\t0-10-30-50-60-70-80-90+\n",
    "        age_level1\t0-50-65-75-80+\n",
    "        age_level2\t0-35-50-65-80+\n",
    "        age_level3\t0-50-65-75-90+\n",
    "        age_level4\t0-50-65-80\n",
    "        age_level5\t0-50-65+\n",
    "        age_level6\t0-65+\n",
    "    \"\"\"\n",
    "    df['age_level'] = df['age'].apply(get_level)\n",
    "    df['age_level1'] = df['age'].apply(get_level1)\n",
    "    df['age_level2'] = df['age'].apply(get_level2)\n",
    "    df['age_level3'] = df['age'].apply(get_level3)\n",
    "    df['age_level4'] = df['age'].apply(get_level4)\n",
    "    df['age_level5'] = df['age'].apply(get_level5)\n",
    "    df['age_level6'] = np.where((df.age>=65), 65, 0)\n",
    "\n",
    "    return df"
   ]
  },
  {
   "cell_type": "markdown",
   "metadata": {
    "id": "sKoFBmRPQwkb"
   },
   "source": [
    "## Сформируем колонки по диагнозам и ССС"
   ]
  },
  {
   "cell_type": "code",
   "execution_count": 19,
   "metadata": {
    "ExecuteTime": {
     "end_time": "2023-10-09T09:13:08.747336Z",
     "start_time": "2023-10-09T09:13:08.728590Z"
    },
    "id": "PAd9uEf4r3hq"
   },
   "outputs": [],
   "source": [
    "def add_diagnosis_and_sss(df):\n",
    "    \"\"\"\n",
    "    Сформируем колонки по диагнозам и ССС: на основе колонок diagnos, sss\n",
    "        d1 - Протезирование клапанов\n",
    "        d2 - (I48)Фибрилляция и трепетание предсердий, мерцательная аритмия\n",
    "        d3 - (I20-25)Ишемическая болезнь сердца(ИБС), инфаркт миокарда(ИМ,ОИМ), Хроническая ишемическая болезнь сердца, Постинфарктный крдиосклероз(ПИКС),Врождённый порок сердца(ВПС), эндокардит,острый коронарный синдром(ОКС),транзиторная ишемическая атака(ТИА), порок\n",
    "        d4 - (I05-09)Ревматическая болезнь сердца\n",
    "        d5 - (I35)Неревматические поражения аортального клапана\n",
    "        d6 - (I__)Другие не сердечные заболевания, гипертония(ГБ), тромбофлебит, острое нарушение мозгового кровообращения,ОНМК,тромбоэмболия лёгочной артерии(ТЭЛА)\n",
    "        d7 - аортальный, митральный порок сердца, поражение клапанов, недостаточность, межсердные перегородки\n",
    "        d8 - Стентирование сосудов, биопластика(БАП), радиочастотеая катетерная абляция(РЧА),аблация,электростимуляторы(ЭКС),Шунтирование(АКШ,МКШ)\n",
    "    \"\"\"\n",
    "    # приводим к типу 'str'\n",
    "    df['diagnos'] = df['diagnos'].astype(str)\n",
    "    df['sss'] = df['sss'].astype(str)\n",
    "\n",
    "    df['d1'] = df.apply(lambda x: get_d1(x), axis=1)\n",
    "    df['d2'] = df.apply(lambda x: get_d2(x), axis=1)\n",
    "    df['d3'] = df.apply(lambda x: get_d3(x), axis=1)\n",
    "    df['d4'] = df.apply(lambda x: get_d4(x), axis=1)\n",
    "    df['d5'] = df.apply(lambda x: get_d5(x), axis=1)\n",
    "    df['d6'] = df.apply(lambda x: get_d6(x), axis=1)\n",
    "    df['d7'] = df.apply(lambda x: get_d7(x), axis=1)\n",
    "    df['d8'] = df.apply(lambda x: get_d8(x), axis=1)\n",
    "\n",
    "    return df"
   ]
  },
  {
   "cell_type": "markdown",
   "metadata": {
    "id": "GAadQfNiYQtn"
   },
   "source": [
    "## Расчет статистических метрик по столбцу age. Анализ распределения возраста пациентов"
   ]
  },
  {
   "cell_type": "code",
   "execution_count": 20,
   "metadata": {
    "ExecuteTime": {
     "end_time": "2023-10-09T09:13:16.987850Z",
     "start_time": "2023-10-09T09:13:16.968848Z"
    },
    "colab": {
     "base_uri": "https://localhost:8080/",
     "height": 0
    },
    "id": "CPZVEXFlBAhP",
    "outputId": "f6c09741-fb9b-497b-ed2c-bb11da501171"
   },
   "outputs": [],
   "source": [
    "def plot_age_hist(ages):\n",
    "    \"\"\"\n",
    "    Гистограмма распределения возраста.\n",
    "    \"\"\"\n",
    "    # Белый фон с сеткой\n",
    "    sns.set_style(\"whitegrid\")\n",
    "\n",
    "    plt.figure(figsize=(10, 6))\n",
    "    sns.histplot(ages, bins=30, kde=True, color=\"skyblue\")\n",
    "    plt.title('Распределение возраста')\n",
    "    plt.xlabel('Возраст')\n",
    "    plt.ylabel('Количество')\n",
    "    plt.tight_layout()\n",
    "\n",
    "# plot_age_hist(df['age'].copy())"
   ]
  },
  {
   "cell_type": "code",
   "execution_count": 21,
   "metadata": {
    "ExecuteTime": {
     "end_time": "2023-10-09T09:13:19.755642Z",
     "start_time": "2023-10-09T09:13:19.344967Z"
    },
    "colab": {
     "base_uri": "https://localhost:8080/",
     "height": 0
    },
    "id": "0-sHgQx43eeN",
    "outputId": "754d5cb4-3054-4874-8566-14b60bc57c61"
   },
   "outputs": [
    {
     "data": {
      "image/png": "[encoded data removed]",
      "text/plain": [
       "<Figure size 1000x600 with 1 Axes>"
      ]
     },
     "metadata": {},
     "output_type": "display_data"
    }
   ],
   "source": [
    "def remove_age_errors(df):\n",
    "    \"\"\"\n",
    "    Удаляем явные ошибки из датасета: возраст 0 и больше 100.\n",
    "    \"\"\"\n",
    "    df = df.drop(df[(df['age'] == 0) | (df['age'] > 100)].index)\n",
    "    return df\n",
    "\n",
    "data_age_fixed = remove_age_errors(df.copy())\n",
    "plot_age_hist(data_age_fixed['age'])"
   ]
  },
  {
   "cell_type": "raw",
   "metadata": {
    "ExecuteTime": {
     "end_time": "2023-10-03T14:24:40.953631Z",
     "start_time": "2023-10-03T14:24:40.743092Z"
    },
    "colab": {
     "base_uri": "https://localhost:8080/",
     "height": 0
    },
    "id": "bwFnzOJbDtpd",
    "outputId": "0a90e13a-3e74-41ce-e901-dec5bdecb23c"
   },
   "source": [
    "# QQ-plot - это графический инструмент, который помогает определить, насколько близки данные к некоторому теоретическому распределению,\n",
    "# чаще всего к нормальному. Если распределение идеально совпадает с нормальным, то точки на QQ-plot будут следовать прямой линии (45-градусной)\n",
    "\n",
    "import scipy.stats as stats\n",
    "\n",
    "def plot_age_qq(series):\n",
    "    plt.figure(figsize=(10, 6))\n",
    "    stats.probplot(series, plot=plt)\n",
    "    plt.title('QQ-plot для возраста')\n",
    "\n",
    "plot_age_qq(data_age_fixed['age'])"
   ]
  },
  {
   "cell_type": "raw",
   "metadata": {
    "ExecuteTime": {
     "end_time": "2023-10-03T14:24:42.059445Z",
     "start_time": "2023-10-03T14:24:42.039083Z"
    },
    "colab": {
     "base_uri": "https://localhost:8080/"
    },
    "id": "z6bXv7cAI0B4",
    "outputId": "bfcc909a-bcf3-436e-962a-1160c48b80f1"
   },
   "source": [
    "# Тест Андерсона-Дарлинга\n",
    "\n",
    "result = stats.anderson(data_age_fixed['age'])\n",
    "\n",
    "print(f\"Anderson-Darling Test: Statistic={result.statistic}\")\n",
    "print(\"Critical values:\", result.critical_values)\n",
    "print(\"Significance levels:\", result.significance_level)"
   ]
  },
  {
   "cell_type": "markdown",
   "metadata": {
    "id": "08_7pgpVgUrQ"
   },
   "source": [
    "Результат тестов показывает, что что распределение данных в столбце 'age' не следует нормальному распределению. Прямое применение стандартных методов машинного обучения может не давать оптимальных результатов, так как большинство методов предполагает, что признаки имеют некое стандартное или нормальное распределение. Но есть модели, устойчивые к несбалансированным данным: модели на основе деревьев хорошо работают с такими данными."
   ]
  },
  {
   "cell_type": "markdown",
   "metadata": {
    "id": "psl0BgmrV_kr"
   },
   "source": [
    "Для дальнейшей оценки кореляции и принятия решения о включении в датасет на базе занных о возрасте рассчитываются следующие статистические показатели  (можно использовать другие):\n",
    "\n",
    "**deviation_from_median**: Отклонение возраста от медианного значения возраста в датасете. Если значение положительное, возраст выше медианы; если отрицательное — ниже медианы.\n",
    "\n",
    "**age_percentile**: Процентное положение возраста относительно всех остальных возрастов в наборе данных. Он показывает, сколько процентов людей в датасете имеют возраст ниже данного значения.\n",
    "\n",
    "**age_quantile**: Показатель делит возраста на четыре равные части (квартили). При этом значение 1 соответствует самому нижнему квартилю (25% самых молодых), а 4 — самому верхнему квартилю (25% самых старых).\n",
    "\n",
    "**is_elderly**: Бинарный параметр показывает, превышает ли возраст заданный порог. Если да, то значение равно 1, в противном случае — 0.\n",
    "\n",
    "**age_density**: Оценка плотности вероятности для каждого возраста в датасете показывает, насколько \"обычным\" или \"редким\" является определенный возраст среди всех возрастов в датасете.\n",
    "\n",
    "**age_zscore**: Z-оценка для возраста показывает, на сколько стандартных отклонений конкретное значение возраста отклоняется от среднего значения возраста в ндатасете. Если Z-оценка положительна, возраст выше среднего, и наоборот."
   ]
  },
  {
   "cell_type": "code",
   "execution_count": 22,
   "metadata": {
    "ExecuteTime": {
     "end_time": "2023-10-09T09:13:37.775418Z",
     "start_time": "2023-10-09T09:13:37.760044Z"
    },
    "id": "0Q1f2OarMZgr"
   },
   "outputs": [],
   "source": [
    "def add_age_statistics(df):\n",
    "    df['deviation_from_median'] = df['age'] - df['age'].median()\n",
    "    df['age_percentile'] = df['age'].apply(lambda x: stats.percentileofscore(df['age'], x))\n",
    "    df['age_quantile'] = pd.qcut(df['age'], q=4, labels=[1, 2, 3, 4])\n",
    "\n",
    "    threshold = 70\n",
    "    df['is_elderly'] = (df['age'] > threshold).astype(int)\n",
    "\n",
    "    df['age_density'] = df['age'].apply(lambda x: float(stats.gaussian_kde(df['age'])(x)))\n",
    "\n",
    "    mean_age = df['age'].mean() # средний возраст\n",
    "    std_age = df['age'].std() # стандартное отклонение\n",
    "    df['age_zscore'] = (df['age'] - mean_age) / std_age\n",
    "\n",
    "    return df"
   ]
  },
  {
   "cell_type": "markdown",
   "metadata": {
    "id": "NZXMeXuEX2od"
   },
   "source": [
    "## Функции создания дополнительные колонок"
   ]
  },
  {
   "cell_type": "code",
   "execution_count": 23,
   "metadata": {
    "ExecuteTime": {
     "end_time": "2023-10-09T09:13:39.414897Z",
     "start_time": "2023-10-09T09:13:39.407954Z"
    },
    "id": "iBzdFUggX2od"
   },
   "outputs": [],
   "source": [
    "# Функция Отклонение (лет) от критического возраста: critical_age_l - младше порога; critical_age_h - старше порога\n",
    "\n",
    "critical_age_threshold = 40  # принятый порог критического возраста\n",
    "\n",
    "def critical_age(df,tr_age=critical_age_threshold):\n",
    "    if 'age' in df.columns and 'int' in df.age.dtype.name:\n",
    "        df['critical_age_l']=df['age'].apply(lambda x: tr_age - x if x < tr_age else 0 ).astype('int8')\n",
    "        df['critical_age_h']=df['age'].apply(lambda x: x - tr_age if x > tr_age else 0  ).astype('int8')\n",
    "    return df"
   ]
  },
  {
   "cell_type": "code",
   "execution_count": 24,
   "metadata": {
    "ExecuteTime": {
     "end_time": "2023-10-09T09:13:40.323600Z",
     "start_time": "2023-10-09T09:13:40.304981Z"
    },
    "id": "pMtqY710X2od"
   },
   "outputs": [],
   "source": [
    "# Функция make_ohe_columns - развертывание значений категориальных колнок в One-Hot-Encoded векторы\n",
    "# features_to_ohe = [список колонок для развертывания в OHE векторы]\n",
    "\n",
    "def make_ohe_columns(df):\n",
    "    # ВНИМАНИЕ: используем внешнюю переменную features_to_ohe = []\n",
    "\n",
    "    _colist_ = [c for c in list(features_to_ohe) if c in df.columns]\n",
    "    print(_colist_)\n",
    "\n",
    "    return pd.get_dummies(df, columns=_colist_, drop_first=False)\n",
    "\n",
    "\n",
    "# test\n",
    "\n",
    "# features_to_ohe = ['gender','institution_id','abracadabra']\n",
    "# # features_to_ohe = 'gender'\n",
    "# clear_df = make_ohe_columns(df.copy())\n",
    "# preview(clear_df)"
   ]
  },
  {
   "cell_type": "code",
   "execution_count": 25,
   "metadata": {
    "ExecuteTime": {
     "end_time": "2023-10-09T09:13:41.256653Z",
     "start_time": "2023-10-09T09:13:41.249328Z"
    },
    "id": "UfF4z1bIX2oe"
   },
   "outputs": [],
   "source": [
    "# Разбиение возраста по корзинам\n",
    "# Функция назначения номера возрастной группы по значению возраста\n",
    "\n",
    "def add_age_bins(df, ohe=True):\n",
    "    def bin_age_x(a):\n",
    "        x = a // 10\n",
    "        x = 9 if x > 9 else x\n",
    "        return x\n",
    "\n",
    "    if 'age' in df.columns and 'int' in df.age.dtype.name:\n",
    "        df['agebin']=df['age'].apply(lambda x: bin_age_x(x)).astype('int8')\n",
    "        df = pd.get_dummies(df, columns=['agebin'],drop_first=False) if ohe else df\n",
    "    return df"
   ]
  },
  {
   "cell_type": "markdown",
   "metadata": {
    "id": "7bzgJTwzX2oe"
   },
   "source": [
    "### Добавление названий имен знаков зодиака"
   ]
  },
  {
   "cell_type": "code",
   "execution_count": 26,
   "metadata": {
    "ExecuteTime": {
     "end_time": "2023-10-09T09:13:44.026853Z",
     "start_time": "2023-10-09T09:13:44.007914Z"
    },
    "id": "mN8xwurL1o8f"
   },
   "outputs": [],
   "source": [
    "# Загрузка пакета и функции генерации\n",
    "\n",
    "from zodiac_sign import get_zodiac_sign"
   ]
  },
  {
   "cell_type": "code",
   "execution_count": 27,
   "metadata": {
    "ExecuteTime": {
     "end_time": "2023-10-09T09:13:44.570713Z",
     "start_time": "2023-10-09T09:13:44.559684Z"
    },
    "id": "DV3KJfVIX2of"
   },
   "outputs": [],
   "source": [
    "# Разбиение OHE по знакам зодиака\n",
    "def make_zodiac_ohe(df):\n",
    "    if 'birthdate' in df.columns:\n",
    "        df['zodiac']=df['birthdate'].apply(lambda x: get_zodiac_sign(x))\n",
    "        df = pd.get_dummies(df, columns=['zodiac'], drop_first=False )\n",
    "    return df"
   ]
  },
  {
   "cell_type": "markdown",
   "metadata": {
    "id": "D0ol5BJacFJD"
   },
   "source": [
    "## Создаем очищенный и обогащенный набор данных для обучения моделей"
   ]
  },
  {
   "cell_type": "code",
   "execution_count": 30,
   "metadata": {
    "ExecuteTime": {
     "end_time": "2023-10-09T09:15:47.048673Z",
     "start_time": "2023-10-09T09:15:47.033050Z"
    }
   },
   "outputs": [],
   "source": [
    "import scipy.stats as stats"
   ]
  },
  {
   "cell_type": "code",
   "execution_count": 31,
   "metadata": {
    "ExecuteTime": {
     "end_time": "2023-10-09T09:15:48.743496Z",
     "start_time": "2023-10-09T09:15:48.711945Z"
    },
    "colab": {
     "base_uri": "https://localhost:8080/",
     "height": 366
    },
    "id": "3F6XuQ5NUiB1",
    "outputId": "80443b61-6d05-4345-ddfa-f89384538202"
   },
   "outputs": [
    {
     "data": {
      "text/html": [
       "<style>#sk-container-id-2 {color: black;background-color: white;}#sk-container-id-2 pre{padding: 0;}#sk-container-id-2 div.sk-toggleable {background-color: white;}#sk-container-id-2 label.sk-toggleable__label {cursor: pointer;display: block;width: 100%;margin-bottom: 0;padding: 0.3em;box-sizing: border-box;text-align: center;}#sk-container-id-2 label.sk-toggleable__label-arrow:before {content: \"▸\";float: left;margin-right: 0.25em;color: #696969;}#sk-container-id-2 label.sk-toggleable__label-arrow:hover:before {color: black;}#sk-container-id-2 div.sk-estimator:hover label.sk-toggleable__label-arrow:before {color: black;}#sk-container-id-2 div.sk-toggleable__content {max-height: 0;max-width: 0;overflow: hidden;text-align: left;background-color: #f0f8ff;}#sk-container-id-2 div.sk-toggleable__content pre {margin: 0.2em;color: black;border-radius: 0.25em;background-color: #f0f8ff;}#sk-container-id-2 input.sk-toggleable__control:checked~div.sk-toggleable__content {max-height: 200px;max-width: 100%;overflow: auto;}#sk-container-id-2 input.sk-toggleable__control:checked~label.sk-toggleable__label-arrow:before {content: \"▾\";}#sk-container-id-2 div.sk-estimator input.sk-toggleable__control:checked~label.sk-toggleable__label {background-color: #d4ebff;}#sk-container-id-2 div.sk-label input.sk-toggleable__control:checked~label.sk-toggleable__label {background-color: #d4ebff;}#sk-container-id-2 input.sk-hidden--visually {border: 0;clip: rect(1px 1px 1px 1px);clip: rect(1px, 1px, 1px, 1px);height: 1px;margin: -1px;overflow: hidden;padding: 0;position: absolute;width: 1px;}#sk-container-id-2 div.sk-estimator {font-family: monospace;background-color: #f0f8ff;border: 1px dotted black;border-radius: 0.25em;box-sizing: border-box;margin-bottom: 0.5em;}#sk-container-id-2 div.sk-estimator:hover {background-color: #d4ebff;}#sk-container-id-2 div.sk-parallel-item::after {content: \"\";width: 100%;border-bottom: 1px solid gray;flex-grow: 1;}#sk-container-id-2 div.sk-label:hover label.sk-toggleable__label {background-color: #d4ebff;}#sk-container-id-2 div.sk-serial::before {content: \"\";position: absolute;border-left: 1px solid gray;box-sizing: border-box;top: 0;bottom: 0;left: 50%;z-index: 0;}#sk-container-id-2 div.sk-serial {display: flex;flex-direction: column;align-items: center;background-color: white;padding-right: 0.2em;padding-left: 0.2em;position: relative;}#sk-container-id-2 div.sk-item {position: relative;z-index: 1;}#sk-container-id-2 div.sk-parallel {display: flex;align-items: stretch;justify-content: center;background-color: white;position: relative;}#sk-container-id-2 div.sk-item::before, #sk-container-id-2 div.sk-parallel-item::before {content: \"\";position: absolute;border-left: 1px solid gray;box-sizing: border-box;top: 0;bottom: 0;left: 50%;z-index: -1;}#sk-container-id-2 div.sk-parallel-item {display: flex;flex-direction: column;z-index: 1;position: relative;background-color: white;}#sk-container-id-2 div.sk-parallel-item:first-child::after {align-self: flex-end;width: 50%;}#sk-container-id-2 div.sk-parallel-item:last-child::after {align-self: flex-start;width: 50%;}#sk-container-id-2 div.sk-parallel-item:only-child::after {width: 0;}#sk-container-id-2 div.sk-dashed-wrapped {border: 1px dashed gray;margin: 0 0.4em 0.5em 0.4em;box-sizing: border-box;padding-bottom: 0.4em;background-color: white;}#sk-container-id-2 div.sk-label label {font-family: monospace;font-weight: bold;display: inline-block;line-height: 1.2em;}#sk-container-id-2 div.sk-label-container {text-align: center;}#sk-container-id-2 div.sk-container {/* jupyter's `normalize.less` sets `[hidden] { display: none; }` but bootstrap.min.css set `[hidden] { display: none !important; }` so we also need the `!important` here to be able to override the default hidden behavior on the sphinx rendered scikit-learn.org. See: https://github.com/scikit-learn/scikit-learn/issues/21755 */display: inline-block !important;position: relative;}#sk-container-id-2 div.sk-text-repr-fallback {display: none;}</style><div id=\"sk-container-id-2\" class=\"sk-top-container\"><div class=\"sk-text-repr-fallback\"><pre>Pipeline(steps=[(&#x27;functiontransformer-1&#x27;,\n",
       "                 FunctionTransformer(func=&lt;function add_date_from_1990 at 0x000001DD81975BD0&gt;)),\n",
       "                (&#x27;functiontransformer-2&#x27;,\n",
       "                 FunctionTransformer(func=&lt;function add_age_levels at 0x000001DD81975FC0&gt;)),\n",
       "                (&#x27;functiontransformer-3&#x27;,\n",
       "                 FunctionTransformer(func=&lt;function add_diagnosis_and_sss at 0x000001DD81977AC0&gt;)),\n",
       "                (&#x27;functiontransformer-4&#x27;,\n",
       "                 Functio...\n",
       "                 FunctionTransformer(func=&lt;function critical_age at 0x000001DD81E1D7E0&gt;)),\n",
       "                (&#x27;functiontransformer-7&#x27;,\n",
       "                 FunctionTransformer(func=&lt;function add_age_bins at 0x000001DD85F69870&gt;)),\n",
       "                (&#x27;functiontransformer-8&#x27;,\n",
       "                 FunctionTransformer(func=&lt;function make_zodiac_ohe at 0x000001DD85FC5990&gt;)),\n",
       "                (&#x27;functiontransformer-9&#x27;,\n",
       "                 FunctionTransformer(func=&lt;function make_ohe_columns at 0x000001DD81CBEC20&gt;))])</pre><b>In a Jupyter environment, please rerun this cell to show the HTML representation or trust the notebook. <br />On GitHub, the HTML representation is unable to render, please try loading this page with nbviewer.org.</b></div><div class=\"sk-container\" hidden><div class=\"sk-item sk-dashed-wrapped\"><div class=\"sk-label-container\"><div class=\"sk-label sk-toggleable\"><input class=\"sk-toggleable__control sk-hidden--visually\" id=\"sk-estimator-id-11\" type=\"checkbox\" ><label for=\"sk-estimator-id-11\" class=\"sk-toggleable__label sk-toggleable__label-arrow\">Pipeline</label><div class=\"sk-toggleable__content\"><pre>Pipeline(steps=[(&#x27;functiontransformer-1&#x27;,\n",
       "                 FunctionTransformer(func=&lt;function add_date_from_1990 at 0x000001DD81975BD0&gt;)),\n",
       "                (&#x27;functiontransformer-2&#x27;,\n",
       "                 FunctionTransformer(func=&lt;function add_age_levels at 0x000001DD81975FC0&gt;)),\n",
       "                (&#x27;functiontransformer-3&#x27;,\n",
       "                 FunctionTransformer(func=&lt;function add_diagnosis_and_sss at 0x000001DD81977AC0&gt;)),\n",
       "                (&#x27;functiontransformer-4&#x27;,\n",
       "                 Functio...\n",
       "                 FunctionTransformer(func=&lt;function critical_age at 0x000001DD81E1D7E0&gt;)),\n",
       "                (&#x27;functiontransformer-7&#x27;,\n",
       "                 FunctionTransformer(func=&lt;function add_age_bins at 0x000001DD85F69870&gt;)),\n",
       "                (&#x27;functiontransformer-8&#x27;,\n",
       "                 FunctionTransformer(func=&lt;function make_zodiac_ohe at 0x000001DD85FC5990&gt;)),\n",
       "                (&#x27;functiontransformer-9&#x27;,\n",
       "                 FunctionTransformer(func=&lt;function make_ohe_columns at 0x000001DD81CBEC20&gt;))])</pre></div></div></div><div class=\"sk-serial\"><div class=\"sk-item\"><div class=\"sk-estimator sk-toggleable\"><input class=\"sk-toggleable__control sk-hidden--visually\" id=\"sk-estimator-id-12\" type=\"checkbox\" ><label for=\"sk-estimator-id-12\" class=\"sk-toggleable__label sk-toggleable__label-arrow\">FunctionTransformer</label><div class=\"sk-toggleable__content\"><pre>FunctionTransformer(func=&lt;function add_date_from_1990 at 0x000001DD81975BD0&gt;)</pre></div></div></div><div class=\"sk-item\"><div class=\"sk-estimator sk-toggleable\"><input class=\"sk-toggleable__control sk-hidden--visually\" id=\"sk-estimator-id-13\" type=\"checkbox\" ><label for=\"sk-estimator-id-13\" class=\"sk-toggleable__label sk-toggleable__label-arrow\">FunctionTransformer</label><div class=\"sk-toggleable__content\"><pre>FunctionTransformer(func=&lt;function add_age_levels at 0x000001DD81975FC0&gt;)</pre></div></div></div><div class=\"sk-item\"><div class=\"sk-estimator sk-toggleable\"><input class=\"sk-toggleable__control sk-hidden--visually\" id=\"sk-estimator-id-14\" type=\"checkbox\" ><label for=\"sk-estimator-id-14\" class=\"sk-toggleable__label sk-toggleable__label-arrow\">FunctionTransformer</label><div class=\"sk-toggleable__content\"><pre>FunctionTransformer(func=&lt;function add_diagnosis_and_sss at 0x000001DD81977AC0&gt;)</pre></div></div></div><div class=\"sk-item\"><div class=\"sk-estimator sk-toggleable\"><input class=\"sk-toggleable__control sk-hidden--visually\" id=\"sk-estimator-id-15\" type=\"checkbox\" ><label for=\"sk-estimator-id-15\" class=\"sk-toggleable__label sk-toggleable__label-arrow\">FunctionTransformer</label><div class=\"sk-toggleable__content\"><pre>FunctionTransformer(func=&lt;function remove_age_errors at 0x000001DD81D0B130&gt;)</pre></div></div></div><div class=\"sk-item\"><div class=\"sk-estimator sk-toggleable\"><input class=\"sk-toggleable__control sk-hidden--visually\" id=\"sk-estimator-id-16\" type=\"checkbox\" ><label for=\"sk-estimator-id-16\" class=\"sk-toggleable__label sk-toggleable__label-arrow\">FunctionTransformer</label><div class=\"sk-toggleable__content\"><pre>FunctionTransformer(func=&lt;function add_age_statistics at 0x000001DD81CBE5F0&gt;)</pre></div></div></div><div class=\"sk-item\"><div class=\"sk-estimator sk-toggleable\"><input class=\"sk-toggleable__control sk-hidden--visually\" id=\"sk-estimator-id-17\" type=\"checkbox\" ><label for=\"sk-estimator-id-17\" class=\"sk-toggleable__label sk-toggleable__label-arrow\">FunctionTransformer</label><div class=\"sk-toggleable__content\"><pre>FunctionTransformer(func=&lt;function critical_age at 0x000001DD81E1D7E0&gt;)</pre></div></div></div><div class=\"sk-item\"><div class=\"sk-estimator sk-toggleable\"><input class=\"sk-toggleable__control sk-hidden--visually\" id=\"sk-estimator-id-18\" type=\"checkbox\" ><label for=\"sk-estimator-id-18\" class=\"sk-toggleable__label sk-toggleable__label-arrow\">FunctionTransformer</label><div class=\"sk-toggleable__content\"><pre>FunctionTransformer(func=&lt;function add_age_bins at 0x000001DD85F69870&gt;)</pre></div></div></div><div class=\"sk-item\"><div class=\"sk-estimator sk-toggleable\"><input class=\"sk-toggleable__control sk-hidden--visually\" id=\"sk-estimator-id-19\" type=\"checkbox\" ><label for=\"sk-estimator-id-19\" class=\"sk-toggleable__label sk-toggleable__label-arrow\">FunctionTransformer</label><div class=\"sk-toggleable__content\"><pre>FunctionTransformer(func=&lt;function make_zodiac_ohe at 0x000001DD85FC5990&gt;)</pre></div></div></div><div class=\"sk-item\"><div class=\"sk-estimator sk-toggleable\"><input class=\"sk-toggleable__control sk-hidden--visually\" id=\"sk-estimator-id-20\" type=\"checkbox\" ><label for=\"sk-estimator-id-20\" class=\"sk-toggleable__label sk-toggleable__label-arrow\">FunctionTransformer</label><div class=\"sk-toggleable__content\"><pre>FunctionTransformer(func=&lt;function make_ohe_columns at 0x000001DD81CBEC20&gt;)</pre></div></div></div></div></div></div></div>"
      ],
      "text/plain": [
       "Pipeline(steps=[('functiontransformer-1',\n",
       "                 FunctionTransformer(func=<function add_date_from_1990 at 0x000001DD81975BD0>)),\n",
       "                ('functiontransformer-2',\n",
       "                 FunctionTransformer(func=<function add_age_levels at 0x000001DD81975FC0>)),\n",
       "                ('functiontransformer-3',\n",
       "                 FunctionTransformer(func=<function add_diagnosis_and_sss at 0x000001DD81977AC0>)),\n",
       "                ('functiontransformer-4',\n",
       "                 Functio...\n",
       "                 FunctionTransformer(func=<function critical_age at 0x000001DD81E1D7E0>)),\n",
       "                ('functiontransformer-7',\n",
       "                 FunctionTransformer(func=<function add_age_bins at 0x000001DD85F69870>)),\n",
       "                ('functiontransformer-8',\n",
       "                 FunctionTransformer(func=<function make_zodiac_ohe at 0x000001DD85FC5990>)),\n",
       "                ('functiontransformer-9',\n",
       "                 FunctionTransformer(func=<function make_ohe_columns at 0x000001DD81CBEC20>))])"
      ]
     },
     "execution_count": 31,
     "metadata": {},
     "output_type": "execute_result"
    }
   ],
   "source": [
    "# Рецепт, по которому очищаем и обогащаем набор данных\n",
    "\n",
    "# Список колонок для развертывания в OHE векторы\n",
    "features_to_ohe = ['gender', 'institution_id']\n",
    "\n",
    "data_pipeline_wide = make_pipeline(\n",
    "    FunctionTransformer(add_date_from_1990),\n",
    "    FunctionTransformer(add_age_levels),\n",
    "    FunctionTransformer(add_diagnosis_and_sss),\n",
    "    FunctionTransformer(remove_age_errors),\n",
    "    FunctionTransformer(add_age_statistics),\n",
    "    FunctionTransformer(critical_age),\n",
    "    FunctionTransformer(add_age_bins),\n",
    "    FunctionTransformer(make_zodiac_ohe),\n",
    "    FunctionTransformer(make_ohe_columns),\n",
    ")\n",
    "data_pipeline_wide"
   ]
  },
  {
   "cell_type": "code",
   "execution_count": 32,
   "metadata": {
    "ExecuteTime": {
     "end_time": "2023-10-09T09:15:55.786593Z",
     "start_time": "2023-10-09T09:15:51.392038Z"
    },
    "colab": {
     "base_uri": "https://localhost:8080/",
     "height": 315
    },
    "id": "tK8qNhytckuH",
    "outputId": "d64f1f32-77bb-403f-e7e2-fb41f3f6d1e5"
   },
   "outputs": [
    {
     "name": "stdout",
     "output_type": "stream",
     "text": [
      "['gender', 'institution_id']\n"
     ]
    },
    {
     "data": {
      "text/html": [
       "<div>\n",
       "<style scoped>\n",
       "    .dataframe tbody tr th:only-of-type {\n",
       "        vertical-align: middle;\n",
       "    }\n",
       "\n",
       "    .dataframe tbody tr th {\n",
       "        vertical-align: top;\n",
       "    }\n",
       "\n",
       "    .dataframe thead th {\n",
       "        text-align: right;\n",
       "    }\n",
       "</style>\n",
       "<table border=\"1\" class=\"dataframe\">\n",
       "  <thead>\n",
       "    <tr style=\"text-align: right;\">\n",
       "      <th></th>\n",
       "      <th>institution</th>\n",
       "      <th>id</th>\n",
       "      <th>age</th>\n",
       "      <th>dose</th>\n",
       "      <th>date_analyse</th>\n",
       "      <th>prev_INR(MHO)</th>\n",
       "      <th>atrial_fibrillation</th>\n",
       "      <th>mitral_valve</th>\n",
       "      <th>aortal_valve</th>\n",
       "      <th>date_diff</th>\n",
       "      <th>...</th>\n",
       "      <th>institution_id_22</th>\n",
       "      <th>institution_id_23</th>\n",
       "      <th>institution_id_24</th>\n",
       "      <th>institution_id_25</th>\n",
       "      <th>institution_id_26</th>\n",
       "      <th>institution_id_27</th>\n",
       "      <th>institution_id_28</th>\n",
       "      <th>institution_id_29</th>\n",
       "      <th>institution_id_30</th>\n",
       "      <th>institution_id_31</th>\n",
       "    </tr>\n",
       "  </thead>\n",
       "  <tbody>\n",
       "    <tr>\n",
       "      <th>0</th>\n",
       "      <td>ГБУЗ РБ Толбазинская ЦРБ</td>\n",
       "      <td>140361892057136</td>\n",
       "      <td>57</td>\n",
       "      <td>7.5</td>\n",
       "      <td>2022-11-11</td>\n",
       "      <td>3.11</td>\n",
       "      <td>1</td>\n",
       "      <td>0</td>\n",
       "      <td>0</td>\n",
       "      <td>13.0</td>\n",
       "      <td>...</td>\n",
       "      <td>0</td>\n",
       "      <td>0</td>\n",
       "      <td>0</td>\n",
       "      <td>0</td>\n",
       "      <td>0</td>\n",
       "      <td>0</td>\n",
       "      <td>0</td>\n",
       "      <td>0</td>\n",
       "      <td>0</td>\n",
       "      <td>0</td>\n",
       "    </tr>\n",
       "    <tr>\n",
       "      <th>1</th>\n",
       "      <td>ГБУЗ РБ Толбазинская ЦРБ</td>\n",
       "      <td>140361892057136</td>\n",
       "      <td>57</td>\n",
       "      <td>7.5</td>\n",
       "      <td>2022-11-24</td>\n",
       "      <td>3.32</td>\n",
       "      <td>1</td>\n",
       "      <td>0</td>\n",
       "      <td>0</td>\n",
       "      <td>15.0</td>\n",
       "      <td>...</td>\n",
       "      <td>0</td>\n",
       "      <td>0</td>\n",
       "      <td>0</td>\n",
       "      <td>0</td>\n",
       "      <td>0</td>\n",
       "      <td>0</td>\n",
       "      <td>0</td>\n",
       "      <td>0</td>\n",
       "      <td>0</td>\n",
       "      <td>0</td>\n",
       "    </tr>\n",
       "    <tr>\n",
       "      <th>2</th>\n",
       "      <td>ГБУЗ РБ Толбазинская ЦРБ</td>\n",
       "      <td>140361892057264</td>\n",
       "      <td>50</td>\n",
       "      <td>5.0</td>\n",
       "      <td>2022-11-22</td>\n",
       "      <td>2.01</td>\n",
       "      <td>0</td>\n",
       "      <td>1</td>\n",
       "      <td>0</td>\n",
       "      <td>26.0</td>\n",
       "      <td>...</td>\n",
       "      <td>0</td>\n",
       "      <td>0</td>\n",
       "      <td>0</td>\n",
       "      <td>0</td>\n",
       "      <td>0</td>\n",
       "      <td>0</td>\n",
       "      <td>0</td>\n",
       "      <td>0</td>\n",
       "      <td>0</td>\n",
       "      <td>0</td>\n",
       "    </tr>\n",
       "  </tbody>\n",
       "</table>\n",
       "<p>3 rows × 93 columns</p>\n",
       "</div>"
      ],
      "text/plain": [
       "                 institution               id  age  dose date_analyse  \\\n",
       "0  ГБУЗ РБ Толбазинская ЦРБ   140361892057136   57   7.5   2022-11-11   \n",
       "1  ГБУЗ РБ Толбазинская ЦРБ   140361892057136   57   7.5   2022-11-24   \n",
       "2  ГБУЗ РБ Толбазинская ЦРБ   140361892057264   50   5.0   2022-11-22   \n",
       "\n",
       "   prev_INR(MHO)  atrial_fibrillation  mitral_valve  aortal_valve  date_diff  \\\n",
       "0           3.11                    1             0             0       13.0   \n",
       "1           3.32                    1             0             0       15.0   \n",
       "2           2.01                    0             1             0       26.0   \n",
       "\n",
       "   ...  institution_id_22  institution_id_23  institution_id_24  \\\n",
       "0  ...                  0                  0                  0   \n",
       "1  ...                  0                  0                  0   \n",
       "2  ...                  0                  0                  0   \n",
       "\n",
       "  institution_id_25 institution_id_26 institution_id_27  institution_id_28  \\\n",
       "0                 0                 0                 0                  0   \n",
       "1                 0                 0                 0                  0   \n",
       "2                 0                 0                 0                  0   \n",
       "\n",
       "   institution_id_29  institution_id_30  institution_id_31  \n",
       "0                  0                  0                  0  \n",
       "1                  0                  0                  0  \n",
       "2                  0                  0                  0  \n",
       "\n",
       "[3 rows x 93 columns]"
      ]
     },
     "execution_count": 32,
     "metadata": {},
     "output_type": "execute_result"
    }
   ],
   "source": [
    "# Преобразуем исходные данные согласно рецепту и сохраняем результат в файл\n",
    "\n",
    "df = load_dataset()\n",
    "data_wide = data_pipeline_wide.transform(df)\n",
    "\n",
    "# сохраним датасет со всеми новыми столбцами в виртульное окружение -\n",
    "# - при необходимости сохраните на локальный диск вручную\n",
    "data_wide.to_excel(f'{ROOT_PATH}/data/interim/dataset_wide.xlsx', index=False)\n",
    "data_wide.head(3)"
   ]
  },
  {
   "cell_type": "code",
   "execution_count": 33,
   "metadata": {
    "ExecuteTime": {
     "end_time": "2023-10-09T09:16:11.972560Z",
     "start_time": "2023-10-09T09:16:11.967421Z"
    }
   },
   "outputs": [
    {
     "data": {
      "text/plain": [
       "Index(['institution', 'id', 'age', 'dose', 'date_analyse', 'prev_INR(MHO)',\n",
       "       'atrial_fibrillation', 'mitral_valve', 'aortal_valve', 'date_diff',\n",
       "       'INR(MHO)', 'sample', 'pass_dose', 'diagnos', 'sss', 'birthdate',\n",
       "       'date_from_1990', 'age_level', 'age_level1', 'age_level2', 'age_level3',\n",
       "       'age_level4', 'age_level5', 'age_level6', 'd1', 'd2', 'd3', 'd4', 'd5',\n",
       "       'd6', 'd7', 'd8', 'deviation_from_median', 'age_percentile',\n",
       "       'age_quantile', 'is_elderly', 'age_density', 'age_zscore',\n",
       "       'critical_age_l', 'critical_age_h', 'agebin_1', 'agebin_2', 'agebin_3',\n",
       "       'agebin_4', 'agebin_5', 'agebin_6', 'agebin_7', 'agebin_8',\n",
       "       'zodiac_Aquarius', 'zodiac_Aries', 'zodiac_Cancer', 'zodiac_Capricorn',\n",
       "       'zodiac_Gemini', 'zodiac_Leo', 'zodiac_Libra', 'zodiac_Pisces',\n",
       "       'zodiac_Sagittarius', 'zodiac_Scorpio', 'zodiac_Taurus', 'zodiac_Virgo',\n",
       "       'gender_0', 'gender_1', 'institution_id_1', 'institution_id_2',\n",
       "       'institution_id_3', 'institution_id_4', 'institution_id_5',\n",
       "       'institution_id_6', 'institution_id_7', 'institution_id_8',\n",
       "       'institution_id_9', 'institution_id_10', 'institution_id_11',\n",
       "       'institution_id_12', 'institution_id_13', 'institution_id_14',\n",
       "       'institution_id_15', 'institution_id_16', 'institution_id_17',\n",
       "       'institution_id_18', 'institution_id_19', 'institution_id_20',\n",
       "       'institution_id_21', 'institution_id_22', 'institution_id_23',\n",
       "       'institution_id_24', 'institution_id_25', 'institution_id_26',\n",
       "       'institution_id_27', 'institution_id_28', 'institution_id_29',\n",
       "       'institution_id_30', 'institution_id_31'],\n",
       "      dtype='object')"
      ]
     },
     "execution_count": 33,
     "metadata": {},
     "output_type": "execute_result"
    }
   ],
   "source": [
    "data_wide.columns\n"
   ]
  },
  {
   "cell_type": "code",
   "execution_count": 34,
   "metadata": {
    "ExecuteTime": {
     "end_time": "2023-10-09T09:16:32.550879Z",
     "start_time": "2023-10-09T09:16:32.534653Z"
    },
    "id": "FvyXUOMXpSpj"
   },
   "outputs": [],
   "source": [
    "def remove_unrelated_features(df):\n",
    "    \"\"\"\n",
    "    Удаляем столбцы которые, не влияют на дозу варфарина или переведены\n",
    "    в иные числовые параметры.\n",
    "    \"\"\"\n",
    "    return df.drop(\n",
    "        ['institution', 'date_analyse', 'diagnos', 'sss', 'date_from_1990', 'birthdate'],\n",
    "        axis=1\n",
    "    )"
   ]
  },
  {
   "cell_type": "code",
   "execution_count": 35,
   "metadata": {
    "ExecuteTime": {
     "end_time": "2023-10-09T09:16:38.527361Z",
     "start_time": "2023-10-09T09:16:38.488063Z"
    },
    "colab": {
     "base_uri": "https://localhost:8080/",
     "height": 400
    },
    "id": "cQC-poYApazk",
    "outputId": "ae367f14-c73f-49f9-8121-affbf62f4ce6"
   },
   "outputs": [
    {
     "data": {
      "text/html": [
       "<style>#sk-container-id-3 {color: black;background-color: white;}#sk-container-id-3 pre{padding: 0;}#sk-container-id-3 div.sk-toggleable {background-color: white;}#sk-container-id-3 label.sk-toggleable__label {cursor: pointer;display: block;width: 100%;margin-bottom: 0;padding: 0.3em;box-sizing: border-box;text-align: center;}#sk-container-id-3 label.sk-toggleable__label-arrow:before {content: \"▸\";float: left;margin-right: 0.25em;color: #696969;}#sk-container-id-3 label.sk-toggleable__label-arrow:hover:before {color: black;}#sk-container-id-3 div.sk-estimator:hover label.sk-toggleable__label-arrow:before {color: black;}#sk-container-id-3 div.sk-toggleable__content {max-height: 0;max-width: 0;overflow: hidden;text-align: left;background-color: #f0f8ff;}#sk-container-id-3 div.sk-toggleable__content pre {margin: 0.2em;color: black;border-radius: 0.25em;background-color: #f0f8ff;}#sk-container-id-3 input.sk-toggleable__control:checked~div.sk-toggleable__content {max-height: 200px;max-width: 100%;overflow: auto;}#sk-container-id-3 input.sk-toggleable__control:checked~label.sk-toggleable__label-arrow:before {content: \"▾\";}#sk-container-id-3 div.sk-estimator input.sk-toggleable__control:checked~label.sk-toggleable__label {background-color: #d4ebff;}#sk-container-id-3 div.sk-label input.sk-toggleable__control:checked~label.sk-toggleable__label {background-color: #d4ebff;}#sk-container-id-3 input.sk-hidden--visually {border: 0;clip: rect(1px 1px 1px 1px);clip: rect(1px, 1px, 1px, 1px);height: 1px;margin: -1px;overflow: hidden;padding: 0;position: absolute;width: 1px;}#sk-container-id-3 div.sk-estimator {font-family: monospace;background-color: #f0f8ff;border: 1px dotted black;border-radius: 0.25em;box-sizing: border-box;margin-bottom: 0.5em;}#sk-container-id-3 div.sk-estimator:hover {background-color: #d4ebff;}#sk-container-id-3 div.sk-parallel-item::after {content: \"\";width: 100%;border-bottom: 1px solid gray;flex-grow: 1;}#sk-container-id-3 div.sk-label:hover label.sk-toggleable__label {background-color: #d4ebff;}#sk-container-id-3 div.sk-serial::before {content: \"\";position: absolute;border-left: 1px solid gray;box-sizing: border-box;top: 0;bottom: 0;left: 50%;z-index: 0;}#sk-container-id-3 div.sk-serial {display: flex;flex-direction: column;align-items: center;background-color: white;padding-right: 0.2em;padding-left: 0.2em;position: relative;}#sk-container-id-3 div.sk-item {position: relative;z-index: 1;}#sk-container-id-3 div.sk-parallel {display: flex;align-items: stretch;justify-content: center;background-color: white;position: relative;}#sk-container-id-3 div.sk-item::before, #sk-container-id-3 div.sk-parallel-item::before {content: \"\";position: absolute;border-left: 1px solid gray;box-sizing: border-box;top: 0;bottom: 0;left: 50%;z-index: -1;}#sk-container-id-3 div.sk-parallel-item {display: flex;flex-direction: column;z-index: 1;position: relative;background-color: white;}#sk-container-id-3 div.sk-parallel-item:first-child::after {align-self: flex-end;width: 50%;}#sk-container-id-3 div.sk-parallel-item:last-child::after {align-self: flex-start;width: 50%;}#sk-container-id-3 div.sk-parallel-item:only-child::after {width: 0;}#sk-container-id-3 div.sk-dashed-wrapped {border: 1px dashed gray;margin: 0 0.4em 0.5em 0.4em;box-sizing: border-box;padding-bottom: 0.4em;background-color: white;}#sk-container-id-3 div.sk-label label {font-family: monospace;font-weight: bold;display: inline-block;line-height: 1.2em;}#sk-container-id-3 div.sk-label-container {text-align: center;}#sk-container-id-3 div.sk-container {/* jupyter's `normalize.less` sets `[hidden] { display: none; }` but bootstrap.min.css set `[hidden] { display: none !important; }` so we also need the `!important` here to be able to override the default hidden behavior on the sphinx rendered scikit-learn.org. See: https://github.com/scikit-learn/scikit-learn/issues/21755 */display: inline-block !important;position: relative;}#sk-container-id-3 div.sk-text-repr-fallback {display: none;}</style><div id=\"sk-container-id-3\" class=\"sk-top-container\"><div class=\"sk-text-repr-fallback\"><pre>Pipeline(steps=[(&#x27;functiontransformer-1&#x27;,\n",
       "                 FunctionTransformer(func=&lt;function add_date_from_1990 at 0x000001DD81975BD0&gt;)),\n",
       "                (&#x27;functiontransformer-2&#x27;,\n",
       "                 FunctionTransformer(func=&lt;function add_age_levels at 0x000001DD81975FC0&gt;)),\n",
       "                (&#x27;functiontransformer-3&#x27;,\n",
       "                 FunctionTransformer(func=&lt;function add_diagnosis_and_sss at 0x000001DD81977AC0&gt;)),\n",
       "                (&#x27;functiontransformer-4&#x27;,\n",
       "                 Functio...\n",
       "                 FunctionTransformer(func=&lt;function add_age_bins at 0x000001DD85F69870&gt;)),\n",
       "                (&#x27;functiontransformer-8&#x27;,\n",
       "                 FunctionTransformer(func=&lt;function make_zodiac_ohe at 0x000001DD85FC5990&gt;)),\n",
       "                (&#x27;functiontransformer-9&#x27;,\n",
       "                 FunctionTransformer(func=&lt;function make_ohe_columns at 0x000001DD81CBEC20&gt;)),\n",
       "                (&#x27;functiontransformer-10&#x27;,\n",
       "                 FunctionTransformer(func=&lt;function remove_unrelated_features at 0x000001DD85F0BAC0&gt;))])</pre><b>In a Jupyter environment, please rerun this cell to show the HTML representation or trust the notebook. <br />On GitHub, the HTML representation is unable to render, please try loading this page with nbviewer.org.</b></div><div class=\"sk-container\" hidden><div class=\"sk-item sk-dashed-wrapped\"><div class=\"sk-label-container\"><div class=\"sk-label sk-toggleable\"><input class=\"sk-toggleable__control sk-hidden--visually\" id=\"sk-estimator-id-21\" type=\"checkbox\" ><label for=\"sk-estimator-id-21\" class=\"sk-toggleable__label sk-toggleable__label-arrow\">Pipeline</label><div class=\"sk-toggleable__content\"><pre>Pipeline(steps=[(&#x27;functiontransformer-1&#x27;,\n",
       "                 FunctionTransformer(func=&lt;function add_date_from_1990 at 0x000001DD81975BD0&gt;)),\n",
       "                (&#x27;functiontransformer-2&#x27;,\n",
       "                 FunctionTransformer(func=&lt;function add_age_levels at 0x000001DD81975FC0&gt;)),\n",
       "                (&#x27;functiontransformer-3&#x27;,\n",
       "                 FunctionTransformer(func=&lt;function add_diagnosis_and_sss at 0x000001DD81977AC0&gt;)),\n",
       "                (&#x27;functiontransformer-4&#x27;,\n",
       "                 Functio...\n",
       "                 FunctionTransformer(func=&lt;function add_age_bins at 0x000001DD85F69870&gt;)),\n",
       "                (&#x27;functiontransformer-8&#x27;,\n",
       "                 FunctionTransformer(func=&lt;function make_zodiac_ohe at 0x000001DD85FC5990&gt;)),\n",
       "                (&#x27;functiontransformer-9&#x27;,\n",
       "                 FunctionTransformer(func=&lt;function make_ohe_columns at 0x000001DD81CBEC20&gt;)),\n",
       "                (&#x27;functiontransformer-10&#x27;,\n",
       "                 FunctionTransformer(func=&lt;function remove_unrelated_features at 0x000001DD85F0BAC0&gt;))])</pre></div></div></div><div class=\"sk-serial\"><div class=\"sk-item\"><div class=\"sk-estimator sk-toggleable\"><input class=\"sk-toggleable__control sk-hidden--visually\" id=\"sk-estimator-id-22\" type=\"checkbox\" ><label for=\"sk-estimator-id-22\" class=\"sk-toggleable__label sk-toggleable__label-arrow\">FunctionTransformer</label><div class=\"sk-toggleable__content\"><pre>FunctionTransformer(func=&lt;function add_date_from_1990 at 0x000001DD81975BD0&gt;)</pre></div></div></div><div class=\"sk-item\"><div class=\"sk-estimator sk-toggleable\"><input class=\"sk-toggleable__control sk-hidden--visually\" id=\"sk-estimator-id-23\" type=\"checkbox\" ><label for=\"sk-estimator-id-23\" class=\"sk-toggleable__label sk-toggleable__label-arrow\">FunctionTransformer</label><div class=\"sk-toggleable__content\"><pre>FunctionTransformer(func=&lt;function add_age_levels at 0x000001DD81975FC0&gt;)</pre></div></div></div><div class=\"sk-item\"><div class=\"sk-estimator sk-toggleable\"><input class=\"sk-toggleable__control sk-hidden--visually\" id=\"sk-estimator-id-24\" type=\"checkbox\" ><label for=\"sk-estimator-id-24\" class=\"sk-toggleable__label sk-toggleable__label-arrow\">FunctionTransformer</label><div class=\"sk-toggleable__content\"><pre>FunctionTransformer(func=&lt;function add_diagnosis_and_sss at 0x000001DD81977AC0&gt;)</pre></div></div></div><div class=\"sk-item\"><div class=\"sk-estimator sk-toggleable\"><input class=\"sk-toggleable__control sk-hidden--visually\" id=\"sk-estimator-id-25\" type=\"checkbox\" ><label for=\"sk-estimator-id-25\" class=\"sk-toggleable__label sk-toggleable__label-arrow\">FunctionTransformer</label><div class=\"sk-toggleable__content\"><pre>FunctionTransformer(func=&lt;function remove_age_errors at 0x000001DD81D0B130&gt;)</pre></div></div></div><div class=\"sk-item\"><div class=\"sk-estimator sk-toggleable\"><input class=\"sk-toggleable__control sk-hidden--visually\" id=\"sk-estimator-id-26\" type=\"checkbox\" ><label for=\"sk-estimator-id-26\" class=\"sk-toggleable__label sk-toggleable__label-arrow\">FunctionTransformer</label><div class=\"sk-toggleable__content\"><pre>FunctionTransformer(func=&lt;function add_age_statistics at 0x000001DD81CBE5F0&gt;)</pre></div></div></div><div class=\"sk-item\"><div class=\"sk-estimator sk-toggleable\"><input class=\"sk-toggleable__control sk-hidden--visually\" id=\"sk-estimator-id-27\" type=\"checkbox\" ><label for=\"sk-estimator-id-27\" class=\"sk-toggleable__label sk-toggleable__label-arrow\">FunctionTransformer</label><div class=\"sk-toggleable__content\"><pre>FunctionTransformer(func=&lt;function critical_age at 0x000001DD81E1D7E0&gt;)</pre></div></div></div><div class=\"sk-item\"><div class=\"sk-estimator sk-toggleable\"><input class=\"sk-toggleable__control sk-hidden--visually\" id=\"sk-estimator-id-28\" type=\"checkbox\" ><label for=\"sk-estimator-id-28\" class=\"sk-toggleable__label sk-toggleable__label-arrow\">FunctionTransformer</label><div class=\"sk-toggleable__content\"><pre>FunctionTransformer(func=&lt;function add_age_bins at 0x000001DD85F69870&gt;)</pre></div></div></div><div class=\"sk-item\"><div class=\"sk-estimator sk-toggleable\"><input class=\"sk-toggleable__control sk-hidden--visually\" id=\"sk-estimator-id-29\" type=\"checkbox\" ><label for=\"sk-estimator-id-29\" class=\"sk-toggleable__label sk-toggleable__label-arrow\">FunctionTransformer</label><div class=\"sk-toggleable__content\"><pre>FunctionTransformer(func=&lt;function make_zodiac_ohe at 0x000001DD85FC5990&gt;)</pre></div></div></div><div class=\"sk-item\"><div class=\"sk-estimator sk-toggleable\"><input class=\"sk-toggleable__control sk-hidden--visually\" id=\"sk-estimator-id-30\" type=\"checkbox\" ><label for=\"sk-estimator-id-30\" class=\"sk-toggleable__label sk-toggleable__label-arrow\">FunctionTransformer</label><div class=\"sk-toggleable__content\"><pre>FunctionTransformer(func=&lt;function make_ohe_columns at 0x000001DD81CBEC20&gt;)</pre></div></div></div><div class=\"sk-item\"><div class=\"sk-estimator sk-toggleable\"><input class=\"sk-toggleable__control sk-hidden--visually\" id=\"sk-estimator-id-31\" type=\"checkbox\" ><label for=\"sk-estimator-id-31\" class=\"sk-toggleable__label sk-toggleable__label-arrow\">FunctionTransformer</label><div class=\"sk-toggleable__content\"><pre>FunctionTransformer(func=&lt;function remove_unrelated_features at 0x000001DD85F0BAC0&gt;)</pre></div></div></div></div></div></div></div>"
      ],
      "text/plain": [
       "Pipeline(steps=[('functiontransformer-1',\n",
       "                 FunctionTransformer(func=<function add_date_from_1990 at 0x000001DD81975BD0>)),\n",
       "                ('functiontransformer-2',\n",
       "                 FunctionTransformer(func=<function add_age_levels at 0x000001DD81975FC0>)),\n",
       "                ('functiontransformer-3',\n",
       "                 FunctionTransformer(func=<function add_diagnosis_and_sss at 0x000001DD81977AC0>)),\n",
       "                ('functiontransformer-4',\n",
       "                 Functio...\n",
       "                 FunctionTransformer(func=<function add_age_bins at 0x000001DD85F69870>)),\n",
       "                ('functiontransformer-8',\n",
       "                 FunctionTransformer(func=<function make_zodiac_ohe at 0x000001DD85FC5990>)),\n",
       "                ('functiontransformer-9',\n",
       "                 FunctionTransformer(func=<function make_ohe_columns at 0x000001DD81CBEC20>)),\n",
       "                ('functiontransformer-10',\n",
       "                 FunctionTransformer(func=<function remove_unrelated_features at 0x000001DD85F0BAC0>))])"
      ]
     },
     "execution_count": 35,
     "metadata": {},
     "output_type": "execute_result"
    }
   ],
   "source": [
    "data_pipeline = make_pipeline(\n",
    "    *data_pipeline_wide,\n",
    "    FunctionTransformer(remove_unrelated_features)\n",
    ")\n",
    "data_pipeline"
   ]
  },
  {
   "cell_type": "code",
   "execution_count": 36,
   "metadata": {
    "ExecuteTime": {
     "end_time": "2023-10-09T09:17:01.612104Z",
     "start_time": "2023-10-09T09:16:57.479863Z"
    },
    "colab": {
     "base_uri": "https://localhost:8080/",
     "height": 211
    },
    "id": "n8DS7zkwqQgZ",
    "outputId": "27c929e4-03ad-4cdb-985c-b8d629cd93b0"
   },
   "outputs": [
    {
     "name": "stdout",
     "output_type": "stream",
     "text": [
      "['gender', 'institution_id']\n"
     ]
    },
    {
     "data": {
      "text/html": [
       "<div>\n",
       "<style scoped>\n",
       "    .dataframe tbody tr th:only-of-type {\n",
       "        vertical-align: middle;\n",
       "    }\n",
       "\n",
       "    .dataframe tbody tr th {\n",
       "        vertical-align: top;\n",
       "    }\n",
       "\n",
       "    .dataframe thead th {\n",
       "        text-align: right;\n",
       "    }\n",
       "</style>\n",
       "<table border=\"1\" class=\"dataframe\">\n",
       "  <thead>\n",
       "    <tr style=\"text-align: right;\">\n",
       "      <th></th>\n",
       "      <th>id</th>\n",
       "      <th>age</th>\n",
       "      <th>dose</th>\n",
       "      <th>prev_INR(MHO)</th>\n",
       "      <th>atrial_fibrillation</th>\n",
       "      <th>mitral_valve</th>\n",
       "      <th>aortal_valve</th>\n",
       "      <th>date_diff</th>\n",
       "      <th>INR(MHO)</th>\n",
       "      <th>sample</th>\n",
       "      <th>...</th>\n",
       "      <th>institution_id_22</th>\n",
       "      <th>institution_id_23</th>\n",
       "      <th>institution_id_24</th>\n",
       "      <th>institution_id_25</th>\n",
       "      <th>institution_id_26</th>\n",
       "      <th>institution_id_27</th>\n",
       "      <th>institution_id_28</th>\n",
       "      <th>institution_id_29</th>\n",
       "      <th>institution_id_30</th>\n",
       "      <th>institution_id_31</th>\n",
       "    </tr>\n",
       "  </thead>\n",
       "  <tbody>\n",
       "    <tr>\n",
       "      <th>0</th>\n",
       "      <td>140361892057136</td>\n",
       "      <td>57</td>\n",
       "      <td>7.5</td>\n",
       "      <td>3.11</td>\n",
       "      <td>1</td>\n",
       "      <td>0</td>\n",
       "      <td>0</td>\n",
       "      <td>13.0</td>\n",
       "      <td>3.32</td>\n",
       "      <td>1</td>\n",
       "      <td>...</td>\n",
       "      <td>0</td>\n",
       "      <td>0</td>\n",
       "      <td>0</td>\n",
       "      <td>0</td>\n",
       "      <td>0</td>\n",
       "      <td>0</td>\n",
       "      <td>0</td>\n",
       "      <td>0</td>\n",
       "      <td>0</td>\n",
       "      <td>0</td>\n",
       "    </tr>\n",
       "    <tr>\n",
       "      <th>1</th>\n",
       "      <td>140361892057136</td>\n",
       "      <td>57</td>\n",
       "      <td>7.5</td>\n",
       "      <td>3.32</td>\n",
       "      <td>1</td>\n",
       "      <td>0</td>\n",
       "      <td>0</td>\n",
       "      <td>15.0</td>\n",
       "      <td>2.01</td>\n",
       "      <td>2</td>\n",
       "      <td>...</td>\n",
       "      <td>0</td>\n",
       "      <td>0</td>\n",
       "      <td>0</td>\n",
       "      <td>0</td>\n",
       "      <td>0</td>\n",
       "      <td>0</td>\n",
       "      <td>0</td>\n",
       "      <td>0</td>\n",
       "      <td>0</td>\n",
       "      <td>0</td>\n",
       "    </tr>\n",
       "    <tr>\n",
       "      <th>2</th>\n",
       "      <td>140361892057264</td>\n",
       "      <td>50</td>\n",
       "      <td>5.0</td>\n",
       "      <td>2.01</td>\n",
       "      <td>0</td>\n",
       "      <td>1</td>\n",
       "      <td>0</td>\n",
       "      <td>26.0</td>\n",
       "      <td>2.75</td>\n",
       "      <td>1</td>\n",
       "      <td>...</td>\n",
       "      <td>0</td>\n",
       "      <td>0</td>\n",
       "      <td>0</td>\n",
       "      <td>0</td>\n",
       "      <td>0</td>\n",
       "      <td>0</td>\n",
       "      <td>0</td>\n",
       "      <td>0</td>\n",
       "      <td>0</td>\n",
       "      <td>0</td>\n",
       "    </tr>\n",
       "  </tbody>\n",
       "</table>\n",
       "<p>3 rows × 87 columns</p>\n",
       "</div>"
      ],
      "text/plain": [
       "                id  age  dose  prev_INR(MHO)  atrial_fibrillation  \\\n",
       "0  140361892057136   57   7.5           3.11                    1   \n",
       "1  140361892057136   57   7.5           3.32                    1   \n",
       "2  140361892057264   50   5.0           2.01                    0   \n",
       "\n",
       "   mitral_valve  aortal_valve  date_diff  INR(MHO)  sample  ...  \\\n",
       "0             0             0       13.0      3.32       1  ...   \n",
       "1             0             0       15.0      2.01       2  ...   \n",
       "2             1             0       26.0      2.75       1  ...   \n",
       "\n",
       "   institution_id_22  institution_id_23  institution_id_24  institution_id_25  \\\n",
       "0                  0                  0                  0                  0   \n",
       "1                  0                  0                  0                  0   \n",
       "2                  0                  0                  0                  0   \n",
       "\n",
       "   institution_id_26  institution_id_27  institution_id_28  institution_id_29  \\\n",
       "0                  0                  0                  0                  0   \n",
       "1                  0                  0                  0                  0   \n",
       "2                  0                  0                  0                  0   \n",
       "\n",
       "   institution_id_30  institution_id_31  \n",
       "0                  0                  0  \n",
       "1                  0                  0  \n",
       "2                  0                  0  \n",
       "\n",
       "[3 rows x 87 columns]"
      ]
     },
     "execution_count": 36,
     "metadata": {},
     "output_type": "execute_result"
    }
   ],
   "source": [
    "# Трансформируем исходные сырые данные в данные, предназначенные для анализа моделями\n",
    "\n",
    "df = load_dataset()\n",
    "data_for_algo = data_pipeline.transform(df)\n",
    "data_for_algo.to_excel(f'{ROOT_PATH}/data/processed/data_for_model.xlsx', index=False)\n",
    "data_for_algo.head(3)"
   ]
  },
  {
   "cell_type": "markdown",
   "metadata": {
    "id": "4aw5BKPwlDSV"
   },
   "source": [
    "## Удаление наименее важных признаков"
   ]
  },
  {
   "cell_type": "markdown",
   "metadata": {
    "id": "Ihd9NL8k09fC"
   },
   "source": [
    "### Корреляция признаков"
   ]
  },
  {
   "cell_type": "raw",
   "metadata": {
    "ExecuteTime": {
     "end_time": "2023-10-03T14:26:44.281804Z",
     "start_time": "2023-10-03T14:26:30.414548Z"
    },
    "colab": {
     "base_uri": "https://localhost:8080/",
     "height": 587
    },
    "id": "8sM-yNR908mj",
    "outputId": "a5a9d3f8-8d34-4d49-cce8-b64a59ed467d"
   },
   "source": [
    "# тепловая карта на базе корреляции Пирсона - она для текущего датафрейма не показательна,\n",
    "# поскольку в нем разный тип переменных - и категориальные и интервальные и относительные\n",
    "\n",
    "def plot_pearsonr(df):\n",
    "    sns.set(rc={'figure.figsize':(40, 16)})\n",
    "    # matrix = np.triu(data.corr())\n",
    "    sns.heatmap(df.corr(), linewidths=.5, annot=True, cmap='YlGnBu', fmt='.1g');\n",
    "\n",
    "plot_pearsonr(data_for_algo);"
   ]
  },
  {
   "cell_type": "raw",
   "metadata": {
    "ExecuteTime": {
     "end_time": "2023-10-03T14:27:08.775775Z",
     "start_time": "2023-10-03T14:26:55.223404Z"
    },
    "colab": {
     "base_uri": "https://localhost:8080/",
     "height": 547
    },
    "id": "Autbrot0gtRE",
    "outputId": "b0d90e8f-a053-48fb-8bfd-c614a078000b"
   },
   "source": [
    "def plot_phik_matrix(df):\n",
    "    # визуализация - тепловая карта phi_k\n",
    "    # вычисляем матрицу корреляций на основе коэффициента phik, который предназначен для вычисления корреляций\n",
    "    # между категориальными, порядковыми и интервальными переменными.\n",
    "    matrix = np.triu(df.phik_matrix())\n",
    "\n",
    "    # Установка параметров для будущего графика\n",
    "    sns.set(rc={'figure.figsize':(40, 16)})\n",
    "\n",
    "    # Визуализация тепловой карты\n",
    "    ax = sns.heatmap(\n",
    "        matrix,\n",
    "        annot=True,               # показать значения корреляции в ячейках\n",
    "        cmap='YlGnBu',            # цвета от желтого через зеленый к синему\n",
    "        fmt='.1g',                # один знак после запятой\n",
    "        mask=matrix == 0,         # нули не показываем\n",
    "        xticklabels=df.columns,   # показать названия колонок на оси x\n",
    "        yticklabels=df.columns    # показать названия колонок на оси y\n",
    "    )\n",
    "\n",
    "    # Перемещение меток колонок наверх для удобства\n",
    "    ax.xaxis.tick_top()\n",
    "    # Поворот меток для лучшего отображения и установка размера шрифта\n",
    "    ax.set_xticklabels(ax.get_xticklabels(), rotation=30, horizontalalignment='left', fontsize=\"14\", weight=\"bold\")\n",
    "    ax.set_yticklabels(ax.get_yticklabels(), fontsize=\"14\", weight=\"bold\")\n",
    "\n",
    "    plt.show()\n",
    "\n",
    "plot_phik_matrix(data_for_algo)"
   ]
  },
  {
   "cell_type": "markdown",
   "metadata": {
    "id": "9BDLyQcf2-99"
   },
   "source": [
    " Анализ корреляции показывает, что добавленные столбцы age_level, часть столбцов d1-d8 и статистические показатели по столбцу возраст  сильно коррелируют с показателями исходного датасета и между собой -  целесообразно рассмотреть их удаление. Но предварительно предлагается провести расчет релевантгности признаков с использованием других методов, которые реализованы в библиотеке sklearn и по результатам принять решение о чистке датасета."
   ]
  },
  {
   "cell_type": "markdown",
   "metadata": {
    "id": "S2icvLTwdbV7"
   },
   "source": [
    "### Наиболее релеваниные признаки\n",
    "Определениe наиболее релевантных признаков в датасете с использованием методов автоматизированного отбора признаков."
   ]
  },
  {
   "cell_type": "code",
   "execution_count": 37,
   "metadata": {
    "ExecuteTime": {
     "end_time": "2023-10-09T09:18:43.277513Z",
     "start_time": "2023-10-09T09:18:43.270801Z"
    },
    "id": "xiAnCYRtepLU"
   },
   "outputs": [],
   "source": [
    "# Подготовка данных\n",
    "X, y = to_Xy(data_for_algo.dropna())"
   ]
  },
  {
   "cell_type": "code",
   "execution_count": 38,
   "metadata": {
    "ExecuteTime": {
     "end_time": "2023-10-09T09:21:00.475419Z",
     "start_time": "2023-10-09T09:18:45.225894Z"
    },
    "colab": {
     "base_uri": "https://localhost:8080/",
     "height": 251
    },
    "id": "E2yxZ29_0mRx",
    "outputId": "f9a7b075-cc95-4d45-d215-edfd08569842",
    "scrolled": false
   },
   "outputs": [
    {
     "name": "stderr",
     "output_type": "stream",
     "text": [
      "C:\\Users\\Sovtsov\\AutoML\\lib\\site-packages\\sklearn\\linear_model\\_coordinate_descent.py:631: ConvergenceWarning: Objective did not converge. You might want to increase the number of iterations, check the scale of the features or consider increasing regularisation. Duality gap: 1.381e+03, tolerance: 3.708e-01\n",
      "  model = cd_fast.enet_coordinate_descent(\n"
     ]
    },
    {
     "data": {
      "text/html": [
       "<div>\n",
       "<style scoped>\n",
       "    .dataframe tbody tr th:only-of-type {\n",
       "        vertical-align: middle;\n",
       "    }\n",
       "\n",
       "    .dataframe tbody tr th {\n",
       "        vertical-align: top;\n",
       "    }\n",
       "\n",
       "    .dataframe thead th {\n",
       "        text-align: right;\n",
       "    }\n",
       "</style>\n",
       "<table border=\"1\" class=\"dataframe\">\n",
       "  <thead>\n",
       "    <tr style=\"text-align: right;\">\n",
       "      <th></th>\n",
       "      <th>RFE</th>\n",
       "      <th>RandomForest</th>\n",
       "      <th>Lasso</th>\n",
       "      <th>SFS</th>\n",
       "      <th>Mutual Info</th>\n",
       "      <th>RFECV</th>\n",
       "      <th>Total Importance</th>\n",
       "    </tr>\n",
       "  </thead>\n",
       "  <tbody>\n",
       "    <tr>\n",
       "      <th>institution_id_11</th>\n",
       "      <td>1</td>\n",
       "      <td>1.000000</td>\n",
       "      <td>0.000000</td>\n",
       "      <td>1</td>\n",
       "      <td>0.420178</td>\n",
       "      <td>0</td>\n",
       "      <td>3.420178</td>\n",
       "    </tr>\n",
       "    <tr>\n",
       "      <th>age_density</th>\n",
       "      <td>1</td>\n",
       "      <td>0.355058</td>\n",
       "      <td>0.654938</td>\n",
       "      <td>1</td>\n",
       "      <td>0.304074</td>\n",
       "      <td>0</td>\n",
       "      <td>3.314070</td>\n",
       "    </tr>\n",
       "    <tr>\n",
       "      <th>institution_id_31</th>\n",
       "      <td>1</td>\n",
       "      <td>0.172965</td>\n",
       "      <td>1.000000</td>\n",
       "      <td>1</td>\n",
       "      <td>0.129666</td>\n",
       "      <td>0</td>\n",
       "      <td>3.302631</td>\n",
       "    </tr>\n",
       "    <tr>\n",
       "      <th>age</th>\n",
       "      <td>1</td>\n",
       "      <td>0.161520</td>\n",
       "      <td>0.654938</td>\n",
       "      <td>0</td>\n",
       "      <td>0.398134</td>\n",
       "      <td>1</td>\n",
       "      <td>3.214592</td>\n",
       "    </tr>\n",
       "    <tr>\n",
       "      <th>deviation_from_median</th>\n",
       "      <td>1</td>\n",
       "      <td>0.158984</td>\n",
       "      <td>0.654938</td>\n",
       "      <td>0</td>\n",
       "      <td>0.398727</td>\n",
       "      <td>1</td>\n",
       "      <td>3.212648</td>\n",
       "    </tr>\n",
       "    <tr>\n",
       "      <th>...</th>\n",
       "      <td>...</td>\n",
       "      <td>...</td>\n",
       "      <td>...</td>\n",
       "      <td>...</td>\n",
       "      <td>...</td>\n",
       "      <td>...</td>\n",
       "      <td>...</td>\n",
       "    </tr>\n",
       "    <tr>\n",
       "      <th>sample</th>\n",
       "      <td>0</td>\n",
       "      <td>0.058644</td>\n",
       "      <td>0.654356</td>\n",
       "      <td>0</td>\n",
       "      <td>0.000000</td>\n",
       "      <td>0</td>\n",
       "      <td>0.713000</td>\n",
       "    </tr>\n",
       "    <tr>\n",
       "      <th>zodiac_Aries</th>\n",
       "      <td>0</td>\n",
       "      <td>0.054212</td>\n",
       "      <td>0.654938</td>\n",
       "      <td>0</td>\n",
       "      <td>0.000000</td>\n",
       "      <td>0</td>\n",
       "      <td>0.709149</td>\n",
       "    </tr>\n",
       "    <tr>\n",
       "      <th>age_level2</th>\n",
       "      <td>0</td>\n",
       "      <td>0.022396</td>\n",
       "      <td>0.646445</td>\n",
       "      <td>0</td>\n",
       "      <td>0.024441</td>\n",
       "      <td>0</td>\n",
       "      <td>0.693283</td>\n",
       "    </tr>\n",
       "    <tr>\n",
       "      <th>is_elderly</th>\n",
       "      <td>0</td>\n",
       "      <td>0.009319</td>\n",
       "      <td>0.672775</td>\n",
       "      <td>0</td>\n",
       "      <td>0.004008</td>\n",
       "      <td>0</td>\n",
       "      <td>0.686102</td>\n",
       "    </tr>\n",
       "    <tr>\n",
       "      <th>pass_dose</th>\n",
       "      <td>0</td>\n",
       "      <td>0.014229</td>\n",
       "      <td>0.654938</td>\n",
       "      <td>0</td>\n",
       "      <td>0.000000</td>\n",
       "      <td>0</td>\n",
       "      <td>0.669167</td>\n",
       "    </tr>\n",
       "  </tbody>\n",
       "</table>\n",
       "<p>86 rows × 7 columns</p>\n",
       "</div>"
      ],
      "text/plain": [
       "                       RFE  RandomForest     Lasso  SFS  Mutual Info  RFECV  \\\n",
       "institution_id_11        1      1.000000  0.000000    1     0.420178      0   \n",
       "age_density              1      0.355058  0.654938    1     0.304074      0   \n",
       "institution_id_31        1      0.172965  1.000000    1     0.129666      0   \n",
       "age                      1      0.161520  0.654938    0     0.398134      1   \n",
       "deviation_from_median    1      0.158984  0.654938    0     0.398727      1   \n",
       "...                    ...           ...       ...  ...          ...    ...   \n",
       "sample                   0      0.058644  0.654356    0     0.000000      0   \n",
       "zodiac_Aries             0      0.054212  0.654938    0     0.000000      0   \n",
       "age_level2               0      0.022396  0.646445    0     0.024441      0   \n",
       "is_elderly               0      0.009319  0.672775    0     0.004008      0   \n",
       "pass_dose                0      0.014229  0.654938    0     0.000000      0   \n",
       "\n",
       "                       Total Importance  \n",
       "institution_id_11              3.420178  \n",
       "age_density                    3.314070  \n",
       "institution_id_31              3.302631  \n",
       "age                            3.214592  \n",
       "deviation_from_median          3.212648  \n",
       "...                                 ...  \n",
       "sample                         0.713000  \n",
       "zodiac_Aries                   0.709149  \n",
       "age_level2                     0.693283  \n",
       "is_elderly                     0.686102  \n",
       "pass_dose                      0.669167  \n",
       "\n",
       "[86 rows x 7 columns]"
      ]
     },
     "metadata": {},
     "output_type": "display_data"
    }
   ],
   "source": [
    "from sklearn.feature_selection import RFE, f_classif, mutual_info_regression, RFECV\n",
    "from sklearn.ensemble import RandomForestRegressor\n",
    "from sklearn.linear_model import LinearRegression, Lasso\n",
    "from mlxtend.feature_selection import SequentialFeatureSelector as SFS\n",
    "from sklearn.preprocessing import MinMaxScaler\n",
    "\n",
    "# 1. RFE (Recursive Feature Elimination)\n",
    "# RFE рекурсивно уменьшает количество признаков, оценивая модель на каждом этапе и выбирая либо лучший, либо худший признак.\n",
    "estimator = LinearRegression()\n",
    "selector = RFE(estimator)\n",
    "selector = selector.fit(X, y)\n",
    "rfe_features = pd.Series(selector.support_, index=X.columns).apply(lambda x: 1 if x else 0)\n",
    "\n",
    "# 2. RandomForest\n",
    "# Случайный лес оценивает важность признаков на основе того, насколько часто каждый признак используется для принятия решений в деревьях.\n",
    "model_rf = RandomForestRegressor()\n",
    "model_rf.fit(X, y)\n",
    "rf_importances = pd.Series(model_rf.feature_importances_, index=X.columns)\n",
    "\n",
    "# 3. Lasso\n",
    "# Lasso (линейная регрессия с L1-регуляризацией) может свести вес некоторых признаков к нулю, тем самым исключая их.\n",
    "model_lasso = Lasso(alpha=0.01)\n",
    "model_lasso.fit(X, y)\n",
    "lasso_coefficients = pd.Series(model_lasso.coef_, index=X.columns)\n",
    "\n",
    "# 4. SFS (Sequential Feature Selector)\n",
    "# SFS последовательно добавляет или удаляет признаки на основе их производительности до достижения заданного числа признаков.\n",
    "sfs = SFS(LinearRegression(),\n",
    "          k_features='best',\n",
    "          forward=True,\n",
    "          floating=False,\n",
    "          scoring='r2',\n",
    "          cv=5)\n",
    "sfs.fit(X, y)\n",
    "sfs_features = pd.Series([1 if i in list(sfs.k_feature_idx_) else 0 for i in range(X.shape[1])], index=X.columns)\n",
    "\n",
    "# 5. ANOVA\n",
    "# ANOVA (дисперсионный анализ) проверяет, имеют ли две или более группы схожие средние значения. В контексте отбора признаков это может помочь определить,\n",
    "# влияет ли признак на целевую переменную.\n",
    "f_scores, _ = f_classif(X, y)\n",
    "f_features = pd.Series(f_scores, index=X.columns)\n",
    "\n",
    "# 6. Mutual Information\n",
    "# Взаимная информация измеряет зависимость между признаком и целевой переменной; ближе к 0 - меньше зависимости, ближе к 1 - более сильная зависимость.\n",
    "mi_scores = mutual_info_regression(X, y)\n",
    "mi_features = pd.Series(mi_scores, index=X.columns)\n",
    "\n",
    "# 7. RFECV (Recursive Feature Elimination with Cross-Validation)\n",
    "# RFECV сочетает RFE с кросс-валидацией, чтобы выбрать оптимальное количество признаков.\n",
    "selector = RFECV(estimator)\n",
    "selector = selector.fit(X, y)\n",
    "rfecv_features = pd.Series(selector.support_, index=X.columns).apply(lambda x: 1 if x else 0)\n",
    "\n",
    "# Сводная таблица\n",
    "feature_table = pd.DataFrame({\n",
    "    'RFE': rfe_features,\n",
    "    'RandomForest': rf_importances,\n",
    "    'Lasso': lasso_coefficients,\n",
    "    'SFS': sfs_features,\n",
    "    'Mutual Info': mi_features,\n",
    "    'RFECV': rfecv_features\n",
    "})\n",
    "\n",
    "# Нормализация данных с весами\n",
    "scaler = MinMaxScaler()\n",
    "methods_with_weights = ['RandomForest', 'Lasso', 'Mutual Info']\n",
    "feature_table[methods_with_weights] = scaler.fit_transform(feature_table[methods_with_weights])\n",
    "\n",
    "# Расчет общей важности и создание рейтинга\n",
    "feature_table['Total Importance'] = feature_table.sum(axis=1)\n",
    "feature_ranking = feature_table.sort_values(by='Total Importance', ascending=False)\n",
    "\n",
    "# preview(feature_ranking)\n",
    "display(feature_ranking)"
   ]
  },
  {
   "cell_type": "code",
   "execution_count": null,
   "metadata": {
    "ExecuteTime": {
     "end_time": "2023-10-09T09:21:00.550545Z",
     "start_time": "2023-10-09T09:21:00.550545Z"
    },
    "scrolled": false
   },
   "outputs": [],
   "source": [
    "# print(feature_ranking.shape)\n",
    "# display(feature_ranking.head(43))\n",
    "# display(feature_ranking.tail(43))"
   ]
  },
  {
   "cell_type": "code",
   "execution_count": 39,
   "metadata": {
    "ExecuteTime": {
     "end_time": "2023-10-09T09:21:39.377737Z",
     "start_time": "2023-10-09T09:21:39.350357Z"
    },
    "id": "dd3UpDIQeY0b"
   },
   "outputs": [],
   "source": [
    "feature_ranking.to_excel(f'{ROOT_PATH}/data/processed/feature_ranking.xlsx', index=False)\n"
   ]
  },
  {
   "cell_type": "markdown",
   "metadata": {
    "id": "JCUViK5T7k7j"
   },
   "source": [
    "### Очистка датасета от лишних признаков"
   ]
  },
  {
   "cell_type": "code",
   "execution_count": 40,
   "metadata": {
    "ExecuteTime": {
     "end_time": "2023-10-09T09:22:39.133089Z",
     "start_time": "2023-10-09T09:22:39.125052Z"
    },
    "colab": {
     "base_uri": "https://localhost:8080/"
    },
    "id": "EvDlfd_D5lQL",
    "outputId": "6a44954a-18be-4a10-c090-c4f48d5572e0"
   },
   "outputs": [
    {
     "name": "stdout",
     "output_type": "stream",
     "text": [
      "Несущественные признаки, удаляемые из данных:\n",
      "\n",
      "['age_percentile',\n",
      " 'institution_id_14',\n",
      " 'd3',\n",
      " 'age_quantile',\n",
      " 'institution_id_29',\n",
      " 'zodiac_Scorpio',\n",
      " 'd4',\n",
      " 'age_level3',\n",
      " 'age_level',\n",
      " 'age_level5',\n",
      " 'd7',\n",
      " 'zodiac_Virgo',\n",
      " 'd6',\n",
      " 'age_level1',\n",
      " 'agebin_5',\n",
      " 'zodiac_Capricorn',\n",
      " 'zodiac_Taurus',\n",
      " 'zodiac_Sagittarius',\n",
      " 'institution_id_15',\n",
      " 'age_level4',\n",
      " 'age_level6',\n",
      " 'zodiac_Aries',\n",
      " 'age_level2',\n",
      " 'is_elderly',\n",
      " 'pass_dose']\n"
     ]
    }
   ],
   "source": [
    "def find_minor_features(feature_ranking_df, rank_threshold):\n",
    "    \"\"\"\n",
    "    \"\"\"\n",
    "    # на основании матрицы корреляции и автоматизированного отбора признаков можно предложить  показатели, которые можно удалить из датасета\n",
    "    # Предлагается удалить показатели из таблицы feature_ranking_df с рейтингом меньше rank_threshold, сохранив столбцы с начальными исходными данными из\n",
    "    # медицинских учереждений, такие как, например, age и date_diff\n",
    "\n",
    "    # Признаки, которые нужно сохранить независимо от их рейтинга\n",
    "    vip_features = [\n",
    "        'gender_0', 'gender_1',\n",
    "        'age', 'dose', 'prev_INR(MHO)',\n",
    "        'atrial_fibrillation', 'mitral_valve', 'aortal_valve',\n",
    "        'INR(MHO)',\n",
    "        'date_diff', 'sample',\n",
    "    ]\n",
    "\n",
    "    # Список признаков, которые нужно удалить\n",
    "    features_to_remove = feature_ranking_df[feature_ranking_df['Total Importance'] < rank_threshold].index.tolist()\n",
    "\n",
    "    # Исключение из этого списка важных признаков, которые оставляем\n",
    "    features_to_remove = [f for f in features_to_remove if f not in vip_features]\n",
    "\n",
    "    return features_to_remove\n",
    "\n",
    "# тест\n",
    "features_to_remove = find_minor_features(feature_ranking, rank_threshold=1.5)\n",
    "print('Несущественные признаки, удаляемые из данных:\\n')\n",
    "pp(features_to_remove)"
   ]
  },
  {
   "cell_type": "code",
   "execution_count": 46,
   "metadata": {
    "ExecuteTime": {
     "end_time": "2023-10-09T09:28:36.846558Z",
     "start_time": "2023-10-09T09:28:36.832972Z"
    },
    "colab": {
     "base_uri": "https://localhost:8080/",
     "height": 193
    },
    "id": "6sk1kKgMUtd7",
    "outputId": "015bbb52-7646-4421-9729-89fe1299947c"
   },
   "outputs": [],
   "source": [
    "# Удаляем несущественные признаки из датасета\n",
    "\n",
    "def remove_features(df, column_names):\n",
    "    return df.drop(columns=column_names)\n",
    "\n",
    "# features_to_remove = find_minor_features(feature_ranking, rank_threshold=2)\n",
    "# clear_df = remove_features(data_for_algo.copy(), features_to_remove)\n",
    "# clear_df.head(3)"
   ]
  },
  {
   "cell_type": "markdown",
   "metadata": {
    "id": "ujQpcyU6dFUN"
   },
   "source": [
    "# Полный pipeline для обработки данных\n",
    "1. Создаем пайплайн\n",
    "2. Пропускаем через него исходные данные\n",
    "3. Сохраняем результат - данные, которые будут использоваться моделями\n",
    "\n",
    "\n"
   ]
  },
  {
   "cell_type": "code",
   "execution_count": 42,
   "metadata": {
    "ExecuteTime": {
     "end_time": "2023-10-09T09:25:22.375371Z",
     "start_time": "2023-10-09T09:25:22.338843Z"
    },
    "colab": {
     "base_uri": "https://localhost:8080/",
     "height": 434
    },
    "id": "elUanr1zV0oD",
    "outputId": "2c0e794b-033b-415f-fe60-36138823688f"
   },
   "outputs": [
    {
     "data": {
      "text/html": [
       "<style>#sk-container-id-5 {color: black;background-color: white;}#sk-container-id-5 pre{padding: 0;}#sk-container-id-5 div.sk-toggleable {background-color: white;}#sk-container-id-5 label.sk-toggleable__label {cursor: pointer;display: block;width: 100%;margin-bottom: 0;padding: 0.3em;box-sizing: border-box;text-align: center;}#sk-container-id-5 label.sk-toggleable__label-arrow:before {content: \"▸\";float: left;margin-right: 0.25em;color: #696969;}#sk-container-id-5 label.sk-toggleable__label-arrow:hover:before {color: black;}#sk-container-id-5 div.sk-estimator:hover label.sk-toggleable__label-arrow:before {color: black;}#sk-container-id-5 div.sk-toggleable__content {max-height: 0;max-width: 0;overflow: hidden;text-align: left;background-color: #f0f8ff;}#sk-container-id-5 div.sk-toggleable__content pre {margin: 0.2em;color: black;border-radius: 0.25em;background-color: #f0f8ff;}#sk-container-id-5 input.sk-toggleable__control:checked~div.sk-toggleable__content {max-height: 200px;max-width: 100%;overflow: auto;}#sk-container-id-5 input.sk-toggleable__control:checked~label.sk-toggleable__label-arrow:before {content: \"▾\";}#sk-container-id-5 div.sk-estimator input.sk-toggleable__control:checked~label.sk-toggleable__label {background-color: #d4ebff;}#sk-container-id-5 div.sk-label input.sk-toggleable__control:checked~label.sk-toggleable__label {background-color: #d4ebff;}#sk-container-id-5 input.sk-hidden--visually {border: 0;clip: rect(1px 1px 1px 1px);clip: rect(1px, 1px, 1px, 1px);height: 1px;margin: -1px;overflow: hidden;padding: 0;position: absolute;width: 1px;}#sk-container-id-5 div.sk-estimator {font-family: monospace;background-color: #f0f8ff;border: 1px dotted black;border-radius: 0.25em;box-sizing: border-box;margin-bottom: 0.5em;}#sk-container-id-5 div.sk-estimator:hover {background-color: #d4ebff;}#sk-container-id-5 div.sk-parallel-item::after {content: \"\";width: 100%;border-bottom: 1px solid gray;flex-grow: 1;}#sk-container-id-5 div.sk-label:hover label.sk-toggleable__label {background-color: #d4ebff;}#sk-container-id-5 div.sk-serial::before {content: \"\";position: absolute;border-left: 1px solid gray;box-sizing: border-box;top: 0;bottom: 0;left: 50%;z-index: 0;}#sk-container-id-5 div.sk-serial {display: flex;flex-direction: column;align-items: center;background-color: white;padding-right: 0.2em;padding-left: 0.2em;position: relative;}#sk-container-id-5 div.sk-item {position: relative;z-index: 1;}#sk-container-id-5 div.sk-parallel {display: flex;align-items: stretch;justify-content: center;background-color: white;position: relative;}#sk-container-id-5 div.sk-item::before, #sk-container-id-5 div.sk-parallel-item::before {content: \"\";position: absolute;border-left: 1px solid gray;box-sizing: border-box;top: 0;bottom: 0;left: 50%;z-index: -1;}#sk-container-id-5 div.sk-parallel-item {display: flex;flex-direction: column;z-index: 1;position: relative;background-color: white;}#sk-container-id-5 div.sk-parallel-item:first-child::after {align-self: flex-end;width: 50%;}#sk-container-id-5 div.sk-parallel-item:last-child::after {align-self: flex-start;width: 50%;}#sk-container-id-5 div.sk-parallel-item:only-child::after {width: 0;}#sk-container-id-5 div.sk-dashed-wrapped {border: 1px dashed gray;margin: 0 0.4em 0.5em 0.4em;box-sizing: border-box;padding-bottom: 0.4em;background-color: white;}#sk-container-id-5 div.sk-label label {font-family: monospace;font-weight: bold;display: inline-block;line-height: 1.2em;}#sk-container-id-5 div.sk-label-container {text-align: center;}#sk-container-id-5 div.sk-container {/* jupyter's `normalize.less` sets `[hidden] { display: none; }` but bootstrap.min.css set `[hidden] { display: none !important; }` so we also need the `!important` here to be able to override the default hidden behavior on the sphinx rendered scikit-learn.org. See: https://github.com/scikit-learn/scikit-learn/issues/21755 */display: inline-block !important;position: relative;}#sk-container-id-5 div.sk-text-repr-fallback {display: none;}</style><div id=\"sk-container-id-5\" class=\"sk-top-container\"><div class=\"sk-text-repr-fallback\"><pre>Pipeline(steps=[(&#x27;functiontransformer-1&#x27;,\n",
       "                 FunctionTransformer(func=&lt;function add_date_from_1990 at 0x000001DD81975BD0&gt;)),\n",
       "                (&#x27;functiontransformer-2&#x27;,\n",
       "                 FunctionTransformer(func=&lt;function add_age_levels at 0x000001DD81975FC0&gt;)),\n",
       "                (&#x27;functiontransformer-3&#x27;,\n",
       "                 FunctionTransformer(func=&lt;function add_diagnosis_and_sss at 0x000001DD81977AC0&gt;)),\n",
       "                (&#x27;functiontransformer-4&#x27;,\n",
       "                 Functio...\n",
       "                 FunctionTransformer(func=&lt;function add_age_bins at 0x000001DD85F69870&gt;)),\n",
       "                (&#x27;functiontransformer-8&#x27;,\n",
       "                 FunctionTransformer(func=&lt;function make_zodiac_ohe at 0x000001DD85FC5990&gt;)),\n",
       "                (&#x27;functiontransformer-9&#x27;,\n",
       "                 FunctionTransformer(func=&lt;function make_ohe_columns at 0x000001DD81CBEC20&gt;)),\n",
       "                (&#x27;functiontransformer-10&#x27;,\n",
       "                 FunctionTransformer(func=&lt;function remove_unrelated_features at 0x000001DD85F0BAC0&gt;)),\n",
       "                (&#x27;dropmissingdata&#x27;, DropMissingData())])</pre><b>In a Jupyter environment, please rerun this cell to show the HTML representation or trust the notebook. <br />On GitHub, the HTML representation is unable to render, please try loading this page with nbviewer.org.</b></div><div class=\"sk-container\" hidden><div class=\"sk-item sk-dashed-wrapped\"><div class=\"sk-label-container\"><div class=\"sk-label sk-toggleable\"><input class=\"sk-toggleable__control sk-hidden--visually\" id=\"sk-estimator-id-44\" type=\"checkbox\" ><label for=\"sk-estimator-id-44\" class=\"sk-toggleable__label sk-toggleable__label-arrow\">Pipeline</label><div class=\"sk-toggleable__content\"><pre>Pipeline(steps=[(&#x27;functiontransformer-1&#x27;,\n",
       "                 FunctionTransformer(func=&lt;function add_date_from_1990 at 0x000001DD81975BD0&gt;)),\n",
       "                (&#x27;functiontransformer-2&#x27;,\n",
       "                 FunctionTransformer(func=&lt;function add_age_levels at 0x000001DD81975FC0&gt;)),\n",
       "                (&#x27;functiontransformer-3&#x27;,\n",
       "                 FunctionTransformer(func=&lt;function add_diagnosis_and_sss at 0x000001DD81977AC0&gt;)),\n",
       "                (&#x27;functiontransformer-4&#x27;,\n",
       "                 Functio...\n",
       "                 FunctionTransformer(func=&lt;function add_age_bins at 0x000001DD85F69870&gt;)),\n",
       "                (&#x27;functiontransformer-8&#x27;,\n",
       "                 FunctionTransformer(func=&lt;function make_zodiac_ohe at 0x000001DD85FC5990&gt;)),\n",
       "                (&#x27;functiontransformer-9&#x27;,\n",
       "                 FunctionTransformer(func=&lt;function make_ohe_columns at 0x000001DD81CBEC20&gt;)),\n",
       "                (&#x27;functiontransformer-10&#x27;,\n",
       "                 FunctionTransformer(func=&lt;function remove_unrelated_features at 0x000001DD85F0BAC0&gt;)),\n",
       "                (&#x27;dropmissingdata&#x27;, DropMissingData())])</pre></div></div></div><div class=\"sk-serial\"><div class=\"sk-item\"><div class=\"sk-estimator sk-toggleable\"><input class=\"sk-toggleable__control sk-hidden--visually\" id=\"sk-estimator-id-45\" type=\"checkbox\" ><label for=\"sk-estimator-id-45\" class=\"sk-toggleable__label sk-toggleable__label-arrow\">FunctionTransformer</label><div class=\"sk-toggleable__content\"><pre>FunctionTransformer(func=&lt;function add_date_from_1990 at 0x000001DD81975BD0&gt;)</pre></div></div></div><div class=\"sk-item\"><div class=\"sk-estimator sk-toggleable\"><input class=\"sk-toggleable__control sk-hidden--visually\" id=\"sk-estimator-id-46\" type=\"checkbox\" ><label for=\"sk-estimator-id-46\" class=\"sk-toggleable__label sk-toggleable__label-arrow\">FunctionTransformer</label><div class=\"sk-toggleable__content\"><pre>FunctionTransformer(func=&lt;function add_age_levels at 0x000001DD81975FC0&gt;)</pre></div></div></div><div class=\"sk-item\"><div class=\"sk-estimator sk-toggleable\"><input class=\"sk-toggleable__control sk-hidden--visually\" id=\"sk-estimator-id-47\" type=\"checkbox\" ><label for=\"sk-estimator-id-47\" class=\"sk-toggleable__label sk-toggleable__label-arrow\">FunctionTransformer</label><div class=\"sk-toggleable__content\"><pre>FunctionTransformer(func=&lt;function add_diagnosis_and_sss at 0x000001DD81977AC0&gt;)</pre></div></div></div><div class=\"sk-item\"><div class=\"sk-estimator sk-toggleable\"><input class=\"sk-toggleable__control sk-hidden--visually\" id=\"sk-estimator-id-48\" type=\"checkbox\" ><label for=\"sk-estimator-id-48\" class=\"sk-toggleable__label sk-toggleable__label-arrow\">FunctionTransformer</label><div class=\"sk-toggleable__content\"><pre>FunctionTransformer(func=&lt;function remove_age_errors at 0x000001DD81D0B130&gt;)</pre></div></div></div><div class=\"sk-item\"><div class=\"sk-estimator sk-toggleable\"><input class=\"sk-toggleable__control sk-hidden--visually\" id=\"sk-estimator-id-49\" type=\"checkbox\" ><label for=\"sk-estimator-id-49\" class=\"sk-toggleable__label sk-toggleable__label-arrow\">FunctionTransformer</label><div class=\"sk-toggleable__content\"><pre>FunctionTransformer(func=&lt;function add_age_statistics at 0x000001DD81CBE5F0&gt;)</pre></div></div></div><div class=\"sk-item\"><div class=\"sk-estimator sk-toggleable\"><input class=\"sk-toggleable__control sk-hidden--visually\" id=\"sk-estimator-id-50\" type=\"checkbox\" ><label for=\"sk-estimator-id-50\" class=\"sk-toggleable__label sk-toggleable__label-arrow\">FunctionTransformer</label><div class=\"sk-toggleable__content\"><pre>FunctionTransformer(func=&lt;function critical_age at 0x000001DD81E1D7E0&gt;)</pre></div></div></div><div class=\"sk-item\"><div class=\"sk-estimator sk-toggleable\"><input class=\"sk-toggleable__control sk-hidden--visually\" id=\"sk-estimator-id-51\" type=\"checkbox\" ><label for=\"sk-estimator-id-51\" class=\"sk-toggleable__label sk-toggleable__label-arrow\">FunctionTransformer</label><div class=\"sk-toggleable__content\"><pre>FunctionTransformer(func=&lt;function add_age_bins at 0x000001DD85F69870&gt;)</pre></div></div></div><div class=\"sk-item\"><div class=\"sk-estimator sk-toggleable\"><input class=\"sk-toggleable__control sk-hidden--visually\" id=\"sk-estimator-id-52\" type=\"checkbox\" ><label for=\"sk-estimator-id-52\" class=\"sk-toggleable__label sk-toggleable__label-arrow\">FunctionTransformer</label><div class=\"sk-toggleable__content\"><pre>FunctionTransformer(func=&lt;function make_zodiac_ohe at 0x000001DD85FC5990&gt;)</pre></div></div></div><div class=\"sk-item\"><div class=\"sk-estimator sk-toggleable\"><input class=\"sk-toggleable__control sk-hidden--visually\" id=\"sk-estimator-id-53\" type=\"checkbox\" ><label for=\"sk-estimator-id-53\" class=\"sk-toggleable__label sk-toggleable__label-arrow\">FunctionTransformer</label><div class=\"sk-toggleable__content\"><pre>FunctionTransformer(func=&lt;function make_ohe_columns at 0x000001DD81CBEC20&gt;)</pre></div></div></div><div class=\"sk-item\"><div class=\"sk-estimator sk-toggleable\"><input class=\"sk-toggleable__control sk-hidden--visually\" id=\"sk-estimator-id-54\" type=\"checkbox\" ><label for=\"sk-estimator-id-54\" class=\"sk-toggleable__label sk-toggleable__label-arrow\">FunctionTransformer</label><div class=\"sk-toggleable__content\"><pre>FunctionTransformer(func=&lt;function remove_unrelated_features at 0x000001DD85F0BAC0&gt;)</pre></div></div></div><div class=\"sk-item\"><div class=\"sk-estimator sk-toggleable\"><input class=\"sk-toggleable__control sk-hidden--visually\" id=\"sk-estimator-id-55\" type=\"checkbox\" ><label for=\"sk-estimator-id-55\" class=\"sk-toggleable__label sk-toggleable__label-arrow\">DropMissingData</label><div class=\"sk-toggleable__content\"><pre>DropMissingData()</pre></div></div></div></div></div></div></div>"
      ],
      "text/plain": [
       "Pipeline(steps=[('functiontransformer-1',\n",
       "                 FunctionTransformer(func=<function add_date_from_1990 at 0x000001DD81975BD0>)),\n",
       "                ('functiontransformer-2',\n",
       "                 FunctionTransformer(func=<function add_age_levels at 0x000001DD81975FC0>)),\n",
       "                ('functiontransformer-3',\n",
       "                 FunctionTransformer(func=<function add_diagnosis_and_sss at 0x000001DD81977AC0>)),\n",
       "                ('functiontransformer-4',\n",
       "                 Functio...\n",
       "                 FunctionTransformer(func=<function add_age_bins at 0x000001DD85F69870>)),\n",
       "                ('functiontransformer-8',\n",
       "                 FunctionTransformer(func=<function make_zodiac_ohe at 0x000001DD85FC5990>)),\n",
       "                ('functiontransformer-9',\n",
       "                 FunctionTransformer(func=<function make_ohe_columns at 0x000001DD81CBEC20>)),\n",
       "                ('functiontransformer-10',\n",
       "                 FunctionTransformer(func=<function remove_unrelated_features at 0x000001DD85F0BAC0>)),\n",
       "                ('dropmissingdata', DropMissingData())])"
      ]
     },
     "execution_count": 42,
     "metadata": {},
     "output_type": "execute_result"
    }
   ],
   "source": [
    "data_pipeline = make_pipeline(\n",
    "    *data_pipeline_wide,\n",
    "    FunctionTransformer(remove_unrelated_features),\n",
    "    # FunctionTransformer(remove_features, kw_args={'column_names': features_to_remove}),\n",
    "    DropMissingData(),\n",
    ")\n",
    "data_pipeline"
   ]
  },
  {
   "cell_type": "code",
   "execution_count": 44,
   "metadata": {
    "ExecuteTime": {
     "end_time": "2023-10-09T09:26:53.045302Z",
     "start_time": "2023-10-09T09:26:48.876051Z"
    },
    "colab": {
     "base_uri": "https://localhost:8080/",
     "height": 211
    },
    "id": "drTAE_tHbMax",
    "outputId": "2e4f7bd5-2154-42d4-c9cc-def662bdc97b"
   },
   "outputs": [
    {
     "name": "stdout",
     "output_type": "stream",
     "text": [
      "['gender', 'institution_id']\n"
     ]
    },
    {
     "data": {
      "text/html": [
       "<div>\n",
       "<style scoped>\n",
       "    .dataframe tbody tr th:only-of-type {\n",
       "        vertical-align: middle;\n",
       "    }\n",
       "\n",
       "    .dataframe tbody tr th {\n",
       "        vertical-align: top;\n",
       "    }\n",
       "\n",
       "    .dataframe thead th {\n",
       "        text-align: right;\n",
       "    }\n",
       "</style>\n",
       "<table border=\"1\" class=\"dataframe\">\n",
       "  <thead>\n",
       "    <tr style=\"text-align: right;\">\n",
       "      <th></th>\n",
       "      <th>id</th>\n",
       "      <th>age</th>\n",
       "      <th>dose</th>\n",
       "      <th>prev_INR(MHO)</th>\n",
       "      <th>atrial_fibrillation</th>\n",
       "      <th>mitral_valve</th>\n",
       "      <th>aortal_valve</th>\n",
       "      <th>date_diff</th>\n",
       "      <th>INR(MHO)</th>\n",
       "      <th>sample</th>\n",
       "      <th>...</th>\n",
       "      <th>institution_id_22</th>\n",
       "      <th>institution_id_23</th>\n",
       "      <th>institution_id_24</th>\n",
       "      <th>institution_id_25</th>\n",
       "      <th>institution_id_26</th>\n",
       "      <th>institution_id_27</th>\n",
       "      <th>institution_id_28</th>\n",
       "      <th>institution_id_29</th>\n",
       "      <th>institution_id_30</th>\n",
       "      <th>institution_id_31</th>\n",
       "    </tr>\n",
       "  </thead>\n",
       "  <tbody>\n",
       "    <tr>\n",
       "      <th>0</th>\n",
       "      <td>140361892057136</td>\n",
       "      <td>57</td>\n",
       "      <td>7.5</td>\n",
       "      <td>3.11</td>\n",
       "      <td>1</td>\n",
       "      <td>0</td>\n",
       "      <td>0</td>\n",
       "      <td>13.0</td>\n",
       "      <td>3.32</td>\n",
       "      <td>1</td>\n",
       "      <td>...</td>\n",
       "      <td>0</td>\n",
       "      <td>0</td>\n",
       "      <td>0</td>\n",
       "      <td>0</td>\n",
       "      <td>0</td>\n",
       "      <td>0</td>\n",
       "      <td>0</td>\n",
       "      <td>0</td>\n",
       "      <td>0</td>\n",
       "      <td>0</td>\n",
       "    </tr>\n",
       "    <tr>\n",
       "      <th>1</th>\n",
       "      <td>140361892057136</td>\n",
       "      <td>57</td>\n",
       "      <td>7.5</td>\n",
       "      <td>3.32</td>\n",
       "      <td>1</td>\n",
       "      <td>0</td>\n",
       "      <td>0</td>\n",
       "      <td>15.0</td>\n",
       "      <td>2.01</td>\n",
       "      <td>2</td>\n",
       "      <td>...</td>\n",
       "      <td>0</td>\n",
       "      <td>0</td>\n",
       "      <td>0</td>\n",
       "      <td>0</td>\n",
       "      <td>0</td>\n",
       "      <td>0</td>\n",
       "      <td>0</td>\n",
       "      <td>0</td>\n",
       "      <td>0</td>\n",
       "      <td>0</td>\n",
       "    </tr>\n",
       "    <tr>\n",
       "      <th>2</th>\n",
       "      <td>140361892057264</td>\n",
       "      <td>50</td>\n",
       "      <td>5.0</td>\n",
       "      <td>2.01</td>\n",
       "      <td>0</td>\n",
       "      <td>1</td>\n",
       "      <td>0</td>\n",
       "      <td>26.0</td>\n",
       "      <td>2.75</td>\n",
       "      <td>1</td>\n",
       "      <td>...</td>\n",
       "      <td>0</td>\n",
       "      <td>0</td>\n",
       "      <td>0</td>\n",
       "      <td>0</td>\n",
       "      <td>0</td>\n",
       "      <td>0</td>\n",
       "      <td>0</td>\n",
       "      <td>0</td>\n",
       "      <td>0</td>\n",
       "      <td>0</td>\n",
       "    </tr>\n",
       "  </tbody>\n",
       "</table>\n",
       "<p>3 rows × 87 columns</p>\n",
       "</div>"
      ],
      "text/plain": [
       "                id  age  dose  prev_INR(MHO)  atrial_fibrillation  \\\n",
       "0  140361892057136   57   7.5           3.11                    1   \n",
       "1  140361892057136   57   7.5           3.32                    1   \n",
       "2  140361892057264   50   5.0           2.01                    0   \n",
       "\n",
       "   mitral_valve  aortal_valve  date_diff  INR(MHO)  sample  ...  \\\n",
       "0             0             0       13.0      3.32       1  ...   \n",
       "1             0             0       15.0      2.01       2  ...   \n",
       "2             1             0       26.0      2.75       1  ...   \n",
       "\n",
       "   institution_id_22  institution_id_23  institution_id_24  institution_id_25  \\\n",
       "0                  0                  0                  0                  0   \n",
       "1                  0                  0                  0                  0   \n",
       "2                  0                  0                  0                  0   \n",
       "\n",
       "   institution_id_26  institution_id_27  institution_id_28  institution_id_29  \\\n",
       "0                  0                  0                  0                  0   \n",
       "1                  0                  0                  0                  0   \n",
       "2                  0                  0                  0                  0   \n",
       "\n",
       "   institution_id_30  institution_id_31  \n",
       "0                  0                  0  \n",
       "1                  0                  0  \n",
       "2                  0                  0  \n",
       "\n",
       "[3 rows x 87 columns]"
      ]
     },
     "execution_count": 44,
     "metadata": {},
     "output_type": "execute_result"
    }
   ],
   "source": [
    "# Пропускаем исходные данные через сконструированный выше pipeline.\n",
    "# Результат будем использовать для обучения моделей.\n",
    "\n",
    "# Загружаем данные из файла (для надежности)\n",
    "df = load_dataset()\n",
    "data_for_model = data_pipeline.fit_transform(df)\n",
    "\n",
    "# сохраним результаты очищенного датасета в виртульное окружение -\n",
    "# при необходимости сохраните на локальный диск вручную\n",
    "data_for_model.to_excel(f'{ROOT_PATH}/data/processed/data_for_model.xlsx', index=False)\n",
    "data_for_model.head(3)"
   ]
  },
  {
   "cell_type": "markdown",
   "metadata": {
    "id": "ucTCtrs_x7zk"
   },
   "source": [
    "## Данные с только существенными признаками\n",
    "Дополнительно изготавливаем и сохраняем данные, в которых оставлены только существенные признаки"
   ]
  },
  {
   "cell_type": "code",
   "execution_count": 47,
   "metadata": {
    "ExecuteTime": {
     "end_time": "2023-10-09T09:28:58.341985Z",
     "start_time": "2023-10-09T09:28:58.299405Z"
    },
    "colab": {
     "base_uri": "https://localhost:8080/",
     "height": 469
    },
    "id": "7f32WJHwxsLj",
    "outputId": "041aacc7-278e-4fa2-e8b4-0d40b2acb29d"
   },
   "outputs": [
    {
     "data": {
      "text/html": [
       "<style>#sk-container-id-6 {color: black;background-color: white;}#sk-container-id-6 pre{padding: 0;}#sk-container-id-6 div.sk-toggleable {background-color: white;}#sk-container-id-6 label.sk-toggleable__label {cursor: pointer;display: block;width: 100%;margin-bottom: 0;padding: 0.3em;box-sizing: border-box;text-align: center;}#sk-container-id-6 label.sk-toggleable__label-arrow:before {content: \"▸\";float: left;margin-right: 0.25em;color: #696969;}#sk-container-id-6 label.sk-toggleable__label-arrow:hover:before {color: black;}#sk-container-id-6 div.sk-estimator:hover label.sk-toggleable__label-arrow:before {color: black;}#sk-container-id-6 div.sk-toggleable__content {max-height: 0;max-width: 0;overflow: hidden;text-align: left;background-color: #f0f8ff;}#sk-container-id-6 div.sk-toggleable__content pre {margin: 0.2em;color: black;border-radius: 0.25em;background-color: #f0f8ff;}#sk-container-id-6 input.sk-toggleable__control:checked~div.sk-toggleable__content {max-height: 200px;max-width: 100%;overflow: auto;}#sk-container-id-6 input.sk-toggleable__control:checked~label.sk-toggleable__label-arrow:before {content: \"▾\";}#sk-container-id-6 div.sk-estimator input.sk-toggleable__control:checked~label.sk-toggleable__label {background-color: #d4ebff;}#sk-container-id-6 div.sk-label input.sk-toggleable__control:checked~label.sk-toggleable__label {background-color: #d4ebff;}#sk-container-id-6 input.sk-hidden--visually {border: 0;clip: rect(1px 1px 1px 1px);clip: rect(1px, 1px, 1px, 1px);height: 1px;margin: -1px;overflow: hidden;padding: 0;position: absolute;width: 1px;}#sk-container-id-6 div.sk-estimator {font-family: monospace;background-color: #f0f8ff;border: 1px dotted black;border-radius: 0.25em;box-sizing: border-box;margin-bottom: 0.5em;}#sk-container-id-6 div.sk-estimator:hover {background-color: #d4ebff;}#sk-container-id-6 div.sk-parallel-item::after {content: \"\";width: 100%;border-bottom: 1px solid gray;flex-grow: 1;}#sk-container-id-6 div.sk-label:hover label.sk-toggleable__label {background-color: #d4ebff;}#sk-container-id-6 div.sk-serial::before {content: \"\";position: absolute;border-left: 1px solid gray;box-sizing: border-box;top: 0;bottom: 0;left: 50%;z-index: 0;}#sk-container-id-6 div.sk-serial {display: flex;flex-direction: column;align-items: center;background-color: white;padding-right: 0.2em;padding-left: 0.2em;position: relative;}#sk-container-id-6 div.sk-item {position: relative;z-index: 1;}#sk-container-id-6 div.sk-parallel {display: flex;align-items: stretch;justify-content: center;background-color: white;position: relative;}#sk-container-id-6 div.sk-item::before, #sk-container-id-6 div.sk-parallel-item::before {content: \"\";position: absolute;border-left: 1px solid gray;box-sizing: border-box;top: 0;bottom: 0;left: 50%;z-index: -1;}#sk-container-id-6 div.sk-parallel-item {display: flex;flex-direction: column;z-index: 1;position: relative;background-color: white;}#sk-container-id-6 div.sk-parallel-item:first-child::after {align-self: flex-end;width: 50%;}#sk-container-id-6 div.sk-parallel-item:last-child::after {align-self: flex-start;width: 50%;}#sk-container-id-6 div.sk-parallel-item:only-child::after {width: 0;}#sk-container-id-6 div.sk-dashed-wrapped {border: 1px dashed gray;margin: 0 0.4em 0.5em 0.4em;box-sizing: border-box;padding-bottom: 0.4em;background-color: white;}#sk-container-id-6 div.sk-label label {font-family: monospace;font-weight: bold;display: inline-block;line-height: 1.2em;}#sk-container-id-6 div.sk-label-container {text-align: center;}#sk-container-id-6 div.sk-container {/* jupyter's `normalize.less` sets `[hidden] { display: none; }` but bootstrap.min.css set `[hidden] { display: none !important; }` so we also need the `!important` here to be able to override the default hidden behavior on the sphinx rendered scikit-learn.org. See: https://github.com/scikit-learn/scikit-learn/issues/21755 */display: inline-block !important;position: relative;}#sk-container-id-6 div.sk-text-repr-fallback {display: none;}</style><div id=\"sk-container-id-6\" class=\"sk-top-container\"><div class=\"sk-text-repr-fallback\"><pre>Pipeline(steps=[(&#x27;functiontransformer-1&#x27;,\n",
       "                 FunctionTransformer(func=&lt;function add_date_from_1990 at 0x000001DD81975BD0&gt;)),\n",
       "                (&#x27;functiontransformer-2&#x27;,\n",
       "                 FunctionTransformer(func=&lt;function add_age_levels at 0x000001DD81975FC0&gt;)),\n",
       "                (&#x27;functiontransformer-3&#x27;,\n",
       "                 FunctionTransformer(func=&lt;function add_diagnosis_and_sss at 0x000001DD81977AC0&gt;)),\n",
       "                (&#x27;functiontransformer-4&#x27;,\n",
       "                 Functio...\n",
       "                                                               &#x27;institution_id_14&#x27;,\n",
       "                                                               &#x27;d3&#x27;,\n",
       "                                                               &#x27;age_quantile&#x27;,\n",
       "                                                               &#x27;institution_id_29&#x27;,\n",
       "                                                               &#x27;zodiac_Scorpio&#x27;,\n",
       "                                                               &#x27;d4&#x27;,\n",
       "                                                               &#x27;age_level3&#x27;,\n",
       "                                                               &#x27;age_level&#x27;,\n",
       "                                                               &#x27;age_level5&#x27;,\n",
       "                                                               &#x27;d7&#x27;,\n",
       "                                                               &#x27;zodiac_Virgo&#x27;,\n",
       "                                                               &#x27;d6&#x27;,\n",
       "                                                               &#x27;age_level1&#x27;,\n",
       "                                                               &#x27;agebin_5&#x27;,\n",
       "                                                               &#x27;zodiac_Capricorn&#x27;,\n",
       "                                                               &#x27;zodiac_Taurus&#x27;,\n",
       "                                                               &#x27;zodiac_Sagittarius&#x27;,\n",
       "                                                               &#x27;institution_id_15&#x27;,\n",
       "                                                               &#x27;age_level4&#x27;,\n",
       "                                                               &#x27;age_level6&#x27;,\n",
       "                                                               &#x27;zodiac_Aries&#x27;,\n",
       "                                                               &#x27;age_level2&#x27;,\n",
       "                                                               &#x27;is_elderly&#x27;,\n",
       "                                                               &#x27;pass_dose&#x27;]})),\n",
       "                (&#x27;dropmissingdata&#x27;, DropMissingData())])</pre><b>In a Jupyter environment, please rerun this cell to show the HTML representation or trust the notebook. <br />On GitHub, the HTML representation is unable to render, please try loading this page with nbviewer.org.</b></div><div class=\"sk-container\" hidden><div class=\"sk-item sk-dashed-wrapped\"><div class=\"sk-label-container\"><div class=\"sk-label sk-toggleable\"><input class=\"sk-toggleable__control sk-hidden--visually\" id=\"sk-estimator-id-56\" type=\"checkbox\" ><label for=\"sk-estimator-id-56\" class=\"sk-toggleable__label sk-toggleable__label-arrow\">Pipeline</label><div class=\"sk-toggleable__content\"><pre>Pipeline(steps=[(&#x27;functiontransformer-1&#x27;,\n",
       "                 FunctionTransformer(func=&lt;function add_date_from_1990 at 0x000001DD81975BD0&gt;)),\n",
       "                (&#x27;functiontransformer-2&#x27;,\n",
       "                 FunctionTransformer(func=&lt;function add_age_levels at 0x000001DD81975FC0&gt;)),\n",
       "                (&#x27;functiontransformer-3&#x27;,\n",
       "                 FunctionTransformer(func=&lt;function add_diagnosis_and_sss at 0x000001DD81977AC0&gt;)),\n",
       "                (&#x27;functiontransformer-4&#x27;,\n",
       "                 Functio...\n",
       "                                                               &#x27;institution_id_14&#x27;,\n",
       "                                                               &#x27;d3&#x27;,\n",
       "                                                               &#x27;age_quantile&#x27;,\n",
       "                                                               &#x27;institution_id_29&#x27;,\n",
       "                                                               &#x27;zodiac_Scorpio&#x27;,\n",
       "                                                               &#x27;d4&#x27;,\n",
       "                                                               &#x27;age_level3&#x27;,\n",
       "                                                               &#x27;age_level&#x27;,\n",
       "                                                               &#x27;age_level5&#x27;,\n",
       "                                                               &#x27;d7&#x27;,\n",
       "                                                               &#x27;zodiac_Virgo&#x27;,\n",
       "                                                               &#x27;d6&#x27;,\n",
       "                                                               &#x27;age_level1&#x27;,\n",
       "                                                               &#x27;agebin_5&#x27;,\n",
       "                                                               &#x27;zodiac_Capricorn&#x27;,\n",
       "                                                               &#x27;zodiac_Taurus&#x27;,\n",
       "                                                               &#x27;zodiac_Sagittarius&#x27;,\n",
       "                                                               &#x27;institution_id_15&#x27;,\n",
       "                                                               &#x27;age_level4&#x27;,\n",
       "                                                               &#x27;age_level6&#x27;,\n",
       "                                                               &#x27;zodiac_Aries&#x27;,\n",
       "                                                               &#x27;age_level2&#x27;,\n",
       "                                                               &#x27;is_elderly&#x27;,\n",
       "                                                               &#x27;pass_dose&#x27;]})),\n",
       "                (&#x27;dropmissingdata&#x27;, DropMissingData())])</pre></div></div></div><div class=\"sk-serial\"><div class=\"sk-item\"><div class=\"sk-estimator sk-toggleable\"><input class=\"sk-toggleable__control sk-hidden--visually\" id=\"sk-estimator-id-57\" type=\"checkbox\" ><label for=\"sk-estimator-id-57\" class=\"sk-toggleable__label sk-toggleable__label-arrow\">FunctionTransformer</label><div class=\"sk-toggleable__content\"><pre>FunctionTransformer(func=&lt;function add_date_from_1990 at 0x000001DD81975BD0&gt;)</pre></div></div></div><div class=\"sk-item\"><div class=\"sk-estimator sk-toggleable\"><input class=\"sk-toggleable__control sk-hidden--visually\" id=\"sk-estimator-id-58\" type=\"checkbox\" ><label for=\"sk-estimator-id-58\" class=\"sk-toggleable__label sk-toggleable__label-arrow\">FunctionTransformer</label><div class=\"sk-toggleable__content\"><pre>FunctionTransformer(func=&lt;function add_age_levels at 0x000001DD81975FC0&gt;)</pre></div></div></div><div class=\"sk-item\"><div class=\"sk-estimator sk-toggleable\"><input class=\"sk-toggleable__control sk-hidden--visually\" id=\"sk-estimator-id-59\" type=\"checkbox\" ><label for=\"sk-estimator-id-59\" class=\"sk-toggleable__label sk-toggleable__label-arrow\">FunctionTransformer</label><div class=\"sk-toggleable__content\"><pre>FunctionTransformer(func=&lt;function add_diagnosis_and_sss at 0x000001DD81977AC0&gt;)</pre></div></div></div><div class=\"sk-item\"><div class=\"sk-estimator sk-toggleable\"><input class=\"sk-toggleable__control sk-hidden--visually\" id=\"sk-estimator-id-60\" type=\"checkbox\" ><label for=\"sk-estimator-id-60\" class=\"sk-toggleable__label sk-toggleable__label-arrow\">FunctionTransformer</label><div class=\"sk-toggleable__content\"><pre>FunctionTransformer(func=&lt;function remove_age_errors at 0x000001DD81D0B130&gt;)</pre></div></div></div><div class=\"sk-item\"><div class=\"sk-estimator sk-toggleable\"><input class=\"sk-toggleable__control sk-hidden--visually\" id=\"sk-estimator-id-61\" type=\"checkbox\" ><label for=\"sk-estimator-id-61\" class=\"sk-toggleable__label sk-toggleable__label-arrow\">FunctionTransformer</label><div class=\"sk-toggleable__content\"><pre>FunctionTransformer(func=&lt;function add_age_statistics at 0x000001DD81CBE5F0&gt;)</pre></div></div></div><div class=\"sk-item\"><div class=\"sk-estimator sk-toggleable\"><input class=\"sk-toggleable__control sk-hidden--visually\" id=\"sk-estimator-id-62\" type=\"checkbox\" ><label for=\"sk-estimator-id-62\" class=\"sk-toggleable__label sk-toggleable__label-arrow\">FunctionTransformer</label><div class=\"sk-toggleable__content\"><pre>FunctionTransformer(func=&lt;function critical_age at 0x000001DD81E1D7E0&gt;)</pre></div></div></div><div class=\"sk-item\"><div class=\"sk-estimator sk-toggleable\"><input class=\"sk-toggleable__control sk-hidden--visually\" id=\"sk-estimator-id-63\" type=\"checkbox\" ><label for=\"sk-estimator-id-63\" class=\"sk-toggleable__label sk-toggleable__label-arrow\">FunctionTransformer</label><div class=\"sk-toggleable__content\"><pre>FunctionTransformer(func=&lt;function add_age_bins at 0x000001DD85F69870&gt;)</pre></div></div></div><div class=\"sk-item\"><div class=\"sk-estimator sk-toggleable\"><input class=\"sk-toggleable__control sk-hidden--visually\" id=\"sk-estimator-id-64\" type=\"checkbox\" ><label for=\"sk-estimator-id-64\" class=\"sk-toggleable__label sk-toggleable__label-arrow\">FunctionTransformer</label><div class=\"sk-toggleable__content\"><pre>FunctionTransformer(func=&lt;function make_zodiac_ohe at 0x000001DD85FC5990&gt;)</pre></div></div></div><div class=\"sk-item\"><div class=\"sk-estimator sk-toggleable\"><input class=\"sk-toggleable__control sk-hidden--visually\" id=\"sk-estimator-id-65\" type=\"checkbox\" ><label for=\"sk-estimator-id-65\" class=\"sk-toggleable__label sk-toggleable__label-arrow\">FunctionTransformer</label><div class=\"sk-toggleable__content\"><pre>FunctionTransformer(func=&lt;function make_ohe_columns at 0x000001DD81CBEC20&gt;)</pre></div></div></div><div class=\"sk-item\"><div class=\"sk-estimator sk-toggleable\"><input class=\"sk-toggleable__control sk-hidden--visually\" id=\"sk-estimator-id-66\" type=\"checkbox\" ><label for=\"sk-estimator-id-66\" class=\"sk-toggleable__label sk-toggleable__label-arrow\">FunctionTransformer</label><div class=\"sk-toggleable__content\"><pre>FunctionTransformer(func=&lt;function remove_unrelated_features at 0x000001DD85F0BAC0&gt;)</pre></div></div></div><div class=\"sk-item\"><div class=\"sk-estimator sk-toggleable\"><input class=\"sk-toggleable__control sk-hidden--visually\" id=\"sk-estimator-id-67\" type=\"checkbox\" ><label for=\"sk-estimator-id-67\" class=\"sk-toggleable__label sk-toggleable__label-arrow\">FunctionTransformer</label><div class=\"sk-toggleable__content\"><pre>FunctionTransformer(func=&lt;function remove_features at 0x000001DD81C61120&gt;,\n",
       "                    kw_args={&#x27;column_names&#x27;: [&#x27;age_percentile&#x27;,\n",
       "                                              &#x27;institution_id_14&#x27;, &#x27;d3&#x27;,\n",
       "                                              &#x27;age_quantile&#x27;,\n",
       "                                              &#x27;institution_id_29&#x27;,\n",
       "                                              &#x27;zodiac_Scorpio&#x27;, &#x27;d4&#x27;,\n",
       "                                              &#x27;age_level3&#x27;, &#x27;age_level&#x27;,\n",
       "                                              &#x27;age_level5&#x27;, &#x27;d7&#x27;,\n",
       "                                              &#x27;zodiac_Virgo&#x27;, &#x27;d6&#x27;,\n",
       "                                              &#x27;age_level1&#x27;, &#x27;agebin_5&#x27;,\n",
       "                                              &#x27;zodiac_Capricorn&#x27;,\n",
       "                                              &#x27;zodiac_Taurus&#x27;,\n",
       "                                              &#x27;zodiac_Sagittarius&#x27;,\n",
       "                                              &#x27;institution_id_15&#x27;, &#x27;age_level4&#x27;,\n",
       "                                              &#x27;age_level6&#x27;, &#x27;zodiac_Aries&#x27;,\n",
       "                                              &#x27;age_level2&#x27;, &#x27;is_elderly&#x27;,\n",
       "                                              &#x27;pass_dose&#x27;]})</pre></div></div></div><div class=\"sk-item\"><div class=\"sk-estimator sk-toggleable\"><input class=\"sk-toggleable__control sk-hidden--visually\" id=\"sk-estimator-id-68\" type=\"checkbox\" ><label for=\"sk-estimator-id-68\" class=\"sk-toggleable__label sk-toggleable__label-arrow\">DropMissingData</label><div class=\"sk-toggleable__content\"><pre>DropMissingData()</pre></div></div></div></div></div></div></div>"
      ],
      "text/plain": [
       "Pipeline(steps=[('functiontransformer-1',\n",
       "                 FunctionTransformer(func=<function add_date_from_1990 at 0x000001DD81975BD0>)),\n",
       "                ('functiontransformer-2',\n",
       "                 FunctionTransformer(func=<function add_age_levels at 0x000001DD81975FC0>)),\n",
       "                ('functiontransformer-3',\n",
       "                 FunctionTransformer(func=<function add_diagnosis_and_sss at 0x000001DD81977AC0>)),\n",
       "                ('functiontransformer-4',\n",
       "                 Functio...\n",
       "                                                               'institution_id_14',\n",
       "                                                               'd3',\n",
       "                                                               'age_quantile',\n",
       "                                                               'institution_id_29',\n",
       "                                                               'zodiac_Scorpio',\n",
       "                                                               'd4',\n",
       "                                                               'age_level3',\n",
       "                                                               'age_level',\n",
       "                                                               'age_level5',\n",
       "                                                               'd7',\n",
       "                                                               'zodiac_Virgo',\n",
       "                                                               'd6',\n",
       "                                                               'age_level1',\n",
       "                                                               'agebin_5',\n",
       "                                                               'zodiac_Capricorn',\n",
       "                                                               'zodiac_Taurus',\n",
       "                                                               'zodiac_Sagittarius',\n",
       "                                                               'institution_id_15',\n",
       "                                                               'age_level4',\n",
       "                                                               'age_level6',\n",
       "                                                               'zodiac_Aries',\n",
       "                                                               'age_level2',\n",
       "                                                               'is_elderly',\n",
       "                                                               'pass_dose']})),\n",
       "                ('dropmissingdata', DropMissingData())])"
      ]
     },
     "execution_count": 47,
     "metadata": {},
     "output_type": "execute_result"
    }
   ],
   "source": [
    "data_pipeline = make_pipeline(\n",
    "    *data_pipeline_wide,\n",
    "    FunctionTransformer(remove_unrelated_features),\n",
    "    FunctionTransformer(remove_features, kw_args={'column_names': features_to_remove}),\n",
    "    DropMissingData(),\n",
    ")\n",
    "data_pipeline"
   ]
  },
  {
   "cell_type": "code",
   "execution_count": 48,
   "metadata": {
    "ExecuteTime": {
     "end_time": "2023-10-09T09:29:08.164722Z",
     "start_time": "2023-10-09T09:29:04.402225Z"
    },
    "colab": {
     "base_uri": "https://localhost:8080/",
     "height": 211
    },
    "id": "ojF6TdTYx4SW",
    "outputId": "a89d3e8c-2b9b-44fc-9e85-7d3eb3d35f95"
   },
   "outputs": [
    {
     "name": "stdout",
     "output_type": "stream",
     "text": [
      "['gender', 'institution_id']\n"
     ]
    },
    {
     "data": {
      "text/html": [
       "<div>\n",
       "<style scoped>\n",
       "    .dataframe tbody tr th:only-of-type {\n",
       "        vertical-align: middle;\n",
       "    }\n",
       "\n",
       "    .dataframe tbody tr th {\n",
       "        vertical-align: top;\n",
       "    }\n",
       "\n",
       "    .dataframe thead th {\n",
       "        text-align: right;\n",
       "    }\n",
       "</style>\n",
       "<table border=\"1\" class=\"dataframe\">\n",
       "  <thead>\n",
       "    <tr style=\"text-align: right;\">\n",
       "      <th></th>\n",
       "      <th>id</th>\n",
       "      <th>age</th>\n",
       "      <th>dose</th>\n",
       "      <th>prev_INR(MHO)</th>\n",
       "      <th>atrial_fibrillation</th>\n",
       "      <th>mitral_valve</th>\n",
       "      <th>aortal_valve</th>\n",
       "      <th>date_diff</th>\n",
       "      <th>INR(MHO)</th>\n",
       "      <th>sample</th>\n",
       "      <th>...</th>\n",
       "      <th>institution_id_21</th>\n",
       "      <th>institution_id_22</th>\n",
       "      <th>institution_id_23</th>\n",
       "      <th>institution_id_24</th>\n",
       "      <th>institution_id_25</th>\n",
       "      <th>institution_id_26</th>\n",
       "      <th>institution_id_27</th>\n",
       "      <th>institution_id_28</th>\n",
       "      <th>institution_id_30</th>\n",
       "      <th>institution_id_31</th>\n",
       "    </tr>\n",
       "  </thead>\n",
       "  <tbody>\n",
       "    <tr>\n",
       "      <th>0</th>\n",
       "      <td>140361892057136</td>\n",
       "      <td>57</td>\n",
       "      <td>7.5</td>\n",
       "      <td>3.11</td>\n",
       "      <td>1</td>\n",
       "      <td>0</td>\n",
       "      <td>0</td>\n",
       "      <td>13.0</td>\n",
       "      <td>3.32</td>\n",
       "      <td>1</td>\n",
       "      <td>...</td>\n",
       "      <td>0</td>\n",
       "      <td>0</td>\n",
       "      <td>0</td>\n",
       "      <td>0</td>\n",
       "      <td>0</td>\n",
       "      <td>0</td>\n",
       "      <td>0</td>\n",
       "      <td>0</td>\n",
       "      <td>0</td>\n",
       "      <td>0</td>\n",
       "    </tr>\n",
       "    <tr>\n",
       "      <th>1</th>\n",
       "      <td>140361892057136</td>\n",
       "      <td>57</td>\n",
       "      <td>7.5</td>\n",
       "      <td>3.32</td>\n",
       "      <td>1</td>\n",
       "      <td>0</td>\n",
       "      <td>0</td>\n",
       "      <td>15.0</td>\n",
       "      <td>2.01</td>\n",
       "      <td>2</td>\n",
       "      <td>...</td>\n",
       "      <td>0</td>\n",
       "      <td>0</td>\n",
       "      <td>0</td>\n",
       "      <td>0</td>\n",
       "      <td>0</td>\n",
       "      <td>0</td>\n",
       "      <td>0</td>\n",
       "      <td>0</td>\n",
       "      <td>0</td>\n",
       "      <td>0</td>\n",
       "    </tr>\n",
       "    <tr>\n",
       "      <th>2</th>\n",
       "      <td>140361892057264</td>\n",
       "      <td>50</td>\n",
       "      <td>5.0</td>\n",
       "      <td>2.01</td>\n",
       "      <td>0</td>\n",
       "      <td>1</td>\n",
       "      <td>0</td>\n",
       "      <td>26.0</td>\n",
       "      <td>2.75</td>\n",
       "      <td>1</td>\n",
       "      <td>...</td>\n",
       "      <td>0</td>\n",
       "      <td>0</td>\n",
       "      <td>0</td>\n",
       "      <td>0</td>\n",
       "      <td>0</td>\n",
       "      <td>0</td>\n",
       "      <td>0</td>\n",
       "      <td>0</td>\n",
       "      <td>0</td>\n",
       "      <td>0</td>\n",
       "    </tr>\n",
       "  </tbody>\n",
       "</table>\n",
       "<p>3 rows × 62 columns</p>\n",
       "</div>"
      ],
      "text/plain": [
       "                id  age  dose  prev_INR(MHO)  atrial_fibrillation  \\\n",
       "0  140361892057136   57   7.5           3.11                    1   \n",
       "1  140361892057136   57   7.5           3.32                    1   \n",
       "2  140361892057264   50   5.0           2.01                    0   \n",
       "\n",
       "   mitral_valve  aortal_valve  date_diff  INR(MHO)  sample  ...  \\\n",
       "0             0             0       13.0      3.32       1  ...   \n",
       "1             0             0       15.0      2.01       2  ...   \n",
       "2             1             0       26.0      2.75       1  ...   \n",
       "\n",
       "   institution_id_21  institution_id_22  institution_id_23  institution_id_24  \\\n",
       "0                  0                  0                  0                  0   \n",
       "1                  0                  0                  0                  0   \n",
       "2                  0                  0                  0                  0   \n",
       "\n",
       "   institution_id_25  institution_id_26  institution_id_27  institution_id_28  \\\n",
       "0                  0                  0                  0                  0   \n",
       "1                  0                  0                  0                  0   \n",
       "2                  0                  0                  0                  0   \n",
       "\n",
       "   institution_id_30  institution_id_31  \n",
       "0                  0                  0  \n",
       "1                  0                  0  \n",
       "2                  0                  0  \n",
       "\n",
       "[3 rows x 62 columns]"
      ]
     },
     "execution_count": 48,
     "metadata": {},
     "output_type": "execute_result"
    }
   ],
   "source": [
    "# Пропускаем исходные данные через сконструированный выше pipeline.\n",
    "# Результат будем использовать для обучения моделей.\n",
    "\n",
    "# Загружаем данные из файла (для надежности)\n",
    "df = load_dataset()\n",
    "data_for_model = data_pipeline.fit_transform(df)\n",
    "\n",
    "# сохраним результаты очищенного датасета в виртуальное окружение -\n",
    "# при необходимости сохраните на локальный диск вручную\n",
    "data_for_model.to_excel(f'{ROOT_PATH}/data/processed/data_for_model_few_features.xlsx', index=False)\n",
    "data_for_model.head(3)"
   ]
  },
  {
   "cell_type": "markdown",
   "metadata": {
    "id": "74WSRFTWOF5f"
   },
   "source": [
    "# Построение модели"
   ]
  },
  {
   "cell_type": "code",
   "execution_count": 54,
   "metadata": {
    "ExecuteTime": {
     "end_time": "2023-10-03T14:45:06.158803Z",
     "start_time": "2023-10-03T14:45:06.150769Z"
    },
    "id": "AfO2AGdP__D0"
   },
   "outputs": [],
   "source": [
    "def stratified_split(df, stratify_column='id', test_size=0.2, random_state=None):\n",
    "    # Получаем уникальные значения\n",
    "    unique_ids = df[stratify_column].unique()\n",
    "\n",
    "    # Разделяем уникальные значения на train и test\n",
    "    train_ids, test_ids = train_test_split(unique_ids, test_size=test_size, random_state=random_state)\n",
    "\n",
    "    # Разделяем датафрейм на основе id\n",
    "    train_df = df[df[stratify_column].isin(train_ids)]\n",
    "    test_df = df[df[stratify_column].isin(test_ids)]\n",
    "\n",
    "    return train_df, test_df"
   ]
  },
  {
   "cell_type": "code",
   "execution_count": 55,
   "metadata": {
    "ExecuteTime": {
     "end_time": "2023-10-03T14:45:14.979906Z",
     "start_time": "2023-10-03T14:45:14.956329Z"
    },
    "id": "p2AcdRJ8w8i3"
   },
   "outputs": [],
   "source": [
    "def stratified_patient_split(df, stratify_column='id', target_column='dose', *, n_bins=4, test_size=0.2, random_state=None):\n",
    "    \"\"\"\n",
    "    Функция разбивает датафрейм на обучающий и тестовый наборы с учетом стратификации по медианным значениям целевой переменной каждого уникального элемента в столбце stratify_column.\n",
    "\n",
    "    Параметры:\n",
    "    - df (pd.DataFrame): исходный датафрейм\n",
    "    - stratify_column (str): имя столбца, по уникальным значениям которого будет вычисляться медиана целевой переменной для стратификации\n",
    "    - target_column (str): имя целевого столбца, по которому будет осуществляться стратификация\n",
    "    - n_bins (int): количество интервалов для разделения медианных значений целевой переменной\n",
    "    - test_size (float): доля данных, которая будет использоваться для тестового набора\n",
    "    - random_state (int): seed для случайности при разбиении\n",
    "\n",
    "    Возвращает:\n",
    "    - train_df (pd.DataFrame): обучающий датафрейм\n",
    "    - test_df (pd.DataFrame): тестовый датафрейм\n",
    "    \"\"\"\n",
    "    # 1. Вычисляем медианное значение целевой переменной (target_column) для каждого пациента (stratify_column)\n",
    "    # patient_medians - объект Series из pandas, где  индекс это ID пациента (значения из столбца stratify_column),\n",
    "    # а значение — медианные значения дозы для каждого пациента из столбца target_column.\n",
    "    patient_medians = df.groupby(stratify_column)[target_column].median()\n",
    "\n",
    "    # 2. Определяем границы интервалов с учетом минимального и максимального значений целевой переменной (target_column)\n",
    "    # отрезок между минимальной и максимальной дозой разбивается на равные интервалы в количестве n_bins. bins - массив с границами интервалов\n",
    "    bins = np.linspace(df[target_column].min(), df[target_column].max(), n_bins + 1)\n",
    "\n",
    "    # 3. Классифицируем медианные значения целевой переменной (target_column) по интервалам\n",
    "    # binned_medians — объект Series, где: Индекс это ID пациента (stratify_column), а значение — это номер интервала, в который попало медианное значение для данного ID.\n",
    "    binned_medians = pd.cut(patient_medians, bins, labels=False, include_lowest=True)\n",
    "\n",
    "    # Особенность pd.cut - если количество интервалов большое, то в часть из них может не попасть ни одно значение или попасть только одно.\n",
    "    # И то и другое не позволяет осуществлять стратификацию с помощью  train_test_split, поскольку в каждом интервале требуется не менее двух значений для обучающей и тестовоы выборок\n",
    "    # Нижеследующий код до #4. направлен на поиск таких интервалов и присоединение их к соседним, имеющим больше одного значения\n",
    "\n",
    "    # Рассчитываем количество пациентов в каждом интервале\n",
    "    bin_counts = binned_medians.value_counts() #.value_counts() - это метод для объектов Series в pandas. Он подсчитывает, сколько раз каждое уникальное значение встречается в Series\n",
    "    print(\"Пациентов в интервале:\", bin_counts)\n",
    "\n",
    "    # Если есть интервалы без пациентов. то присваиваем такому интервалу (с индексом i) значение 0\n",
    "    for i in range(n_bins):\n",
    "        if i not in bin_counts:\n",
    "            bin_counts = pd.concat([bin_counts, pd.Series([0], index=[i])])\n",
    "\n",
    "    # Находим проблемные интервалы, где меньше двух пациентов.\n",
    "    problematic_bins = bin_counts[bin_counts < 2].index.tolist()\n",
    "    print('Проблемные интервалы', problematic_bins)\n",
    "\n",
    "    # Для каждого проблемного интервала пытаемся найти ближайший интервал с более чем одним пациентом\n",
    "    for bin_num in problematic_bins:\n",
    "        # Переменная для определения расстояния до проверяемого соседнего интервала\n",
    "        dist = 1\n",
    "        while True:\n",
    "            lower_bin = bin_num - dist\n",
    "            upper_bin = bin_num + dist\n",
    "            # Если соседний интервал имеет более чем одного пациента, присваиваем проблемному интервалу номер соседнего интервала (объединяем интервалы)\n",
    "            if lower_bin in bin_counts and bin_counts[lower_bin] > 1:\n",
    "                binned_medians[binned_medians == bin_num] = lower_bin\n",
    "                break\n",
    "            elif upper_bin in bin_counts and bin_counts[upper_bin] > 1:\n",
    "                binned_medians[binned_medians == bin_num] = upper_bin\n",
    "                break\n",
    "            # Увеличиваем расстояние, чтобы проверить следующие интервалы, если соседние не подошли по условиям\n",
    "            dist += 1\n",
    "\n",
    "    # Перерасчитываем количество пациентов в каждом интервале после переназначения проблемных интервалов\n",
    "    bin_counts = binned_medians.value_counts()\n",
    "    print(\"Пациентов в интервале после переназначения проблемных интервалов: \", bin_counts)\n",
    "\n",
    "    # 4. Разделяем перечень уникальных ID пациентов на обучающую и тестовую выборки с учетом стратификации на основе интервалов по медианным значениям целевой переменной\n",
    "    # в обучающую и тестовую выборки попадут пропорциональные значению test_size количества ID из каждого интервала binned_medians\n",
    "    train_ids, test_ids = train_test_split(binned_medians.index, test_size=test_size, stratify=binned_medians, random_state=random_state)\n",
    "\n",
    "    # 5. Разделяем исходный датафрейм на основе полученных выборок ID пациентов\n",
    "    train_df = df[df[stratify_column].isin(train_ids)]\n",
    "    test_df = df[df[stratify_column].isin(test_ids)]\n",
    "\n",
    "    return train_df, test_df"
   ]
  },
  {
   "cell_type": "code",
   "execution_count": 85,
   "metadata": {
    "ExecuteTime": {
     "end_time": "2023-10-03T15:15:30.749668Z",
     "start_time": "2023-10-03T15:15:30.727253Z"
    }
   },
   "outputs": [],
   "source": [
    "import pandas as pd\n",
    "from sklearn.model_selection import train_test_split\n",
    "\n",
    "def qcut_split(df, target_column='dose', *, n_bins=4, test_size=0.2, random_state=42):\n",
    "    \"\"\"\n",
    "    Функция разбивает датафрейм на обучающий и тестовый наборы с учетом стратификации по квантильным значениям целевой переменной.\n",
    "\n",
    "    Параметры:\n",
    "    - df (pd.DataFrame): исходный датафрейм\n",
    "    - target_column (str): имя целевого столбца, по которому будет осуществляться стратификация\n",
    "    - n_bins (int): количество интервалов для разделения квантильных значений целевой переменной\n",
    "    - test_size (float): доля данных, которая будет использоваться для тестового набора\n",
    "\n",
    "\n",
    "    Возвращает:\n",
    "    - train_df (pd.DataFrame): обучающий датафрейм\n",
    "    - test_df (pd.DataFrame): тестовый датафрейм\n",
    "    \"\"\"\n",
    "\n",
    "    # Классификация значений целевой переменной (target_column) по квантилям\n",
    "    binned_target, bins = pd.qcut(df[target_column], q=n_bins, labels=False, duplicates='drop', retbins=True)\n",
    "\n",
    "    # границы интервалов\n",
    "    print(\"Границы интервалов: \", bins)\n",
    "\n",
    "\n",
    "    # Разбивка индексов датафрейма на обучающую и тестовую выборки с учетом стратификации по квантильным интервалам целевой переменной\n",
    "    train_idx, test_idx = train_test_split(df.index, test_size=test_size, stratify=binned_target, random_state=random_state)\n",
    "\n",
    "    # Разбиение исходного датафрейма на обучающий и тестовый наборы на основе полученных индексов\n",
    "    train_df = df.loc[train_idx]\n",
    "    test_df = df.loc[test_idx]\n",
    "\n",
    "    return train_df, test_df"
   ]
  },
  {
   "cell_type": "code",
   "execution_count": 56,
   "metadata": {
    "ExecuteTime": {
     "end_time": "2023-10-03T14:47:20.972506Z",
     "start_time": "2023-10-03T14:47:20.962940Z"
    },
    "id": "zDAmY-QYS-yk"
   },
   "outputs": [],
   "source": [
    "class Experiment:\n",
    "    \"\"\"\n",
    "    Общая схема проведения эксперимента.\n",
    "        конструктор - определяем конвейер, через который будем пропускать данные\n",
    "        run(df)     - подаем данные и начинаем эксперимент, собирая метрики\n",
    "        result      - получаем результат\n",
    "    \"\"\"\n",
    "\n",
    "    def __init__(self, name, pipeline):\n",
    "        self.name = name\n",
    "        self.pipeline = pipeline\n",
    "        self.result = {}\n",
    "\n",
    "    def __repr__(self):\n",
    "        return f'<{self.name}>'\n",
    "\n",
    "    def run(self, df):\n",
    "        # Разделение исходного датафрейма с использованием stratified_split\n",
    "        train_df, test_df = stratified_patient_split(df, random_state=42)\n",
    "\n",
    "        # Извлечение X и y из train_df и test_df\n",
    "        X_train = train_df.drop('dose', axis=1)\n",
    "        y_train = train_df['dose']\n",
    "\n",
    "        X_test = test_df.drop('dose', axis=1)\n",
    "        y_test = test_df['dose']\n",
    "\n",
    "        self.pipeline.fit(X_train, y_train)\n",
    "\n",
    "        y_pred_train = self.pipeline.predict(X_train)\n",
    "        y_pred_test = self.pipeline.predict(X_test)\n",
    "\n",
    "        self.result = dict(\n",
    "            train=self._calculate_metrics(y_pred_train, y_train),\n",
    "            test=self._calculate_metrics(y_pred_test, y_test),\n",
    "        )\n",
    "\n",
    "    @staticmethod\n",
    "    def _calculate_metrics(y_pred, y_true):\n",
    "        return {\n",
    "            'Mean Squared Error': mean_squared_error(y_pred, y_true),\n",
    "            'R^2': r2_score(y_true, y_pred),\n",
    "            'MAPE': (abs((y_true - y_pred) / y_true).mean()) * 100,\n",
    "            'MAE': mean_absolute_error(y_true, y_pred),\n",
    "            'Average Percent Deviation': (abs((y_true - y_pred) / y_true.mean()) * 100).mean(),\n",
    "        }"
   ]
  },
  {
   "cell_type": "markdown",
   "metadata": {
    "id": "RcicbDKjaZq_"
   },
   "source": [
    "## Описания экспериментов, которые собираемся провести"
   ]
  },
  {
   "cell_type": "code",
   "execution_count": 57,
   "metadata": {
    "ExecuteTime": {
     "end_time": "2023-10-03T14:47:29.660774Z",
     "start_time": "2023-10-03T14:47:29.650430Z"
    },
    "id": "XiTkqCuTWmoP"
   },
   "outputs": [],
   "source": [
    "experiments = {}  # {имя: эксперимент} - для удобства, так легче заменить эксперимент"
   ]
  },
  {
   "cell_type": "code",
   "execution_count": 58,
   "metadata": {
    "ExecuteTime": {
     "end_time": "2023-10-03T14:47:35.399274Z",
     "start_time": "2023-10-03T14:47:35.371186Z"
    },
    "colab": {
     "base_uri": "https://localhost:8080/",
     "height": 91
    },
    "id": "Y4kq8nzrsuf0",
    "outputId": "90560706-2d58-4a9b-9c4a-08dd5cdb37d0"
   },
   "outputs": [
    {
     "data": {
      "text/html": [
       "<style>#sk-container-id-6 {color: black;background-color: white;}#sk-container-id-6 pre{padding: 0;}#sk-container-id-6 div.sk-toggleable {background-color: white;}#sk-container-id-6 label.sk-toggleable__label {cursor: pointer;display: block;width: 100%;margin-bottom: 0;padding: 0.3em;box-sizing: border-box;text-align: center;}#sk-container-id-6 label.sk-toggleable__label-arrow:before {content: \"▸\";float: left;margin-right: 0.25em;color: #696969;}#sk-container-id-6 label.sk-toggleable__label-arrow:hover:before {color: black;}#sk-container-id-6 div.sk-estimator:hover label.sk-toggleable__label-arrow:before {color: black;}#sk-container-id-6 div.sk-toggleable__content {max-height: 0;max-width: 0;overflow: hidden;text-align: left;background-color: #f0f8ff;}#sk-container-id-6 div.sk-toggleable__content pre {margin: 0.2em;color: black;border-radius: 0.25em;background-color: #f0f8ff;}#sk-container-id-6 input.sk-toggleable__control:checked~div.sk-toggleable__content {max-height: 200px;max-width: 100%;overflow: auto;}#sk-container-id-6 input.sk-toggleable__control:checked~label.sk-toggleable__label-arrow:before {content: \"▾\";}#sk-container-id-6 div.sk-estimator input.sk-toggleable__control:checked~label.sk-toggleable__label {background-color: #d4ebff;}#sk-container-id-6 div.sk-label input.sk-toggleable__control:checked~label.sk-toggleable__label {background-color: #d4ebff;}#sk-container-id-6 input.sk-hidden--visually {border: 0;clip: rect(1px 1px 1px 1px);clip: rect(1px, 1px, 1px, 1px);height: 1px;margin: -1px;overflow: hidden;padding: 0;position: absolute;width: 1px;}#sk-container-id-6 div.sk-estimator {font-family: monospace;background-color: #f0f8ff;border: 1px dotted black;border-radius: 0.25em;box-sizing: border-box;margin-bottom: 0.5em;}#sk-container-id-6 div.sk-estimator:hover {background-color: #d4ebff;}#sk-container-id-6 div.sk-parallel-item::after {content: \"\";width: 100%;border-bottom: 1px solid gray;flex-grow: 1;}#sk-container-id-6 div.sk-label:hover label.sk-toggleable__label {background-color: #d4ebff;}#sk-container-id-6 div.sk-serial::before {content: \"\";position: absolute;border-left: 1px solid gray;box-sizing: border-box;top: 0;bottom: 0;left: 50%;z-index: 0;}#sk-container-id-6 div.sk-serial {display: flex;flex-direction: column;align-items: center;background-color: white;padding-right: 0.2em;padding-left: 0.2em;position: relative;}#sk-container-id-6 div.sk-item {position: relative;z-index: 1;}#sk-container-id-6 div.sk-parallel {display: flex;align-items: stretch;justify-content: center;background-color: white;position: relative;}#sk-container-id-6 div.sk-item::before, #sk-container-id-6 div.sk-parallel-item::before {content: \"\";position: absolute;border-left: 1px solid gray;box-sizing: border-box;top: 0;bottom: 0;left: 50%;z-index: -1;}#sk-container-id-6 div.sk-parallel-item {display: flex;flex-direction: column;z-index: 1;position: relative;background-color: white;}#sk-container-id-6 div.sk-parallel-item:first-child::after {align-self: flex-end;width: 50%;}#sk-container-id-6 div.sk-parallel-item:last-child::after {align-self: flex-start;width: 50%;}#sk-container-id-6 div.sk-parallel-item:only-child::after {width: 0;}#sk-container-id-6 div.sk-dashed-wrapped {border: 1px dashed gray;margin: 0 0.4em 0.5em 0.4em;box-sizing: border-box;padding-bottom: 0.4em;background-color: white;}#sk-container-id-6 div.sk-label label {font-family: monospace;font-weight: bold;display: inline-block;line-height: 1.2em;}#sk-container-id-6 div.sk-label-container {text-align: center;}#sk-container-id-6 div.sk-container {/* jupyter's `normalize.less` sets `[hidden] { display: none; }` but bootstrap.min.css set `[hidden] { display: none !important; }` so we also need the `!important` here to be able to override the default hidden behavior on the sphinx rendered scikit-learn.org. See: https://github.com/scikit-learn/scikit-learn/issues/21755 */display: inline-block !important;position: relative;}#sk-container-id-6 div.sk-text-repr-fallback {display: none;}</style><div id=\"sk-container-id-6\" class=\"sk-top-container\"><div class=\"sk-text-repr-fallback\"><pre>Pipeline(steps=[(&#x27;XGB&#x27;,\n",
       "                 XGBRegressor(base_score=None, booster=None, callbacks=None,\n",
       "                              colsample_bylevel=None, colsample_bynode=None,\n",
       "                              colsample_bytree=None, early_stopping_rounds=None,\n",
       "                              enable_categorical=False, eval_metric=None,\n",
       "                              feature_types=None, gamma=None, gpu_id=None,\n",
       "                              grow_policy=None, importance_type=None,\n",
       "                              interaction_constraints=None, learning_rate=None,\n",
       "                              max_bin=None, max_cat_threshold=None,\n",
       "                              max_cat_to_onehot=None, max_delta_step=None,\n",
       "                              max_depth=None, max_leaves=None,\n",
       "                              min_child_weight=None, missing=nan,\n",
       "                              monotone_constraints=None, n_estimators=100,\n",
       "                              n_jobs=None, num_parallel_tree=None,\n",
       "                              predictor=None, random_state=None, ...))])</pre><b>In a Jupyter environment, please rerun this cell to show the HTML representation or trust the notebook. <br />On GitHub, the HTML representation is unable to render, please try loading this page with nbviewer.org.</b></div><div class=\"sk-container\" hidden><div class=\"sk-item sk-dashed-wrapped\"><div class=\"sk-label-container\"><div class=\"sk-label sk-toggleable\"><input class=\"sk-toggleable__control sk-hidden--visually\" id=\"sk-estimator-id-59\" type=\"checkbox\" ><label for=\"sk-estimator-id-59\" class=\"sk-toggleable__label sk-toggleable__label-arrow\">Pipeline</label><div class=\"sk-toggleable__content\"><pre>Pipeline(steps=[(&#x27;XGB&#x27;,\n",
       "                 XGBRegressor(base_score=None, booster=None, callbacks=None,\n",
       "                              colsample_bylevel=None, colsample_bynode=None,\n",
       "                              colsample_bytree=None, early_stopping_rounds=None,\n",
       "                              enable_categorical=False, eval_metric=None,\n",
       "                              feature_types=None, gamma=None, gpu_id=None,\n",
       "                              grow_policy=None, importance_type=None,\n",
       "                              interaction_constraints=None, learning_rate=None,\n",
       "                              max_bin=None, max_cat_threshold=None,\n",
       "                              max_cat_to_onehot=None, max_delta_step=None,\n",
       "                              max_depth=None, max_leaves=None,\n",
       "                              min_child_weight=None, missing=nan,\n",
       "                              monotone_constraints=None, n_estimators=100,\n",
       "                              n_jobs=None, num_parallel_tree=None,\n",
       "                              predictor=None, random_state=None, ...))])</pre></div></div></div><div class=\"sk-serial\"><div class=\"sk-item\"><div class=\"sk-estimator sk-toggleable\"><input class=\"sk-toggleable__control sk-hidden--visually\" id=\"sk-estimator-id-60\" type=\"checkbox\" ><label for=\"sk-estimator-id-60\" class=\"sk-toggleable__label sk-toggleable__label-arrow\">XGBRegressor</label><div class=\"sk-toggleable__content\"><pre>XGBRegressor(base_score=None, booster=None, callbacks=None,\n",
       "             colsample_bylevel=None, colsample_bynode=None,\n",
       "             colsample_bytree=None, early_stopping_rounds=None,\n",
       "             enable_categorical=False, eval_metric=None, feature_types=None,\n",
       "             gamma=None, gpu_id=None, grow_policy=None, importance_type=None,\n",
       "             interaction_constraints=None, learning_rate=None, max_bin=None,\n",
       "             max_cat_threshold=None, max_cat_to_onehot=None,\n",
       "             max_delta_step=None, max_depth=None, max_leaves=None,\n",
       "             min_child_weight=None, missing=nan, monotone_constraints=None,\n",
       "             n_estimators=100, n_jobs=None, num_parallel_tree=None,\n",
       "             predictor=None, random_state=None, ...)</pre></div></div></div></div></div></div></div>"
      ],
      "text/plain": [
       "Pipeline(steps=[('XGB',\n",
       "                 XGBRegressor(base_score=None, booster=None, callbacks=None,\n",
       "                              colsample_bylevel=None, colsample_bynode=None,\n",
       "                              colsample_bytree=None, early_stopping_rounds=None,\n",
       "                              enable_categorical=False, eval_metric=None,\n",
       "                              feature_types=None, gamma=None, gpu_id=None,\n",
       "                              grow_policy=None, importance_type=None,\n",
       "                              interaction_constraints=None, learning_rate=None,\n",
       "                              max_bin=None, max_cat_threshold=None,\n",
       "                              max_cat_to_onehot=None, max_delta_step=None,\n",
       "                              max_depth=None, max_leaves=None,\n",
       "                              min_child_weight=None, missing=nan,\n",
       "                              monotone_constraints=None, n_estimators=100,\n",
       "                              n_jobs=None, num_parallel_tree=None,\n",
       "                              predictor=None, random_state=None, ...))])"
      ]
     },
     "execution_count": 58,
     "metadata": {},
     "output_type": "execute_result"
    }
   ],
   "source": [
    "exp = Experiment('XGBoost', Pipeline([\n",
    "    ('XGB', xgb.XGBRegressor(objective ='reg:squarederror')),\n",
    "]))\n",
    "experiments[exp.name] = exp\n",
    "\n",
    "exp.pipeline"
   ]
  },
  {
   "cell_type": "code",
   "execution_count": 59,
   "metadata": {
    "ExecuteTime": {
     "end_time": "2023-10-03T14:48:33.367121Z",
     "start_time": "2023-10-03T14:48:33.347868Z"
    },
    "colab": {
     "base_uri": "https://localhost:8080/",
     "height": 91
    },
    "id": "Xbvawv-vkv5L",
    "outputId": "c9399246-2a78-44a1-ec61-ff5e3378fca5"
   },
   "outputs": [
    {
     "data": {
      "text/html": [
       "<style>#sk-container-id-7 {color: black;background-color: white;}#sk-container-id-7 pre{padding: 0;}#sk-container-id-7 div.sk-toggleable {background-color: white;}#sk-container-id-7 label.sk-toggleable__label {cursor: pointer;display: block;width: 100%;margin-bottom: 0;padding: 0.3em;box-sizing: border-box;text-align: center;}#sk-container-id-7 label.sk-toggleable__label-arrow:before {content: \"▸\";float: left;margin-right: 0.25em;color: #696969;}#sk-container-id-7 label.sk-toggleable__label-arrow:hover:before {color: black;}#sk-container-id-7 div.sk-estimator:hover label.sk-toggleable__label-arrow:before {color: black;}#sk-container-id-7 div.sk-toggleable__content {max-height: 0;max-width: 0;overflow: hidden;text-align: left;background-color: #f0f8ff;}#sk-container-id-7 div.sk-toggleable__content pre {margin: 0.2em;color: black;border-radius: 0.25em;background-color: #f0f8ff;}#sk-container-id-7 input.sk-toggleable__control:checked~div.sk-toggleable__content {max-height: 200px;max-width: 100%;overflow: auto;}#sk-container-id-7 input.sk-toggleable__control:checked~label.sk-toggleable__label-arrow:before {content: \"▾\";}#sk-container-id-7 div.sk-estimator input.sk-toggleable__control:checked~label.sk-toggleable__label {background-color: #d4ebff;}#sk-container-id-7 div.sk-label input.sk-toggleable__control:checked~label.sk-toggleable__label {background-color: #d4ebff;}#sk-container-id-7 input.sk-hidden--visually {border: 0;clip: rect(1px 1px 1px 1px);clip: rect(1px, 1px, 1px, 1px);height: 1px;margin: -1px;overflow: hidden;padding: 0;position: absolute;width: 1px;}#sk-container-id-7 div.sk-estimator {font-family: monospace;background-color: #f0f8ff;border: 1px dotted black;border-radius: 0.25em;box-sizing: border-box;margin-bottom: 0.5em;}#sk-container-id-7 div.sk-estimator:hover {background-color: #d4ebff;}#sk-container-id-7 div.sk-parallel-item::after {content: \"\";width: 100%;border-bottom: 1px solid gray;flex-grow: 1;}#sk-container-id-7 div.sk-label:hover label.sk-toggleable__label {background-color: #d4ebff;}#sk-container-id-7 div.sk-serial::before {content: \"\";position: absolute;border-left: 1px solid gray;box-sizing: border-box;top: 0;bottom: 0;left: 50%;z-index: 0;}#sk-container-id-7 div.sk-serial {display: flex;flex-direction: column;align-items: center;background-color: white;padding-right: 0.2em;padding-left: 0.2em;position: relative;}#sk-container-id-7 div.sk-item {position: relative;z-index: 1;}#sk-container-id-7 div.sk-parallel {display: flex;align-items: stretch;justify-content: center;background-color: white;position: relative;}#sk-container-id-7 div.sk-item::before, #sk-container-id-7 div.sk-parallel-item::before {content: \"\";position: absolute;border-left: 1px solid gray;box-sizing: border-box;top: 0;bottom: 0;left: 50%;z-index: -1;}#sk-container-id-7 div.sk-parallel-item {display: flex;flex-direction: column;z-index: 1;position: relative;background-color: white;}#sk-container-id-7 div.sk-parallel-item:first-child::after {align-self: flex-end;width: 50%;}#sk-container-id-7 div.sk-parallel-item:last-child::after {align-self: flex-start;width: 50%;}#sk-container-id-7 div.sk-parallel-item:only-child::after {width: 0;}#sk-container-id-7 div.sk-dashed-wrapped {border: 1px dashed gray;margin: 0 0.4em 0.5em 0.4em;box-sizing: border-box;padding-bottom: 0.4em;background-color: white;}#sk-container-id-7 div.sk-label label {font-family: monospace;font-weight: bold;display: inline-block;line-height: 1.2em;}#sk-container-id-7 div.sk-label-container {text-align: center;}#sk-container-id-7 div.sk-container {/* jupyter's `normalize.less` sets `[hidden] { display: none; }` but bootstrap.min.css set `[hidden] { display: none !important; }` so we also need the `!important` here to be able to override the default hidden behavior on the sphinx rendered scikit-learn.org. See: https://github.com/scikit-learn/scikit-learn/issues/21755 */display: inline-block !important;position: relative;}#sk-container-id-7 div.sk-text-repr-fallback {display: none;}</style><div id=\"sk-container-id-7\" class=\"sk-top-container\"><div class=\"sk-text-repr-fallback\"><pre>Pipeline(steps=[(&#x27;KNN&#x27;, KNeighborsRegressor())])</pre><b>In a Jupyter environment, please rerun this cell to show the HTML representation or trust the notebook. <br />On GitHub, the HTML representation is unable to render, please try loading this page with nbviewer.org.</b></div><div class=\"sk-container\" hidden><div class=\"sk-item sk-dashed-wrapped\"><div class=\"sk-label-container\"><div class=\"sk-label sk-toggleable\"><input class=\"sk-toggleable__control sk-hidden--visually\" id=\"sk-estimator-id-61\" type=\"checkbox\" ><label for=\"sk-estimator-id-61\" class=\"sk-toggleable__label sk-toggleable__label-arrow\">Pipeline</label><div class=\"sk-toggleable__content\"><pre>Pipeline(steps=[(&#x27;KNN&#x27;, KNeighborsRegressor())])</pre></div></div></div><div class=\"sk-serial\"><div class=\"sk-item\"><div class=\"sk-estimator sk-toggleable\"><input class=\"sk-toggleable__control sk-hidden--visually\" id=\"sk-estimator-id-62\" type=\"checkbox\" ><label for=\"sk-estimator-id-62\" class=\"sk-toggleable__label sk-toggleable__label-arrow\">KNeighborsRegressor</label><div class=\"sk-toggleable__content\"><pre>KNeighborsRegressor()</pre></div></div></div></div></div></div></div>"
      ],
      "text/plain": [
       "Pipeline(steps=[('KNN', KNeighborsRegressor())])"
      ]
     },
     "execution_count": 59,
     "metadata": {},
     "output_type": "execute_result"
    }
   ],
   "source": [
    "exp = Experiment('K Neighbors', Pipeline([\n",
    "    ('KNN', KNeighborsRegressor()),\n",
    "]))\n",
    "experiments[exp.name] = exp\n",
    "\n",
    "exp.pipeline"
   ]
  },
  {
   "cell_type": "code",
   "execution_count": 60,
   "metadata": {
    "ExecuteTime": {
     "end_time": "2023-10-03T14:48:37.023087Z",
     "start_time": "2023-10-03T14:48:37.003781Z"
    },
    "colab": {
     "base_uri": "https://localhost:8080/",
     "height": 91
    },
    "id": "E68lhlZneA4Z",
    "outputId": "387ffac3-bac2-4db2-cbee-b21b778496a5"
   },
   "outputs": [
    {
     "data": {
      "text/html": [
       "<style>#sk-container-id-8 {color: black;background-color: white;}#sk-container-id-8 pre{padding: 0;}#sk-container-id-8 div.sk-toggleable {background-color: white;}#sk-container-id-8 label.sk-toggleable__label {cursor: pointer;display: block;width: 100%;margin-bottom: 0;padding: 0.3em;box-sizing: border-box;text-align: center;}#sk-container-id-8 label.sk-toggleable__label-arrow:before {content: \"▸\";float: left;margin-right: 0.25em;color: #696969;}#sk-container-id-8 label.sk-toggleable__label-arrow:hover:before {color: black;}#sk-container-id-8 div.sk-estimator:hover label.sk-toggleable__label-arrow:before {color: black;}#sk-container-id-8 div.sk-toggleable__content {max-height: 0;max-width: 0;overflow: hidden;text-align: left;background-color: #f0f8ff;}#sk-container-id-8 div.sk-toggleable__content pre {margin: 0.2em;color: black;border-radius: 0.25em;background-color: #f0f8ff;}#sk-container-id-8 input.sk-toggleable__control:checked~div.sk-toggleable__content {max-height: 200px;max-width: 100%;overflow: auto;}#sk-container-id-8 input.sk-toggleable__control:checked~label.sk-toggleable__label-arrow:before {content: \"▾\";}#sk-container-id-8 div.sk-estimator input.sk-toggleable__control:checked~label.sk-toggleable__label {background-color: #d4ebff;}#sk-container-id-8 div.sk-label input.sk-toggleable__control:checked~label.sk-toggleable__label {background-color: #d4ebff;}#sk-container-id-8 input.sk-hidden--visually {border: 0;clip: rect(1px 1px 1px 1px);clip: rect(1px, 1px, 1px, 1px);height: 1px;margin: -1px;overflow: hidden;padding: 0;position: absolute;width: 1px;}#sk-container-id-8 div.sk-estimator {font-family: monospace;background-color: #f0f8ff;border: 1px dotted black;border-radius: 0.25em;box-sizing: border-box;margin-bottom: 0.5em;}#sk-container-id-8 div.sk-estimator:hover {background-color: #d4ebff;}#sk-container-id-8 div.sk-parallel-item::after {content: \"\";width: 100%;border-bottom: 1px solid gray;flex-grow: 1;}#sk-container-id-8 div.sk-label:hover label.sk-toggleable__label {background-color: #d4ebff;}#sk-container-id-8 div.sk-serial::before {content: \"\";position: absolute;border-left: 1px solid gray;box-sizing: border-box;top: 0;bottom: 0;left: 50%;z-index: 0;}#sk-container-id-8 div.sk-serial {display: flex;flex-direction: column;align-items: center;background-color: white;padding-right: 0.2em;padding-left: 0.2em;position: relative;}#sk-container-id-8 div.sk-item {position: relative;z-index: 1;}#sk-container-id-8 div.sk-parallel {display: flex;align-items: stretch;justify-content: center;background-color: white;position: relative;}#sk-container-id-8 div.sk-item::before, #sk-container-id-8 div.sk-parallel-item::before {content: \"\";position: absolute;border-left: 1px solid gray;box-sizing: border-box;top: 0;bottom: 0;left: 50%;z-index: -1;}#sk-container-id-8 div.sk-parallel-item {display: flex;flex-direction: column;z-index: 1;position: relative;background-color: white;}#sk-container-id-8 div.sk-parallel-item:first-child::after {align-self: flex-end;width: 50%;}#sk-container-id-8 div.sk-parallel-item:last-child::after {align-self: flex-start;width: 50%;}#sk-container-id-8 div.sk-parallel-item:only-child::after {width: 0;}#sk-container-id-8 div.sk-dashed-wrapped {border: 1px dashed gray;margin: 0 0.4em 0.5em 0.4em;box-sizing: border-box;padding-bottom: 0.4em;background-color: white;}#sk-container-id-8 div.sk-label label {font-family: monospace;font-weight: bold;display: inline-block;line-height: 1.2em;}#sk-container-id-8 div.sk-label-container {text-align: center;}#sk-container-id-8 div.sk-container {/* jupyter's `normalize.less` sets `[hidden] { display: none; }` but bootstrap.min.css set `[hidden] { display: none !important; }` so we also need the `!important` here to be able to override the default hidden behavior on the sphinx rendered scikit-learn.org. See: https://github.com/scikit-learn/scikit-learn/issues/21755 */display: inline-block !important;position: relative;}#sk-container-id-8 div.sk-text-repr-fallback {display: none;}</style><div id=\"sk-container-id-8\" class=\"sk-top-container\"><div class=\"sk-text-repr-fallback\"><pre>Pipeline(steps=[(&#x27;LR&#x27;, LinearRegression())])</pre><b>In a Jupyter environment, please rerun this cell to show the HTML representation or trust the notebook. <br />On GitHub, the HTML representation is unable to render, please try loading this page with nbviewer.org.</b></div><div class=\"sk-container\" hidden><div class=\"sk-item sk-dashed-wrapped\"><div class=\"sk-label-container\"><div class=\"sk-label sk-toggleable\"><input class=\"sk-toggleable__control sk-hidden--visually\" id=\"sk-estimator-id-63\" type=\"checkbox\" ><label for=\"sk-estimator-id-63\" class=\"sk-toggleable__label sk-toggleable__label-arrow\">Pipeline</label><div class=\"sk-toggleable__content\"><pre>Pipeline(steps=[(&#x27;LR&#x27;, LinearRegression())])</pre></div></div></div><div class=\"sk-serial\"><div class=\"sk-item\"><div class=\"sk-estimator sk-toggleable\"><input class=\"sk-toggleable__control sk-hidden--visually\" id=\"sk-estimator-id-64\" type=\"checkbox\" ><label for=\"sk-estimator-id-64\" class=\"sk-toggleable__label sk-toggleable__label-arrow\">LinearRegression</label><div class=\"sk-toggleable__content\"><pre>LinearRegression()</pre></div></div></div></div></div></div></div>"
      ],
      "text/plain": [
       "Pipeline(steps=[('LR', LinearRegression())])"
      ]
     },
     "execution_count": 60,
     "metadata": {},
     "output_type": "execute_result"
    }
   ],
   "source": [
    "exp = Experiment('Linear Regression', Pipeline([\n",
    "    ('LR', LinearRegression()),\n",
    "]))\n",
    "experiments[exp.name] = exp\n",
    "\n",
    "exp.pipeline"
   ]
  },
  {
   "cell_type": "code",
   "execution_count": 61,
   "metadata": {
    "ExecuteTime": {
     "end_time": "2023-10-03T14:48:38.886200Z",
     "start_time": "2023-10-03T14:48:38.867635Z"
    },
    "colab": {
     "base_uri": "https://localhost:8080/",
     "height": 91
    },
    "id": "FqLeIluLoBjL",
    "outputId": "e9618f34-ea7d-45fb-cadf-32c76098b726"
   },
   "outputs": [
    {
     "data": {
      "text/html": [
       "<style>#sk-container-id-9 {color: black;background-color: white;}#sk-container-id-9 pre{padding: 0;}#sk-container-id-9 div.sk-toggleable {background-color: white;}#sk-container-id-9 label.sk-toggleable__label {cursor: pointer;display: block;width: 100%;margin-bottom: 0;padding: 0.3em;box-sizing: border-box;text-align: center;}#sk-container-id-9 label.sk-toggleable__label-arrow:before {content: \"▸\";float: left;margin-right: 0.25em;color: #696969;}#sk-container-id-9 label.sk-toggleable__label-arrow:hover:before {color: black;}#sk-container-id-9 div.sk-estimator:hover label.sk-toggleable__label-arrow:before {color: black;}#sk-container-id-9 div.sk-toggleable__content {max-height: 0;max-width: 0;overflow: hidden;text-align: left;background-color: #f0f8ff;}#sk-container-id-9 div.sk-toggleable__content pre {margin: 0.2em;color: black;border-radius: 0.25em;background-color: #f0f8ff;}#sk-container-id-9 input.sk-toggleable__control:checked~div.sk-toggleable__content {max-height: 200px;max-width: 100%;overflow: auto;}#sk-container-id-9 input.sk-toggleable__control:checked~label.sk-toggleable__label-arrow:before {content: \"▾\";}#sk-container-id-9 div.sk-estimator input.sk-toggleable__control:checked~label.sk-toggleable__label {background-color: #d4ebff;}#sk-container-id-9 div.sk-label input.sk-toggleable__control:checked~label.sk-toggleable__label {background-color: #d4ebff;}#sk-container-id-9 input.sk-hidden--visually {border: 0;clip: rect(1px 1px 1px 1px);clip: rect(1px, 1px, 1px, 1px);height: 1px;margin: -1px;overflow: hidden;padding: 0;position: absolute;width: 1px;}#sk-container-id-9 div.sk-estimator {font-family: monospace;background-color: #f0f8ff;border: 1px dotted black;border-radius: 0.25em;box-sizing: border-box;margin-bottom: 0.5em;}#sk-container-id-9 div.sk-estimator:hover {background-color: #d4ebff;}#sk-container-id-9 div.sk-parallel-item::after {content: \"\";width: 100%;border-bottom: 1px solid gray;flex-grow: 1;}#sk-container-id-9 div.sk-label:hover label.sk-toggleable__label {background-color: #d4ebff;}#sk-container-id-9 div.sk-serial::before {content: \"\";position: absolute;border-left: 1px solid gray;box-sizing: border-box;top: 0;bottom: 0;left: 50%;z-index: 0;}#sk-container-id-9 div.sk-serial {display: flex;flex-direction: column;align-items: center;background-color: white;padding-right: 0.2em;padding-left: 0.2em;position: relative;}#sk-container-id-9 div.sk-item {position: relative;z-index: 1;}#sk-container-id-9 div.sk-parallel {display: flex;align-items: stretch;justify-content: center;background-color: white;position: relative;}#sk-container-id-9 div.sk-item::before, #sk-container-id-9 div.sk-parallel-item::before {content: \"\";position: absolute;border-left: 1px solid gray;box-sizing: border-box;top: 0;bottom: 0;left: 50%;z-index: -1;}#sk-container-id-9 div.sk-parallel-item {display: flex;flex-direction: column;z-index: 1;position: relative;background-color: white;}#sk-container-id-9 div.sk-parallel-item:first-child::after {align-self: flex-end;width: 50%;}#sk-container-id-9 div.sk-parallel-item:last-child::after {align-self: flex-start;width: 50%;}#sk-container-id-9 div.sk-parallel-item:only-child::after {width: 0;}#sk-container-id-9 div.sk-dashed-wrapped {border: 1px dashed gray;margin: 0 0.4em 0.5em 0.4em;box-sizing: border-box;padding-bottom: 0.4em;background-color: white;}#sk-container-id-9 div.sk-label label {font-family: monospace;font-weight: bold;display: inline-block;line-height: 1.2em;}#sk-container-id-9 div.sk-label-container {text-align: center;}#sk-container-id-9 div.sk-container {/* jupyter's `normalize.less` sets `[hidden] { display: none; }` but bootstrap.min.css set `[hidden] { display: none !important; }` so we also need the `!important` here to be able to override the default hidden behavior on the sphinx rendered scikit-learn.org. See: https://github.com/scikit-learn/scikit-learn/issues/21755 */display: inline-block !important;position: relative;}#sk-container-id-9 div.sk-text-repr-fallback {display: none;}</style><div id=\"sk-container-id-9\" class=\"sk-top-container\"><div class=\"sk-text-repr-fallback\"><pre>Pipeline(steps=[(&#x27;LGBM&#x27;, LGBMRegressor())])</pre><b>In a Jupyter environment, please rerun this cell to show the HTML representation or trust the notebook. <br />On GitHub, the HTML representation is unable to render, please try loading this page with nbviewer.org.</b></div><div class=\"sk-container\" hidden><div class=\"sk-item sk-dashed-wrapped\"><div class=\"sk-label-container\"><div class=\"sk-label sk-toggleable\"><input class=\"sk-toggleable__control sk-hidden--visually\" id=\"sk-estimator-id-65\" type=\"checkbox\" ><label for=\"sk-estimator-id-65\" class=\"sk-toggleable__label sk-toggleable__label-arrow\">Pipeline</label><div class=\"sk-toggleable__content\"><pre>Pipeline(steps=[(&#x27;LGBM&#x27;, LGBMRegressor())])</pre></div></div></div><div class=\"sk-serial\"><div class=\"sk-item\"><div class=\"sk-estimator sk-toggleable\"><input class=\"sk-toggleable__control sk-hidden--visually\" id=\"sk-estimator-id-66\" type=\"checkbox\" ><label for=\"sk-estimator-id-66\" class=\"sk-toggleable__label sk-toggleable__label-arrow\">LGBMRegressor</label><div class=\"sk-toggleable__content\"><pre>LGBMRegressor()</pre></div></div></div></div></div></div></div>"
      ],
      "text/plain": [
       "Pipeline(steps=[('LGBM', LGBMRegressor())])"
      ]
     },
     "execution_count": 61,
     "metadata": {},
     "output_type": "execute_result"
    }
   ],
   "source": [
    "exp = Experiment('LightGBM', Pipeline([\n",
    "    ('LGBM', LGBMRegressor()),\n",
    "]))\n",
    "experiments[exp.name] = exp\n",
    "\n",
    "exp.pipeline"
   ]
  },
  {
   "cell_type": "code",
   "execution_count": 62,
   "metadata": {
    "ExecuteTime": {
     "end_time": "2023-10-03T14:48:46.426284Z",
     "start_time": "2023-10-03T14:48:46.411995Z"
    },
    "colab": {
     "base_uri": "https://localhost:8080/",
     "height": 91
    },
    "id": "JCjLaa0xEKlz",
    "outputId": "362ae686-80cb-4937-f857-953d374be804"
   },
   "outputs": [
    {
     "data": {
      "text/html": [
       "<style>#sk-container-id-10 {color: black;background-color: white;}#sk-container-id-10 pre{padding: 0;}#sk-container-id-10 div.sk-toggleable {background-color: white;}#sk-container-id-10 label.sk-toggleable__label {cursor: pointer;display: block;width: 100%;margin-bottom: 0;padding: 0.3em;box-sizing: border-box;text-align: center;}#sk-container-id-10 label.sk-toggleable__label-arrow:before {content: \"▸\";float: left;margin-right: 0.25em;color: #696969;}#sk-container-id-10 label.sk-toggleable__label-arrow:hover:before {color: black;}#sk-container-id-10 div.sk-estimator:hover label.sk-toggleable__label-arrow:before {color: black;}#sk-container-id-10 div.sk-toggleable__content {max-height: 0;max-width: 0;overflow: hidden;text-align: left;background-color: #f0f8ff;}#sk-container-id-10 div.sk-toggleable__content pre {margin: 0.2em;color: black;border-radius: 0.25em;background-color: #f0f8ff;}#sk-container-id-10 input.sk-toggleable__control:checked~div.sk-toggleable__content {max-height: 200px;max-width: 100%;overflow: auto;}#sk-container-id-10 input.sk-toggleable__control:checked~label.sk-toggleable__label-arrow:before {content: \"▾\";}#sk-container-id-10 div.sk-estimator input.sk-toggleable__control:checked~label.sk-toggleable__label {background-color: #d4ebff;}#sk-container-id-10 div.sk-label input.sk-toggleable__control:checked~label.sk-toggleable__label {background-color: #d4ebff;}#sk-container-id-10 input.sk-hidden--visually {border: 0;clip: rect(1px 1px 1px 1px);clip: rect(1px, 1px, 1px, 1px);height: 1px;margin: -1px;overflow: hidden;padding: 0;position: absolute;width: 1px;}#sk-container-id-10 div.sk-estimator {font-family: monospace;background-color: #f0f8ff;border: 1px dotted black;border-radius: 0.25em;box-sizing: border-box;margin-bottom: 0.5em;}#sk-container-id-10 div.sk-estimator:hover {background-color: #d4ebff;}#sk-container-id-10 div.sk-parallel-item::after {content: \"\";width: 100%;border-bottom: 1px solid gray;flex-grow: 1;}#sk-container-id-10 div.sk-label:hover label.sk-toggleable__label {background-color: #d4ebff;}#sk-container-id-10 div.sk-serial::before {content: \"\";position: absolute;border-left: 1px solid gray;box-sizing: border-box;top: 0;bottom: 0;left: 50%;z-index: 0;}#sk-container-id-10 div.sk-serial {display: flex;flex-direction: column;align-items: center;background-color: white;padding-right: 0.2em;padding-left: 0.2em;position: relative;}#sk-container-id-10 div.sk-item {position: relative;z-index: 1;}#sk-container-id-10 div.sk-parallel {display: flex;align-items: stretch;justify-content: center;background-color: white;position: relative;}#sk-container-id-10 div.sk-item::before, #sk-container-id-10 div.sk-parallel-item::before {content: \"\";position: absolute;border-left: 1px solid gray;box-sizing: border-box;top: 0;bottom: 0;left: 50%;z-index: -1;}#sk-container-id-10 div.sk-parallel-item {display: flex;flex-direction: column;z-index: 1;position: relative;background-color: white;}#sk-container-id-10 div.sk-parallel-item:first-child::after {align-self: flex-end;width: 50%;}#sk-container-id-10 div.sk-parallel-item:last-child::after {align-self: flex-start;width: 50%;}#sk-container-id-10 div.sk-parallel-item:only-child::after {width: 0;}#sk-container-id-10 div.sk-dashed-wrapped {border: 1px dashed gray;margin: 0 0.4em 0.5em 0.4em;box-sizing: border-box;padding-bottom: 0.4em;background-color: white;}#sk-container-id-10 div.sk-label label {font-family: monospace;font-weight: bold;display: inline-block;line-height: 1.2em;}#sk-container-id-10 div.sk-label-container {text-align: center;}#sk-container-id-10 div.sk-container {/* jupyter's `normalize.less` sets `[hidden] { display: none; }` but bootstrap.min.css set `[hidden] { display: none !important; }` so we also need the `!important` here to be able to override the default hidden behavior on the sphinx rendered scikit-learn.org. See: https://github.com/scikit-learn/scikit-learn/issues/21755 */display: inline-block !important;position: relative;}#sk-container-id-10 div.sk-text-repr-fallback {display: none;}</style><div id=\"sk-container-id-10\" class=\"sk-top-container\"><div class=\"sk-text-repr-fallback\"><pre>Pipeline(steps=[(&#x27;RF&#x27;, RandomForestRegressor())])</pre><b>In a Jupyter environment, please rerun this cell to show the HTML representation or trust the notebook. <br />On GitHub, the HTML representation is unable to render, please try loading this page with nbviewer.org.</b></div><div class=\"sk-container\" hidden><div class=\"sk-item sk-dashed-wrapped\"><div class=\"sk-label-container\"><div class=\"sk-label sk-toggleable\"><input class=\"sk-toggleable__control sk-hidden--visually\" id=\"sk-estimator-id-67\" type=\"checkbox\" ><label for=\"sk-estimator-id-67\" class=\"sk-toggleable__label sk-toggleable__label-arrow\">Pipeline</label><div class=\"sk-toggleable__content\"><pre>Pipeline(steps=[(&#x27;RF&#x27;, RandomForestRegressor())])</pre></div></div></div><div class=\"sk-serial\"><div class=\"sk-item\"><div class=\"sk-estimator sk-toggleable\"><input class=\"sk-toggleable__control sk-hidden--visually\" id=\"sk-estimator-id-68\" type=\"checkbox\" ><label for=\"sk-estimator-id-68\" class=\"sk-toggleable__label sk-toggleable__label-arrow\">RandomForestRegressor</label><div class=\"sk-toggleable__content\"><pre>RandomForestRegressor()</pre></div></div></div></div></div></div></div>"
      ],
      "text/plain": [
       "Pipeline(steps=[('RF', RandomForestRegressor())])"
      ]
     },
     "execution_count": 62,
     "metadata": {},
     "output_type": "execute_result"
    }
   ],
   "source": [
    "exp = Experiment('Random Forest', Pipeline([\n",
    "    ('RF', RandomForestRegressor()),\n",
    "]))\n",
    "experiments[exp.name] = exp\n",
    "\n",
    "exp.pipeline"
   ]
  },
  {
   "cell_type": "code",
   "execution_count": 63,
   "metadata": {
    "ExecuteTime": {
     "end_time": "2023-10-03T14:48:51.864619Z",
     "start_time": "2023-10-03T14:48:51.852585Z"
    },
    "colab": {
     "base_uri": "https://localhost:8080/",
     "height": 91
    },
    "id": "uNjdpxWpVaSm",
    "outputId": "d44a9d3a-91db-4c89-de88-a80745cfa3c6"
   },
   "outputs": [
    {
     "data": {
      "text/html": [
       "<style>#sk-container-id-11 {color: black;background-color: white;}#sk-container-id-11 pre{padding: 0;}#sk-container-id-11 div.sk-toggleable {background-color: white;}#sk-container-id-11 label.sk-toggleable__label {cursor: pointer;display: block;width: 100%;margin-bottom: 0;padding: 0.3em;box-sizing: border-box;text-align: center;}#sk-container-id-11 label.sk-toggleable__label-arrow:before {content: \"▸\";float: left;margin-right: 0.25em;color: #696969;}#sk-container-id-11 label.sk-toggleable__label-arrow:hover:before {color: black;}#sk-container-id-11 div.sk-estimator:hover label.sk-toggleable__label-arrow:before {color: black;}#sk-container-id-11 div.sk-toggleable__content {max-height: 0;max-width: 0;overflow: hidden;text-align: left;background-color: #f0f8ff;}#sk-container-id-11 div.sk-toggleable__content pre {margin: 0.2em;color: black;border-radius: 0.25em;background-color: #f0f8ff;}#sk-container-id-11 input.sk-toggleable__control:checked~div.sk-toggleable__content {max-height: 200px;max-width: 100%;overflow: auto;}#sk-container-id-11 input.sk-toggleable__control:checked~label.sk-toggleable__label-arrow:before {content: \"▾\";}#sk-container-id-11 div.sk-estimator input.sk-toggleable__control:checked~label.sk-toggleable__label {background-color: #d4ebff;}#sk-container-id-11 div.sk-label input.sk-toggleable__control:checked~label.sk-toggleable__label {background-color: #d4ebff;}#sk-container-id-11 input.sk-hidden--visually {border: 0;clip: rect(1px 1px 1px 1px);clip: rect(1px, 1px, 1px, 1px);height: 1px;margin: -1px;overflow: hidden;padding: 0;position: absolute;width: 1px;}#sk-container-id-11 div.sk-estimator {font-family: monospace;background-color: #f0f8ff;border: 1px dotted black;border-radius: 0.25em;box-sizing: border-box;margin-bottom: 0.5em;}#sk-container-id-11 div.sk-estimator:hover {background-color: #d4ebff;}#sk-container-id-11 div.sk-parallel-item::after {content: \"\";width: 100%;border-bottom: 1px solid gray;flex-grow: 1;}#sk-container-id-11 div.sk-label:hover label.sk-toggleable__label {background-color: #d4ebff;}#sk-container-id-11 div.sk-serial::before {content: \"\";position: absolute;border-left: 1px solid gray;box-sizing: border-box;top: 0;bottom: 0;left: 50%;z-index: 0;}#sk-container-id-11 div.sk-serial {display: flex;flex-direction: column;align-items: center;background-color: white;padding-right: 0.2em;padding-left: 0.2em;position: relative;}#sk-container-id-11 div.sk-item {position: relative;z-index: 1;}#sk-container-id-11 div.sk-parallel {display: flex;align-items: stretch;justify-content: center;background-color: white;position: relative;}#sk-container-id-11 div.sk-item::before, #sk-container-id-11 div.sk-parallel-item::before {content: \"\";position: absolute;border-left: 1px solid gray;box-sizing: border-box;top: 0;bottom: 0;left: 50%;z-index: -1;}#sk-container-id-11 div.sk-parallel-item {display: flex;flex-direction: column;z-index: 1;position: relative;background-color: white;}#sk-container-id-11 div.sk-parallel-item:first-child::after {align-self: flex-end;width: 50%;}#sk-container-id-11 div.sk-parallel-item:last-child::after {align-self: flex-start;width: 50%;}#sk-container-id-11 div.sk-parallel-item:only-child::after {width: 0;}#sk-container-id-11 div.sk-dashed-wrapped {border: 1px dashed gray;margin: 0 0.4em 0.5em 0.4em;box-sizing: border-box;padding-bottom: 0.4em;background-color: white;}#sk-container-id-11 div.sk-label label {font-family: monospace;font-weight: bold;display: inline-block;line-height: 1.2em;}#sk-container-id-11 div.sk-label-container {text-align: center;}#sk-container-id-11 div.sk-container {/* jupyter's `normalize.less` sets `[hidden] { display: none; }` but bootstrap.min.css set `[hidden] { display: none !important; }` so we also need the `!important` here to be able to override the default hidden behavior on the sphinx rendered scikit-learn.org. See: https://github.com/scikit-learn/scikit-learn/issues/21755 */display: inline-block !important;position: relative;}#sk-container-id-11 div.sk-text-repr-fallback {display: none;}</style><div id=\"sk-container-id-11\" class=\"sk-top-container\"><div class=\"sk-text-repr-fallback\"><pre>Pipeline(steps=[(&#x27;GB&#x27;, GradientBoostingRegressor())])</pre><b>In a Jupyter environment, please rerun this cell to show the HTML representation or trust the notebook. <br />On GitHub, the HTML representation is unable to render, please try loading this page with nbviewer.org.</b></div><div class=\"sk-container\" hidden><div class=\"sk-item sk-dashed-wrapped\"><div class=\"sk-label-container\"><div class=\"sk-label sk-toggleable\"><input class=\"sk-toggleable__control sk-hidden--visually\" id=\"sk-estimator-id-69\" type=\"checkbox\" ><label for=\"sk-estimator-id-69\" class=\"sk-toggleable__label sk-toggleable__label-arrow\">Pipeline</label><div class=\"sk-toggleable__content\"><pre>Pipeline(steps=[(&#x27;GB&#x27;, GradientBoostingRegressor())])</pre></div></div></div><div class=\"sk-serial\"><div class=\"sk-item\"><div class=\"sk-estimator sk-toggleable\"><input class=\"sk-toggleable__control sk-hidden--visually\" id=\"sk-estimator-id-70\" type=\"checkbox\" ><label for=\"sk-estimator-id-70\" class=\"sk-toggleable__label sk-toggleable__label-arrow\">GradientBoostingRegressor</label><div class=\"sk-toggleable__content\"><pre>GradientBoostingRegressor()</pre></div></div></div></div></div></div></div>"
      ],
      "text/plain": [
       "Pipeline(steps=[('GB', GradientBoostingRegressor())])"
      ]
     },
     "execution_count": 63,
     "metadata": {},
     "output_type": "execute_result"
    }
   ],
   "source": [
    "exp = Experiment('Gradient Boosting', Pipeline([\n",
    "    ('GB', GradientBoostingRegressor()),\n",
    "]))\n",
    "experiments[exp.name] = exp\n",
    "\n",
    "exp.pipeline"
   ]
  },
  {
   "cell_type": "code",
   "execution_count": 64,
   "metadata": {
    "ExecuteTime": {
     "end_time": "2023-10-03T14:48:52.925535Z",
     "start_time": "2023-10-03T14:48:52.915262Z"
    },
    "colab": {
     "base_uri": "https://localhost:8080/",
     "height": 91
    },
    "id": "Yh6l6S1nrYiy",
    "outputId": "94aa5f07-0a32-4e01-9767-e45f1ea40774"
   },
   "outputs": [
    {
     "data": {
      "text/html": [
       "<style>#sk-container-id-12 {color: black;background-color: white;}#sk-container-id-12 pre{padding: 0;}#sk-container-id-12 div.sk-toggleable {background-color: white;}#sk-container-id-12 label.sk-toggleable__label {cursor: pointer;display: block;width: 100%;margin-bottom: 0;padding: 0.3em;box-sizing: border-box;text-align: center;}#sk-container-id-12 label.sk-toggleable__label-arrow:before {content: \"▸\";float: left;margin-right: 0.25em;color: #696969;}#sk-container-id-12 label.sk-toggleable__label-arrow:hover:before {color: black;}#sk-container-id-12 div.sk-estimator:hover label.sk-toggleable__label-arrow:before {color: black;}#sk-container-id-12 div.sk-toggleable__content {max-height: 0;max-width: 0;overflow: hidden;text-align: left;background-color: #f0f8ff;}#sk-container-id-12 div.sk-toggleable__content pre {margin: 0.2em;color: black;border-radius: 0.25em;background-color: #f0f8ff;}#sk-container-id-12 input.sk-toggleable__control:checked~div.sk-toggleable__content {max-height: 200px;max-width: 100%;overflow: auto;}#sk-container-id-12 input.sk-toggleable__control:checked~label.sk-toggleable__label-arrow:before {content: \"▾\";}#sk-container-id-12 div.sk-estimator input.sk-toggleable__control:checked~label.sk-toggleable__label {background-color: #d4ebff;}#sk-container-id-12 div.sk-label input.sk-toggleable__control:checked~label.sk-toggleable__label {background-color: #d4ebff;}#sk-container-id-12 input.sk-hidden--visually {border: 0;clip: rect(1px 1px 1px 1px);clip: rect(1px, 1px, 1px, 1px);height: 1px;margin: -1px;overflow: hidden;padding: 0;position: absolute;width: 1px;}#sk-container-id-12 div.sk-estimator {font-family: monospace;background-color: #f0f8ff;border: 1px dotted black;border-radius: 0.25em;box-sizing: border-box;margin-bottom: 0.5em;}#sk-container-id-12 div.sk-estimator:hover {background-color: #d4ebff;}#sk-container-id-12 div.sk-parallel-item::after {content: \"\";width: 100%;border-bottom: 1px solid gray;flex-grow: 1;}#sk-container-id-12 div.sk-label:hover label.sk-toggleable__label {background-color: #d4ebff;}#sk-container-id-12 div.sk-serial::before {content: \"\";position: absolute;border-left: 1px solid gray;box-sizing: border-box;top: 0;bottom: 0;left: 50%;z-index: 0;}#sk-container-id-12 div.sk-serial {display: flex;flex-direction: column;align-items: center;background-color: white;padding-right: 0.2em;padding-left: 0.2em;position: relative;}#sk-container-id-12 div.sk-item {position: relative;z-index: 1;}#sk-container-id-12 div.sk-parallel {display: flex;align-items: stretch;justify-content: center;background-color: white;position: relative;}#sk-container-id-12 div.sk-item::before, #sk-container-id-12 div.sk-parallel-item::before {content: \"\";position: absolute;border-left: 1px solid gray;box-sizing: border-box;top: 0;bottom: 0;left: 50%;z-index: -1;}#sk-container-id-12 div.sk-parallel-item {display: flex;flex-direction: column;z-index: 1;position: relative;background-color: white;}#sk-container-id-12 div.sk-parallel-item:first-child::after {align-self: flex-end;width: 50%;}#sk-container-id-12 div.sk-parallel-item:last-child::after {align-self: flex-start;width: 50%;}#sk-container-id-12 div.sk-parallel-item:only-child::after {width: 0;}#sk-container-id-12 div.sk-dashed-wrapped {border: 1px dashed gray;margin: 0 0.4em 0.5em 0.4em;box-sizing: border-box;padding-bottom: 0.4em;background-color: white;}#sk-container-id-12 div.sk-label label {font-family: monospace;font-weight: bold;display: inline-block;line-height: 1.2em;}#sk-container-id-12 div.sk-label-container {text-align: center;}#sk-container-id-12 div.sk-container {/* jupyter's `normalize.less` sets `[hidden] { display: none; }` but bootstrap.min.css set `[hidden] { display: none !important; }` so we also need the `!important` here to be able to override the default hidden behavior on the sphinx rendered scikit-learn.org. See: https://github.com/scikit-learn/scikit-learn/issues/21755 */display: inline-block !important;position: relative;}#sk-container-id-12 div.sk-text-repr-fallback {display: none;}</style><div id=\"sk-container-id-12\" class=\"sk-top-container\"><div class=\"sk-text-repr-fallback\"><pre>Pipeline(steps=[(&#x27;CB&#x27;,\n",
       "                 &lt;catboost.core.CatBoostRegressor object at 0x000001FF84703FD0&gt;)])</pre><b>In a Jupyter environment, please rerun this cell to show the HTML representation or trust the notebook. <br />On GitHub, the HTML representation is unable to render, please try loading this page with nbviewer.org.</b></div><div class=\"sk-container\" hidden><div class=\"sk-item sk-dashed-wrapped\"><div class=\"sk-label-container\"><div class=\"sk-label sk-toggleable\"><input class=\"sk-toggleable__control sk-hidden--visually\" id=\"sk-estimator-id-71\" type=\"checkbox\" ><label for=\"sk-estimator-id-71\" class=\"sk-toggleable__label sk-toggleable__label-arrow\">Pipeline</label><div class=\"sk-toggleable__content\"><pre>Pipeline(steps=[(&#x27;CB&#x27;,\n",
       "                 &lt;catboost.core.CatBoostRegressor object at 0x000001FF84703FD0&gt;)])</pre></div></div></div><div class=\"sk-serial\"><div class=\"sk-item\"><div class=\"sk-estimator sk-toggleable\"><input class=\"sk-toggleable__control sk-hidden--visually\" id=\"sk-estimator-id-72\" type=\"checkbox\" ><label for=\"sk-estimator-id-72\" class=\"sk-toggleable__label sk-toggleable__label-arrow\">CatBoostRegressor</label><div class=\"sk-toggleable__content\"><pre>&lt;catboost.core.CatBoostRegressor object at 0x000001FF84703FD0&gt;</pre></div></div></div></div></div></div></div>"
      ],
      "text/plain": [
       "Pipeline(steps=[('CB',\n",
       "                 <catboost.core.CatBoostRegressor object at 0x000001FF84703FD0>)])"
      ]
     },
     "execution_count": 64,
     "metadata": {},
     "output_type": "execute_result"
    }
   ],
   "source": [
    "exp = Experiment('Cat. Boosting', Pipeline([\n",
    "    ('CB', CatBoostRegressor(verbose=0)),\n",
    "]))\n",
    "experiments[exp.name] = exp\n",
    "\n",
    "exp.pipeline"
   ]
  },
  {
   "cell_type": "markdown",
   "metadata": {
    "id": "3gHqQceVnTQH"
   },
   "source": [
    "👉 Здесь можно добавить свои эксперименты:"
   ]
  },
  {
   "cell_type": "code",
   "execution_count": 58,
   "metadata": {
    "id": "AW8zIPWFrAhI"
   },
   "outputs": [],
   "source": []
  },
  {
   "cell_type": "code",
   "execution_count": 65,
   "metadata": {
    "ExecuteTime": {
     "end_time": "2023-10-03T14:49:14.910311Z",
     "start_time": "2023-10-03T14:49:14.898150Z"
    },
    "colab": {
     "base_uri": "https://localhost:8080/",
     "height": 125
    },
    "id": "ieR7yYqp7HNd",
    "outputId": "a01ea561-7ce8-4855-e810-ca21b3184f3c"
   },
   "outputs": [
    {
     "data": {
      "text/html": [
       "<style>#sk-container-id-13 {color: black;background-color: white;}#sk-container-id-13 pre{padding: 0;}#sk-container-id-13 div.sk-toggleable {background-color: white;}#sk-container-id-13 label.sk-toggleable__label {cursor: pointer;display: block;width: 100%;margin-bottom: 0;padding: 0.3em;box-sizing: border-box;text-align: center;}#sk-container-id-13 label.sk-toggleable__label-arrow:before {content: \"▸\";float: left;margin-right: 0.25em;color: #696969;}#sk-container-id-13 label.sk-toggleable__label-arrow:hover:before {color: black;}#sk-container-id-13 div.sk-estimator:hover label.sk-toggleable__label-arrow:before {color: black;}#sk-container-id-13 div.sk-toggleable__content {max-height: 0;max-width: 0;overflow: hidden;text-align: left;background-color: #f0f8ff;}#sk-container-id-13 div.sk-toggleable__content pre {margin: 0.2em;color: black;border-radius: 0.25em;background-color: #f0f8ff;}#sk-container-id-13 input.sk-toggleable__control:checked~div.sk-toggleable__content {max-height: 200px;max-width: 100%;overflow: auto;}#sk-container-id-13 input.sk-toggleable__control:checked~label.sk-toggleable__label-arrow:before {content: \"▾\";}#sk-container-id-13 div.sk-estimator input.sk-toggleable__control:checked~label.sk-toggleable__label {background-color: #d4ebff;}#sk-container-id-13 div.sk-label input.sk-toggleable__control:checked~label.sk-toggleable__label {background-color: #d4ebff;}#sk-container-id-13 input.sk-hidden--visually {border: 0;clip: rect(1px 1px 1px 1px);clip: rect(1px, 1px, 1px, 1px);height: 1px;margin: -1px;overflow: hidden;padding: 0;position: absolute;width: 1px;}#sk-container-id-13 div.sk-estimator {font-family: monospace;background-color: #f0f8ff;border: 1px dotted black;border-radius: 0.25em;box-sizing: border-box;margin-bottom: 0.5em;}#sk-container-id-13 div.sk-estimator:hover {background-color: #d4ebff;}#sk-container-id-13 div.sk-parallel-item::after {content: \"\";width: 100%;border-bottom: 1px solid gray;flex-grow: 1;}#sk-container-id-13 div.sk-label:hover label.sk-toggleable__label {background-color: #d4ebff;}#sk-container-id-13 div.sk-serial::before {content: \"\";position: absolute;border-left: 1px solid gray;box-sizing: border-box;top: 0;bottom: 0;left: 50%;z-index: 0;}#sk-container-id-13 div.sk-serial {display: flex;flex-direction: column;align-items: center;background-color: white;padding-right: 0.2em;padding-left: 0.2em;position: relative;}#sk-container-id-13 div.sk-item {position: relative;z-index: 1;}#sk-container-id-13 div.sk-parallel {display: flex;align-items: stretch;justify-content: center;background-color: white;position: relative;}#sk-container-id-13 div.sk-item::before, #sk-container-id-13 div.sk-parallel-item::before {content: \"\";position: absolute;border-left: 1px solid gray;box-sizing: border-box;top: 0;bottom: 0;left: 50%;z-index: -1;}#sk-container-id-13 div.sk-parallel-item {display: flex;flex-direction: column;z-index: 1;position: relative;background-color: white;}#sk-container-id-13 div.sk-parallel-item:first-child::after {align-self: flex-end;width: 50%;}#sk-container-id-13 div.sk-parallel-item:last-child::after {align-self: flex-start;width: 50%;}#sk-container-id-13 div.sk-parallel-item:only-child::after {width: 0;}#sk-container-id-13 div.sk-dashed-wrapped {border: 1px dashed gray;margin: 0 0.4em 0.5em 0.4em;box-sizing: border-box;padding-bottom: 0.4em;background-color: white;}#sk-container-id-13 div.sk-label label {font-family: monospace;font-weight: bold;display: inline-block;line-height: 1.2em;}#sk-container-id-13 div.sk-label-container {text-align: center;}#sk-container-id-13 div.sk-container {/* jupyter's `normalize.less` sets `[hidden] { display: none; }` but bootstrap.min.css set `[hidden] { display: none !important; }` so we also need the `!important` here to be able to override the default hidden behavior on the sphinx rendered scikit-learn.org. See: https://github.com/scikit-learn/scikit-learn/issues/21755 */display: inline-block !important;position: relative;}#sk-container-id-13 div.sk-text-repr-fallback {display: none;}</style><div id=\"sk-container-id-13\" class=\"sk-top-container\"><div class=\"sk-text-repr-fallback\"><pre>Pipeline(steps=[(&#x27;StdScaler&#x27;, StandardScaler()),\n",
       "                (&#x27;CB&#x27;, GradientBoostingRegressor())])</pre><b>In a Jupyter environment, please rerun this cell to show the HTML representation or trust the notebook. <br />On GitHub, the HTML representation is unable to render, please try loading this page with nbviewer.org.</b></div><div class=\"sk-container\" hidden><div class=\"sk-item sk-dashed-wrapped\"><div class=\"sk-label-container\"><div class=\"sk-label sk-toggleable\"><input class=\"sk-toggleable__control sk-hidden--visually\" id=\"sk-estimator-id-73\" type=\"checkbox\" ><label for=\"sk-estimator-id-73\" class=\"sk-toggleable__label sk-toggleable__label-arrow\">Pipeline</label><div class=\"sk-toggleable__content\"><pre>Pipeline(steps=[(&#x27;StdScaler&#x27;, StandardScaler()),\n",
       "                (&#x27;CB&#x27;, GradientBoostingRegressor())])</pre></div></div></div><div class=\"sk-serial\"><div class=\"sk-item\"><div class=\"sk-estimator sk-toggleable\"><input class=\"sk-toggleable__control sk-hidden--visually\" id=\"sk-estimator-id-74\" type=\"checkbox\" ><label for=\"sk-estimator-id-74\" class=\"sk-toggleable__label sk-toggleable__label-arrow\">StandardScaler</label><div class=\"sk-toggleable__content\"><pre>StandardScaler()</pre></div></div></div><div class=\"sk-item\"><div class=\"sk-estimator sk-toggleable\"><input class=\"sk-toggleable__control sk-hidden--visually\" id=\"sk-estimator-id-75\" type=\"checkbox\" ><label for=\"sk-estimator-id-75\" class=\"sk-toggleable__label sk-toggleable__label-arrow\">GradientBoostingRegressor</label><div class=\"sk-toggleable__content\"><pre>GradientBoostingRegressor()</pre></div></div></div></div></div></div></div>"
      ],
      "text/plain": [
       "Pipeline(steps=[('StdScaler', StandardScaler()),\n",
       "                ('CB', GradientBoostingRegressor())])"
      ]
     },
     "execution_count": 65,
     "metadata": {},
     "output_type": "execute_result"
    }
   ],
   "source": [
    "# Так можно создавать эксперименты программно:\n",
    "\n",
    "regressors = [\n",
    "    ('LGBM', LGBMRegressor()),\n",
    "    ('GB', GradientBoostingRegressor()),\n",
    "]\n",
    "# Строим эксперименты по схеме \"скейлер -> регрессор\"\n",
    "for reg_name, reg_obj in regressors:\n",
    "    name = f'StdScaler -> {reg_name}'\n",
    "    exp = Experiment(name, Pipeline([\n",
    "        ('StdScaler', StandardScaler()),\n",
    "        ('CB', reg_obj),\n",
    "    ]))\n",
    "    experiments[name] = exp\n",
    "\n",
    "# Пример одного из созданных пайплайнов\n",
    "exp.pipeline"
   ]
  },
  {
   "cell_type": "code",
   "execution_count": 66,
   "metadata": {
    "ExecuteTime": {
     "end_time": "2023-10-03T14:49:21.041713Z",
     "start_time": "2023-10-03T14:49:21.028434Z"
    },
    "colab": {
     "base_uri": "https://localhost:8080/"
    },
    "id": "LN8evaGu_hz4",
    "outputId": "2d4faf12-a563-42b7-91e7-95ed26ded781"
   },
   "outputs": [
    {
     "name": "stdout",
     "output_type": "stream",
     "text": [
      "Запланированные эксперименты:\n"
     ]
    },
    {
     "data": {
      "text/plain": [
       "['XGBoost',\n",
       " 'K Neighbors',\n",
       " 'Linear Regression',\n",
       " 'LightGBM',\n",
       " 'Random Forest',\n",
       " 'Gradient Boosting',\n",
       " 'Cat. Boosting',\n",
       " 'StdScaler -> LGBM',\n",
       " 'StdScaler -> GB']"
      ]
     },
     "execution_count": 66,
     "metadata": {},
     "output_type": "execute_result"
    }
   ],
   "source": [
    "print('Запланированные эксперименты:')\n",
    "list(experiments.keys())"
   ]
  },
  {
   "cell_type": "markdown",
   "metadata": {
    "id": "29e7ZMUnaiIp"
   },
   "source": [
    "## Проведение задуманных экспериментов"
   ]
  },
  {
   "cell_type": "code",
   "execution_count": 67,
   "metadata": {
    "ExecuteTime": {
     "end_time": "2023-10-03T14:49:41.867019Z",
     "start_time": "2023-10-03T14:49:35.283907Z"
    },
    "colab": {
     "base_uri": "https://localhost:8080/",
     "height": 1000,
     "referenced_widgets": [
      "e3c80cccad8b4112a24ad9e0c78d505f",
      "e755cd8ce5854f26900f13519db17167",
      "79b123d211d841b18be48a19ab9db245",
      "20cee728338d463ab89ebf8df6861e86",
      "676c41fc844741ff99e84b45e98fa10b",
      "5cdb0271505e4fba8b4003ebe92fc504",
      "a11470ff22394481a50dbb8a68d11b0b",
      "c40686abe552476480c814cd207e09d8",
      "b6e7ef6e9ceb43e2b3f5cde5723b4d10",
      "4560c7d81c8d4c2992c83fce0217061e",
      "3d2031fa16cb4095a969eb97de5d943a"
     ]
    },
    "id": "jC5dtDZS5p6s",
    "outputId": "de962bd6-a6b6-4419-c722-952262d98752",
    "scrolled": false
   },
   "outputs": [
    {
     "name": "stdout",
     "output_type": "stream",
     "text": [
      "Проводим эксперименты:\n"
     ]
    },
    {
     "data": {
      "application/vnd.jupyter.widget-view+json": {
       "model_id": "f07cf42b336840608b734f58999c5c6f",
       "version_major": 2,
       "version_minor": 0
      },
      "text/plain": [
       "  0%|          | 0/9 [00:00<?, ?it/s]"
      ]
     },
     "metadata": {},
     "output_type": "display_data"
    },
    {
     "name": "stdout",
     "output_type": "stream",
     "text": [
      "Пациентов в интервале: 0    406\n",
      "1    325\n",
      "2     25\n",
      "3      5\n",
      "Name: dose, dtype: int64\n",
      "Проблемные интервалы []\n",
      "Пациентов в интервале после переназначения проблемных интервалов:  0    406\n",
      "1    325\n",
      "2     25\n",
      "3      5\n",
      "Name: dose, dtype: int64\n",
      "Эксперимент XGBoost завершен.\n",
      "Пациентов в интервале: 0    406\n",
      "1    325\n",
      "2     25\n",
      "3      5\n",
      "Name: dose, dtype: int64\n",
      "Проблемные интервалы []\n",
      "Пациентов в интервале после переназначения проблемных интервалов:  0    406\n",
      "1    325\n",
      "2     25\n",
      "3      5\n",
      "Name: dose, dtype: int64\n",
      "Эксперимент K Neighbors завершен.\n",
      "Пациентов в интервале: 0    406\n",
      "1    325\n",
      "2     25\n",
      "3      5\n",
      "Name: dose, dtype: int64\n",
      "Проблемные интервалы []\n",
      "Пациентов в интервале после переназначения проблемных интервалов:  0    406\n",
      "1    325\n",
      "2     25\n",
      "3      5\n",
      "Name: dose, dtype: int64\n",
      "Эксперимент Linear Regression завершен.\n",
      "Пациентов в интервале: 0    406\n",
      "1    325\n",
      "2     25\n",
      "3      5\n",
      "Name: dose, dtype: int64\n",
      "Проблемные интервалы []\n",
      "Пациентов в интервале после переназначения проблемных интервалов:  0    406\n",
      "1    325\n",
      "2     25\n",
      "3      5\n",
      "Name: dose, dtype: int64\n",
      "Эксперимент LightGBM завершен.\n",
      "Пациентов в интервале: 0    406\n",
      "1    325\n",
      "2     25\n",
      "3      5\n",
      "Name: dose, dtype: int64\n",
      "Проблемные интервалы []\n",
      "Пациентов в интервале после переназначения проблемных интервалов:  0    406\n",
      "1    325\n",
      "2     25\n",
      "3      5\n",
      "Name: dose, dtype: int64\n",
      "Эксперимент Random Forest завершен.\n",
      "Пациентов в интервале: 0    406\n",
      "1    325\n",
      "2     25\n",
      "3      5\n",
      "Name: dose, dtype: int64\n",
      "Проблемные интервалы []\n",
      "Пациентов в интервале после переназначения проблемных интервалов:  0    406\n",
      "1    325\n",
      "2     25\n",
      "3      5\n",
      "Name: dose, dtype: int64\n",
      "Эксперимент Gradient Boosting завершен.\n",
      "Пациентов в интервале: 0    406\n",
      "1    325\n",
      "2     25\n",
      "3      5\n",
      "Name: dose, dtype: int64\n",
      "Проблемные интервалы []\n",
      "Пациентов в интервале после переназначения проблемных интервалов:  0    406\n",
      "1    325\n",
      "2     25\n",
      "3      5\n",
      "Name: dose, dtype: int64\n",
      "Эксперимент Cat. Boosting завершен.\n",
      "Пациентов в интервале: 0    406\n",
      "1    325\n",
      "2     25\n",
      "3      5\n",
      "Name: dose, dtype: int64\n",
      "Проблемные интервалы []\n",
      "Пациентов в интервале после переназначения проблемных интервалов:  0    406\n",
      "1    325\n",
      "2     25\n",
      "3      5\n",
      "Name: dose, dtype: int64\n",
      "Эксперимент StdScaler -> LGBM завершен.\n",
      "Пациентов в интервале: 0    406\n",
      "1    325\n",
      "2     25\n",
      "3      5\n",
      "Name: dose, dtype: int64\n",
      "Проблемные интервалы []\n",
      "Пациентов в интервале после переназначения проблемных интервалов:  0    406\n",
      "1    325\n",
      "2     25\n",
      "3      5\n",
      "Name: dose, dtype: int64\n",
      "Эксперимент StdScaler -> GB завершен.\n"
     ]
    }
   ],
   "source": [
    "df = pd.read_excel(f'{ROOT_PATH}/data/processed/data_for_model.xlsx')\n",
    "\n",
    "print('Проводим эксперименты:')\n",
    "for name, exp in tqdm(experiments.items()):\n",
    "    exp.run(df.copy())\n",
    "    print(f'Эксперимент {name} завершен.')"
   ]
  },
  {
   "cell_type": "code",
   "execution_count": 68,
   "metadata": {
    "ExecuteTime": {
     "end_time": "2023-10-03T14:51:02.818036Z",
     "start_time": "2023-10-03T14:51:02.802866Z"
    },
    "colab": {
     "base_uri": "https://localhost:8080/",
     "height": 331
    },
    "id": "HPyeFNWMjPaK",
    "outputId": "a91c5d95-9b09-4ece-96cc-15c043ab5910"
   },
   "outputs": [
    {
     "name": "stdout",
     "output_type": "stream",
     "text": [
      "Метрики на обучающих данных:\n"
     ]
    },
    {
     "data": {
      "text/html": [
       "<div>\n",
       "<style scoped>\n",
       "    .dataframe tbody tr th:only-of-type {\n",
       "        vertical-align: middle;\n",
       "    }\n",
       "\n",
       "    .dataframe tbody tr th {\n",
       "        vertical-align: top;\n",
       "    }\n",
       "\n",
       "    .dataframe thead th {\n",
       "        text-align: right;\n",
       "    }\n",
       "</style>\n",
       "<table border=\"1\" class=\"dataframe\">\n",
       "  <thead>\n",
       "    <tr style=\"text-align: right;\">\n",
       "      <th></th>\n",
       "      <th>Mean Squared Error</th>\n",
       "      <th>R^2</th>\n",
       "      <th>MAPE</th>\n",
       "      <th>MAE</th>\n",
       "      <th>Average Percent Deviation</th>\n",
       "    </tr>\n",
       "    <tr>\n",
       "      <th>Эксперимент</th>\n",
       "      <th></th>\n",
       "      <th></th>\n",
       "      <th></th>\n",
       "      <th></th>\n",
       "      <th></th>\n",
       "    </tr>\n",
       "  </thead>\n",
       "  <tbody>\n",
       "    <tr>\n",
       "      <th>XGBoost</th>\n",
       "      <td>0.034476</td>\n",
       "      <td>0.986200</td>\n",
       "      <td>4.073511</td>\n",
       "      <td>0.123486</td>\n",
       "      <td>3.420111</td>\n",
       "    </tr>\n",
       "    <tr>\n",
       "      <th>K Neighbors</th>\n",
       "      <td>2.989628</td>\n",
       "      <td>-0.196696</td>\n",
       "      <td>43.587829</td>\n",
       "      <td>1.252166</td>\n",
       "      <td>34.680347</td>\n",
       "    </tr>\n",
       "    <tr>\n",
       "      <th>Linear Regression</th>\n",
       "      <td>1.466774</td>\n",
       "      <td>0.412876</td>\n",
       "      <td>30.039563</td>\n",
       "      <td>0.904550</td>\n",
       "      <td>25.052669</td>\n",
       "    </tr>\n",
       "    <tr>\n",
       "      <th>LightGBM</th>\n",
       "      <td>0.231013</td>\n",
       "      <td>0.907530</td>\n",
       "      <td>11.364525</td>\n",
       "      <td>0.346813</td>\n",
       "      <td>9.605435</td>\n",
       "    </tr>\n",
       "    <tr>\n",
       "      <th>Random Forest</th>\n",
       "      <td>0.164159</td>\n",
       "      <td>0.934290</td>\n",
       "      <td>9.200308</td>\n",
       "      <td>0.280935</td>\n",
       "      <td>7.780848</td>\n",
       "    </tr>\n",
       "    <tr>\n",
       "      <th>Gradient Boosting</th>\n",
       "      <td>1.094178</td>\n",
       "      <td>0.562019</td>\n",
       "      <td>25.753191</td>\n",
       "      <td>0.786690</td>\n",
       "      <td>21.788396</td>\n",
       "    </tr>\n",
       "    <tr>\n",
       "      <th>Cat. Boosting</th>\n",
       "      <td>0.221324</td>\n",
       "      <td>0.911408</td>\n",
       "      <td>11.833571</td>\n",
       "      <td>0.357727</td>\n",
       "      <td>9.907703</td>\n",
       "    </tr>\n",
       "    <tr>\n",
       "      <th>StdScaler -&gt; LGBM</th>\n",
       "      <td>0.227936</td>\n",
       "      <td>0.908761</td>\n",
       "      <td>11.182068</td>\n",
       "      <td>0.341451</td>\n",
       "      <td>9.456911</td>\n",
       "    </tr>\n",
       "    <tr>\n",
       "      <th>StdScaler -&gt; GB</th>\n",
       "      <td>1.103183</td>\n",
       "      <td>0.558415</td>\n",
       "      <td>25.693568</td>\n",
       "      <td>0.783666</td>\n",
       "      <td>21.704630</td>\n",
       "    </tr>\n",
       "  </tbody>\n",
       "</table>\n",
       "</div>"
      ],
      "text/plain": [
       "                   Mean Squared Error       R^2       MAPE       MAE  \\\n",
       "Эксперимент                                                            \n",
       "XGBoost                      0.034476  0.986200   4.073511  0.123486   \n",
       "K Neighbors                  2.989628 -0.196696  43.587829  1.252166   \n",
       "Linear Regression            1.466774  0.412876  30.039563  0.904550   \n",
       "LightGBM                     0.231013  0.907530  11.364525  0.346813   \n",
       "Random Forest                0.164159  0.934290   9.200308  0.280935   \n",
       "Gradient Boosting            1.094178  0.562019  25.753191  0.786690   \n",
       "Cat. Boosting                0.221324  0.911408  11.833571  0.357727   \n",
       "StdScaler -> LGBM            0.227936  0.908761  11.182068  0.341451   \n",
       "StdScaler -> GB              1.103183  0.558415  25.693568  0.783666   \n",
       "\n",
       "                   Average Percent Deviation  \n",
       "Эксперимент                                   \n",
       "XGBoost                             3.420111  \n",
       "K Neighbors                        34.680347  \n",
       "Linear Regression                  25.052669  \n",
       "LightGBM                            9.605435  \n",
       "Random Forest                       7.780848  \n",
       "Gradient Boosting                  21.788396  \n",
       "Cat. Boosting                       9.907703  \n",
       "StdScaler -> LGBM                   9.456911  \n",
       "StdScaler -> GB                    21.704630  "
      ]
     },
     "execution_count": 68,
     "metadata": {},
     "output_type": "execute_result"
    }
   ],
   "source": [
    "# Выводим метрики на обучающих данных\n",
    "\n",
    "dct = {exp.name: exp.result['train'] for exp in experiments.values()}\n",
    "metrics_test_df = pd.DataFrame(dct).T\n",
    "metrics_test_df.index.name = 'Эксперимент'\n",
    "\n",
    "print('Метрики на обучающих данных:')\n",
    "preview(metrics_test_df, show_all_rows=True)"
   ]
  },
  {
   "cell_type": "code",
   "execution_count": 69,
   "metadata": {
    "ExecuteTime": {
     "end_time": "2023-10-03T14:51:21.230829Z",
     "start_time": "2023-10-03T14:51:21.218538Z"
    },
    "colab": {
     "base_uri": "https://localhost:8080/",
     "height": 331
    },
    "id": "Z5-vfdT5YPUb",
    "outputId": "3ea527f9-7dab-4e46-a173-f0e8553ce3c2"
   },
   "outputs": [
    {
     "name": "stdout",
     "output_type": "stream",
     "text": [
      "Метрики на тестовых данных:\n"
     ]
    },
    {
     "data": {
      "text/html": [
       "<div>\n",
       "<style scoped>\n",
       "    .dataframe tbody tr th:only-of-type {\n",
       "        vertical-align: middle;\n",
       "    }\n",
       "\n",
       "    .dataframe tbody tr th {\n",
       "        vertical-align: top;\n",
       "    }\n",
       "\n",
       "    .dataframe thead th {\n",
       "        text-align: right;\n",
       "    }\n",
       "</style>\n",
       "<table border=\"1\" class=\"dataframe\">\n",
       "  <thead>\n",
       "    <tr style=\"text-align: right;\">\n",
       "      <th></th>\n",
       "      <th>Mean Squared Error</th>\n",
       "      <th>R^2</th>\n",
       "      <th>MAPE</th>\n",
       "      <th>MAE</th>\n",
       "      <th>Average Percent Deviation</th>\n",
       "    </tr>\n",
       "  </thead>\n",
       "  <tbody>\n",
       "    <tr>\n",
       "      <th>XGBoost</th>\n",
       "      <td>2.754997</td>\n",
       "      <td>-0.009482</td>\n",
       "      <td>36.741004</td>\n",
       "      <td>1.174564</td>\n",
       "      <td>32.901400</td>\n",
       "    </tr>\n",
       "    <tr>\n",
       "      <th>K Neighbors</th>\n",
       "      <td>3.457833</td>\n",
       "      <td>-0.267014</td>\n",
       "      <td>49.511824</td>\n",
       "      <td>1.329884</td>\n",
       "      <td>37.252174</td>\n",
       "    </tr>\n",
       "    <tr>\n",
       "      <th>Linear Regression</th>\n",
       "      <td>2.331328</td>\n",
       "      <td>0.145758</td>\n",
       "      <td>36.140686</td>\n",
       "      <td>1.073322</td>\n",
       "      <td>30.065469</td>\n",
       "    </tr>\n",
       "    <tr>\n",
       "      <th>LightGBM</th>\n",
       "      <td>2.235676</td>\n",
       "      <td>0.180807</td>\n",
       "      <td>35.872599</td>\n",
       "      <td>1.101156</td>\n",
       "      <td>30.845138</td>\n",
       "    </tr>\n",
       "    <tr>\n",
       "      <th>Random Forest</th>\n",
       "      <td>2.473072</td>\n",
       "      <td>0.093821</td>\n",
       "      <td>37.695525</td>\n",
       "      <td>1.157289</td>\n",
       "      <td>32.417507</td>\n",
       "    </tr>\n",
       "    <tr>\n",
       "      <th>Gradient Boosting</th>\n",
       "      <td>2.223400</td>\n",
       "      <td>0.185305</td>\n",
       "      <td>36.585786</td>\n",
       "      <td>1.097198</td>\n",
       "      <td>30.734274</td>\n",
       "    </tr>\n",
       "    <tr>\n",
       "      <th>Cat. Boosting</th>\n",
       "      <td>2.405578</td>\n",
       "      <td>0.118552</td>\n",
       "      <td>37.245202</td>\n",
       "      <td>1.132984</td>\n",
       "      <td>31.736684</td>\n",
       "    </tr>\n",
       "    <tr>\n",
       "      <th>StdScaler -&gt; LGBM</th>\n",
       "      <td>2.224149</td>\n",
       "      <td>0.185031</td>\n",
       "      <td>35.965907</td>\n",
       "      <td>1.122820</td>\n",
       "      <td>31.451966</td>\n",
       "    </tr>\n",
       "    <tr>\n",
       "      <th>StdScaler -&gt; GB</th>\n",
       "      <td>2.178726</td>\n",
       "      <td>0.201675</td>\n",
       "      <td>35.813801</td>\n",
       "      <td>1.087254</td>\n",
       "      <td>30.455723</td>\n",
       "    </tr>\n",
       "  </tbody>\n",
       "</table>\n",
       "</div>"
      ],
      "text/plain": [
       "                   Mean Squared Error       R^2       MAPE       MAE  \\\n",
       "XGBoost                      2.754997 -0.009482  36.741004  1.174564   \n",
       "K Neighbors                  3.457833 -0.267014  49.511824  1.329884   \n",
       "Linear Regression            2.331328  0.145758  36.140686  1.073322   \n",
       "LightGBM                     2.235676  0.180807  35.872599  1.101156   \n",
       "Random Forest                2.473072  0.093821  37.695525  1.157289   \n",
       "Gradient Boosting            2.223400  0.185305  36.585786  1.097198   \n",
       "Cat. Boosting                2.405578  0.118552  37.245202  1.132984   \n",
       "StdScaler -> LGBM            2.224149  0.185031  35.965907  1.122820   \n",
       "StdScaler -> GB              2.178726  0.201675  35.813801  1.087254   \n",
       "\n",
       "                   Average Percent Deviation  \n",
       "XGBoost                            32.901400  \n",
       "K Neighbors                        37.252174  \n",
       "Linear Regression                  30.065469  \n",
       "LightGBM                           30.845138  \n",
       "Random Forest                      32.417507  \n",
       "Gradient Boosting                  30.734274  \n",
       "Cat. Boosting                      31.736684  \n",
       "StdScaler -> LGBM                  31.451966  \n",
       "StdScaler -> GB                    30.455723  "
      ]
     },
     "execution_count": 69,
     "metadata": {},
     "output_type": "execute_result"
    }
   ],
   "source": [
    "# Выводим метрики на тестовых данных\n",
    "\n",
    "# Для таблицы, где каждый столбец - значения метрик для конкретного эксперимента\n",
    "dct = {exp.name: exp.result['test'] for exp in experiments.values()}\n",
    "\n",
    "print('Метрики на тестовых данных:')\n",
    "preview(pd.DataFrame(dct).T, show_all_rows=True)  # транспонируем для удобства"
   ]
  },
  {
   "cell_type": "markdown",
   "metadata": {
    "id": "HomHKlrljGqd"
   },
   "source": [
    "# Итоговое решение\n",
    "Это пример, как обучать модель и использовать ее для предсказаний."
   ]
  },
  {
   "cell_type": "code",
   "execution_count": 70,
   "metadata": {
    "ExecuteTime": {
     "end_time": "2023-10-03T14:52:38.308282Z",
     "start_time": "2023-10-03T14:52:38.265347Z"
    },
    "colab": {
     "base_uri": "https://localhost:8080/",
     "height": 469
    },
    "id": "m6LPW8N1jHa_",
    "outputId": "8f315746-acfb-4548-d2a3-ede6fee06f0b"
   },
   "outputs": [
    {
     "data": {
      "text/html": [
       "<style>#sk-container-id-14 {color: black;background-color: white;}#sk-container-id-14 pre{padding: 0;}#sk-container-id-14 div.sk-toggleable {background-color: white;}#sk-container-id-14 label.sk-toggleable__label {cursor: pointer;display: block;width: 100%;margin-bottom: 0;padding: 0.3em;box-sizing: border-box;text-align: center;}#sk-container-id-14 label.sk-toggleable__label-arrow:before {content: \"▸\";float: left;margin-right: 0.25em;color: #696969;}#sk-container-id-14 label.sk-toggleable__label-arrow:hover:before {color: black;}#sk-container-id-14 div.sk-estimator:hover label.sk-toggleable__label-arrow:before {color: black;}#sk-container-id-14 div.sk-toggleable__content {max-height: 0;max-width: 0;overflow: hidden;text-align: left;background-color: #f0f8ff;}#sk-container-id-14 div.sk-toggleable__content pre {margin: 0.2em;color: black;border-radius: 0.25em;background-color: #f0f8ff;}#sk-container-id-14 input.sk-toggleable__control:checked~div.sk-toggleable__content {max-height: 200px;max-width: 100%;overflow: auto;}#sk-container-id-14 input.sk-toggleable__control:checked~label.sk-toggleable__label-arrow:before {content: \"▾\";}#sk-container-id-14 div.sk-estimator input.sk-toggleable__control:checked~label.sk-toggleable__label {background-color: #d4ebff;}#sk-container-id-14 div.sk-label input.sk-toggleable__control:checked~label.sk-toggleable__label {background-color: #d4ebff;}#sk-container-id-14 input.sk-hidden--visually {border: 0;clip: rect(1px 1px 1px 1px);clip: rect(1px, 1px, 1px, 1px);height: 1px;margin: -1px;overflow: hidden;padding: 0;position: absolute;width: 1px;}#sk-container-id-14 div.sk-estimator {font-family: monospace;background-color: #f0f8ff;border: 1px dotted black;border-radius: 0.25em;box-sizing: border-box;margin-bottom: 0.5em;}#sk-container-id-14 div.sk-estimator:hover {background-color: #d4ebff;}#sk-container-id-14 div.sk-parallel-item::after {content: \"\";width: 100%;border-bottom: 1px solid gray;flex-grow: 1;}#sk-container-id-14 div.sk-label:hover label.sk-toggleable__label {background-color: #d4ebff;}#sk-container-id-14 div.sk-serial::before {content: \"\";position: absolute;border-left: 1px solid gray;box-sizing: border-box;top: 0;bottom: 0;left: 50%;z-index: 0;}#sk-container-id-14 div.sk-serial {display: flex;flex-direction: column;align-items: center;background-color: white;padding-right: 0.2em;padding-left: 0.2em;position: relative;}#sk-container-id-14 div.sk-item {position: relative;z-index: 1;}#sk-container-id-14 div.sk-parallel {display: flex;align-items: stretch;justify-content: center;background-color: white;position: relative;}#sk-container-id-14 div.sk-item::before, #sk-container-id-14 div.sk-parallel-item::before {content: \"\";position: absolute;border-left: 1px solid gray;box-sizing: border-box;top: 0;bottom: 0;left: 50%;z-index: -1;}#sk-container-id-14 div.sk-parallel-item {display: flex;flex-direction: column;z-index: 1;position: relative;background-color: white;}#sk-container-id-14 div.sk-parallel-item:first-child::after {align-self: flex-end;width: 50%;}#sk-container-id-14 div.sk-parallel-item:last-child::after {align-self: flex-start;width: 50%;}#sk-container-id-14 div.sk-parallel-item:only-child::after {width: 0;}#sk-container-id-14 div.sk-dashed-wrapped {border: 1px dashed gray;margin: 0 0.4em 0.5em 0.4em;box-sizing: border-box;padding-bottom: 0.4em;background-color: white;}#sk-container-id-14 div.sk-label label {font-family: monospace;font-weight: bold;display: inline-block;line-height: 1.2em;}#sk-container-id-14 div.sk-label-container {text-align: center;}#sk-container-id-14 div.sk-container {/* jupyter's `normalize.less` sets `[hidden] { display: none; }` but bootstrap.min.css set `[hidden] { display: none !important; }` so we also need the `!important` here to be able to override the default hidden behavior on the sphinx rendered scikit-learn.org. See: https://github.com/scikit-learn/scikit-learn/issues/21755 */display: inline-block !important;position: relative;}#sk-container-id-14 div.sk-text-repr-fallback {display: none;}</style><div id=\"sk-container-id-14\" class=\"sk-top-container\"><div class=\"sk-text-repr-fallback\"><pre>Pipeline(steps=[(&#x27;functiontransformer-1&#x27;,\n",
       "                 FunctionTransformer(func=&lt;function add_date_from_1990 at 0x000001FF84AEDC60&gt;)),\n",
       "                (&#x27;functiontransformer-2&#x27;,\n",
       "                 FunctionTransformer(func=&lt;function add_age_levels at 0x000001FF84B588B0&gt;)),\n",
       "                (&#x27;functiontransformer-3&#x27;,\n",
       "                 FunctionTransformer(func=&lt;function add_diagnosis_and_sss at 0x000001FF84B5AB90&gt;)),\n",
       "                (&#x27;functiontransformer-4&#x27;,\n",
       "                 Functio...\n",
       "                                                               &#x27;zodiac_Cancer&#x27;,\n",
       "                                                               &#x27;agebin_6&#x27;,\n",
       "                                                               &#x27;agebin_7&#x27;,\n",
       "                                                               &#x27;zodiac_Gemini&#x27;,\n",
       "                                                               &#x27;agebin_4&#x27;,\n",
       "                                                               &#x27;institution_id_30&#x27;,\n",
       "                                                               &#x27;critical_age_l&#x27;,\n",
       "                                                               &#x27;agebin_1&#x27;, &#x27;d2&#x27;,\n",
       "                                                               &#x27;agebin_8&#x27;,\n",
       "                                                               &#x27;institution_id_10&#x27;,\n",
       "                                                               &#x27;institution_id_17&#x27;,\n",
       "                                                               &#x27;institution_id_18&#x27;,\n",
       "                                                               &#x27;agebin_2&#x27;,\n",
       "                                                               &#x27;institution_id_16&#x27;,\n",
       "                                                               &#x27;institution_id_19&#x27;,\n",
       "                                                               &#x27;age_percentile&#x27;,\n",
       "                                                               &#x27;institution_id_14&#x27;,\n",
       "                                                               &#x27;d3&#x27;,\n",
       "                                                               &#x27;age_quantile&#x27;,\n",
       "                                                               &#x27;institution_id_29&#x27;, ...]})),\n",
       "                (&#x27;dropmissingdata&#x27;, DropMissingData())])</pre><b>In a Jupyter environment, please rerun this cell to show the HTML representation or trust the notebook. <br />On GitHub, the HTML representation is unable to render, please try loading this page with nbviewer.org.</b></div><div class=\"sk-container\" hidden><div class=\"sk-item sk-dashed-wrapped\"><div class=\"sk-label-container\"><div class=\"sk-label sk-toggleable\"><input class=\"sk-toggleable__control sk-hidden--visually\" id=\"sk-estimator-id-76\" type=\"checkbox\" ><label for=\"sk-estimator-id-76\" class=\"sk-toggleable__label sk-toggleable__label-arrow\">Pipeline</label><div class=\"sk-toggleable__content\"><pre>Pipeline(steps=[(&#x27;functiontransformer-1&#x27;,\n",
       "                 FunctionTransformer(func=&lt;function add_date_from_1990 at 0x000001FF84AEDC60&gt;)),\n",
       "                (&#x27;functiontransformer-2&#x27;,\n",
       "                 FunctionTransformer(func=&lt;function add_age_levels at 0x000001FF84B588B0&gt;)),\n",
       "                (&#x27;functiontransformer-3&#x27;,\n",
       "                 FunctionTransformer(func=&lt;function add_diagnosis_and_sss at 0x000001FF84B5AB90&gt;)),\n",
       "                (&#x27;functiontransformer-4&#x27;,\n",
       "                 Functio...\n",
       "                                                               &#x27;zodiac_Cancer&#x27;,\n",
       "                                                               &#x27;agebin_6&#x27;,\n",
       "                                                               &#x27;agebin_7&#x27;,\n",
       "                                                               &#x27;zodiac_Gemini&#x27;,\n",
       "                                                               &#x27;agebin_4&#x27;,\n",
       "                                                               &#x27;institution_id_30&#x27;,\n",
       "                                                               &#x27;critical_age_l&#x27;,\n",
       "                                                               &#x27;agebin_1&#x27;, &#x27;d2&#x27;,\n",
       "                                                               &#x27;agebin_8&#x27;,\n",
       "                                                               &#x27;institution_id_10&#x27;,\n",
       "                                                               &#x27;institution_id_17&#x27;,\n",
       "                                                               &#x27;institution_id_18&#x27;,\n",
       "                                                               &#x27;agebin_2&#x27;,\n",
       "                                                               &#x27;institution_id_16&#x27;,\n",
       "                                                               &#x27;institution_id_19&#x27;,\n",
       "                                                               &#x27;age_percentile&#x27;,\n",
       "                                                               &#x27;institution_id_14&#x27;,\n",
       "                                                               &#x27;d3&#x27;,\n",
       "                                                               &#x27;age_quantile&#x27;,\n",
       "                                                               &#x27;institution_id_29&#x27;, ...]})),\n",
       "                (&#x27;dropmissingdata&#x27;, DropMissingData())])</pre></div></div></div><div class=\"sk-serial\"><div class=\"sk-item\"><div class=\"sk-estimator sk-toggleable\"><input class=\"sk-toggleable__control sk-hidden--visually\" id=\"sk-estimator-id-77\" type=\"checkbox\" ><label for=\"sk-estimator-id-77\" class=\"sk-toggleable__label sk-toggleable__label-arrow\">FunctionTransformer</label><div class=\"sk-toggleable__content\"><pre>FunctionTransformer(func=&lt;function add_date_from_1990 at 0x000001FF84AEDC60&gt;)</pre></div></div></div><div class=\"sk-item\"><div class=\"sk-estimator sk-toggleable\"><input class=\"sk-toggleable__control sk-hidden--visually\" id=\"sk-estimator-id-78\" type=\"checkbox\" ><label for=\"sk-estimator-id-78\" class=\"sk-toggleable__label sk-toggleable__label-arrow\">FunctionTransformer</label><div class=\"sk-toggleable__content\"><pre>FunctionTransformer(func=&lt;function add_age_levels at 0x000001FF84B588B0&gt;)</pre></div></div></div><div class=\"sk-item\"><div class=\"sk-estimator sk-toggleable\"><input class=\"sk-toggleable__control sk-hidden--visually\" id=\"sk-estimator-id-79\" type=\"checkbox\" ><label for=\"sk-estimator-id-79\" class=\"sk-toggleable__label sk-toggleable__label-arrow\">FunctionTransformer</label><div class=\"sk-toggleable__content\"><pre>FunctionTransformer(func=&lt;function add_diagnosis_and_sss at 0x000001FF84B5AB90&gt;)</pre></div></div></div><div class=\"sk-item\"><div class=\"sk-estimator sk-toggleable\"><input class=\"sk-toggleable__control sk-hidden--visually\" id=\"sk-estimator-id-80\" type=\"checkbox\" ><label for=\"sk-estimator-id-80\" class=\"sk-toggleable__label sk-toggleable__label-arrow\">FunctionTransformer</label><div class=\"sk-toggleable__content\"><pre>FunctionTransformer(func=&lt;function remove_age_errors at 0x000001FF84AEDEA0&gt;)</pre></div></div></div><div class=\"sk-item\"><div class=\"sk-estimator sk-toggleable\"><input class=\"sk-toggleable__control sk-hidden--visually\" id=\"sk-estimator-id-81\" type=\"checkbox\" ><label for=\"sk-estimator-id-81\" class=\"sk-toggleable__label sk-toggleable__label-arrow\">FunctionTransformer</label><div class=\"sk-toggleable__content\"><pre>FunctionTransformer(func=&lt;function add_age_statistics at 0x000001FF84B58EE0&gt;)</pre></div></div></div><div class=\"sk-item\"><div class=\"sk-estimator sk-toggleable\"><input class=\"sk-toggleable__control sk-hidden--visually\" id=\"sk-estimator-id-82\" type=\"checkbox\" ><label for=\"sk-estimator-id-82\" class=\"sk-toggleable__label sk-toggleable__label-arrow\">FunctionTransformer</label><div class=\"sk-toggleable__content\"><pre>FunctionTransformer(func=&lt;function critical_age at 0x000001FF84B592D0&gt;)</pre></div></div></div><div class=\"sk-item\"><div class=\"sk-estimator sk-toggleable\"><input class=\"sk-toggleable__control sk-hidden--visually\" id=\"sk-estimator-id-83\" type=\"checkbox\" ><label for=\"sk-estimator-id-83\" class=\"sk-toggleable__label sk-toggleable__label-arrow\">FunctionTransformer</label><div class=\"sk-toggleable__content\"><pre>FunctionTransformer(func=&lt;function add_age_bins at 0x000001FF84B5A680&gt;)</pre></div></div></div><div class=\"sk-item\"><div class=\"sk-estimator sk-toggleable\"><input class=\"sk-toggleable__control sk-hidden--visually\" id=\"sk-estimator-id-84\" type=\"checkbox\" ><label for=\"sk-estimator-id-84\" class=\"sk-toggleable__label sk-toggleable__label-arrow\">FunctionTransformer</label><div class=\"sk-toggleable__content\"><pre>FunctionTransformer(func=&lt;function make_zodiac_ohe at 0x000001FF84866B00&gt;)</pre></div></div></div><div class=\"sk-item\"><div class=\"sk-estimator sk-toggleable\"><input class=\"sk-toggleable__control sk-hidden--visually\" id=\"sk-estimator-id-85\" type=\"checkbox\" ><label for=\"sk-estimator-id-85\" class=\"sk-toggleable__label sk-toggleable__label-arrow\">FunctionTransformer</label><div class=\"sk-toggleable__content\"><pre>FunctionTransformer(func=&lt;function make_ohe_columns at 0x000001FF84B5B760&gt;)</pre></div></div></div><div class=\"sk-item\"><div class=\"sk-estimator sk-toggleable\"><input class=\"sk-toggleable__control sk-hidden--visually\" id=\"sk-estimator-id-86\" type=\"checkbox\" ><label for=\"sk-estimator-id-86\" class=\"sk-toggleable__label sk-toggleable__label-arrow\">FunctionTransformer</label><div class=\"sk-toggleable__content\"><pre>FunctionTransformer(func=&lt;function remove_unrelated_features at 0x000001FF88D5AB90&gt;)</pre></div></div></div><div class=\"sk-item\"><div class=\"sk-estimator sk-toggleable\"><input class=\"sk-toggleable__control sk-hidden--visually\" id=\"sk-estimator-id-87\" type=\"checkbox\" ><label for=\"sk-estimator-id-87\" class=\"sk-toggleable__label sk-toggleable__label-arrow\">FunctionTransformer</label><div class=\"sk-toggleable__content\"><pre>FunctionTransformer(func=&lt;function remove_features at 0x000001FF8BF4D2D0&gt;,\n",
       "                    kw_args={&#x27;column_names&#x27;: [&#x27;institution_id_6&#x27;,\n",
       "                                              &#x27;zodiac_Libra&#x27;, &#x27;zodiac_Leo&#x27;,\n",
       "                                              &#x27;institution_id_12&#x27;,\n",
       "                                              &#x27;institution_id_26&#x27;,\n",
       "                                              &#x27;institution_id_21&#x27;,\n",
       "                                              &#x27;zodiac_Aquarius&#x27;,\n",
       "                                              &#x27;institution_id_28&#x27;,\n",
       "                                              &#x27;zodiac_Pisces&#x27;, &#x27;zodiac_Cancer&#x27;,\n",
       "                                              &#x27;agebin_6&#x27;, &#x27;agebin_7&#x27;,\n",
       "                                              &#x27;zodiac_Gemini&#x27;, &#x27;agebin_4&#x27;,\n",
       "                                              &#x27;institution_id_30&#x27;,\n",
       "                                              &#x27;critical_age_l&#x27;, &#x27;agebin_1&#x27;,\n",
       "                                              &#x27;d2&#x27;, &#x27;agebin_8&#x27;,\n",
       "                                              &#x27;institution_id_10&#x27;,\n",
       "                                              &#x27;institution_id_17&#x27;,\n",
       "                                              &#x27;institution_id_18&#x27;, &#x27;agebin_2&#x27;,\n",
       "                                              &#x27;institution_id_16&#x27;,\n",
       "                                              &#x27;institution_id_19&#x27;,\n",
       "                                              &#x27;age_percentile&#x27;,\n",
       "                                              &#x27;institution_id_14&#x27;, &#x27;d3&#x27;,\n",
       "                                              &#x27;age_quantile&#x27;,\n",
       "                                              &#x27;institution_id_29&#x27;, ...]})</pre></div></div></div><div class=\"sk-item\"><div class=\"sk-estimator sk-toggleable\"><input class=\"sk-toggleable__control sk-hidden--visually\" id=\"sk-estimator-id-88\" type=\"checkbox\" ><label for=\"sk-estimator-id-88\" class=\"sk-toggleable__label sk-toggleable__label-arrow\">DropMissingData</label><div class=\"sk-toggleable__content\"><pre>DropMissingData()</pre></div></div></div></div></div></div></div>"
      ],
      "text/plain": [
       "Pipeline(steps=[('functiontransformer-1',\n",
       "                 FunctionTransformer(func=<function add_date_from_1990 at 0x000001FF84AEDC60>)),\n",
       "                ('functiontransformer-2',\n",
       "                 FunctionTransformer(func=<function add_age_levels at 0x000001FF84B588B0>)),\n",
       "                ('functiontransformer-3',\n",
       "                 FunctionTransformer(func=<function add_diagnosis_and_sss at 0x000001FF84B5AB90>)),\n",
       "                ('functiontransformer-4',\n",
       "                 Functio...\n",
       "                                                               'zodiac_Cancer',\n",
       "                                                               'agebin_6',\n",
       "                                                               'agebin_7',\n",
       "                                                               'zodiac_Gemini',\n",
       "                                                               'agebin_4',\n",
       "                                                               'institution_id_30',\n",
       "                                                               'critical_age_l',\n",
       "                                                               'agebin_1', 'd2',\n",
       "                                                               'agebin_8',\n",
       "                                                               'institution_id_10',\n",
       "                                                               'institution_id_17',\n",
       "                                                               'institution_id_18',\n",
       "                                                               'agebin_2',\n",
       "                                                               'institution_id_16',\n",
       "                                                               'institution_id_19',\n",
       "                                                               'age_percentile',\n",
       "                                                               'institution_id_14',\n",
       "                                                               'd3',\n",
       "                                                               'age_quantile',\n",
       "                                                               'institution_id_29', ...]})),\n",
       "                ('dropmissingdata', DropMissingData())])"
      ]
     },
     "execution_count": 70,
     "metadata": {},
     "output_type": "execute_result"
    }
   ],
   "source": [
    "# Выбираем лучшую модель обработки данных\n",
    "\n",
    "the_chosen_data_pipeline = data_pipeline\n",
    "the_chosen_data_pipeline"
   ]
  },
  {
   "cell_type": "code",
   "execution_count": 71,
   "metadata": {
    "ExecuteTime": {
     "end_time": "2023-10-03T14:53:02.673463Z",
     "start_time": "2023-10-03T14:53:02.666436Z"
    },
    "colab": {
     "base_uri": "https://localhost:8080/",
     "height": 91
    },
    "id": "FovDeIi_O1ch",
    "outputId": "b5f3ae86-dce8-4d2d-c873-06228f83a585"
   },
   "outputs": [
    {
     "data": {
      "text/html": [
       "<style>#sk-container-id-15 {color: black;background-color: white;}#sk-container-id-15 pre{padding: 0;}#sk-container-id-15 div.sk-toggleable {background-color: white;}#sk-container-id-15 label.sk-toggleable__label {cursor: pointer;display: block;width: 100%;margin-bottom: 0;padding: 0.3em;box-sizing: border-box;text-align: center;}#sk-container-id-15 label.sk-toggleable__label-arrow:before {content: \"▸\";float: left;margin-right: 0.25em;color: #696969;}#sk-container-id-15 label.sk-toggleable__label-arrow:hover:before {color: black;}#sk-container-id-15 div.sk-estimator:hover label.sk-toggleable__label-arrow:before {color: black;}#sk-container-id-15 div.sk-toggleable__content {max-height: 0;max-width: 0;overflow: hidden;text-align: left;background-color: #f0f8ff;}#sk-container-id-15 div.sk-toggleable__content pre {margin: 0.2em;color: black;border-radius: 0.25em;background-color: #f0f8ff;}#sk-container-id-15 input.sk-toggleable__control:checked~div.sk-toggleable__content {max-height: 200px;max-width: 100%;overflow: auto;}#sk-container-id-15 input.sk-toggleable__control:checked~label.sk-toggleable__label-arrow:before {content: \"▾\";}#sk-container-id-15 div.sk-estimator input.sk-toggleable__control:checked~label.sk-toggleable__label {background-color: #d4ebff;}#sk-container-id-15 div.sk-label input.sk-toggleable__control:checked~label.sk-toggleable__label {background-color: #d4ebff;}#sk-container-id-15 input.sk-hidden--visually {border: 0;clip: rect(1px 1px 1px 1px);clip: rect(1px, 1px, 1px, 1px);height: 1px;margin: -1px;overflow: hidden;padding: 0;position: absolute;width: 1px;}#sk-container-id-15 div.sk-estimator {font-family: monospace;background-color: #f0f8ff;border: 1px dotted black;border-radius: 0.25em;box-sizing: border-box;margin-bottom: 0.5em;}#sk-container-id-15 div.sk-estimator:hover {background-color: #d4ebff;}#sk-container-id-15 div.sk-parallel-item::after {content: \"\";width: 100%;border-bottom: 1px solid gray;flex-grow: 1;}#sk-container-id-15 div.sk-label:hover label.sk-toggleable__label {background-color: #d4ebff;}#sk-container-id-15 div.sk-serial::before {content: \"\";position: absolute;border-left: 1px solid gray;box-sizing: border-box;top: 0;bottom: 0;left: 50%;z-index: 0;}#sk-container-id-15 div.sk-serial {display: flex;flex-direction: column;align-items: center;background-color: white;padding-right: 0.2em;padding-left: 0.2em;position: relative;}#sk-container-id-15 div.sk-item {position: relative;z-index: 1;}#sk-container-id-15 div.sk-parallel {display: flex;align-items: stretch;justify-content: center;background-color: white;position: relative;}#sk-container-id-15 div.sk-item::before, #sk-container-id-15 div.sk-parallel-item::before {content: \"\";position: absolute;border-left: 1px solid gray;box-sizing: border-box;top: 0;bottom: 0;left: 50%;z-index: -1;}#sk-container-id-15 div.sk-parallel-item {display: flex;flex-direction: column;z-index: 1;position: relative;background-color: white;}#sk-container-id-15 div.sk-parallel-item:first-child::after {align-self: flex-end;width: 50%;}#sk-container-id-15 div.sk-parallel-item:last-child::after {align-self: flex-start;width: 50%;}#sk-container-id-15 div.sk-parallel-item:only-child::after {width: 0;}#sk-container-id-15 div.sk-dashed-wrapped {border: 1px dashed gray;margin: 0 0.4em 0.5em 0.4em;box-sizing: border-box;padding-bottom: 0.4em;background-color: white;}#sk-container-id-15 div.sk-label label {font-family: monospace;font-weight: bold;display: inline-block;line-height: 1.2em;}#sk-container-id-15 div.sk-label-container {text-align: center;}#sk-container-id-15 div.sk-container {/* jupyter's `normalize.less` sets `[hidden] { display: none; }` but bootstrap.min.css set `[hidden] { display: none !important; }` so we also need the `!important` here to be able to override the default hidden behavior on the sphinx rendered scikit-learn.org. See: https://github.com/scikit-learn/scikit-learn/issues/21755 */display: inline-block !important;position: relative;}#sk-container-id-15 div.sk-text-repr-fallback {display: none;}</style><div id=\"sk-container-id-15\" class=\"sk-top-container\"><div class=\"sk-text-repr-fallback\"><pre>Pipeline(steps=[(&#x27;LR&#x27;, LinearRegression())])</pre><b>In a Jupyter environment, please rerun this cell to show the HTML representation or trust the notebook. <br />On GitHub, the HTML representation is unable to render, please try loading this page with nbviewer.org.</b></div><div class=\"sk-container\" hidden><div class=\"sk-item sk-dashed-wrapped\"><div class=\"sk-label-container\"><div class=\"sk-label sk-toggleable\"><input class=\"sk-toggleable__control sk-hidden--visually\" id=\"sk-estimator-id-89\" type=\"checkbox\" ><label for=\"sk-estimator-id-89\" class=\"sk-toggleable__label sk-toggleable__label-arrow\">Pipeline</label><div class=\"sk-toggleable__content\"><pre>Pipeline(steps=[(&#x27;LR&#x27;, LinearRegression())])</pre></div></div></div><div class=\"sk-serial\"><div class=\"sk-item\"><div class=\"sk-estimator sk-toggleable\"><input class=\"sk-toggleable__control sk-hidden--visually\" id=\"sk-estimator-id-90\" type=\"checkbox\" ><label for=\"sk-estimator-id-90\" class=\"sk-toggleable__label sk-toggleable__label-arrow\">LinearRegression</label><div class=\"sk-toggleable__content\"><pre>LinearRegression()</pre></div></div></div></div></div></div></div>"
      ],
      "text/plain": [
       "Pipeline(steps=[('LR', LinearRegression())])"
      ]
     },
     "execution_count": 71,
     "metadata": {},
     "output_type": "execute_result"
    }
   ],
   "source": [
    "# Выбираем набор алгоритмов, показавщий себя лучше других\n",
    "\n",
    "# Для примера: решили, что эксперимент \"Linear Regression\" показал\n",
    "# лучшие результаты. Тогда:\n",
    "name = 'Linear Regression'\n",
    "the_chosen_algo_pipeline = experiments[name].pipeline\n",
    "the_chosen_algo_pipeline"
   ]
  },
  {
   "cell_type": "code",
   "execution_count": 72,
   "metadata": {
    "ExecuteTime": {
     "end_time": "2023-10-03T14:53:17.543197Z",
     "start_time": "2023-10-03T14:53:15.089551Z"
    },
    "colab": {
     "base_uri": "https://localhost:8080/",
     "height": 211
    },
    "id": "I268Ww95JybU",
    "outputId": "c469d537-f7d3-46d3-fa05-29b19e03eb72"
   },
   "outputs": [
    {
     "name": "stdout",
     "output_type": "stream",
     "text": [
      "['gender', 'institution_id']\n"
     ]
    },
    {
     "data": {
      "text/html": [
       "<div>\n",
       "<style scoped>\n",
       "    .dataframe tbody tr th:only-of-type {\n",
       "        vertical-align: middle;\n",
       "    }\n",
       "\n",
       "    .dataframe tbody tr th {\n",
       "        vertical-align: top;\n",
       "    }\n",
       "\n",
       "    .dataframe thead th {\n",
       "        text-align: right;\n",
       "    }\n",
       "</style>\n",
       "<table border=\"1\" class=\"dataframe\">\n",
       "  <thead>\n",
       "    <tr style=\"text-align: right;\">\n",
       "      <th></th>\n",
       "      <th>id</th>\n",
       "      <th>age</th>\n",
       "      <th>dose</th>\n",
       "      <th>prev_INR(MHO)</th>\n",
       "      <th>atrial_fibrillation</th>\n",
       "      <th>mitral_valve</th>\n",
       "      <th>aortal_valve</th>\n",
       "      <th>date_diff</th>\n",
       "      <th>INR(MHO)</th>\n",
       "      <th>sample</th>\n",
       "      <th>...</th>\n",
       "      <th>institution_id_9</th>\n",
       "      <th>institution_id_11</th>\n",
       "      <th>institution_id_13</th>\n",
       "      <th>institution_id_20</th>\n",
       "      <th>institution_id_22</th>\n",
       "      <th>institution_id_23</th>\n",
       "      <th>institution_id_24</th>\n",
       "      <th>institution_id_25</th>\n",
       "      <th>institution_id_27</th>\n",
       "      <th>institution_id_31</th>\n",
       "    </tr>\n",
       "  </thead>\n",
       "  <tbody>\n",
       "    <tr>\n",
       "      <th>0</th>\n",
       "      <td>140361892057136</td>\n",
       "      <td>57</td>\n",
       "      <td>7.5</td>\n",
       "      <td>3.11</td>\n",
       "      <td>1</td>\n",
       "      <td>0</td>\n",
       "      <td>0</td>\n",
       "      <td>13.0</td>\n",
       "      <td>3.32</td>\n",
       "      <td>1</td>\n",
       "      <td>...</td>\n",
       "      <td>0</td>\n",
       "      <td>0</td>\n",
       "      <td>0</td>\n",
       "      <td>1</td>\n",
       "      <td>0</td>\n",
       "      <td>0</td>\n",
       "      <td>0</td>\n",
       "      <td>0</td>\n",
       "      <td>0</td>\n",
       "      <td>0</td>\n",
       "    </tr>\n",
       "    <tr>\n",
       "      <th>1</th>\n",
       "      <td>140361892057136</td>\n",
       "      <td>57</td>\n",
       "      <td>7.5</td>\n",
       "      <td>3.32</td>\n",
       "      <td>1</td>\n",
       "      <td>0</td>\n",
       "      <td>0</td>\n",
       "      <td>15.0</td>\n",
       "      <td>2.01</td>\n",
       "      <td>2</td>\n",
       "      <td>...</td>\n",
       "      <td>0</td>\n",
       "      <td>0</td>\n",
       "      <td>0</td>\n",
       "      <td>1</td>\n",
       "      <td>0</td>\n",
       "      <td>0</td>\n",
       "      <td>0</td>\n",
       "      <td>0</td>\n",
       "      <td>0</td>\n",
       "      <td>0</td>\n",
       "    </tr>\n",
       "    <tr>\n",
       "      <th>2</th>\n",
       "      <td>140361892057264</td>\n",
       "      <td>50</td>\n",
       "      <td>5.0</td>\n",
       "      <td>2.01</td>\n",
       "      <td>0</td>\n",
       "      <td>1</td>\n",
       "      <td>0</td>\n",
       "      <td>26.0</td>\n",
       "      <td>2.75</td>\n",
       "      <td>1</td>\n",
       "      <td>...</td>\n",
       "      <td>0</td>\n",
       "      <td>0</td>\n",
       "      <td>0</td>\n",
       "      <td>1</td>\n",
       "      <td>0</td>\n",
       "      <td>0</td>\n",
       "      <td>0</td>\n",
       "      <td>0</td>\n",
       "      <td>0</td>\n",
       "      <td>0</td>\n",
       "    </tr>\n",
       "  </tbody>\n",
       "</table>\n",
       "<p>3 rows × 37 columns</p>\n",
       "</div>"
      ],
      "text/plain": [
       "                id  age  dose  prev_INR(MHO)  atrial_fibrillation  \\\n",
       "0  140361892057136   57   7.5           3.11                    1   \n",
       "1  140361892057136   57   7.5           3.32                    1   \n",
       "2  140361892057264   50   5.0           2.01                    0   \n",
       "\n",
       "   mitral_valve  aortal_valve  date_diff  INR(MHO)  sample  ...  \\\n",
       "0             0             0       13.0      3.32       1  ...   \n",
       "1             0             0       15.0      2.01       2  ...   \n",
       "2             1             0       26.0      2.75       1  ...   \n",
       "\n",
       "   institution_id_9  institution_id_11  institution_id_13  institution_id_20  \\\n",
       "0                 0                  0                  0                  1   \n",
       "1                 0                  0                  0                  1   \n",
       "2                 0                  0                  0                  1   \n",
       "\n",
       "   institution_id_22  institution_id_23  institution_id_24  institution_id_25  \\\n",
       "0                  0                  0                  0                  0   \n",
       "1                  0                  0                  0                  0   \n",
       "2                  0                  0                  0                  0   \n",
       "\n",
       "   institution_id_27  institution_id_31  \n",
       "0                  0                  0  \n",
       "1                  0                  0  \n",
       "2                  0                  0  \n",
       "\n",
       "[3 rows x 37 columns]"
      ]
     },
     "execution_count": 72,
     "metadata": {},
     "output_type": "execute_result"
    }
   ],
   "source": [
    "# Загружаем все имеющиеся данные и предобрабатываем их\n",
    "\n",
    "full_df = load_dataset()\n",
    "df_for_algo = the_chosen_data_pipeline.fit_transform(full_df)\n",
    "df_for_algo.head(3)"
   ]
  },
  {
   "cell_type": "code",
   "execution_count": 73,
   "metadata": {
    "ExecuteTime": {
     "end_time": "2023-10-03T14:53:41.098652Z",
     "start_time": "2023-10-03T14:53:41.080489Z"
    },
    "id": "EYGaDc9ttYCG"
   },
   "outputs": [],
   "source": [
    "# Обучаем модель на предобработанных данных\n",
    "\n",
    "X, y = to_Xy(df_for_algo)\n",
    "the_chosen_algo_pipeline.fit(X, y);"
   ]
  },
  {
   "cell_type": "code",
   "execution_count": 74,
   "metadata": {
    "ExecuteTime": {
     "end_time": "2023-10-03T14:53:43.143965Z",
     "start_time": "2023-10-03T14:53:43.137659Z"
    },
    "id": "afwczgOUJTyw"
   },
   "outputs": [],
   "source": [
    "# Теперь можно использовать модель для предсказаний.\n",
    "# Например, для проверки получим результат на известных данных\n",
    "\n",
    "new_X = X\n",
    "y_pred = the_chosen_algo_pipeline.predict(new_X)"
   ]
  },
  {
   "cell_type": "code",
   "execution_count": 84,
   "metadata": {
    "ExecuteTime": {
     "end_time": "2023-10-03T15:05:31.108602Z",
     "start_time": "2023-10-03T15:05:30.618801Z"
    },
    "colab": {
     "base_uri": "https://localhost:8080/",
     "height": 456
    },
    "id": "OQXTzBv8w5ce",
    "outputId": "69a210f5-636b-4995-b76f-a5e14de55113"
   },
   "outputs": [
    {
     "data": {
      "image/png": "[encoded data removed]",
      "text/plain": [
       "<Figure size 4000x1600 with 1 Axes>"
      ]
     },
     "metadata": {},
     "output_type": "display_data"
    }
   ],
   "source": [
    "plt.scatter(y, y_pred)\n",
    "plt.title('Сравнение предсказанной и назначенной доз')\n",
    "plt.xlabel('Предсказанная доза')\n",
    "plt.ylabel('Назначенная доза');"
   ]
  },
  {
   "cell_type": "markdown",
   "metadata": {
    "id": "dqhLfLxmVG3m"
   },
   "source": [
    "# Построение pipeline-а TPOT–ом"
   ]
  },
  {
   "cell_type": "code",
   "execution_count": 76,
   "metadata": {
    "ExecuteTime": {
     "end_time": "2023-10-03T15:01:07.528645Z",
     "start_time": "2023-10-03T15:01:06.082438Z"
    },
    "colab": {
     "base_uri": "https://localhost:8080/",
     "height": 193
    },
    "id": "uZvXP_vVWgC8",
    "outputId": "cf152681-5bf8-4674-bcc6-f33272195e20"
   },
   "outputs": [
    {
     "data": {
      "text/html": [
       "<div>\n",
       "<style scoped>\n",
       "    .dataframe tbody tr th:only-of-type {\n",
       "        vertical-align: middle;\n",
       "    }\n",
       "\n",
       "    .dataframe tbody tr th {\n",
       "        vertical-align: top;\n",
       "    }\n",
       "\n",
       "    .dataframe thead th {\n",
       "        text-align: right;\n",
       "    }\n",
       "</style>\n",
       "<table border=\"1\" class=\"dataframe\">\n",
       "  <thead>\n",
       "    <tr style=\"text-align: right;\">\n",
       "      <th></th>\n",
       "      <th>age</th>\n",
       "      <th>dose</th>\n",
       "      <th>prev_INR(MHO)</th>\n",
       "      <th>atrial_fibrillation</th>\n",
       "      <th>mitral_valve</th>\n",
       "      <th>aortal_valve</th>\n",
       "      <th>date_diff</th>\n",
       "      <th>INR(MHO)</th>\n",
       "      <th>sample</th>\n",
       "      <th>pass_dose</th>\n",
       "      <th>...</th>\n",
       "      <th>institution_id_22</th>\n",
       "      <th>institution_id_23</th>\n",
       "      <th>institution_id_24</th>\n",
       "      <th>institution_id_25</th>\n",
       "      <th>institution_id_26</th>\n",
       "      <th>institution_id_27</th>\n",
       "      <th>institution_id_28</th>\n",
       "      <th>institution_id_29</th>\n",
       "      <th>institution_id_30</th>\n",
       "      <th>institution_id_31</th>\n",
       "    </tr>\n",
       "  </thead>\n",
       "  <tbody>\n",
       "    <tr>\n",
       "      <th>0</th>\n",
       "      <td>57</td>\n",
       "      <td>7.5</td>\n",
       "      <td>3.11</td>\n",
       "      <td>1</td>\n",
       "      <td>0</td>\n",
       "      <td>0</td>\n",
       "      <td>13</td>\n",
       "      <td>3.32</td>\n",
       "      <td>1</td>\n",
       "      <td>0</td>\n",
       "      <td>...</td>\n",
       "      <td>0</td>\n",
       "      <td>0</td>\n",
       "      <td>0</td>\n",
       "      <td>0</td>\n",
       "      <td>0</td>\n",
       "      <td>0</td>\n",
       "      <td>0</td>\n",
       "      <td>0</td>\n",
       "      <td>0</td>\n",
       "      <td>0</td>\n",
       "    </tr>\n",
       "    <tr>\n",
       "      <th>1</th>\n",
       "      <td>57</td>\n",
       "      <td>7.5</td>\n",
       "      <td>3.32</td>\n",
       "      <td>1</td>\n",
       "      <td>0</td>\n",
       "      <td>0</td>\n",
       "      <td>15</td>\n",
       "      <td>2.01</td>\n",
       "      <td>2</td>\n",
       "      <td>0</td>\n",
       "      <td>...</td>\n",
       "      <td>0</td>\n",
       "      <td>0</td>\n",
       "      <td>0</td>\n",
       "      <td>0</td>\n",
       "      <td>0</td>\n",
       "      <td>0</td>\n",
       "      <td>0</td>\n",
       "      <td>0</td>\n",
       "      <td>0</td>\n",
       "      <td>0</td>\n",
       "    </tr>\n",
       "    <tr>\n",
       "      <th>2</th>\n",
       "      <td>50</td>\n",
       "      <td>5.0</td>\n",
       "      <td>2.01</td>\n",
       "      <td>0</td>\n",
       "      <td>1</td>\n",
       "      <td>0</td>\n",
       "      <td>26</td>\n",
       "      <td>2.75</td>\n",
       "      <td>1</td>\n",
       "      <td>0</td>\n",
       "      <td>...</td>\n",
       "      <td>0</td>\n",
       "      <td>0</td>\n",
       "      <td>0</td>\n",
       "      <td>0</td>\n",
       "      <td>0</td>\n",
       "      <td>0</td>\n",
       "      <td>0</td>\n",
       "      <td>0</td>\n",
       "      <td>0</td>\n",
       "      <td>0</td>\n",
       "    </tr>\n",
       "  </tbody>\n",
       "</table>\n",
       "<p>3 rows × 86 columns</p>\n",
       "</div>"
      ],
      "text/plain": [
       "   age  dose  prev_INR(MHO)  atrial_fibrillation  mitral_valve  aortal_valve  \\\n",
       "0   57   7.5           3.11                    1             0             0   \n",
       "1   57   7.5           3.32                    1             0             0   \n",
       "2   50   5.0           2.01                    0             1             0   \n",
       "\n",
       "   date_diff  INR(MHO)  sample  pass_dose  ...  institution_id_22  \\\n",
       "0         13      3.32       1          0  ...                  0   \n",
       "1         15      2.01       2          0  ...                  0   \n",
       "2         26      2.75       1          0  ...                  0   \n",
       "\n",
       "   institution_id_23  institution_id_24  institution_id_25  institution_id_26  \\\n",
       "0                  0                  0                  0                  0   \n",
       "1                  0                  0                  0                  0   \n",
       "2                  0                  0                  0                  0   \n",
       "\n",
       "   institution_id_27  institution_id_28  institution_id_29  institution_id_30  \\\n",
       "0                  0                  0                  0                  0   \n",
       "1                  0                  0                  0                  0   \n",
       "2                  0                  0                  0                  0   \n",
       "\n",
       "   institution_id_31  \n",
       "0                  0  \n",
       "1                  0  \n",
       "2                  0  \n",
       "\n",
       "[3 rows x 86 columns]"
      ]
     },
     "execution_count": 76,
     "metadata": {},
     "output_type": "execute_result"
    }
   ],
   "source": [
    "df = pd.read_excel(f'{ROOT_PATH}/data/processed/data_for_model.xlsx')\n",
    "df = df.drop('id', axis=1)\n",
    "df.head(3)"
   ]
  },
  {
   "cell_type": "code",
   "execution_count": 77,
   "metadata": {
    "ExecuteTime": {
     "end_time": "2023-10-03T15:01:22.520873Z",
     "start_time": "2023-10-03T15:01:19.175604Z"
    },
    "id": "giNmmhHvX5bn"
   },
   "outputs": [],
   "source": [
    "from tpot import TPOTRegressor\n",
    "from sklearn.model_selection import train_test_split"
   ]
  },
  {
   "cell_type": "code",
   "execution_count": 78,
   "metadata": {
    "ExecuteTime": {
     "end_time": "2023-10-03T15:01:29.947936Z",
     "start_time": "2023-10-03T15:01:28.648453Z"
    },
    "colab": {
     "base_uri": "https://localhost:8080/",
     "height": 193
    },
    "id": "3LZqQhb4zscE",
    "outputId": "4372b5fc-dc3f-46a6-f06c-a7a2486b871d"
   },
   "outputs": [
    {
     "data": {
      "text/html": [
       "<div>\n",
       "<style scoped>\n",
       "    .dataframe tbody tr th:only-of-type {\n",
       "        vertical-align: middle;\n",
       "    }\n",
       "\n",
       "    .dataframe tbody tr th {\n",
       "        vertical-align: top;\n",
       "    }\n",
       "\n",
       "    .dataframe thead th {\n",
       "        text-align: right;\n",
       "    }\n",
       "</style>\n",
       "<table border=\"1\" class=\"dataframe\">\n",
       "  <thead>\n",
       "    <tr style=\"text-align: right;\">\n",
       "      <th></th>\n",
       "      <th>age</th>\n",
       "      <th>dose</th>\n",
       "      <th>prev_INR(MHO)</th>\n",
       "      <th>atrial_fibrillation</th>\n",
       "      <th>mitral_valve</th>\n",
       "      <th>aortal_valve</th>\n",
       "      <th>date_diff</th>\n",
       "      <th>INR(MHO)</th>\n",
       "      <th>sample</th>\n",
       "      <th>pass_dose</th>\n",
       "      <th>...</th>\n",
       "      <th>institution_id_22</th>\n",
       "      <th>institution_id_23</th>\n",
       "      <th>institution_id_24</th>\n",
       "      <th>institution_id_25</th>\n",
       "      <th>institution_id_26</th>\n",
       "      <th>institution_id_27</th>\n",
       "      <th>institution_id_28</th>\n",
       "      <th>institution_id_29</th>\n",
       "      <th>institution_id_30</th>\n",
       "      <th>institution_id_31</th>\n",
       "    </tr>\n",
       "  </thead>\n",
       "  <tbody>\n",
       "    <tr>\n",
       "      <th>0</th>\n",
       "      <td>57</td>\n",
       "      <td>7.5</td>\n",
       "      <td>3.11</td>\n",
       "      <td>1</td>\n",
       "      <td>0</td>\n",
       "      <td>0</td>\n",
       "      <td>13</td>\n",
       "      <td>3.32</td>\n",
       "      <td>1</td>\n",
       "      <td>0</td>\n",
       "      <td>...</td>\n",
       "      <td>0</td>\n",
       "      <td>0</td>\n",
       "      <td>0</td>\n",
       "      <td>0</td>\n",
       "      <td>0</td>\n",
       "      <td>0</td>\n",
       "      <td>0</td>\n",
       "      <td>0</td>\n",
       "      <td>0</td>\n",
       "      <td>0</td>\n",
       "    </tr>\n",
       "    <tr>\n",
       "      <th>1</th>\n",
       "      <td>57</td>\n",
       "      <td>7.5</td>\n",
       "      <td>3.32</td>\n",
       "      <td>1</td>\n",
       "      <td>0</td>\n",
       "      <td>0</td>\n",
       "      <td>15</td>\n",
       "      <td>2.01</td>\n",
       "      <td>2</td>\n",
       "      <td>0</td>\n",
       "      <td>...</td>\n",
       "      <td>0</td>\n",
       "      <td>0</td>\n",
       "      <td>0</td>\n",
       "      <td>0</td>\n",
       "      <td>0</td>\n",
       "      <td>0</td>\n",
       "      <td>0</td>\n",
       "      <td>0</td>\n",
       "      <td>0</td>\n",
       "      <td>0</td>\n",
       "    </tr>\n",
       "    <tr>\n",
       "      <th>2</th>\n",
       "      <td>50</td>\n",
       "      <td>5.0</td>\n",
       "      <td>2.01</td>\n",
       "      <td>0</td>\n",
       "      <td>1</td>\n",
       "      <td>0</td>\n",
       "      <td>26</td>\n",
       "      <td>2.75</td>\n",
       "      <td>1</td>\n",
       "      <td>0</td>\n",
       "      <td>...</td>\n",
       "      <td>0</td>\n",
       "      <td>0</td>\n",
       "      <td>0</td>\n",
       "      <td>0</td>\n",
       "      <td>0</td>\n",
       "      <td>0</td>\n",
       "      <td>0</td>\n",
       "      <td>0</td>\n",
       "      <td>0</td>\n",
       "      <td>0</td>\n",
       "    </tr>\n",
       "  </tbody>\n",
       "</table>\n",
       "<p>3 rows × 86 columns</p>\n",
       "</div>"
      ],
      "text/plain": [
       "   age  dose  prev_INR(MHO)  atrial_fibrillation  mitral_valve  aortal_valve  \\\n",
       "0   57   7.5           3.11                    1             0             0   \n",
       "1   57   7.5           3.32                    1             0             0   \n",
       "2   50   5.0           2.01                    0             1             0   \n",
       "\n",
       "   date_diff  INR(MHO)  sample  pass_dose  ...  institution_id_22  \\\n",
       "0         13      3.32       1          0  ...                  0   \n",
       "1         15      2.01       2          0  ...                  0   \n",
       "2         26      2.75       1          0  ...                  0   \n",
       "\n",
       "   institution_id_23  institution_id_24  institution_id_25  institution_id_26  \\\n",
       "0                  0                  0                  0                  0   \n",
       "1                  0                  0                  0                  0   \n",
       "2                  0                  0                  0                  0   \n",
       "\n",
       "   institution_id_27  institution_id_28  institution_id_29  institution_id_30  \\\n",
       "0                  0                  0                  0                  0   \n",
       "1                  0                  0                  0                  0   \n",
       "2                  0                  0                  0                  0   \n",
       "\n",
       "   institution_id_31  \n",
       "0                  0  \n",
       "1                  0  \n",
       "2                  0  \n",
       "\n",
       "[3 rows x 86 columns]"
      ]
     },
     "execution_count": 78,
     "metadata": {},
     "output_type": "execute_result"
    }
   ],
   "source": [
    "df = pd.read_excel(f'{ROOT_PATH}/data/processed/data_for_model.xlsx')\n",
    "df = df.drop('id', axis=1)\n",
    "df.head(3)"
   ]
  },
  {
   "cell_type": "code",
   "execution_count": 79,
   "metadata": {
    "ExecuteTime": {
     "end_time": "2023-10-03T15:01:31.280305Z",
     "start_time": "2023-10-03T15:01:31.251684Z"
    },
    "colab": {
     "base_uri": "https://localhost:8080/"
    },
    "id": "cEHuzpcTVTy2",
    "outputId": "bef9fb7c-77a6-41fa-dd90-35a61ef9a4b4"
   },
   "outputs": [
    {
     "name": "stdout",
     "output_type": "stream",
     "text": [
      "X_train.shape = (1092, 85), y_train.shape = (1092,)\n",
      "X_test.shape = (364, 85), y_test.shape = (364,)\n"
     ]
    }
   ],
   "source": [
    "X, y = to_Xy(df)\n",
    "X_train, X_test, y_train, y_test = train_test_split(\n",
    "    X, y, train_size=0.75, test_size=0.25, random_state=RANDOM_SEED\n",
    ")\n",
    "print(f'{X_train.shape = }, {y_train.shape = }')\n",
    "print(f'{X_test.shape = }, {y_test.shape = }')"
   ]
  },
  {
   "cell_type": "code",
   "execution_count": 80,
   "metadata": {
    "ExecuteTime": {
     "end_time": "2023-10-03T15:01:57.291918Z",
     "start_time": "2023-10-03T15:01:56.008963Z"
    },
    "colab": {
     "base_uri": "https://localhost:8080/"
    },
    "id": "SB9pBFdsahQ2",
    "outputId": "f08a1a62-fa52-4316-b993-4514c8e37fa7"
   },
   "outputs": [
    {
     "name": "stdout",
     "output_type": "stream",
     "text": [
      "-1.5865898595934647\n"
     ]
    }
   ],
   "source": [
    "# TODO: пока значения параметров выбраны для максимальной скорости, с ними качество низкое\n",
    "tpot = TPOTRegressor(generations=1, population_size=1, random_state=RANDOM_SEED)\n",
    "tpot.fit(X_train, y_train)\n",
    "print(tpot.score(X_test, y_test))"
   ]
  },
  {
   "cell_type": "markdown",
   "metadata": {
    "id": "vQaQEAaN5n6r"
   },
   "source": [
    "## Запускаем TPOT с разными наборами признаков"
   ]
  },
  {
   "cell_type": "code",
   "execution_count": 81,
   "metadata": {
    "ExecuteTime": {
     "end_time": "2023-10-03T15:01:59.687842Z",
     "start_time": "2023-10-03T15:01:58.167221Z"
    },
    "colab": {
     "base_uri": "https://localhost:8080/",
     "height": 193
    },
    "id": "sbnZGXndHwBk",
    "outputId": "5a991474-4400-4753-fc00-18928d7beb53"
   },
   "outputs": [
    {
     "data": {
      "text/html": [
       "<div>\n",
       "<style scoped>\n",
       "    .dataframe tbody tr th:only-of-type {\n",
       "        vertical-align: middle;\n",
       "    }\n",
       "\n",
       "    .dataframe tbody tr th {\n",
       "        vertical-align: top;\n",
       "    }\n",
       "\n",
       "    .dataframe thead th {\n",
       "        text-align: right;\n",
       "    }\n",
       "</style>\n",
       "<table border=\"1\" class=\"dataframe\">\n",
       "  <thead>\n",
       "    <tr style=\"text-align: right;\">\n",
       "      <th></th>\n",
       "      <th>age</th>\n",
       "      <th>dose</th>\n",
       "      <th>prev_INR(MHO)</th>\n",
       "      <th>atrial_fibrillation</th>\n",
       "      <th>mitral_valve</th>\n",
       "      <th>aortal_valve</th>\n",
       "      <th>date_diff</th>\n",
       "      <th>INR(MHO)</th>\n",
       "      <th>sample</th>\n",
       "      <th>pass_dose</th>\n",
       "      <th>...</th>\n",
       "      <th>institution_id_22</th>\n",
       "      <th>institution_id_23</th>\n",
       "      <th>institution_id_24</th>\n",
       "      <th>institution_id_25</th>\n",
       "      <th>institution_id_26</th>\n",
       "      <th>institution_id_27</th>\n",
       "      <th>institution_id_28</th>\n",
       "      <th>institution_id_29</th>\n",
       "      <th>institution_id_30</th>\n",
       "      <th>institution_id_31</th>\n",
       "    </tr>\n",
       "  </thead>\n",
       "  <tbody>\n",
       "    <tr>\n",
       "      <th>0</th>\n",
       "      <td>57</td>\n",
       "      <td>7.5</td>\n",
       "      <td>3.11</td>\n",
       "      <td>1</td>\n",
       "      <td>0</td>\n",
       "      <td>0</td>\n",
       "      <td>13</td>\n",
       "      <td>3.32</td>\n",
       "      <td>1</td>\n",
       "      <td>0</td>\n",
       "      <td>...</td>\n",
       "      <td>0</td>\n",
       "      <td>0</td>\n",
       "      <td>0</td>\n",
       "      <td>0</td>\n",
       "      <td>0</td>\n",
       "      <td>0</td>\n",
       "      <td>0</td>\n",
       "      <td>0</td>\n",
       "      <td>0</td>\n",
       "      <td>0</td>\n",
       "    </tr>\n",
       "    <tr>\n",
       "      <th>1</th>\n",
       "      <td>57</td>\n",
       "      <td>7.5</td>\n",
       "      <td>3.32</td>\n",
       "      <td>1</td>\n",
       "      <td>0</td>\n",
       "      <td>0</td>\n",
       "      <td>15</td>\n",
       "      <td>2.01</td>\n",
       "      <td>2</td>\n",
       "      <td>0</td>\n",
       "      <td>...</td>\n",
       "      <td>0</td>\n",
       "      <td>0</td>\n",
       "      <td>0</td>\n",
       "      <td>0</td>\n",
       "      <td>0</td>\n",
       "      <td>0</td>\n",
       "      <td>0</td>\n",
       "      <td>0</td>\n",
       "      <td>0</td>\n",
       "      <td>0</td>\n",
       "    </tr>\n",
       "    <tr>\n",
       "      <th>2</th>\n",
       "      <td>50</td>\n",
       "      <td>5.0</td>\n",
       "      <td>2.01</td>\n",
       "      <td>0</td>\n",
       "      <td>1</td>\n",
       "      <td>0</td>\n",
       "      <td>26</td>\n",
       "      <td>2.75</td>\n",
       "      <td>1</td>\n",
       "      <td>0</td>\n",
       "      <td>...</td>\n",
       "      <td>0</td>\n",
       "      <td>0</td>\n",
       "      <td>0</td>\n",
       "      <td>0</td>\n",
       "      <td>0</td>\n",
       "      <td>0</td>\n",
       "      <td>0</td>\n",
       "      <td>0</td>\n",
       "      <td>0</td>\n",
       "      <td>0</td>\n",
       "    </tr>\n",
       "  </tbody>\n",
       "</table>\n",
       "<p>3 rows × 86 columns</p>\n",
       "</div>"
      ],
      "text/plain": [
       "   age  dose  prev_INR(MHO)  atrial_fibrillation  mitral_valve  aortal_valve  \\\n",
       "0   57   7.5           3.11                    1             0             0   \n",
       "1   57   7.5           3.32                    1             0             0   \n",
       "2   50   5.0           2.01                    0             1             0   \n",
       "\n",
       "   date_diff  INR(MHO)  sample  pass_dose  ...  institution_id_22  \\\n",
       "0         13      3.32       1          0  ...                  0   \n",
       "1         15      2.01       2          0  ...                  0   \n",
       "2         26      2.75       1          0  ...                  0   \n",
       "\n",
       "   institution_id_23  institution_id_24  institution_id_25  institution_id_26  \\\n",
       "0                  0                  0                  0                  0   \n",
       "1                  0                  0                  0                  0   \n",
       "2                  0                  0                  0                  0   \n",
       "\n",
       "   institution_id_27  institution_id_28  institution_id_29  institution_id_30  \\\n",
       "0                  0                  0                  0                  0   \n",
       "1                  0                  0                  0                  0   \n",
       "2                  0                  0                  0                  0   \n",
       "\n",
       "   institution_id_31  \n",
       "0                  0  \n",
       "1                  0  \n",
       "2                  0  \n",
       "\n",
       "[3 rows x 86 columns]"
      ]
     },
     "execution_count": 81,
     "metadata": {},
     "output_type": "execute_result"
    }
   ],
   "source": [
    "df = pd.read_excel(f'{ROOT_PATH}/data/processed/data_for_model.xlsx')\n",
    "df = df.drop('id', axis=1)\n",
    "df.head(3)"
   ]
  },
  {
   "cell_type": "code",
   "execution_count": 82,
   "metadata": {
    "ExecuteTime": {
     "end_time": "2023-10-03T15:02:19.378397Z",
     "start_time": "2023-10-03T15:02:19.358263Z"
    },
    "colab": {
     "base_uri": "https://localhost:8080/"
    },
    "id": "SLW1mJJX4QbH",
    "outputId": "0145616d-ed66-4091-c7a5-0d24cf7bec91"
   },
   "outputs": [
    {
     "data": {
      "text/plain": [
       "[0.5, 1.0, 1.5, 2.0]"
      ]
     },
     "execution_count": 82,
     "metadata": {},
     "output_type": "execute_result"
    }
   ],
   "source": [
    "ranks = np.linspace(0.5, 2, num=4)\n",
    "ranks.tolist()"
   ]
  },
  {
   "cell_type": "code",
   "execution_count": 83,
   "metadata": {
    "ExecuteTime": {
     "end_time": "2023-10-03T15:02:24.055123Z",
     "start_time": "2023-10-03T15:02:22.134712Z"
    },
    "colab": {
     "base_uri": "https://localhost:8080/"
    },
    "id": "1rlRSiSG2UPD",
    "outputId": "ac2d339b-f97f-48d8-e14b-ed11112d7930"
   },
   "outputs": [
    {
     "name": "stdout",
     "output_type": "stream",
     "text": [
      "0.5 -1.5865898595934647\n",
      "1.0 -1.55148631858985\n",
      "1.5 -1.5289379439733104\n",
      "2.0 -1.5724975963413892\n"
     ]
    }
   ],
   "source": [
    "for rank_threshold in ranks:\n",
    "    features_to_remove = find_minor_features(feature_ranking, rank_threshold)\n",
    "    small_df = df.drop(columns=features_to_remove, axis=1)\n",
    "\n",
    "    X, y = to_Xy(small_df)\n",
    "    X_train, X_test, y_train, y_test = train_test_split(\n",
    "        X, y, train_size=0.75, test_size=0.25, random_state=RANDOM_SEED\n",
    "    )\n",
    "\n",
    "    # TODO: пока значения параметров выбраны для максимальной скорости, с ними качество низкое\n",
    "    tpot = TPOTRegressor(generations=1, population_size=1, random_state=RANDOM_SEED)\n",
    "    tpot.fit(X_train, y_train)\n",
    "    print(rank_threshold, tpot.score(X_test, y_test))\n"
   ]
  },
  {
   "cell_type": "code",
   "execution_count": null,
   "metadata": {},
   "outputs": [],
   "source": []
  }
 ],
 "metadata": {
  "colab": {
   "collapsed_sections": [
    "Mpfw2g_1OcZe",
    "000xtHgovtIH",
    "C5F_2Pgcw17O",
    "sKoFBmRPQwkb",
    "GAadQfNiYQtn"
   ],
   "provenance": [],
   "toc_visible": true
  },
  "kernelspec": {
   "display_name": "Python 3 (ipykernel)",
   "language": "python",
   "name": "python3"
  },
  "language_info": {
   "codemirror_mode": {
    "name": "ipython",
    "version": 3
   },
   "file_extension": ".py",
   "mimetype": "text/x-python",
   "name": "python",
   "nbconvert_exporter": "python",
   "pygments_lexer": "ipython3",
   "version": "3.10.9"
  },
  "toc": {
   "base_numbering": 1,
   "nav_menu": {},
   "number_sections": true,
   "sideBar": true,
   "skip_h1_title": false,
   "title_cell": "Table of Contents",
   "title_sidebar": "Contents",
   "toc_cell": false,
   "toc_position": {},
   "toc_section_display": true,
   "toc_window_display": false
  },
  "varInspector": {
   "cols": {
    "lenName": 16,
    "lenType": 16,
    "lenVar": 40
   },
   "kernels_config": {
    "python": {
     "delete_cmd_postfix": "",
     "delete_cmd_prefix": "del ",
     "library": "var_list.py",
     "varRefreshCmd": "print(var_dic_list())"
    },
    "r": {
     "delete_cmd_postfix": ") ",
     "delete_cmd_prefix": "rm(",
     "library": "var_list.r",
     "varRefreshCmd": "cat(var_dic_list()) "
    }
   },
   "types_to_exclude": [
    "module",
    "function",
    "builtin_function_or_method",
    "instance",
    "_Feature"
   ],
   "window_display": false
  },
  "widgets": {
   "application/vnd.jupyter.widget-state+json": {
    "20cee728338d463ab89ebf8df6861e86": {
     "model_module": "@jupyter-widgets/controls",
     "model_module_version": "1.5.0",
     "model_name": "HTMLModel",
     "state": {
      "_dom_classes": [],
      "_model_module": "@jupyter-widgets/controls",
      "_model_module_version": "1.5.0",
      "_model_name": "HTMLModel",
      "_view_count": null,
      "_view_module": "@jupyter-widgets/controls",
      "_view_module_version": "1.5.0",
      "_view_name": "HTMLView",
      "description": "",
      "description_tooltip": null,
      "layout": "IPY_MODEL_4560c7d81c8d4c2992c83fce0217061e",
      "placeholder": "​",
      "style": "IPY_MODEL_3d2031fa16cb4095a969eb97de5d943a",
      "value": " 9/9 [00:05&lt;00:00,  1.42it/s]"
     }
    },
    "3d2031fa16cb4095a969eb97de5d943a": {
     "model_module": "@jupyter-widgets/controls",
     "model_module_version": "1.5.0",
     "model_name": "DescriptionStyleModel",
     "state": {
      "_model_module": "@jupyter-widgets/controls",
      "_model_module_version": "1.5.0",
      "_model_name": "DescriptionStyleModel",
      "_view_count": null,
      "_view_module": "@jupyter-widgets/base",
      "_view_module_version": "1.2.0",
      "_view_name": "StyleView",
      "description_width": ""
     }
    },
    "4560c7d81c8d4c2992c83fce0217061e": {
     "model_module": "@jupyter-widgets/base",
     "model_module_version": "1.2.0",
     "model_name": "LayoutModel",
     "state": {
      "_model_module": "@jupyter-widgets/base",
      "_model_module_version": "1.2.0",
      "_model_name": "LayoutModel",
      "_view_count": null,
      "_view_module": "@jupyter-widgets/base",
      "_view_module_version": "1.2.0",
      "_view_name": "LayoutView",
      "align_content": null,
      "align_items": null,
      "align_self": null,
      "border": null,
      "bottom": null,
      "display": null,
      "flex": null,
      "flex_flow": null,
      "grid_area": null,
      "grid_auto_columns": null,
      "grid_auto_flow": null,
      "grid_auto_rows": null,
      "grid_column": null,
      "grid_gap": null,
      "grid_row": null,
      "grid_template_areas": null,
      "grid_template_columns": null,
      "grid_template_rows": null,
      "height": null,
      "justify_content": null,
      "justify_items": null,
      "left": null,
      "margin": null,
      "max_height": null,
      "max_width": null,
      "min_height": null,
      "min_width": null,
      "object_fit": null,
      "object_position": null,
      "order": null,
      "overflow": null,
      "overflow_x": null,
      "overflow_y": null,
      "padding": null,
      "right": null,
      "top": null,
      "visibility": null,
      "width": null
     }
    },
    "5cdb0271505e4fba8b4003ebe92fc504": {
     "model_module": "@jupyter-widgets/base",
     "model_module_version": "1.2.0",
     "model_name": "LayoutModel",
     "state": {
      "_model_module": "@jupyter-widgets/base",
      "_model_module_version": "1.2.0",
      "_model_name": "LayoutModel",
      "_view_count": null,
      "_view_module": "@jupyter-widgets/base",
      "_view_module_version": "1.2.0",
      "_view_name": "LayoutView",
      "align_content": null,
      "align_items": null,
      "align_self": null,
      "border": null,
      "bottom": null,
      "display": null,
      "flex": null,
      "flex_flow": null,
      "grid_area": null,
      "grid_auto_columns": null,
      "grid_auto_flow": null,
      "grid_auto_rows": null,
      "grid_column": null,
      "grid_gap": null,
      "grid_row": null,
      "grid_template_areas": null,
      "grid_template_columns": null,
      "grid_template_rows": null,
      "height": null,
      "justify_content": null,
      "justify_items": null,
      "left": null,
      "margin": null,
      "max_height": null,
      "max_width": null,
      "min_height": null,
      "min_width": null,
      "object_fit": null,
      "object_position": null,
      "order": null,
      "overflow": null,
      "overflow_x": null,
      "overflow_y": null,
      "padding": null,
      "right": null,
      "top": null,
      "visibility": null,
      "width": null
     }
    },
    "676c41fc844741ff99e84b45e98fa10b": {
     "model_module": "@jupyter-widgets/base",
     "model_module_version": "1.2.0",
     "model_name": "LayoutModel",
     "state": {
      "_model_module": "@jupyter-widgets/base",
      "_model_module_version": "1.2.0",
      "_model_name": "LayoutModel",
      "_view_count": null,
      "_view_module": "@jupyter-widgets/base",
      "_view_module_version": "1.2.0",
      "_view_name": "LayoutView",
      "align_content": null,
      "align_items": null,
      "align_self": null,
      "border": null,
      "bottom": null,
      "display": null,
      "flex": null,
      "flex_flow": null,
      "grid_area": null,
      "grid_auto_columns": null,
      "grid_auto_flow": null,
      "grid_auto_rows": null,
      "grid_column": null,
      "grid_gap": null,
      "grid_row": null,
      "grid_template_areas": null,
      "grid_template_columns": null,
      "grid_template_rows": null,
      "height": null,
      "justify_content": null,
      "justify_items": null,
      "left": null,
      "margin": null,
      "max_height": null,
      "max_width": null,
      "min_height": null,
      "min_width": null,
      "object_fit": null,
      "object_position": null,
      "order": null,
      "overflow": null,
      "overflow_x": null,
      "overflow_y": null,
      "padding": null,
      "right": null,
      "top": null,
      "visibility": null,
      "width": null
     }
    },
    "79b123d211d841b18be48a19ab9db245": {
     "model_module": "@jupyter-widgets/controls",
     "model_module_version": "1.5.0",
     "model_name": "FloatProgressModel",
     "state": {
      "_dom_classes": [],
      "_model_module": "@jupyter-widgets/controls",
      "_model_module_version": "1.5.0",
      "_model_name": "FloatProgressModel",
      "_view_count": null,
      "_view_module": "@jupyter-widgets/controls",
      "_view_module_version": "1.5.0",
      "_view_name": "ProgressView",
      "bar_style": "success",
      "description": "",
      "description_tooltip": null,
      "layout": "IPY_MODEL_c40686abe552476480c814cd207e09d8",
      "max": 9,
      "min": 0,
      "orientation": "horizontal",
      "style": "IPY_MODEL_b6e7ef6e9ceb43e2b3f5cde5723b4d10",
      "value": 9
     }
    },
    "a11470ff22394481a50dbb8a68d11b0b": {
     "model_module": "@jupyter-widgets/controls",
     "model_module_version": "1.5.0",
     "model_name": "DescriptionStyleModel",
     "state": {
      "_model_module": "@jupyter-widgets/controls",
      "_model_module_version": "1.5.0",
      "_model_name": "DescriptionStyleModel",
      "_view_count": null,
      "_view_module": "@jupyter-widgets/base",
      "_view_module_version": "1.2.0",
      "_view_name": "StyleView",
      "description_width": ""
     }
    },
    "b6e7ef6e9ceb43e2b3f5cde5723b4d10": {
     "model_module": "@jupyter-widgets/controls",
     "model_module_version": "1.5.0",
     "model_name": "ProgressStyleModel",
     "state": {
      "_model_module": "@jupyter-widgets/controls",
      "_model_module_version": "1.5.0",
      "_model_name": "ProgressStyleModel",
      "_view_count": null,
      "_view_module": "@jupyter-widgets/base",
      "_view_module_version": "1.2.0",
      "_view_name": "StyleView",
      "bar_color": null,
      "description_width": ""
     }
    },
    "c40686abe552476480c814cd207e09d8": {
     "model_module": "@jupyter-widgets/base",
     "model_module_version": "1.2.0",
     "model_name": "LayoutModel",
     "state": {
      "_model_module": "@jupyter-widgets/base",
      "_model_module_version": "1.2.0",
      "_model_name": "LayoutModel",
      "_view_count": null,
      "_view_module": "@jupyter-widgets/base",
      "_view_module_version": "1.2.0",
      "_view_name": "LayoutView",
      "align_content": null,
      "align_items": null,
      "align_self": null,
      "border": null,
      "bottom": null,
      "display": null,
      "flex": null,
      "flex_flow": null,
      "grid_area": null,
      "grid_auto_columns": null,
      "grid_auto_flow": null,
      "grid_auto_rows": null,
      "grid_column": null,
      "grid_gap": null,
      "grid_row": null,
      "grid_template_areas": null,
      "grid_template_columns": null,
      "grid_template_rows": null,
      "height": null,
      "justify_content": null,
      "justify_items": null,
      "left": null,
      "margin": null,
      "max_height": null,
      "max_width": null,
      "min_height": null,
      "min_width": null,
      "object_fit": null,
      "object_position": null,
      "order": null,
      "overflow": null,
      "overflow_x": null,
      "overflow_y": null,
      "padding": null,
      "right": null,
      "top": null,
      "visibility": null,
      "width": null
     }
    },
    "e3c80cccad8b4112a24ad9e0c78d505f": {
     "model_module": "@jupyter-widgets/controls",
     "model_module_version": "1.5.0",
     "model_name": "HBoxModel",
     "state": {
      "_dom_classes": [],
      "_model_module": "@jupyter-widgets/controls",
      "_model_module_version": "1.5.0",
      "_model_name": "HBoxModel",
      "_view_count": null,
      "_view_module": "@jupyter-widgets/controls",
      "_view_module_version": "1.5.0",
      "_view_name": "HBoxView",
      "box_style": "",
      "children": [
       "IPY_MODEL_e755cd8ce5854f26900f13519db17167",
       "IPY_MODEL_79b123d211d841b18be48a19ab9db245",
       "IPY_MODEL_20cee728338d463ab89ebf8df6861e86"
      ],
      "layout": "IPY_MODEL_676c41fc844741ff99e84b45e98fa10b"
     }
    },
    "e755cd8ce5854f26900f13519db17167": {
     "model_module": "@jupyter-widgets/controls",
     "model_module_version": "1.5.0",
     "model_name": "HTMLModel",
     "state": {
      "_dom_classes": [],
      "_model_module": "@jupyter-widgets/controls",
      "_model_module_version": "1.5.0",
      "_model_name": "HTMLModel",
      "_view_count": null,
      "_view_module": "@jupyter-widgets/controls",
      "_view_module_version": "1.5.0",
      "_view_name": "HTMLView",
      "description": "",
      "description_tooltip": null,
      "layout": "IPY_MODEL_5cdb0271505e4fba8b4003ebe92fc504",
      "placeholder": "​",
      "style": "IPY_MODEL_a11470ff22394481a50dbb8a68d11b0b",
      "value": "100%"
     }
    }
   }
  }
 },
 "nbformat": 4,
 "nbformat_minor": 1
}
